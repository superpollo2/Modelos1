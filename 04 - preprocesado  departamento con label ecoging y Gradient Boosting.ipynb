{
  "cells": [
    {
      "cell_type": "markdown",
      "metadata": {
        "id": "vM_DHPb6s1L-"
      },
      "source": [
        "# Análisis y Predicción de Rendimiento en Pruebas Saber Pro\n"
      ]
    },
    {
      "cell_type": "markdown",
      "metadata": {
        "id": "QOY4gbZffT8t"
      },
      "source": [
        "## Introducción\n",
        "Las Pruebas Saber Pro son exámenes estandarizados administrados en Colombia para evaluar la calidad y el nivel de conocimiento y competencias de los estudiantes de educación superior. Estas pruebas, que abarcan cinco componentes genéricos (Inglés, Lectura Crítica, Competencias Ciudadanas, Razonamiento Cuantitativo y Comunicación Escrita), son fundamentales para los esfuerzos del Gobierno colombiano en monitorear y mejorar la calidad de la educación superior en el país."
      ]
    },
    {
      "cell_type": "markdown",
      "metadata": {
        "id": "tzA7v8IcfFRy"
      },
      "source": [
        "## Objetivo del proyecto\n",
        "El objetivo principal de este proyecto es desarrollar un modelo de clasificación que prediga el desempeño de cada estudiante en las Pruebas Saber Pro, categorizándolo como bajo, medio-bajo, medio-alto o alto."
      ]
    },
    {
      "cell_type": "markdown",
      "metadata": {
        "id": "C3CGadE3fPCP"
      },
      "source": [
        "## Enfoque Actual: Limpieza, Pre-prosesamiento de Datos y Modelo\n",
        "\n",
        "En esta etapa del proyecto, nos centraremos en tres aspectos :\n",
        "\n",
        "En esta etapa del proyecto, nos enfocaremos en la limpieza y preprocesamiento de los datos para asegurar que el modelo se entrene y pruebe de manera efectiva en ambos conjuntos de datos, de entrenamiento y de prueba.\n",
        "\n",
        "Limpieza de Datos: Prepararemos el conjunto de datos de entrenamiento, identificando y corrigiendo problemas como valores faltantes, outliers y formatos inconsistentes. Esta limpieza también se extiende al conjunto de datos de prueba, que debe estar en las mismas condiciones que el de entrenamiento para una evaluación justa. Utilizaremos métodos adecuados de imputación para los valores NaN, manteniendo la distribución original de los datos y evitando sesgos.\n",
        "\n",
        "Selección de Variables: Realizaremos un análisis exhaustivo de las características disponibles para identificar las variables más relevantes en la predicción de la columna RENDIMIENTO_GLOBAL. Seleccionaremos aquellas variables que ofrezcan el mayor poder predictivo, reduciendo la dimensionalidad del modelo y optimizando su rendimiento.\n",
        "\n",
        "Entrenamiento y Prueba del Modelo: Tras el preprocesamiento, entrenaremos el modelo con el conjunto de datos de entrenamiento y evaluaremos su desempeño con el conjunto de datos de prueba. Este paso nos permitirá validar la capacidad predictiva del modelo y ajustar sus parámetros para obtener resultados óptimos en términos de precisión y generalización."
      ]
    },
    {
      "cell_type": "markdown",
      "metadata": {
        "id": "1AMViic4f1YS"
      },
      "source": [
        "## Estructura del Notebook\n",
        "\n",
        "Este notebook guiará a través del proceso de limpieza de datos y selección de variables, sentando las bases para el desarrollo del modelo predictivo. Las secciones incluirán:\n",
        "\n",
        "- Carga y exploración inicial de datos\n",
        "- Exploración del Dataset\n",
        "- Limpieza de datos\n",
        "- Resultados de la limpieza y preprocesamiento de datos\n",
        "- Entremiento y prueba del Modelo"
      ]
    },
    {
      "cell_type": "markdown",
      "metadata": {
        "id": "btkv2czJgMCT"
      },
      "source": [
        "# Limpieza y Pre-procesamiento de los datos"
      ]
    },
    {
      "cell_type": "markdown",
      "metadata": {
        "id": "hkZhJrM2t8oL"
      },
      "source": [
        "## Carga y exploración inicial de datos"
      ]
    },
    {
      "cell_type": "markdown",
      "metadata": {
        "id": "EpfoZYKluex3"
      },
      "source": [
        "### Instalación de librerias necesarias"
      ]
    },
    {
      "cell_type": "code",
      "execution_count": 1,
      "metadata": {
        "colab": {
          "base_uri": "https://localhost:8080/",
          "height": 75
        },
        "id": "Ntq2GquPMFQH",
        "outputId": "fabed74f-493d-476e-8f72-5911eec7b82c"
      },
      "outputs": [
        {
          "output_type": "display_data",
          "data": {
            "text/plain": [
              "<IPython.core.display.HTML object>"
            ],
            "text/html": [
              "\n",
              "<meta name=\"google-signin-client_id\"\n",
              "      content=\"461673936472-kdjosv61up3ac1ajeuq6qqu72upilmls.apps.googleusercontent.com\"/>\n",
              "<script src=\"https://apis.google.com/js/client:platform.js?onload=google_button_start\"></script>\n",
              "    "
            ]
          },
          "metadata": {}
        },
        {
          "output_type": "stream",
          "name": "stdout",
          "text": [
            "replicating local resources\n"
          ]
        },
        {
          "output_type": "execute_result",
          "data": {
            "text/plain": [
              "<IPython.core.display.HTML object>"
            ],
            "text/html": [
              "<h3>See <a href='https://m5knaekxo6.execute-api.us-west-2.amazonaws.com/dev-v0001/rlxmooc/web/login' target='_blank'>my courses and progress</a></h2>"
            ]
          },
          "metadata": {},
          "execution_count": 1
        }
      ],
      "source": [
        "!wget --no-cache -O init.py -q https://raw.githubusercontent.com/rramosp/ai4eng.v1/main/content/init.py\n",
        "import init; init.init(force_download=False); init.get_weblink()"
      ]
    },
    {
      "cell_type": "markdown",
      "metadata": {
        "id": "num5TsbpMTgD"
      },
      "source": [
        "### Carga del dataset desde Kaggle"
      ]
    },
    {
      "cell_type": "code",
      "execution_count": 28,
      "metadata": {
        "colab": {
          "base_uri": "https://localhost:8080/"
        },
        "id": "D1bR5xAIMR4Q",
        "outputId": "412d9c8c-fd7d-4b02-abbd-9568da3602e4"
      },
      "outputs": [
        {
          "output_type": "stream",
          "name": "stdout",
          "text": [
            "Downloading udea-ai4eng-20242.zip to /content\n",
            "\r  0% 0.00/20.1M [00:00<?, ?B/s]\r 79% 16.0M/20.1M [00:00<00:00, 164MB/s]\n",
            "\r100% 20.1M/20.1M [00:00<00:00, 173MB/s]\n"
          ]
        }
      ],
      "source": [
        "import os\n",
        "os.environ['KAGGLE_CONFIG_DIR'] = '.'\n",
        "!chmod 600 ./kaggle.json\n",
        "!kaggle competitions download -c udea-ai4eng-20242"
      ]
    },
    {
      "cell_type": "markdown",
      "metadata": {
        "id": "uZjO4QCwiw8N"
      },
      "source": []
    },
    {
      "cell_type": "markdown",
      "metadata": {
        "id": "oJ5c4RguNKq0"
      },
      "source": [
        "### Descomprimir data\n"
      ]
    },
    {
      "cell_type": "code",
      "execution_count": 29,
      "metadata": {
        "id": "lPKC4dbyM-p1"
      },
      "outputs": [],
      "source": [
        "!unzip udea*.zip > /dev/null"
      ]
    },
    {
      "cell_type": "code",
      "execution_count": 30,
      "metadata": {
        "colab": {
          "base_uri": "https://localhost:8080/"
        },
        "id": "Bjn99rYNNDpl",
        "outputId": "bc97f173-233b-4f0b-cada-d8f48d406314"
      },
      "outputs": [
        {
          "output_type": "stream",
          "name": "stdout",
          "text": [
            "   650340    650395 163455811 datos_limpios_train_label_one_hot.csv\n",
            "   296787    296787   4716673 submission_example.csv\n",
            "   296787   4565553  50135751 test.csv\n",
            "   692501  10666231 118025055 train.csv\n",
            "  1936415  16178966 336333290 total\n"
          ]
        }
      ],
      "source": [
        "!wc *.csv"
      ]
    },
    {
      "cell_type": "markdown",
      "metadata": {
        "id": "iLnrm-4Oi-_k"
      },
      "source": [
        "### Instalaciones e importaciones"
      ]
    },
    {
      "cell_type": "code",
      "execution_count": 2,
      "metadata": {
        "colab": {
          "base_uri": "https://localhost:8080/"
        },
        "id": "xW4Z0k4bimwT",
        "outputId": "d2b1c9c2-c640-422f-968a-de7827e3d11b"
      },
      "outputs": [
        {
          "output_type": "stream",
          "name": "stdout",
          "text": [
            "Collecting fuzzywuzzy\n",
            "  Downloading fuzzywuzzy-0.18.0-py2.py3-none-any.whl.metadata (4.9 kB)\n",
            "Downloading fuzzywuzzy-0.18.0-py2.py3-none-any.whl (18 kB)\n",
            "Installing collected packages: fuzzywuzzy\n",
            "Successfully installed fuzzywuzzy-0.18.0\n",
            "Collecting python-Levenshtein\n",
            "  Downloading python_Levenshtein-0.26.1-py3-none-any.whl.metadata (3.7 kB)\n",
            "Collecting Levenshtein==0.26.1 (from python-Levenshtein)\n",
            "  Downloading levenshtein-0.26.1-cp310-cp310-manylinux_2_17_x86_64.manylinux2014_x86_64.whl.metadata (3.2 kB)\n",
            "Collecting rapidfuzz<4.0.0,>=3.9.0 (from Levenshtein==0.26.1->python-Levenshtein)\n",
            "  Downloading rapidfuzz-3.10.1-cp310-cp310-manylinux_2_17_x86_64.manylinux2014_x86_64.whl.metadata (11 kB)\n",
            "Downloading python_Levenshtein-0.26.1-py3-none-any.whl (9.4 kB)\n",
            "Downloading levenshtein-0.26.1-cp310-cp310-manylinux_2_17_x86_64.manylinux2014_x86_64.whl (162 kB)\n",
            "\u001b[2K   \u001b[90m━━━━━━━━━━━━━━━━━━━━━━━━━━━━━━━━━━━━━━━━\u001b[0m \u001b[32m162.6/162.6 kB\u001b[0m \u001b[31m9.9 MB/s\u001b[0m eta \u001b[36m0:00:00\u001b[0m\n",
            "\u001b[?25hDownloading rapidfuzz-3.10.1-cp310-cp310-manylinux_2_17_x86_64.manylinux2014_x86_64.whl (3.1 MB)\n",
            "\u001b[2K   \u001b[90m━━━━━━━━━━━━━━━━━━━━━━━━━━━━━━━━━━━━━━━━\u001b[0m \u001b[32m3.1/3.1 MB\u001b[0m \u001b[31m47.6 MB/s\u001b[0m eta \u001b[36m0:00:00\u001b[0m\n",
            "\u001b[?25hInstalling collected packages: rapidfuzz, Levenshtein, python-Levenshtein\n",
            "Successfully installed Levenshtein-0.26.1 python-Levenshtein-0.26.1 rapidfuzz-3.10.1\n",
            "Requirement already satisfied: pandas in /usr/local/lib/python3.10/dist-packages (2.2.2)\n",
            "Requirement already satisfied: scikit-learn in /usr/local/lib/python3.10/dist-packages (1.5.2)\n",
            "Requirement already satisfied: fuzzywuzzy in /usr/local/lib/python3.10/dist-packages (0.18.0)\n",
            "Requirement already satisfied: numpy>=1.22.4 in /usr/local/lib/python3.10/dist-packages (from pandas) (1.26.4)\n",
            "Requirement already satisfied: python-dateutil>=2.8.2 in /usr/local/lib/python3.10/dist-packages (from pandas) (2.8.2)\n",
            "Requirement already satisfied: pytz>=2020.1 in /usr/local/lib/python3.10/dist-packages (from pandas) (2024.2)\n",
            "Requirement already satisfied: tzdata>=2022.7 in /usr/local/lib/python3.10/dist-packages (from pandas) (2024.2)\n",
            "Requirement already satisfied: scipy>=1.6.0 in /usr/local/lib/python3.10/dist-packages (from scikit-learn) (1.13.1)\n",
            "Requirement already satisfied: joblib>=1.2.0 in /usr/local/lib/python3.10/dist-packages (from scikit-learn) (1.4.2)\n",
            "Requirement already satisfied: threadpoolctl>=3.1.0 in /usr/local/lib/python3.10/dist-packages (from scikit-learn) (3.5.0)\n",
            "Requirement already satisfied: six>=1.5 in /usr/local/lib/python3.10/dist-packages (from python-dateutil>=2.8.2->pandas) (1.16.0)\n",
            "Collecting ydata-profiling\n",
            "  Downloading ydata_profiling-4.12.0-py2.py3-none-any.whl.metadata (20 kB)\n",
            "Requirement already satisfied: scipy<1.14,>=1.4.1 in /usr/local/lib/python3.10/dist-packages (from ydata-profiling) (1.13.1)\n",
            "Requirement already satisfied: pandas!=1.4.0,<3,>1.1 in /usr/local/lib/python3.10/dist-packages (from ydata-profiling) (2.2.2)\n",
            "Requirement already satisfied: matplotlib<3.10,>=3.5 in /usr/local/lib/python3.10/dist-packages (from ydata-profiling) (3.8.0)\n",
            "Requirement already satisfied: pydantic>=2 in /usr/local/lib/python3.10/dist-packages (from ydata-profiling) (2.9.2)\n",
            "Requirement already satisfied: PyYAML<6.1,>=5.0.0 in /usr/local/lib/python3.10/dist-packages (from ydata-profiling) (6.0.2)\n",
            "Requirement already satisfied: jinja2<3.2,>=2.11.1 in /usr/local/lib/python3.10/dist-packages (from ydata-profiling) (3.1.4)\n",
            "Collecting visions<0.7.7,>=0.7.5 (from visions[type_image_path]<0.7.7,>=0.7.5->ydata-profiling)\n",
            "  Downloading visions-0.7.6-py3-none-any.whl.metadata (11 kB)\n",
            "Requirement already satisfied: numpy<2.2,>=1.16.0 in /usr/local/lib/python3.10/dist-packages (from ydata-profiling) (1.26.4)\n",
            "Collecting htmlmin==0.1.12 (from ydata-profiling)\n",
            "  Downloading htmlmin-0.1.12.tar.gz (19 kB)\n",
            "  Preparing metadata (setup.py) ... \u001b[?25l\u001b[?25hdone\n",
            "Collecting phik<0.13,>=0.11.1 (from ydata-profiling)\n",
            "  Downloading phik-0.12.4-cp310-cp310-manylinux_2_17_x86_64.manylinux2014_x86_64.whl.metadata (5.6 kB)\n",
            "Requirement already satisfied: requests<3,>=2.24.0 in /usr/local/lib/python3.10/dist-packages (from ydata-profiling) (2.32.3)\n",
            "Requirement already satisfied: tqdm<5,>=4.48.2 in /usr/local/lib/python3.10/dist-packages (from ydata-profiling) (4.66.6)\n",
            "Requirement already satisfied: seaborn<0.14,>=0.10.1 in /usr/local/lib/python3.10/dist-packages (from ydata-profiling) (0.13.2)\n",
            "Collecting multimethod<2,>=1.4 (from ydata-profiling)\n",
            "  Downloading multimethod-1.12-py3-none-any.whl.metadata (9.6 kB)\n",
            "Requirement already satisfied: statsmodels<1,>=0.13.2 in /usr/local/lib/python3.10/dist-packages (from ydata-profiling) (0.14.4)\n",
            "Requirement already satisfied: typeguard<5,>=3 in /usr/local/lib/python3.10/dist-packages (from ydata-profiling) (4.4.1)\n",
            "Collecting imagehash==4.3.1 (from ydata-profiling)\n",
            "  Downloading ImageHash-4.3.1-py2.py3-none-any.whl.metadata (8.0 kB)\n",
            "Requirement already satisfied: wordcloud>=1.9.3 in /usr/local/lib/python3.10/dist-packages (from ydata-profiling) (1.9.4)\n",
            "Collecting dacite>=1.8 (from ydata-profiling)\n",
            "  Downloading dacite-1.8.1-py3-none-any.whl.metadata (15 kB)\n",
            "Requirement already satisfied: numba<1,>=0.56.0 in /usr/local/lib/python3.10/dist-packages (from ydata-profiling) (0.60.0)\n",
            "Collecting PyWavelets (from imagehash==4.3.1->ydata-profiling)\n",
            "  Downloading pywavelets-1.7.0-cp310-cp310-manylinux_2_17_x86_64.manylinux2014_x86_64.whl.metadata (9.0 kB)\n",
            "Requirement already satisfied: pillow in /usr/local/lib/python3.10/dist-packages (from imagehash==4.3.1->ydata-profiling) (11.0.0)\n",
            "Requirement already satisfied: MarkupSafe>=2.0 in /usr/local/lib/python3.10/dist-packages (from jinja2<3.2,>=2.11.1->ydata-profiling) (3.0.2)\n",
            "Requirement already satisfied: contourpy>=1.0.1 in /usr/local/lib/python3.10/dist-packages (from matplotlib<3.10,>=3.5->ydata-profiling) (1.3.1)\n",
            "Requirement already satisfied: cycler>=0.10 in /usr/local/lib/python3.10/dist-packages (from matplotlib<3.10,>=3.5->ydata-profiling) (0.12.1)\n",
            "Requirement already satisfied: fonttools>=4.22.0 in /usr/local/lib/python3.10/dist-packages (from matplotlib<3.10,>=3.5->ydata-profiling) (4.55.0)\n",
            "Requirement already satisfied: kiwisolver>=1.0.1 in /usr/local/lib/python3.10/dist-packages (from matplotlib<3.10,>=3.5->ydata-profiling) (1.4.7)\n",
            "Requirement already satisfied: packaging>=20.0 in /usr/local/lib/python3.10/dist-packages (from matplotlib<3.10,>=3.5->ydata-profiling) (24.2)\n",
            "Requirement already satisfied: pyparsing>=2.3.1 in /usr/local/lib/python3.10/dist-packages (from matplotlib<3.10,>=3.5->ydata-profiling) (3.2.0)\n",
            "Requirement already satisfied: python-dateutil>=2.7 in /usr/local/lib/python3.10/dist-packages (from matplotlib<3.10,>=3.5->ydata-profiling) (2.8.2)\n",
            "Requirement already satisfied: llvmlite<0.44,>=0.43.0dev0 in /usr/local/lib/python3.10/dist-packages (from numba<1,>=0.56.0->ydata-profiling) (0.43.0)\n",
            "Requirement already satisfied: pytz>=2020.1 in /usr/local/lib/python3.10/dist-packages (from pandas!=1.4.0,<3,>1.1->ydata-profiling) (2024.2)\n",
            "Requirement already satisfied: tzdata>=2022.7 in /usr/local/lib/python3.10/dist-packages (from pandas!=1.4.0,<3,>1.1->ydata-profiling) (2024.2)\n",
            "Requirement already satisfied: joblib>=0.14.1 in /usr/local/lib/python3.10/dist-packages (from phik<0.13,>=0.11.1->ydata-profiling) (1.4.2)\n",
            "Requirement already satisfied: annotated-types>=0.6.0 in /usr/local/lib/python3.10/dist-packages (from pydantic>=2->ydata-profiling) (0.7.0)\n",
            "Requirement already satisfied: pydantic-core==2.23.4 in /usr/local/lib/python3.10/dist-packages (from pydantic>=2->ydata-profiling) (2.23.4)\n",
            "Requirement already satisfied: typing-extensions>=4.6.1 in /usr/local/lib/python3.10/dist-packages (from pydantic>=2->ydata-profiling) (4.12.2)\n",
            "Requirement already satisfied: charset-normalizer<4,>=2 in /usr/local/lib/python3.10/dist-packages (from requests<3,>=2.24.0->ydata-profiling) (3.4.0)\n",
            "Requirement already satisfied: idna<4,>=2.5 in /usr/local/lib/python3.10/dist-packages (from requests<3,>=2.24.0->ydata-profiling) (3.10)\n",
            "Requirement already satisfied: urllib3<3,>=1.21.1 in /usr/local/lib/python3.10/dist-packages (from requests<3,>=2.24.0->ydata-profiling) (2.2.3)\n",
            "Requirement already satisfied: certifi>=2017.4.17 in /usr/local/lib/python3.10/dist-packages (from requests<3,>=2.24.0->ydata-profiling) (2024.8.30)\n",
            "Requirement already satisfied: patsy>=0.5.6 in /usr/local/lib/python3.10/dist-packages (from statsmodels<1,>=0.13.2->ydata-profiling) (1.0.1)\n",
            "Requirement already satisfied: attrs>=19.3.0 in /usr/local/lib/python3.10/dist-packages (from visions<0.7.7,>=0.7.5->visions[type_image_path]<0.7.7,>=0.7.5->ydata-profiling) (24.2.0)\n",
            "Requirement already satisfied: networkx>=2.4 in /usr/local/lib/python3.10/dist-packages (from visions<0.7.7,>=0.7.5->visions[type_image_path]<0.7.7,>=0.7.5->ydata-profiling) (3.4.2)\n",
            "Requirement already satisfied: six>=1.5 in /usr/local/lib/python3.10/dist-packages (from python-dateutil>=2.7->matplotlib<3.10,>=3.5->ydata-profiling) (1.16.0)\n",
            "Downloading ydata_profiling-4.12.0-py2.py3-none-any.whl (390 kB)\n",
            "\u001b[2K   \u001b[90m━━━━━━━━━━━━━━━━━━━━━━━━━━━━━━━━━━━━━━━━\u001b[0m \u001b[32m390.6/390.6 kB\u001b[0m \u001b[31m20.0 MB/s\u001b[0m eta \u001b[36m0:00:00\u001b[0m\n",
            "\u001b[?25hDownloading ImageHash-4.3.1-py2.py3-none-any.whl (296 kB)\n",
            "\u001b[2K   \u001b[90m━━━━━━━━━━━━━━━━━━━━━━━━━━━━━━━━━━━━━━━━\u001b[0m \u001b[32m296.5/296.5 kB\u001b[0m \u001b[31m19.4 MB/s\u001b[0m eta \u001b[36m0:00:00\u001b[0m\n",
            "\u001b[?25hDownloading dacite-1.8.1-py3-none-any.whl (14 kB)\n",
            "Downloading multimethod-1.12-py3-none-any.whl (10 kB)\n",
            "Downloading phik-0.12.4-cp310-cp310-manylinux_2_17_x86_64.manylinux2014_x86_64.whl (686 kB)\n",
            "\u001b[2K   \u001b[90m━━━━━━━━━━━━━━━━━━━━━━━━━━━━━━━━━━━━━━━━\u001b[0m \u001b[32m686.1/686.1 kB\u001b[0m \u001b[31m38.1 MB/s\u001b[0m eta \u001b[36m0:00:00\u001b[0m\n",
            "\u001b[?25hDownloading visions-0.7.6-py3-none-any.whl (104 kB)\n",
            "\u001b[2K   \u001b[90m━━━━━━━━━━━━━━━━━━━━━━━━━━━━━━━━━━━━━━━━\u001b[0m \u001b[32m104.8/104.8 kB\u001b[0m \u001b[31m9.0 MB/s\u001b[0m eta \u001b[36m0:00:00\u001b[0m\n",
            "\u001b[?25hDownloading pywavelets-1.7.0-cp310-cp310-manylinux_2_17_x86_64.manylinux2014_x86_64.whl (4.5 MB)\n",
            "\u001b[2K   \u001b[90m━━━━━━━━━━━━━━━━━━━━━━━━━━━━━━━━━━━━━━━━\u001b[0m \u001b[32m4.5/4.5 MB\u001b[0m \u001b[31m82.6 MB/s\u001b[0m eta \u001b[36m0:00:00\u001b[0m\n",
            "\u001b[?25hBuilding wheels for collected packages: htmlmin\n",
            "  Building wheel for htmlmin (setup.py) ... \u001b[?25l\u001b[?25hdone\n",
            "  Created wheel for htmlmin: filename=htmlmin-0.1.12-py3-none-any.whl size=27081 sha256=2b9c7ff76c3c2d56f932fd4996adc769067143898ec7569e73d64efca09356b2\n",
            "  Stored in directory: /root/.cache/pip/wheels/dd/91/29/a79cecb328d01739e64017b6fb9a1ab9d8cb1853098ec5966d\n",
            "Successfully built htmlmin\n",
            "Installing collected packages: htmlmin, PyWavelets, multimethod, dacite, imagehash, visions, phik, ydata-profiling\n",
            "Successfully installed PyWavelets-1.7.0 dacite-1.8.1 htmlmin-0.1.12 imagehash-4.3.1 multimethod-1.12 phik-0.12.4 visions-0.7.6 ydata-profiling-4.12.0\n",
            "Requirement already satisfied: xgboost in /usr/local/lib/python3.10/dist-packages (2.1.2)\n",
            "Requirement already satisfied: numpy in /usr/local/lib/python3.10/dist-packages (from xgboost) (1.26.4)\n",
            "Requirement already satisfied: nvidia-nccl-cu12 in /usr/local/lib/python3.10/dist-packages (from xgboost) (2.23.4)\n",
            "Requirement already satisfied: scipy in /usr/local/lib/python3.10/dist-packages (from xgboost) (1.13.1)\n"
          ]
        }
      ],
      "source": [
        "!pip install fuzzywuzzy\n",
        "!pip install python-Levenshtein\n",
        "!pip install pandas scikit-learn fuzzywuzzy\n",
        "!pip install ydata-profiling\n",
        "!pip install xgboost\n"
      ]
    },
    {
      "cell_type": "code",
      "execution_count": 3,
      "metadata": {
        "id": "RHfh1R12ES8X"
      },
      "outputs": [],
      "source": [
        "import re\n",
        "import matplotlib.pyplot as plt\n",
        "import seaborn as sns\n",
        "import pandas as pd\n",
        "from fuzzywuzzy import fuzz\n",
        "from collections import defaultdict\n",
        "from ydata_profiling import ProfileReport\n",
        "import numpy as np\n",
        "from sklearn.model_selection import train_test_split\n",
        "from sklearn.preprocessing import OneHotEncoder\n",
        "from sklearn.ensemble import RandomForestClassifier\n",
        "from sklearn.metrics import classification_report\n",
        "from sklearn.preprocessing import StandardScaler\n",
        "from sklearn.decomposition import PCA\n",
        "import matplotlib.pyplot as plt\n",
        "from sklearn.preprocessing import LabelEncoder\n",
        "from sklearn.model_selection import train_test_split\n",
        "from sklearn.linear_model import LinearRegression\n",
        "from sklearn.ensemble import RandomForestRegressor\n",
        "from sklearn.metrics import mean_squared_error, r2_score\n",
        "from sklearn.ensemble import RandomForestRegressor\n",
        "from xgboost import XGBRegressor\n",
        "from sklearn.linear_model import LogisticRegression\n",
        "from google.colab import files\n",
        "from sklearn.ensemble import RandomForestRegressor\n",
        "from sklearn.model_selection import train_test_split, GridSearchCV\n",
        "from sklearn.metrics import mean_squared_error, r2_score\n",
        "from sklearn.model_selection import RandomizedSearchCV\n",
        "from sklearn.metrics import accuracy_score, f1_score, precision_score, recall_score, confusion_matrix, classification_report\n",
        "from imblearn.over_sampling import SMOTE\n",
        "from sklearn.model_selection import train_test_split, RandomizedSearchCV\n",
        "from sklearn.ensemble import RandomForestClassifier\n",
        "from sklearn.metrics import accuracy_score, classification_report, confusion_matrix, f1_score\n",
        "import numpy as np\n",
        "from xgboost import XGBClassifier\n",
        "import joblib\n"
      ]
    },
    {
      "cell_type": "markdown",
      "metadata": {
        "id": "mSoyd6icu4pF"
      },
      "source": [
        "### Exploración del dataset\n"
      ]
    },
    {
      "cell_type": "markdown",
      "metadata": {
        "id": "6vwPuabIMLzI"
      },
      "source": [
        "#### Visualización de la data de entrenamiento y test"
      ]
    },
    {
      "cell_type": "code",
      "execution_count": 31,
      "metadata": {
        "colab": {
          "base_uri": "https://localhost:8080/"
        },
        "id": "flDjfdc5ODxu",
        "outputId": "48d1bc93-6b17-4b4c-e903-3682ae902a48"
      },
      "outputs": [
        {
          "output_type": "stream",
          "name": "stdout",
          "text": [
            "shape of loaded dataframe (692500, 12)\n",
            "shape of loaded dataframe (296786, 11)\n"
          ]
        }
      ],
      "source": [
        "z = pd.read_csv(\"train.csv\")\n",
        "print (\"shape of loaded dataframe\", z.shape)\n",
        "\n",
        "p = pd.read_csv('test.csv', index_col=0)\n",
        "print (\"shape of loaded dataframe\", p.shape)"
      ]
    },
    {
      "cell_type": "code",
      "execution_count": 32,
      "metadata": {
        "colab": {
          "base_uri": "https://localhost:8080/",
          "height": 313
        },
        "id": "CBwZ1KlpOLxW",
        "outputId": "8a270abe-ac7c-4593-e551-eea4a57347ff"
      },
      "outputs": [
        {
          "output_type": "execute_result",
          "data": {
            "text/plain": [
              "       ID  PERIODO         ESTU_PRGM_ACADEMICO ESTU_PRGM_DEPARTAMENTO  \\\n",
              "0  904256    20212                  ENFERMERIA                 BOGOTÁ   \n",
              "1  645256    20212                     DERECHO              ATLANTICO   \n",
              "2  308367    20203       MERCADEO Y PUBLICIDAD                 BOGOTÁ   \n",
              "3  470353    20195  ADMINISTRACION DE EMPRESAS              SANTANDER   \n",
              "4  989032    20212                  PSICOLOGIA              ANTIOQUIA   \n",
              "\n",
              "             ESTU_VALORMATRICULAUNIVERSIDAD ESTU_HORASSEMANATRABAJA  \\\n",
              "0  Entre 5.5 millones y menos de 7 millones       Menos de 10 horas   \n",
              "1  Entre 2.5 millones y menos de 4 millones                       0   \n",
              "2  Entre 2.5 millones y menos de 4 millones         Más de 30 horas   \n",
              "3  Entre 4 millones y menos de 5.5 millones                       0   \n",
              "4  Entre 2.5 millones y menos de 4 millones     Entre 21 y 30 horas   \n",
              "\n",
              "  FAMI_ESTRATOVIVIENDA FAMI_TIENEINTERNET                 FAMI_EDUCACIONPADRE  \\\n",
              "0            Estrato 3                 Si    Técnica o tecnológica incompleta   \n",
              "1            Estrato 3                 No      Técnica o tecnológica completa   \n",
              "2            Estrato 3                 Si  Secundaria (Bachillerato) completa   \n",
              "3            Estrato 4                 Si                             No sabe   \n",
              "4            Estrato 3                 Si                   Primaria completa   \n",
              "\n",
              "                  FAMI_EDUCACIONMADRE ESTU_PAGOMATRICULAPROPIO  \\\n",
              "0                           Postgrado                       No   \n",
              "1    Técnica o tecnológica incompleta                       No   \n",
              "2  Secundaria (Bachillerato) completa                       No   \n",
              "3  Secundaria (Bachillerato) completa                       No   \n",
              "4                   Primaria completa                       No   \n",
              "\n",
              "  RENDIMIENTO_GLOBAL  \n",
              "0         medio-alto  \n",
              "1               bajo  \n",
              "2               bajo  \n",
              "3               alto  \n",
              "4         medio-bajo  "
            ],
            "text/html": [
              "\n",
              "  <div id=\"df-a4dc8378-cfd7-42ef-ad62-327fc5c5d7df\" class=\"colab-df-container\">\n",
              "    <div>\n",
              "<style scoped>\n",
              "    .dataframe tbody tr th:only-of-type {\n",
              "        vertical-align: middle;\n",
              "    }\n",
              "\n",
              "    .dataframe tbody tr th {\n",
              "        vertical-align: top;\n",
              "    }\n",
              "\n",
              "    .dataframe thead th {\n",
              "        text-align: right;\n",
              "    }\n",
              "</style>\n",
              "<table border=\"1\" class=\"dataframe\">\n",
              "  <thead>\n",
              "    <tr style=\"text-align: right;\">\n",
              "      <th></th>\n",
              "      <th>ID</th>\n",
              "      <th>PERIODO</th>\n",
              "      <th>ESTU_PRGM_ACADEMICO</th>\n",
              "      <th>ESTU_PRGM_DEPARTAMENTO</th>\n",
              "      <th>ESTU_VALORMATRICULAUNIVERSIDAD</th>\n",
              "      <th>ESTU_HORASSEMANATRABAJA</th>\n",
              "      <th>FAMI_ESTRATOVIVIENDA</th>\n",
              "      <th>FAMI_TIENEINTERNET</th>\n",
              "      <th>FAMI_EDUCACIONPADRE</th>\n",
              "      <th>FAMI_EDUCACIONMADRE</th>\n",
              "      <th>ESTU_PAGOMATRICULAPROPIO</th>\n",
              "      <th>RENDIMIENTO_GLOBAL</th>\n",
              "    </tr>\n",
              "  </thead>\n",
              "  <tbody>\n",
              "    <tr>\n",
              "      <th>0</th>\n",
              "      <td>904256</td>\n",
              "      <td>20212</td>\n",
              "      <td>ENFERMERIA</td>\n",
              "      <td>BOGOTÁ</td>\n",
              "      <td>Entre 5.5 millones y menos de 7 millones</td>\n",
              "      <td>Menos de 10 horas</td>\n",
              "      <td>Estrato 3</td>\n",
              "      <td>Si</td>\n",
              "      <td>Técnica o tecnológica incompleta</td>\n",
              "      <td>Postgrado</td>\n",
              "      <td>No</td>\n",
              "      <td>medio-alto</td>\n",
              "    </tr>\n",
              "    <tr>\n",
              "      <th>1</th>\n",
              "      <td>645256</td>\n",
              "      <td>20212</td>\n",
              "      <td>DERECHO</td>\n",
              "      <td>ATLANTICO</td>\n",
              "      <td>Entre 2.5 millones y menos de 4 millones</td>\n",
              "      <td>0</td>\n",
              "      <td>Estrato 3</td>\n",
              "      <td>No</td>\n",
              "      <td>Técnica o tecnológica completa</td>\n",
              "      <td>Técnica o tecnológica incompleta</td>\n",
              "      <td>No</td>\n",
              "      <td>bajo</td>\n",
              "    </tr>\n",
              "    <tr>\n",
              "      <th>2</th>\n",
              "      <td>308367</td>\n",
              "      <td>20203</td>\n",
              "      <td>MERCADEO Y PUBLICIDAD</td>\n",
              "      <td>BOGOTÁ</td>\n",
              "      <td>Entre 2.5 millones y menos de 4 millones</td>\n",
              "      <td>Más de 30 horas</td>\n",
              "      <td>Estrato 3</td>\n",
              "      <td>Si</td>\n",
              "      <td>Secundaria (Bachillerato) completa</td>\n",
              "      <td>Secundaria (Bachillerato) completa</td>\n",
              "      <td>No</td>\n",
              "      <td>bajo</td>\n",
              "    </tr>\n",
              "    <tr>\n",
              "      <th>3</th>\n",
              "      <td>470353</td>\n",
              "      <td>20195</td>\n",
              "      <td>ADMINISTRACION DE EMPRESAS</td>\n",
              "      <td>SANTANDER</td>\n",
              "      <td>Entre 4 millones y menos de 5.5 millones</td>\n",
              "      <td>0</td>\n",
              "      <td>Estrato 4</td>\n",
              "      <td>Si</td>\n",
              "      <td>No sabe</td>\n",
              "      <td>Secundaria (Bachillerato) completa</td>\n",
              "      <td>No</td>\n",
              "      <td>alto</td>\n",
              "    </tr>\n",
              "    <tr>\n",
              "      <th>4</th>\n",
              "      <td>989032</td>\n",
              "      <td>20212</td>\n",
              "      <td>PSICOLOGIA</td>\n",
              "      <td>ANTIOQUIA</td>\n",
              "      <td>Entre 2.5 millones y menos de 4 millones</td>\n",
              "      <td>Entre 21 y 30 horas</td>\n",
              "      <td>Estrato 3</td>\n",
              "      <td>Si</td>\n",
              "      <td>Primaria completa</td>\n",
              "      <td>Primaria completa</td>\n",
              "      <td>No</td>\n",
              "      <td>medio-bajo</td>\n",
              "    </tr>\n",
              "  </tbody>\n",
              "</table>\n",
              "</div>\n",
              "    <div class=\"colab-df-buttons\">\n",
              "\n",
              "  <div class=\"colab-df-container\">\n",
              "    <button class=\"colab-df-convert\" onclick=\"convertToInteractive('df-a4dc8378-cfd7-42ef-ad62-327fc5c5d7df')\"\n",
              "            title=\"Convert this dataframe to an interactive table.\"\n",
              "            style=\"display:none;\">\n",
              "\n",
              "  <svg xmlns=\"http://www.w3.org/2000/svg\" height=\"24px\" viewBox=\"0 -960 960 960\">\n",
              "    <path d=\"M120-120v-720h720v720H120Zm60-500h600v-160H180v160Zm220 220h160v-160H400v160Zm0 220h160v-160H400v160ZM180-400h160v-160H180v160Zm440 0h160v-160H620v160ZM180-180h160v-160H180v160Zm440 0h160v-160H620v160Z\"/>\n",
              "  </svg>\n",
              "    </button>\n",
              "\n",
              "  <style>\n",
              "    .colab-df-container {\n",
              "      display:flex;\n",
              "      gap: 12px;\n",
              "    }\n",
              "\n",
              "    .colab-df-convert {\n",
              "      background-color: #E8F0FE;\n",
              "      border: none;\n",
              "      border-radius: 50%;\n",
              "      cursor: pointer;\n",
              "      display: none;\n",
              "      fill: #1967D2;\n",
              "      height: 32px;\n",
              "      padding: 0 0 0 0;\n",
              "      width: 32px;\n",
              "    }\n",
              "\n",
              "    .colab-df-convert:hover {\n",
              "      background-color: #E2EBFA;\n",
              "      box-shadow: 0px 1px 2px rgba(60, 64, 67, 0.3), 0px 1px 3px 1px rgba(60, 64, 67, 0.15);\n",
              "      fill: #174EA6;\n",
              "    }\n",
              "\n",
              "    .colab-df-buttons div {\n",
              "      margin-bottom: 4px;\n",
              "    }\n",
              "\n",
              "    [theme=dark] .colab-df-convert {\n",
              "      background-color: #3B4455;\n",
              "      fill: #D2E3FC;\n",
              "    }\n",
              "\n",
              "    [theme=dark] .colab-df-convert:hover {\n",
              "      background-color: #434B5C;\n",
              "      box-shadow: 0px 1px 3px 1px rgba(0, 0, 0, 0.15);\n",
              "      filter: drop-shadow(0px 1px 2px rgba(0, 0, 0, 0.3));\n",
              "      fill: #FFFFFF;\n",
              "    }\n",
              "  </style>\n",
              "\n",
              "    <script>\n",
              "      const buttonEl =\n",
              "        document.querySelector('#df-a4dc8378-cfd7-42ef-ad62-327fc5c5d7df button.colab-df-convert');\n",
              "      buttonEl.style.display =\n",
              "        google.colab.kernel.accessAllowed ? 'block' : 'none';\n",
              "\n",
              "      async function convertToInteractive(key) {\n",
              "        const element = document.querySelector('#df-a4dc8378-cfd7-42ef-ad62-327fc5c5d7df');\n",
              "        const dataTable =\n",
              "          await google.colab.kernel.invokeFunction('convertToInteractive',\n",
              "                                                    [key], {});\n",
              "        if (!dataTable) return;\n",
              "\n",
              "        const docLinkHtml = 'Like what you see? Visit the ' +\n",
              "          '<a target=\"_blank\" href=https://colab.research.google.com/notebooks/data_table.ipynb>data table notebook</a>'\n",
              "          + ' to learn more about interactive tables.';\n",
              "        element.innerHTML = '';\n",
              "        dataTable['output_type'] = 'display_data';\n",
              "        await google.colab.output.renderOutput(dataTable, element);\n",
              "        const docLink = document.createElement('div');\n",
              "        docLink.innerHTML = docLinkHtml;\n",
              "        element.appendChild(docLink);\n",
              "      }\n",
              "    </script>\n",
              "  </div>\n",
              "\n",
              "\n",
              "<div id=\"df-1c5152b2-d7ae-446e-a8b8-d2beca2f8c78\">\n",
              "  <button class=\"colab-df-quickchart\" onclick=\"quickchart('df-1c5152b2-d7ae-446e-a8b8-d2beca2f8c78')\"\n",
              "            title=\"Suggest charts\"\n",
              "            style=\"display:none;\">\n",
              "\n",
              "<svg xmlns=\"http://www.w3.org/2000/svg\" height=\"24px\"viewBox=\"0 0 24 24\"\n",
              "     width=\"24px\">\n",
              "    <g>\n",
              "        <path d=\"M19 3H5c-1.1 0-2 .9-2 2v14c0 1.1.9 2 2 2h14c1.1 0 2-.9 2-2V5c0-1.1-.9-2-2-2zM9 17H7v-7h2v7zm4 0h-2V7h2v10zm4 0h-2v-4h2v4z\"/>\n",
              "    </g>\n",
              "</svg>\n",
              "  </button>\n",
              "\n",
              "<style>\n",
              "  .colab-df-quickchart {\n",
              "      --bg-color: #E8F0FE;\n",
              "      --fill-color: #1967D2;\n",
              "      --hover-bg-color: #E2EBFA;\n",
              "      --hover-fill-color: #174EA6;\n",
              "      --disabled-fill-color: #AAA;\n",
              "      --disabled-bg-color: #DDD;\n",
              "  }\n",
              "\n",
              "  [theme=dark] .colab-df-quickchart {\n",
              "      --bg-color: #3B4455;\n",
              "      --fill-color: #D2E3FC;\n",
              "      --hover-bg-color: #434B5C;\n",
              "      --hover-fill-color: #FFFFFF;\n",
              "      --disabled-bg-color: #3B4455;\n",
              "      --disabled-fill-color: #666;\n",
              "  }\n",
              "\n",
              "  .colab-df-quickchart {\n",
              "    background-color: var(--bg-color);\n",
              "    border: none;\n",
              "    border-radius: 50%;\n",
              "    cursor: pointer;\n",
              "    display: none;\n",
              "    fill: var(--fill-color);\n",
              "    height: 32px;\n",
              "    padding: 0;\n",
              "    width: 32px;\n",
              "  }\n",
              "\n",
              "  .colab-df-quickchart:hover {\n",
              "    background-color: var(--hover-bg-color);\n",
              "    box-shadow: 0 1px 2px rgba(60, 64, 67, 0.3), 0 1px 3px 1px rgba(60, 64, 67, 0.15);\n",
              "    fill: var(--button-hover-fill-color);\n",
              "  }\n",
              "\n",
              "  .colab-df-quickchart-complete:disabled,\n",
              "  .colab-df-quickchart-complete:disabled:hover {\n",
              "    background-color: var(--disabled-bg-color);\n",
              "    fill: var(--disabled-fill-color);\n",
              "    box-shadow: none;\n",
              "  }\n",
              "\n",
              "  .colab-df-spinner {\n",
              "    border: 2px solid var(--fill-color);\n",
              "    border-color: transparent;\n",
              "    border-bottom-color: var(--fill-color);\n",
              "    animation:\n",
              "      spin 1s steps(1) infinite;\n",
              "  }\n",
              "\n",
              "  @keyframes spin {\n",
              "    0% {\n",
              "      border-color: transparent;\n",
              "      border-bottom-color: var(--fill-color);\n",
              "      border-left-color: var(--fill-color);\n",
              "    }\n",
              "    20% {\n",
              "      border-color: transparent;\n",
              "      border-left-color: var(--fill-color);\n",
              "      border-top-color: var(--fill-color);\n",
              "    }\n",
              "    30% {\n",
              "      border-color: transparent;\n",
              "      border-left-color: var(--fill-color);\n",
              "      border-top-color: var(--fill-color);\n",
              "      border-right-color: var(--fill-color);\n",
              "    }\n",
              "    40% {\n",
              "      border-color: transparent;\n",
              "      border-right-color: var(--fill-color);\n",
              "      border-top-color: var(--fill-color);\n",
              "    }\n",
              "    60% {\n",
              "      border-color: transparent;\n",
              "      border-right-color: var(--fill-color);\n",
              "    }\n",
              "    80% {\n",
              "      border-color: transparent;\n",
              "      border-right-color: var(--fill-color);\n",
              "      border-bottom-color: var(--fill-color);\n",
              "    }\n",
              "    90% {\n",
              "      border-color: transparent;\n",
              "      border-bottom-color: var(--fill-color);\n",
              "    }\n",
              "  }\n",
              "</style>\n",
              "\n",
              "  <script>\n",
              "    async function quickchart(key) {\n",
              "      const quickchartButtonEl =\n",
              "        document.querySelector('#' + key + ' button');\n",
              "      quickchartButtonEl.disabled = true;  // To prevent multiple clicks.\n",
              "      quickchartButtonEl.classList.add('colab-df-spinner');\n",
              "      try {\n",
              "        const charts = await google.colab.kernel.invokeFunction(\n",
              "            'suggestCharts', [key], {});\n",
              "      } catch (error) {\n",
              "        console.error('Error during call to suggestCharts:', error);\n",
              "      }\n",
              "      quickchartButtonEl.classList.remove('colab-df-spinner');\n",
              "      quickchartButtonEl.classList.add('colab-df-quickchart-complete');\n",
              "    }\n",
              "    (() => {\n",
              "      let quickchartButtonEl =\n",
              "        document.querySelector('#df-1c5152b2-d7ae-446e-a8b8-d2beca2f8c78 button');\n",
              "      quickchartButtonEl.style.display =\n",
              "        google.colab.kernel.accessAllowed ? 'block' : 'none';\n",
              "    })();\n",
              "  </script>\n",
              "</div>\n",
              "\n",
              "    </div>\n",
              "  </div>\n"
            ],
            "application/vnd.google.colaboratory.intrinsic+json": {
              "type": "dataframe",
              "variable_name": "z"
            }
          },
          "metadata": {},
          "execution_count": 32
        }
      ],
      "source": [
        "z.head()"
      ]
    },
    {
      "cell_type": "code",
      "execution_count": 33,
      "metadata": {
        "colab": {
          "base_uri": "https://localhost:8080/",
          "height": 348
        },
        "id": "2sw14Km2LfPj",
        "outputId": "9efd6772-fd5b-4698-d6f5-301e5140510c"
      },
      "outputs": [
        {
          "output_type": "execute_result",
          "data": {
            "text/plain": [
              "       ID  PERIODO                     ESTU_PRGM_ACADEMICO  \\\n",
              "0  550236    20183                          TRABAJO SOCIAL   \n",
              "1   98545    20203  ADMINISTRACION COMERCIAL Y DE MERCADEO   \n",
              "2  499179    20212                  INGENIERIA MECATRONICA   \n",
              "3  782980    20195                      CONTADURIA PUBLICA   \n",
              "4  785185    20212              ADMINISTRACION DE EMPRESAS   \n",
              "\n",
              "  ESTU_PRGM_DEPARTAMENTO            ESTU_VALORMATRICULAUNIVERSIDAD  \\\n",
              "0                BOLIVAR                          Menos de 500 mil   \n",
              "1              ANTIOQUIA  Entre 2.5 millones y menos de 4 millones   \n",
              "2                 BOGOTÁ    Entre 1 millón y menos de 2.5 millones   \n",
              "3                  SUCRE    Entre 1 millón y menos de 2.5 millones   \n",
              "4              ATLANTICO  Entre 2.5 millones y menos de 4 millones   \n",
              "\n",
              "  ESTU_HORASSEMANATRABAJA FAMI_ESTRATOVIVIENDA FAMI_TIENEINTERNET  \\\n",
              "0       Menos de 10 horas            Estrato 3                 Si   \n",
              "1     Entre 21 y 30 horas            Estrato 2                 Si   \n",
              "2                       0            Estrato 3                 Si   \n",
              "3     Entre 21 y 30 horas            Estrato 1                 No   \n",
              "4     Entre 11 y 20 horas            Estrato 2                 Si   \n",
              "\n",
              "                    FAMI_EDUCACIONPADRE                 FAMI_EDUCACIONMADRE  \\\n",
              "0        Técnica o tecnológica completa                   Primaria completa   \n",
              "1    Secundaria (Bachillerato) completa      Técnica o tecnológica completa   \n",
              "2  Secundaria (Bachillerato) incompleta  Secundaria (Bachillerato) completa   \n",
              "3                   Primaria incompleta                 Primaria incompleta   \n",
              "4    Secundaria (Bachillerato) completa  Secundaria (Bachillerato) completa   \n",
              "\n",
              "  ESTU_PAGOMATRICULAPROPIO  \n",
              "0                       Si  \n",
              "1                       No  \n",
              "2                       No  \n",
              "3                       No  \n",
              "4                       No  "
            ],
            "text/html": [
              "\n",
              "  <div id=\"df-7db19605-38b3-4cdd-a88f-85db28c3794e\" class=\"colab-df-container\">\n",
              "    <div>\n",
              "<style scoped>\n",
              "    .dataframe tbody tr th:only-of-type {\n",
              "        vertical-align: middle;\n",
              "    }\n",
              "\n",
              "    .dataframe tbody tr th {\n",
              "        vertical-align: top;\n",
              "    }\n",
              "\n",
              "    .dataframe thead th {\n",
              "        text-align: right;\n",
              "    }\n",
              "</style>\n",
              "<table border=\"1\" class=\"dataframe\">\n",
              "  <thead>\n",
              "    <tr style=\"text-align: right;\">\n",
              "      <th></th>\n",
              "      <th>ID</th>\n",
              "      <th>PERIODO</th>\n",
              "      <th>ESTU_PRGM_ACADEMICO</th>\n",
              "      <th>ESTU_PRGM_DEPARTAMENTO</th>\n",
              "      <th>ESTU_VALORMATRICULAUNIVERSIDAD</th>\n",
              "      <th>ESTU_HORASSEMANATRABAJA</th>\n",
              "      <th>FAMI_ESTRATOVIVIENDA</th>\n",
              "      <th>FAMI_TIENEINTERNET</th>\n",
              "      <th>FAMI_EDUCACIONPADRE</th>\n",
              "      <th>FAMI_EDUCACIONMADRE</th>\n",
              "      <th>ESTU_PAGOMATRICULAPROPIO</th>\n",
              "    </tr>\n",
              "  </thead>\n",
              "  <tbody>\n",
              "    <tr>\n",
              "      <th>0</th>\n",
              "      <td>550236</td>\n",
              "      <td>20183</td>\n",
              "      <td>TRABAJO SOCIAL</td>\n",
              "      <td>BOLIVAR</td>\n",
              "      <td>Menos de 500 mil</td>\n",
              "      <td>Menos de 10 horas</td>\n",
              "      <td>Estrato 3</td>\n",
              "      <td>Si</td>\n",
              "      <td>Técnica o tecnológica completa</td>\n",
              "      <td>Primaria completa</td>\n",
              "      <td>Si</td>\n",
              "    </tr>\n",
              "    <tr>\n",
              "      <th>1</th>\n",
              "      <td>98545</td>\n",
              "      <td>20203</td>\n",
              "      <td>ADMINISTRACION COMERCIAL Y DE MERCADEO</td>\n",
              "      <td>ANTIOQUIA</td>\n",
              "      <td>Entre 2.5 millones y menos de 4 millones</td>\n",
              "      <td>Entre 21 y 30 horas</td>\n",
              "      <td>Estrato 2</td>\n",
              "      <td>Si</td>\n",
              "      <td>Secundaria (Bachillerato) completa</td>\n",
              "      <td>Técnica o tecnológica completa</td>\n",
              "      <td>No</td>\n",
              "    </tr>\n",
              "    <tr>\n",
              "      <th>2</th>\n",
              "      <td>499179</td>\n",
              "      <td>20212</td>\n",
              "      <td>INGENIERIA MECATRONICA</td>\n",
              "      <td>BOGOTÁ</td>\n",
              "      <td>Entre 1 millón y menos de 2.5 millones</td>\n",
              "      <td>0</td>\n",
              "      <td>Estrato 3</td>\n",
              "      <td>Si</td>\n",
              "      <td>Secundaria (Bachillerato) incompleta</td>\n",
              "      <td>Secundaria (Bachillerato) completa</td>\n",
              "      <td>No</td>\n",
              "    </tr>\n",
              "    <tr>\n",
              "      <th>3</th>\n",
              "      <td>782980</td>\n",
              "      <td>20195</td>\n",
              "      <td>CONTADURIA PUBLICA</td>\n",
              "      <td>SUCRE</td>\n",
              "      <td>Entre 1 millón y menos de 2.5 millones</td>\n",
              "      <td>Entre 21 y 30 horas</td>\n",
              "      <td>Estrato 1</td>\n",
              "      <td>No</td>\n",
              "      <td>Primaria incompleta</td>\n",
              "      <td>Primaria incompleta</td>\n",
              "      <td>No</td>\n",
              "    </tr>\n",
              "    <tr>\n",
              "      <th>4</th>\n",
              "      <td>785185</td>\n",
              "      <td>20212</td>\n",
              "      <td>ADMINISTRACION DE EMPRESAS</td>\n",
              "      <td>ATLANTICO</td>\n",
              "      <td>Entre 2.5 millones y menos de 4 millones</td>\n",
              "      <td>Entre 11 y 20 horas</td>\n",
              "      <td>Estrato 2</td>\n",
              "      <td>Si</td>\n",
              "      <td>Secundaria (Bachillerato) completa</td>\n",
              "      <td>Secundaria (Bachillerato) completa</td>\n",
              "      <td>No</td>\n",
              "    </tr>\n",
              "  </tbody>\n",
              "</table>\n",
              "</div>\n",
              "    <div class=\"colab-df-buttons\">\n",
              "\n",
              "  <div class=\"colab-df-container\">\n",
              "    <button class=\"colab-df-convert\" onclick=\"convertToInteractive('df-7db19605-38b3-4cdd-a88f-85db28c3794e')\"\n",
              "            title=\"Convert this dataframe to an interactive table.\"\n",
              "            style=\"display:none;\">\n",
              "\n",
              "  <svg xmlns=\"http://www.w3.org/2000/svg\" height=\"24px\" viewBox=\"0 -960 960 960\">\n",
              "    <path d=\"M120-120v-720h720v720H120Zm60-500h600v-160H180v160Zm220 220h160v-160H400v160Zm0 220h160v-160H400v160ZM180-400h160v-160H180v160Zm440 0h160v-160H620v160ZM180-180h160v-160H180v160Zm440 0h160v-160H620v160Z\"/>\n",
              "  </svg>\n",
              "    </button>\n",
              "\n",
              "  <style>\n",
              "    .colab-df-container {\n",
              "      display:flex;\n",
              "      gap: 12px;\n",
              "    }\n",
              "\n",
              "    .colab-df-convert {\n",
              "      background-color: #E8F0FE;\n",
              "      border: none;\n",
              "      border-radius: 50%;\n",
              "      cursor: pointer;\n",
              "      display: none;\n",
              "      fill: #1967D2;\n",
              "      height: 32px;\n",
              "      padding: 0 0 0 0;\n",
              "      width: 32px;\n",
              "    }\n",
              "\n",
              "    .colab-df-convert:hover {\n",
              "      background-color: #E2EBFA;\n",
              "      box-shadow: 0px 1px 2px rgba(60, 64, 67, 0.3), 0px 1px 3px 1px rgba(60, 64, 67, 0.15);\n",
              "      fill: #174EA6;\n",
              "    }\n",
              "\n",
              "    .colab-df-buttons div {\n",
              "      margin-bottom: 4px;\n",
              "    }\n",
              "\n",
              "    [theme=dark] .colab-df-convert {\n",
              "      background-color: #3B4455;\n",
              "      fill: #D2E3FC;\n",
              "    }\n",
              "\n",
              "    [theme=dark] .colab-df-convert:hover {\n",
              "      background-color: #434B5C;\n",
              "      box-shadow: 0px 1px 3px 1px rgba(0, 0, 0, 0.15);\n",
              "      filter: drop-shadow(0px 1px 2px rgba(0, 0, 0, 0.3));\n",
              "      fill: #FFFFFF;\n",
              "    }\n",
              "  </style>\n",
              "\n",
              "    <script>\n",
              "      const buttonEl =\n",
              "        document.querySelector('#df-7db19605-38b3-4cdd-a88f-85db28c3794e button.colab-df-convert');\n",
              "      buttonEl.style.display =\n",
              "        google.colab.kernel.accessAllowed ? 'block' : 'none';\n",
              "\n",
              "      async function convertToInteractive(key) {\n",
              "        const element = document.querySelector('#df-7db19605-38b3-4cdd-a88f-85db28c3794e');\n",
              "        const dataTable =\n",
              "          await google.colab.kernel.invokeFunction('convertToInteractive',\n",
              "                                                    [key], {});\n",
              "        if (!dataTable) return;\n",
              "\n",
              "        const docLinkHtml = 'Like what you see? Visit the ' +\n",
              "          '<a target=\"_blank\" href=https://colab.research.google.com/notebooks/data_table.ipynb>data table notebook</a>'\n",
              "          + ' to learn more about interactive tables.';\n",
              "        element.innerHTML = '';\n",
              "        dataTable['output_type'] = 'display_data';\n",
              "        await google.colab.output.renderOutput(dataTable, element);\n",
              "        const docLink = document.createElement('div');\n",
              "        docLink.innerHTML = docLinkHtml;\n",
              "        element.appendChild(docLink);\n",
              "      }\n",
              "    </script>\n",
              "  </div>\n",
              "\n",
              "\n",
              "<div id=\"df-fb597c1b-8817-4f30-b206-29997e8e3578\">\n",
              "  <button class=\"colab-df-quickchart\" onclick=\"quickchart('df-fb597c1b-8817-4f30-b206-29997e8e3578')\"\n",
              "            title=\"Suggest charts\"\n",
              "            style=\"display:none;\">\n",
              "\n",
              "<svg xmlns=\"http://www.w3.org/2000/svg\" height=\"24px\"viewBox=\"0 0 24 24\"\n",
              "     width=\"24px\">\n",
              "    <g>\n",
              "        <path d=\"M19 3H5c-1.1 0-2 .9-2 2v14c0 1.1.9 2 2 2h14c1.1 0 2-.9 2-2V5c0-1.1-.9-2-2-2zM9 17H7v-7h2v7zm4 0h-2V7h2v10zm4 0h-2v-4h2v4z\"/>\n",
              "    </g>\n",
              "</svg>\n",
              "  </button>\n",
              "\n",
              "<style>\n",
              "  .colab-df-quickchart {\n",
              "      --bg-color: #E8F0FE;\n",
              "      --fill-color: #1967D2;\n",
              "      --hover-bg-color: #E2EBFA;\n",
              "      --hover-fill-color: #174EA6;\n",
              "      --disabled-fill-color: #AAA;\n",
              "      --disabled-bg-color: #DDD;\n",
              "  }\n",
              "\n",
              "  [theme=dark] .colab-df-quickchart {\n",
              "      --bg-color: #3B4455;\n",
              "      --fill-color: #D2E3FC;\n",
              "      --hover-bg-color: #434B5C;\n",
              "      --hover-fill-color: #FFFFFF;\n",
              "      --disabled-bg-color: #3B4455;\n",
              "      --disabled-fill-color: #666;\n",
              "  }\n",
              "\n",
              "  .colab-df-quickchart {\n",
              "    background-color: var(--bg-color);\n",
              "    border: none;\n",
              "    border-radius: 50%;\n",
              "    cursor: pointer;\n",
              "    display: none;\n",
              "    fill: var(--fill-color);\n",
              "    height: 32px;\n",
              "    padding: 0;\n",
              "    width: 32px;\n",
              "  }\n",
              "\n",
              "  .colab-df-quickchart:hover {\n",
              "    background-color: var(--hover-bg-color);\n",
              "    box-shadow: 0 1px 2px rgba(60, 64, 67, 0.3), 0 1px 3px 1px rgba(60, 64, 67, 0.15);\n",
              "    fill: var(--button-hover-fill-color);\n",
              "  }\n",
              "\n",
              "  .colab-df-quickchart-complete:disabled,\n",
              "  .colab-df-quickchart-complete:disabled:hover {\n",
              "    background-color: var(--disabled-bg-color);\n",
              "    fill: var(--disabled-fill-color);\n",
              "    box-shadow: none;\n",
              "  }\n",
              "\n",
              "  .colab-df-spinner {\n",
              "    border: 2px solid var(--fill-color);\n",
              "    border-color: transparent;\n",
              "    border-bottom-color: var(--fill-color);\n",
              "    animation:\n",
              "      spin 1s steps(1) infinite;\n",
              "  }\n",
              "\n",
              "  @keyframes spin {\n",
              "    0% {\n",
              "      border-color: transparent;\n",
              "      border-bottom-color: var(--fill-color);\n",
              "      border-left-color: var(--fill-color);\n",
              "    }\n",
              "    20% {\n",
              "      border-color: transparent;\n",
              "      border-left-color: var(--fill-color);\n",
              "      border-top-color: var(--fill-color);\n",
              "    }\n",
              "    30% {\n",
              "      border-color: transparent;\n",
              "      border-left-color: var(--fill-color);\n",
              "      border-top-color: var(--fill-color);\n",
              "      border-right-color: var(--fill-color);\n",
              "    }\n",
              "    40% {\n",
              "      border-color: transparent;\n",
              "      border-right-color: var(--fill-color);\n",
              "      border-top-color: var(--fill-color);\n",
              "    }\n",
              "    60% {\n",
              "      border-color: transparent;\n",
              "      border-right-color: var(--fill-color);\n",
              "    }\n",
              "    80% {\n",
              "      border-color: transparent;\n",
              "      border-right-color: var(--fill-color);\n",
              "      border-bottom-color: var(--fill-color);\n",
              "    }\n",
              "    90% {\n",
              "      border-color: transparent;\n",
              "      border-bottom-color: var(--fill-color);\n",
              "    }\n",
              "  }\n",
              "</style>\n",
              "\n",
              "  <script>\n",
              "    async function quickchart(key) {\n",
              "      const quickchartButtonEl =\n",
              "        document.querySelector('#' + key + ' button');\n",
              "      quickchartButtonEl.disabled = true;  // To prevent multiple clicks.\n",
              "      quickchartButtonEl.classList.add('colab-df-spinner');\n",
              "      try {\n",
              "        const charts = await google.colab.kernel.invokeFunction(\n",
              "            'suggestCharts', [key], {});\n",
              "      } catch (error) {\n",
              "        console.error('Error during call to suggestCharts:', error);\n",
              "      }\n",
              "      quickchartButtonEl.classList.remove('colab-df-spinner');\n",
              "      quickchartButtonEl.classList.add('colab-df-quickchart-complete');\n",
              "    }\n",
              "    (() => {\n",
              "      let quickchartButtonEl =\n",
              "        document.querySelector('#df-fb597c1b-8817-4f30-b206-29997e8e3578 button');\n",
              "      quickchartButtonEl.style.display =\n",
              "        google.colab.kernel.accessAllowed ? 'block' : 'none';\n",
              "    })();\n",
              "  </script>\n",
              "</div>\n",
              "\n",
              "    </div>\n",
              "  </div>\n"
            ],
            "application/vnd.google.colaboratory.intrinsic+json": {
              "type": "dataframe",
              "variable_name": "p"
            }
          },
          "metadata": {},
          "execution_count": 33
        }
      ],
      "source": [
        "p.head()"
      ]
    },
    {
      "cell_type": "markdown",
      "metadata": {
        "id": "L5JJU1-YPM3W"
      },
      "source": [
        "## Limpieza de datos\n"
      ]
    },
    {
      "cell_type": "markdown",
      "metadata": {
        "id": "nBxO-P9PhLMt"
      },
      "source": [
        "### Eliminación de columnas inaportantes"
      ]
    },
    {
      "cell_type": "code",
      "execution_count": 34,
      "metadata": {
        "id": "o5ubywn9dh0Z"
      },
      "outputs": [],
      "source": [
        "columnas = [\n",
        "    'ID', 'PERIODO', 'ESTU_PRGM_ACADEMICO', 'ESTU_PRGM_DEPARTAMENTO',\n",
        "    'ESTU_VALORMATRICULAUNIVERSIDAD', 'ESTU_HORASSEMANATRABAJA',\n",
        "    'FAMI_ESTRATOVIVIENDA', 'FAMI_TIENEINTERNET', 'FAMI_EDUCACIONPADRE',\n",
        "    'FAMI_EDUCACIONMADRE', 'ESTU_PAGOMATRICULAPROPIO', 'RENDIMIENTO_GLOBAL'\n",
        "]"
      ]
    },
    {
      "cell_type": "code",
      "execution_count": 35,
      "metadata": {
        "colab": {
          "base_uri": "https://localhost:8080/"
        },
        "id": "PzMCPtk7Thg_",
        "outputId": "e6d6d3a8-50cd-4d6b-bd23-e22cd58ec2b4"
      },
      "outputs": [
        {
          "output_type": "stream",
          "name": "stdout",
          "text": [
            "|    | Columna                        |   Valores_Unicos |\n",
            "|---:|:-------------------------------|-----------------:|\n",
            "|  0 | ID                             |           692500 |\n",
            "|  1 | PERIODO                        |                9 |\n",
            "|  2 | ESTU_PRGM_ACADEMICO            |              948 |\n",
            "|  3 | ESTU_PRGM_DEPARTAMENTO         |               31 |\n",
            "|  4 | ESTU_VALORMATRICULAUNIVERSIDAD |                8 |\n",
            "|  5 | ESTU_HORASSEMANATRABAJA        |                5 |\n",
            "|  6 | FAMI_ESTRATOVIVIENDA           |                7 |\n",
            "|  7 | FAMI_TIENEINTERNET             |                2 |\n",
            "|  8 | FAMI_EDUCACIONPADRE            |               12 |\n",
            "|  9 | FAMI_EDUCACIONMADRE            |               12 |\n",
            "| 10 | ESTU_PAGOMATRICULAPROPIO       |                2 |\n",
            "| 11 | RENDIMIENTO_GLOBAL             |                4 |\n"
          ]
        }
      ],
      "source": [
        "tabla_valores = pd.DataFrame({\n",
        "    'Columna': columnas,\n",
        "    'Valores_Unicos': [z[col].nunique() for col in columnas],\n",
        "})\n",
        "\n",
        "tabla_valores.reset_index(drop=True, inplace=True)\n",
        "\n",
        "markdown_tabla = tabla_valores.to_markdown()\n",
        "\n",
        "print(markdown_tabla)"
      ]
    },
    {
      "cell_type": "code",
      "execution_count": 36,
      "metadata": {
        "colab": {
          "base_uri": "https://localhost:8080/"
        },
        "id": "Xg0ym2ohTnFm",
        "outputId": "eab5e126-a52d-4a38-ccb0-376173339610"
      },
      "outputs": [
        {
          "output_type": "stream",
          "name": "stdout",
          "text": [
            "|    | Columna                        |   Valores_NA |   Porcentaje |\n",
            "|---:|:-------------------------------|-------------:|-------------:|\n",
            "|  0 | ID                             |            0 |     0        |\n",
            "|  1 | PERIODO                        |            0 |     0        |\n",
            "|  2 | ESTU_PRGM_ACADEMICO            |            0 |     0        |\n",
            "|  3 | ESTU_PRGM_DEPARTAMENTO         |            0 |     0        |\n",
            "|  4 | ESTU_VALORMATRICULAUNIVERSIDAD |         6287 |     0.90787  |\n",
            "|  5 | ESTU_HORASSEMANATRABAJA        |        30857 |     4.45588  |\n",
            "|  6 | FAMI_ESTRATOVIVIENDA           |        32137 |     4.64072  |\n",
            "|  7 | FAMI_TIENEINTERNET             |        26629 |     3.84534  |\n",
            "|  8 | FAMI_EDUCACIONPADRE            |        23178 |     3.347    |\n",
            "|  9 | FAMI_EDUCACIONMADRE            |        23664 |     3.41718  |\n",
            "| 10 | ESTU_PAGOMATRICULAPROPIO       |         6498 |     0.938339 |\n",
            "| 11 | RENDIMIENTO_GLOBAL             |            0 |     0        |\n"
          ]
        }
      ],
      "source": [
        "tabla_nulls = pd.DataFrame({\n",
        "    'Columna': columnas,\n",
        "    'Valores_NA': z[columnas].isna().sum().values\n",
        "})\n",
        "\n",
        "\n",
        "total_datos = 692500\n",
        "\n",
        "\n",
        "tabla_nulls['Porcentaje'] = (tabla_nulls['Valores_NA'] / total_datos) * 100\n",
        "\n",
        "\n",
        "markdown_tabla = tabla_nulls.to_markdown()\n",
        "\n",
        "print(markdown_tabla)"
      ]
    },
    {
      "cell_type": "code",
      "execution_count": 37,
      "metadata": {
        "id": "wDl0J__dTy4e"
      },
      "outputs": [],
      "source": [
        "columna_a_excluir = 'RENDIMIENTO_GLOBAL'\n",
        "columnas_filtradas = [col for col in columnas if col != columna_a_excluir]"
      ]
    },
    {
      "cell_type": "code",
      "execution_count": 38,
      "metadata": {
        "colab": {
          "base_uri": "https://localhost:8080/"
        },
        "id": "imZm-YvKTtO6",
        "outputId": "684640cc-e789-427a-86b6-5dda711d6f3e"
      },
      "outputs": [
        {
          "output_type": "stream",
          "name": "stdout",
          "text": [
            "|    | Columna                        |   Valores_Unicos |\n",
            "|---:|:-------------------------------|-----------------:|\n",
            "|  0 | ID                             |           296786 |\n",
            "|  1 | PERIODO                        |                9 |\n",
            "|  2 | ESTU_PRGM_ACADEMICO            |              919 |\n",
            "|  3 | ESTU_PRGM_DEPARTAMENTO         |               31 |\n",
            "|  4 | ESTU_VALORMATRICULAUNIVERSIDAD |                8 |\n",
            "|  5 | ESTU_HORASSEMANATRABAJA        |                5 |\n",
            "|  6 | FAMI_ESTRATOVIVIENDA           |                7 |\n",
            "|  7 | FAMI_TIENEINTERNET             |                2 |\n",
            "|  8 | FAMI_EDUCACIONPADRE            |               12 |\n",
            "|  9 | FAMI_EDUCACIONMADRE            |               12 |\n",
            "| 10 | ESTU_PAGOMATRICULAPROPIO       |                2 |\n"
          ]
        }
      ],
      "source": [
        "tabla_valores = pd.DataFrame({\n",
        "    'Columna': columnas_filtradas,\n",
        "    'Valores_Unicos': [p[col].nunique() for col in columnas_filtradas],\n",
        "})\n",
        "\n",
        "tabla_valores.reset_index(drop=True, inplace=True)\n",
        "\n",
        "markdown_tabla = tabla_valores.to_markdown()\n",
        "\n",
        "print(markdown_tabla)"
      ]
    },
    {
      "cell_type": "code",
      "execution_count": 39,
      "metadata": {
        "id": "jzMZrtLPXeIz"
      },
      "outputs": [],
      "source": [
        "p['ESTU_PRGM_ACADEMICO'] = p['ESTU_PRGM_ACADEMICO'].apply(lambda x: np.nan if isinstance(x, str) and x.strip() == \"\" else x)"
      ]
    },
    {
      "cell_type": "code",
      "execution_count": 40,
      "metadata": {
        "colab": {
          "base_uri": "https://localhost:8080/"
        },
        "id": "6tDL8QnFdbW5",
        "outputId": "12e80c80-df89-4e25-ea02-76a17b0b0383"
      },
      "outputs": [
        {
          "output_type": "stream",
          "name": "stdout",
          "text": [
            "|    | Columna                        |   Valores_NA_p |   Porcentaje_NA_p |\n",
            "|---:|:-------------------------------|---------------:|------------------:|\n",
            "|  0 | ID                             |              0 |          0        |\n",
            "|  1 | PERIODO                        |              0 |          0        |\n",
            "|  2 | ESTU_PRGM_ACADEMICO            |              0 |          0        |\n",
            "|  3 | ESTU_PRGM_DEPARTAMENTO         |              0 |          0        |\n",
            "|  4 | ESTU_VALORMATRICULAUNIVERSIDAD |           2723 |          0.917496 |\n",
            "|  5 | ESTU_HORASSEMANATRABAJA        |          13379 |          4.50796  |\n",
            "|  6 | FAMI_ESTRATOVIVIENDA           |          13795 |          4.64813  |\n",
            "|  7 | FAMI_TIENEINTERNET             |          11539 |          3.88799  |\n",
            "|  8 | FAMI_EDUCACIONPADRE            |           9993 |          3.36707  |\n",
            "|  9 | FAMI_EDUCACIONMADRE            |          10223 |          3.44457  |\n",
            "| 10 | ESTU_PAGOMATRICULAPROPIO       |           2807 |          0.945799 |\n"
          ]
        }
      ],
      "source": [
        "tabla_nulls = pd.DataFrame({\n",
        "    'Columna': columnas_filtradas,\n",
        "    'Valores_NA_p': p[columnas_filtradas].isna().sum().values\n",
        "})\n",
        "\n",
        "total_datos = 296786\n",
        "\n",
        "tabla_nulls['Porcentaje_NA_p'] = (tabla_nulls['Valores_NA_p'] / total_datos) * 100\n",
        "\n",
        "# Convert the table to markdown\n",
        "markdown_tabla = tabla_nulls.to_markdown()\n",
        "\n",
        "# Print the markdown table\n",
        "print(markdown_tabla)\n"
      ]
    },
    {
      "cell_type": "markdown",
      "metadata": {
        "id": "QRNIlxogeSYZ"
      },
      "source": [
        " Se eliminan las columnas que se consideran inaportantes para predecir la variable de interes sin importar el valor de la correlación."
      ]
    },
    {
      "cell_type": "code",
      "execution_count": 41,
      "metadata": {
        "id": "fSxqxXAregwl"
      },
      "outputs": [],
      "source": [
        "z = z.drop(columns=['ID'])\n",
        "z = z.drop(columns=['ESTU_PAGOMATRICULAPROPIO'])\n",
        "z = z.drop(columns=['ESTU_VALORMATRICULAUNIVERSIDAD'])\n",
        "z = z.drop(columns=['PERIODO'])\n",
        "\n",
        "p = p.drop(columns=['ID'])\n",
        "p = p.drop(columns=['ESTU_PAGOMATRICULAPROPIO'])\n",
        "p = p.drop(columns=['ESTU_VALORMATRICULAUNIVERSIDAD'])\n",
        "p = p.drop(columns=['PERIODO'])"
      ]
    },
    {
      "cell_type": "markdown",
      "metadata": {
        "id": "BR0LnMJ6IYiF"
      },
      "source": [
        "#### Elección de columnas a eliminar basado en valores Nan"
      ]
    },
    {
      "cell_type": "markdown",
      "metadata": {
        "id": "WNA9muJ2Prto"
      },
      "source": [
        "Eliminar columnas con un porcentaje de valores **NaN superior al 70%** en un dataset es una práctica común en la limpieza de datos, ya que indica que la mayoría de los datos en esa columna están ausentes. Esto puede comprometer la calidad y la integridad del análisis posterior, ya que un alto porcentaje de datos faltantes sugiere que la columna puede no ser representativa o útil para los objetivos del estudio."
      ]
    },
    {
      "cell_type": "code",
      "execution_count": 42,
      "metadata": {
        "colab": {
          "base_uri": "https://localhost:8080/"
        },
        "id": "nPGPMOT6LdkW",
        "outputId": "c0e10adf-7a4e-42ee-8b72-a43a3e610b95"
      },
      "outputs": [
        {
          "output_type": "stream",
          "name": "stdout",
          "text": [
            "Columnas con más del 70% de valores nulos:\n",
            "Series([], dtype: float64)\n"
          ]
        }
      ],
      "source": [
        "null_percentage = z.isnull().mean() * 100\n",
        "\n",
        "high_null_columns = null_percentage[null_percentage > 70]\n",
        "\n",
        "print(\"Columnas con más del 70% de valores nulos:\")\n",
        "print(high_null_columns)\n"
      ]
    },
    {
      "cell_type": "code",
      "execution_count": 43,
      "metadata": {
        "colab": {
          "base_uri": "https://localhost:8080/"
        },
        "id": "3_HThWftVqqb",
        "outputId": "2442c230-dcae-466e-f1f1-4abef44b3118"
      },
      "outputs": [
        {
          "output_type": "stream",
          "name": "stdout",
          "text": [
            "Columnas con más del 70% de valores nulos:\n",
            "Series([], dtype: float64)\n"
          ]
        }
      ],
      "source": [
        "null_percentage = p.isnull().mean() * 100\n",
        "\n",
        "high_null_columns = null_percentage[null_percentage > 70]\n",
        "\n",
        "print(\"Columnas con más del 70% de valores nulos:\")\n",
        "print(high_null_columns)"
      ]
    },
    {
      "cell_type": "markdown",
      "metadata": {
        "id": "s6V7grsvJ24x"
      },
      "source": [
        "No hay porcentajes demasiado significativos en las columnas con valores null para ser eliminadas por este criterio"
      ]
    },
    {
      "cell_type": "markdown",
      "metadata": {
        "id": "wiKnJyB0ZM4u"
      },
      "source": [
        "### Conversión variables categoricas a numericas y reemplazo de datos y Nan"
      ]
    },
    {
      "cell_type": "markdown",
      "metadata": {
        "id": "n7G9_vHDHHqi"
      },
      "source": [
        "#### **Variables Categoricas a numericas**"
      ]
    },
    {
      "cell_type": "markdown",
      "metadata": {
        "id": "B1ofBBJpypXA"
      },
      "source": [
        "Una **variable categórica** es aquella que representa diferentes categorías o grupos. Dentro de las variables categóricas, existen dos tipos principales:\n",
        "\n",
        "- Variable categórica nominal:\n",
        "  Representa categorías sin un orden intrínseco. No hay una jerarquía entre las categorías.\n",
        "  Ejemplos: Colores (rojo, azul, verde), ciudades (Bogotá, Lima, Madrid).\n",
        "\n",
        "- Variable categórica ordinal:\n",
        "  Representa categorías que sí tienen un orden o jerarquía entre ellas, pero las diferencias entre los niveles no son cuantificables.\n",
        "  Ejemplos: Niveles de satisfacción (bajo, medio, alto), grados académicos (secundaria, licenciatura, maestría).\n",
        "\n",
        "\n",
        "Para convertir **variables categóricas** en valores numéricos durante la limpieza y estandarización de datos, es importante considerar su tipo. **Las variables categóricas nominales,** al no tener un orden intrínseco, se transforman típicamente mediante **One-Hot Encoding**, que crea columnas binarias para cada categoría, o **Label Encoding** en casos binarios. Las **variables categóricas ordinales**, por su parte, siguen un orden lógico, por lo que se transforman usando Label Encoding, asignando un número que respete esa jerarquía. Esta distinción asegura que las transformaciones numéricas representen adecuadamente la naturaleza de las categorías en el análisis posterior.\n",
        "\n",
        "**Dentro del dataset en variables categoricas ordinales que quedan tenemos**\n",
        "- FAMI_EDUCACIONPADRE, FAMI_EDUCACIONPADRE, RENDIMIENTO_GLOBAL,  FAMI_ESTRATOVIVIENDA, ESTU_HORASSEMANATRABAJA\n",
        "\n",
        "**Dentro del dataset en variables categoricas nominales que quedan tenemos**\n",
        "- FAMI_TIENEINTERNET, ESTU_PRGM_ACADEMICO , ESTU_PRGM_DEPARTAMENTO"
      ]
    },
    {
      "cell_type": "markdown",
      "metadata": {
        "id": "B7jt_ZteHTcT"
      },
      "source": [
        "#### **Valores Faltantes en Datasets de Entrenamiento y Prueba**"
      ]
    },
    {
      "cell_type": "markdown",
      "metadata": {
        "id": "EszctkqiEq6M"
      },
      "source": [
        "Es fundamental entender que el procesamiento de valores NaN debe abordarse de manera diferente en los datasets de entrenamiento y prueba, ya que cada uno tiene propósitos y restricciones distintas.\n",
        "\n",
        "En el contexto de un dataset de prueba, no es posible eliminar filas basadas en la presencia de valores NaN, ya que esto alteraría el tamaño del dataset y podría llevar a la pérdida de información esencial para las predicciones o evaluaciones posteriores. Al ser un conjunto de prueba, mantener la integridad y el tamaño original es fundamental para obtener resultados consistentes y comparables con otros modelos o evaluaciones.\n",
        "\n",
        "**Dataset de Entrenamiento**\n",
        "En el dataset de entrenamiento, se optó por eliminar las filas que contenían valores NaN, ya que:\n",
        "\n",
        "- Esta práctica es aceptable durante la fase de entrenamiento\n",
        "- No compromete la integridad del modelo\n",
        "- Permite trabajar con datos completos y limpios\n",
        "\n",
        "**Dataset de Prueba**\n",
        "Para el dataset de prueba, el enfoque debe ser más conservador:\n",
        "\n",
        "Restricciones Importantes:\n",
        "\n",
        "- No se pueden eliminar filas con valores NaN\n",
        "- Es crucial mantener el tamaño original del dataset\n",
        "- Se debe preservar toda la información para evaluaciones posteriores\n",
        "\n",
        "\n",
        "**Solución Adoptada:**\n",
        "Se implementó la Imputación Basada en Distribución de Probabilidades porque:\n",
        "\n",
        "- Preserva la distribución original de las categorías\n",
        "- Evita sesgos que podrían surgir al usar métodos simples (moda, mediana)\n",
        "- Mantiene la diversidad de los datos\n",
        "- Asegura una distribución más realista de los valores\n",
        "\n",
        "\n",
        "Beneficios del Método: **texto en negrita**\n",
        "\n",
        "- Evita la sobre-representación de categorías específicas\n",
        "- Mantiene la integridad estadística del dataset\n",
        "- Permite obtener resultados más precisos y confiables en la evaluación del modelo\n",
        "\n"
      ]
    },
    {
      "cell_type": "markdown",
      "metadata": {
        "id": "VaLVP45gzFjr"
      },
      "source": [
        "##### Funciones"
      ]
    },
    {
      "cell_type": "code",
      "execution_count": 44,
      "metadata": {
        "id": "wHtGH1qTzX5o"
      },
      "outputs": [],
      "source": [
        "def replace_nans_equilibrado(df, column_name):\n",
        "    \"\"\"\n",
        "    Reemplaza los valores NaN de una columna con otros valores de la misma columna\n",
        "    de manera proporcional a su frecuencia.\n",
        "\n",
        "    :param df: DataFrame que contiene la columna.\n",
        "    :param column_name: Nombre de la columna donde se reemplazarán los NaN.\n",
        "    :return: DataFrame con los NaN reemplazados de manera equilibrada.\n",
        "    \"\"\"\n",
        "    nan_count_before = df[column_name].isna().sum()\n",
        "    values, counts = np.unique(df[column_name].dropna(), return_counts=True)\n",
        "\n",
        "    if len(values) == 0:\n",
        "        return df\n",
        "\n",
        "    probabilities = counts / counts.sum()\n",
        "\n",
        "    df[column_name] = df[column_name].apply(\n",
        "        lambda x: np.random.choice(values, p=probabilities) if pd.isna(x) else x\n",
        "    )\n",
        "\n",
        "    nan_count_after = df[column_name].isna().sum()\n",
        "    replaced_percentage = ((nan_count_before - nan_count_after) / len(df)) * 100\n",
        "\n",
        "    print(f\"Porcentaje de NaN reemplazado en '{column_name}': {replaced_percentage:.2f}%\")\n",
        "\n",
        "    return df"
      ]
    },
    {
      "cell_type": "code",
      "execution_count": 45,
      "metadata": {
        "id": "dMJDdWj92Rrn"
      },
      "outputs": [],
      "source": [
        "def contar_nulos(df, column_name):\n",
        "    null_count = df[column_name].isnull().sum()\n",
        "    print(f'Total de valores nulos en {column_name}: {null_count}')\n"
      ]
    },
    {
      "cell_type": "code",
      "execution_count": 46,
      "metadata": {
        "id": "kjGawIm-4T1s"
      },
      "outputs": [],
      "source": [
        "def label_encode_column(df, column_name):\n",
        "    \"\"\"\n",
        "    Aplica Label Encoding a una columna de un DataFrame, transformando los valores categóricos en numéricos.\n",
        "\n",
        "    :param df: DataFrame que contiene la columna.\n",
        "    :param column_name: Nombre de la columna a codificar.\n",
        "    :return: DataFrame con la columna codificada y el codificador.\n",
        "    \"\"\"\n",
        "\n",
        "    le = LabelEncoder()\n",
        "\n",
        "    df[column_name] = le.fit_transform(df[column_name])\n",
        "\n",
        "    mapping_df = pd.DataFrame({\n",
        "        'Categoría Original': le.classes_,\n",
        "        'Valor Numérico': le.transform(le.classes_)\n",
        "    })\n",
        "\n",
        "    print(f'Mapeo de categorías en la columna {column_name}:')\n",
        "    print(mapping_df.to_markdown(index=False))\n",
        "\n",
        "\n",
        "    return df, mapping_df\n"
      ]
    },
    {
      "cell_type": "code",
      "execution_count": 47,
      "metadata": {
        "id": "ZWO0g-4z7E4k"
      },
      "outputs": [],
      "source": [
        "def one_hot_encode_column(df, column_name):\n",
        "    \"\"\"\n",
        "    Aplica One-Hot Encoding a una columna categórica de un DataFrame y devuelve el DataFrame transformado.\n",
        "\n",
        "    :param df: DataFrame que contiene la columna.\n",
        "    :param column_name: Nombre de la columna a codificar.\n",
        "    :return: DataFrame con la columna codificada usando One-Hot Encoding.\n",
        "    \"\"\"\n",
        "    one_hot_encoded_df = pd.get_dummies(df, columns=[column_name], prefix=column_name, drop_first=True)\n",
        "\n",
        "    one_hot_encoded_df = one_hot_encoded_df.astype(int)\n",
        "\n",
        "    return one_hot_encoded_df"
      ]
    },
    {
      "cell_type": "code",
      "execution_count": 48,
      "metadata": {
        "id": "SGg3tXF99nOl"
      },
      "outputs": [],
      "source": [
        "def eliminar_filas_nan(df, columna):\n",
        "    \"\"\"\n",
        "    Elimina filas del DataFrame si la columna especificada tiene NaN,\n",
        "    siempre y cuando el porcentaje de NaN en esa columna no supere el 5%.\n",
        "\n",
        "    Args:\n",
        "        df (pd.DataFrame): El DataFrame del que se eliminarán las filas.\n",
        "        columna (str): El nombre de la columna a evaluar.\n",
        "\n",
        "    Returns:\n",
        "        pd.DataFrame: El DataFrame resultante después de eliminar las filas.\n",
        "    \"\"\"\n",
        "\n",
        "    porcentaje_nan = df[columna].isna().mean() * 100\n",
        "\n",
        "    if porcentaje_nan <= 5:\n",
        "        df = df.dropna(subset=[columna])\n",
        "        print(f\"Se eliminaron filas de la columna '{columna}' con NaN. Porcentaje de NaN: {porcentaje_nan:.2f}%\")\n",
        "    else:\n",
        "        print(f\"No se eliminan filas. El porcentaje de NaN en la columna '{columna}' es {porcentaje_nan:.2f}%, mayor al 5%.\")\n",
        "\n",
        "    return df"
      ]
    },
    {
      "cell_type": "code",
      "execution_count": 49,
      "metadata": {
        "id": "OpVtPJ1YFGrr"
      },
      "outputs": [],
      "source": [
        "def encontrar_palabras_extranas(df, columna):\n",
        "    patron = r'[^\\w\\s]| {2,}'\n",
        "    palabras_extranas = set()\n",
        "\n",
        "    for texto in df[columna]:\n",
        "        if pd.notna(texto):\n",
        "            palabras_extranas.update([palabra for palabra in texto.split() if re.search(patron, palabra)])\n",
        "\n",
        "    return list(palabras_extranas)\n"
      ]
    },
    {
      "cell_type": "code",
      "execution_count": 50,
      "metadata": {
        "id": "Kj7BlsSEB4qn"
      },
      "outputs": [],
      "source": [
        "def limpiar_columna(df, columna):\n",
        "    reemplazo_vocales = {\n",
        "        'á': 'a',\n",
        "        'é': 'e',\n",
        "        'í': 'i',\n",
        "        'ó': 'o',\n",
        "        'ú': 'u',\n",
        "        'ü': 'u',\n",
        "        'ñ': 'n',\n",
        "        '&': 'y'\n",
        "    }\n",
        "\n",
        "\n",
        "    df[columna] = df[columna].str.lower()\n",
        "\n",
        "    df[columna] = df[columna].replace(reemplazo_vocales, regex=True)\n",
        "    df[columna] = df[columna].replace(r\"[,&\\-:+'*\\\"\\.()]+\", ' ', regex=True)\n",
        "    df[columna] = df[columna].replace(r'\\s+', ' ', regex=True).str.strip()\n",
        "\n",
        "    return df"
      ]
    },
    {
      "cell_type": "code",
      "execution_count": 51,
      "metadata": {
        "id": "GofzmiFNGWvk"
      },
      "outputs": [],
      "source": [
        "\n",
        "def agrupar_por_primera_palabra(valores, presicion):\n",
        "    agrupados = defaultdict(list)\n",
        "\n",
        "    for valor in valores:\n",
        "        primera_palabra = valor.split()[0] if valor else ''\n",
        "        clave_encontrada = False\n",
        "\n",
        "        for clave in list(agrupados.keys()):\n",
        "            if fuzz.ratio(primera_palabra, clave) > presicion:  # Umbral de similitud\n",
        "                agrupados[clave].append(valor)\n",
        "                clave_encontrada = True\n",
        "                break\n",
        "\n",
        "        if not clave_encontrada:\n",
        "            agrupados[primera_palabra].append(valor)\n",
        "\n",
        "    return dict(agrupados)\n"
      ]
    },
    {
      "cell_type": "markdown",
      "metadata": {
        "id": "MRaR11uf4mVc"
      },
      "source": [
        "#### Categoricas Ordinales"
      ]
    },
    {
      "cell_type": "markdown",
      "metadata": {
        "id": "Ox2GUHk5ve40"
      },
      "source": [
        "##### Familia educación padre"
      ]
    },
    {
      "cell_type": "code",
      "execution_count": 52,
      "metadata": {
        "id": "xg_aIpPsRc-9"
      },
      "outputs": [],
      "source": [
        "z = limpiar_columna(z, 'FAMI_EDUCACIONPADRE')\n",
        "p = limpiar_columna(p, 'FAMI_EDUCACIONPADRE')"
      ]
    },
    {
      "cell_type": "code",
      "execution_count": 53,
      "metadata": {
        "colab": {
          "base_uri": "https://localhost:8080/"
        },
        "id": "P8IlAPahv_Y1",
        "outputId": "45eea4cf-d334-4916-a69f-30dce42ac6cb"
      },
      "outputs": [
        {
          "output_type": "stream",
          "name": "stdout",
          "text": [
            "Total de valores nulos en FAMI_EDUCACIONPADRE: 23178\n",
            "Total de valores nulos en FAMI_EDUCACIONPADRE: 9993\n"
          ]
        }
      ],
      "source": [
        "contar_nulos(z,'FAMI_EDUCACIONPADRE')\n",
        "contar_nulos(p,'FAMI_EDUCACIONPADRE')\n"
      ]
    },
    {
      "cell_type": "code",
      "execution_count": 54,
      "metadata": {
        "colab": {
          "base_uri": "https://localhost:8080/"
        },
        "id": "q-GaSbGrzCGX",
        "outputId": "9b23d92c-9d55-4ff5-8ff2-8fea76a4301a"
      },
      "outputs": [
        {
          "output_type": "stream",
          "name": "stdout",
          "text": [
            "Se eliminaron filas de la columna 'FAMI_EDUCACIONPADRE' con NaN. Porcentaje de NaN: 3.35%\n",
            "Porcentaje de NaN reemplazado en 'FAMI_EDUCACIONPADRE': 3.37%\n",
            "0\n",
            "0\n"
          ]
        }
      ],
      "source": [
        "z = eliminar_filas_nan(z, 'FAMI_EDUCACIONPADRE')\n",
        "p = replace_nans_equilibrado(p, 'FAMI_EDUCACIONPADRE')\n",
        "print(z['FAMI_EDUCACIONPADRE'].isnull().sum())\n",
        "print(p['FAMI_EDUCACIONPADRE'].isnull().sum())"
      ]
    },
    {
      "cell_type": "code",
      "execution_count": 55,
      "metadata": {
        "colab": {
          "base_uri": "https://localhost:8080/"
        },
        "id": "VdGRaF2J1Jip",
        "outputId": "e03076b5-f964-45fd-8d86-232d76c80584"
      },
      "outputs": [
        {
          "output_type": "stream",
          "name": "stdout",
          "text": [
            "Mapeo de categorías en la columna FAMI_EDUCACIONPADRE:\n",
            "| Categoría Original                 |   Valor Numérico |\n",
            "|:-----------------------------------|-----------------:|\n",
            "| educacion profesional completa     |                0 |\n",
            "| educacion profesional incompleta   |                1 |\n",
            "| ninguno                            |                2 |\n",
            "| no aplica                          |                3 |\n",
            "| no sabe                            |                4 |\n",
            "| postgrado                          |                5 |\n",
            "| primaria completa                  |                6 |\n",
            "| primaria incompleta                |                7 |\n",
            "| secundaria bachillerato completa   |                8 |\n",
            "| secundaria bachillerato incompleta |                9 |\n",
            "| tecnica o tecnologica completa     |               10 |\n",
            "| tecnica o tecnologica incompleta   |               11 |\n",
            " \n",
            "encoder educación padre\n",
            "Mapeo de categorías en la columna FAMI_EDUCACIONPADRE:\n",
            "| Categoría Original                 |   Valor Numérico |\n",
            "|:-----------------------------------|-----------------:|\n",
            "| educacion profesional completa     |                0 |\n",
            "| educacion profesional incompleta   |                1 |\n",
            "| ninguno                            |                2 |\n",
            "| no aplica                          |                3 |\n",
            "| no sabe                            |                4 |\n",
            "| postgrado                          |                5 |\n",
            "| primaria completa                  |                6 |\n",
            "| primaria incompleta                |                7 |\n",
            "| secundaria bachillerato completa   |                8 |\n",
            "| secundaria bachillerato incompleta |                9 |\n",
            "| tecnica o tecnologica completa     |               10 |\n",
            "| tecnica o tecnologica incompleta   |               11 |\n"
          ]
        }
      ],
      "source": [
        "z, encoder_fami_educacionpadre= label_encode_column(z, 'FAMI_EDUCACIONPADRE' )\n",
        "print(\" \")\n",
        "print(\"encoder educación padre\")\n",
        "p, encoder_fami_educacionpadre= label_encode_column(p, 'FAMI_EDUCACIONPADRE' )"
      ]
    },
    {
      "cell_type": "markdown",
      "metadata": {
        "id": "FMnGfF-G2hZz"
      },
      "source": [
        "##### Familia educación madre"
      ]
    },
    {
      "cell_type": "code",
      "execution_count": 56,
      "metadata": {
        "id": "Z3R6RQ2QTWmN"
      },
      "outputs": [],
      "source": [
        "z = limpiar_columna(z, 'FAMI_EDUCACIONMADRE')\n",
        "p = limpiar_columna(p, 'FAMI_EDUCACIONMADRE')"
      ]
    },
    {
      "cell_type": "code",
      "execution_count": 57,
      "metadata": {
        "colab": {
          "base_uri": "https://localhost:8080/"
        },
        "id": "prmBeJIb2kzT",
        "outputId": "dea37338-f6c0-4f60-8b53-2f6c94d6fa5d"
      },
      "outputs": [
        {
          "output_type": "stream",
          "name": "stdout",
          "text": [
            "Total de valores nulos en FAMI_EDUCACIONMADRE: 1681\n",
            "Total de valores nulos en FAMI_EDUCACIONMADRE: 10223\n"
          ]
        }
      ],
      "source": [
        "contar_nulos(z,'FAMI_EDUCACIONMADRE')\n",
        "contar_nulos(p,'FAMI_EDUCACIONMADRE')\n"
      ]
    },
    {
      "cell_type": "code",
      "execution_count": 58,
      "metadata": {
        "colab": {
          "base_uri": "https://localhost:8080/"
        },
        "id": "hmcEK0Sl3gc4",
        "outputId": "abf8f7c5-57d2-417b-e1fc-31cc41565e4f"
      },
      "outputs": [
        {
          "output_type": "stream",
          "name": "stdout",
          "text": [
            "Se eliminaron filas de la columna 'FAMI_EDUCACIONMADRE' con NaN. Porcentaje de NaN: 0.25%\n",
            "Porcentaje de NaN reemplazado en 'FAMI_EDUCACIONMADRE': 3.44%\n",
            "0\n",
            "0\n"
          ]
        }
      ],
      "source": [
        "z = eliminar_filas_nan(z, 'FAMI_EDUCACIONMADRE')\n",
        "p = replace_nans_equilibrado(p, 'FAMI_EDUCACIONMADRE')\n",
        "\n",
        "print(z['FAMI_EDUCACIONMADRE'].isnull().sum())\n",
        "print(p['FAMI_EDUCACIONMADRE'].isnull().sum())"
      ]
    },
    {
      "cell_type": "code",
      "execution_count": 59,
      "metadata": {
        "colab": {
          "base_uri": "https://localhost:8080/"
        },
        "id": "fJGszln11Q51",
        "outputId": "6b5b04a6-3df3-4bbf-f972-0d9ae2d7cbe5"
      },
      "outputs": [
        {
          "output_type": "stream",
          "name": "stdout",
          "text": [
            "Mapeo de categorías en la columna FAMI_EDUCACIONMADRE:\n",
            "| Categoría Original                 |   Valor Numérico |\n",
            "|:-----------------------------------|-----------------:|\n",
            "| educacion profesional completa     |                0 |\n",
            "| educacion profesional incompleta   |                1 |\n",
            "| ninguno                            |                2 |\n",
            "| no aplica                          |                3 |\n",
            "| no sabe                            |                4 |\n",
            "| postgrado                          |                5 |\n",
            "| primaria completa                  |                6 |\n",
            "| primaria incompleta                |                7 |\n",
            "| secundaria bachillerato completa   |                8 |\n",
            "| secundaria bachillerato incompleta |                9 |\n",
            "| tecnica o tecnologica completa     |               10 |\n",
            "| tecnica o tecnologica incompleta   |               11 |\n",
            " \n",
            "Encoder test\n",
            "Mapeo de categorías en la columna FAMI_EDUCACIONMADRE:\n",
            "| Categoría Original                 |   Valor Numérico |\n",
            "|:-----------------------------------|-----------------:|\n",
            "| educacion profesional completa     |                0 |\n",
            "| educacion profesional incompleta   |                1 |\n",
            "| ninguno                            |                2 |\n",
            "| no aplica                          |                3 |\n",
            "| no sabe                            |                4 |\n",
            "| postgrado                          |                5 |\n",
            "| primaria completa                  |                6 |\n",
            "| primaria incompleta                |                7 |\n",
            "| secundaria bachillerato completa   |                8 |\n",
            "| secundaria bachillerato incompleta |                9 |\n",
            "| tecnica o tecnologica completa     |               10 |\n",
            "| tecnica o tecnologica incompleta   |               11 |\n"
          ]
        }
      ],
      "source": [
        "z, encoder_fami_educacionpadre= label_encode_column(z, 'FAMI_EDUCACIONMADRE' )\n",
        "print(\" \")\n",
        "print(\"Encoder test\")\n",
        "p, encoder_fami_educacionpadre= label_encode_column(p, 'FAMI_EDUCACIONMADRE' )"
      ]
    },
    {
      "cell_type": "markdown",
      "metadata": {
        "id": "KuNs-wIY7tWz"
      },
      "source": [
        "##### Rendimiento global"
      ]
    },
    {
      "cell_type": "code",
      "execution_count": 60,
      "metadata": {
        "id": "f3Y9X9l6T9ZW"
      },
      "outputs": [],
      "source": [
        "z = limpiar_columna(z, 'RENDIMIENTO_GLOBAL')\n",
        "## el dataset de test no tiene esta variable"
      ]
    },
    {
      "cell_type": "code",
      "execution_count": 61,
      "metadata": {
        "colab": {
          "base_uri": "https://localhost:8080/"
        },
        "id": "vgUNyZ3-poo4",
        "outputId": "228dd2d6-19ab-41c3-c001-bde15fd2c739"
      },
      "outputs": [
        {
          "output_type": "stream",
          "name": "stdout",
          "text": [
            "Mapeo de categorías en la columna RENDIMIENTO_GLOBAL:\n",
            "| Categoría Original   |   Valor Numérico |\n",
            "|:---------------------|-----------------:|\n",
            "| alto                 |                0 |\n",
            "| bajo                 |                1 |\n",
            "| medio alto           |                2 |\n",
            "| medio bajo           |                3 |\n"
          ]
        }
      ],
      "source": [
        "z, encoder_rendi_global= label_encode_column(z, 'RENDIMIENTO_GLOBAL' )"
      ]
    },
    {
      "cell_type": "markdown",
      "metadata": {
        "id": "WTBaKpBA8Vo-"
      },
      "source": [
        "##### Familia estrato vivienda"
      ]
    },
    {
      "cell_type": "code",
      "execution_count": 62,
      "metadata": {
        "id": "l945mssOUM5N"
      },
      "outputs": [],
      "source": [
        "z = limpiar_columna(z, 'FAMI_ESTRATOVIVIENDA')\n",
        "p = limpiar_columna(p, 'FAMI_ESTRATOVIVIENDA')"
      ]
    },
    {
      "cell_type": "code",
      "execution_count": 63,
      "metadata": {
        "colab": {
          "base_uri": "https://localhost:8080/"
        },
        "id": "aqVWf8mW8Y7d",
        "outputId": "1bb99733-bd70-43ef-f098-c26a8936b580"
      },
      "outputs": [
        {
          "output_type": "stream",
          "name": "stdout",
          "text": [
            "Total de valores nulos en FAMI_ESTRATOVIVIENDA: 9917\n",
            "Total de valores nulos en FAMI_ESTRATOVIVIENDA: 13795\n"
          ]
        }
      ],
      "source": [
        "contar_nulos(z,'FAMI_ESTRATOVIVIENDA')\n",
        "contar_nulos(p,'FAMI_ESTRATOVIVIENDA')\n"
      ]
    },
    {
      "cell_type": "code",
      "execution_count": 64,
      "metadata": {
        "colab": {
          "base_uri": "https://localhost:8080/"
        },
        "id": "OI8iVjZ_8s42",
        "outputId": "9e3ef8f2-79ec-42ff-e9e8-b09be0bfc4fb"
      },
      "outputs": [
        {
          "output_type": "stream",
          "name": "stdout",
          "text": [
            "Se eliminaron filas de la columna 'FAMI_ESTRATOVIVIENDA' con NaN. Porcentaje de NaN: 1.49%\n",
            "Porcentaje de NaN reemplazado en 'FAMI_ESTRATOVIVIENDA': 4.65%\n",
            "0\n",
            "0\n"
          ]
        }
      ],
      "source": [
        "z = eliminar_filas_nan(z, 'FAMI_ESTRATOVIVIENDA')\n",
        "p = replace_nans_equilibrado(p, 'FAMI_ESTRATOVIVIENDA')\n",
        "print(z['FAMI_ESTRATOVIVIENDA'].isnull().sum())\n",
        "print(p['FAMI_ESTRATOVIVIENDA'].isnull().sum())"
      ]
    },
    {
      "cell_type": "code",
      "execution_count": 65,
      "metadata": {
        "colab": {
          "base_uri": "https://localhost:8080/"
        },
        "id": "NUAu1p4A87CP",
        "outputId": "3f6d05fa-508d-4a40-ef6f-4f2104aa9914"
      },
      "outputs": [
        {
          "output_type": "stream",
          "name": "stdout",
          "text": [
            "Mapeo de categorías en la columna FAMI_ESTRATOVIVIENDA:\n",
            "| Categoría Original   |   Valor Numérico |\n",
            "|:---------------------|-----------------:|\n",
            "| estrato 1            |                0 |\n",
            "| estrato 2            |                1 |\n",
            "| estrato 3            |                2 |\n",
            "| estrato 4            |                3 |\n",
            "| estrato 5            |                4 |\n",
            "| estrato 6            |                5 |\n",
            "| sin estrato          |                6 |\n",
            " \n",
            "encoder para test\n",
            "Mapeo de categorías en la columna FAMI_ESTRATOVIVIENDA:\n",
            "| Categoría Original   |   Valor Numérico |\n",
            "|:---------------------|-----------------:|\n",
            "| estrato 1            |                0 |\n",
            "| estrato 2            |                1 |\n",
            "| estrato 3            |                2 |\n",
            "| estrato 4            |                3 |\n",
            "| estrato 5            |                4 |\n",
            "| estrato 6            |                5 |\n",
            "| sin estrato          |                6 |\n"
          ]
        }
      ],
      "source": [
        "z, encoder_fami_estactovivienda= label_encode_column(z, 'FAMI_ESTRATOVIVIENDA' )\n",
        "\n",
        "print(\" \")\n",
        "print(\"encoder para test\")\n",
        "p, encoder_fami_estactovivienda= label_encode_column(p, 'FAMI_ESTRATOVIVIENDA' )"
      ]
    },
    {
      "cell_type": "markdown",
      "metadata": {
        "id": "o-dGHBIm9Ci5"
      },
      "source": [
        "##### Horas semanales trabajadas"
      ]
    },
    {
      "cell_type": "code",
      "execution_count": 66,
      "metadata": {
        "id": "cSVUMyoVUw29"
      },
      "outputs": [],
      "source": [
        "z = limpiar_columna(z, 'ESTU_HORASSEMANATRABAJA')\n",
        "p = limpiar_columna(p, 'ESTU_HORASSEMANATRABAJA')"
      ]
    },
    {
      "cell_type": "code",
      "execution_count": 67,
      "metadata": {
        "colab": {
          "base_uri": "https://localhost:8080/"
        },
        "id": "MQIGxiFD9HDr",
        "outputId": "025c417c-d83f-4efd-a7c3-37d5a0fcf31e"
      },
      "outputs": [
        {
          "output_type": "stream",
          "name": "stdout",
          "text": [
            "Total de valores nulos en ESTU_HORASSEMANATRABAJA: 6549\n",
            "Total de valores nulos en ESTU_HORASSEMANATRABAJA: 13379\n"
          ]
        }
      ],
      "source": [
        "contar_nulos(z,'ESTU_HORASSEMANATRABAJA')\n",
        "contar_nulos(p,'ESTU_HORASSEMANATRABAJA')"
      ]
    },
    {
      "cell_type": "code",
      "execution_count": 68,
      "metadata": {
        "colab": {
          "base_uri": "https://localhost:8080/"
        },
        "id": "-XkjMapSz5wH",
        "outputId": "06725a9d-59e6-465a-b3b6-8ad315e56a2a"
      },
      "outputs": [
        {
          "output_type": "stream",
          "name": "stdout",
          "text": [
            "Se eliminaron filas de la columna 'ESTU_HORASSEMANATRABAJA' con NaN. Porcentaje de NaN: 1.00%\n",
            "Porcentaje de NaN reemplazado en 'ESTU_HORASSEMANATRABAJA': 4.51%\n",
            "0\n",
            "0\n"
          ]
        }
      ],
      "source": [
        "z = eliminar_filas_nan(z, 'ESTU_HORASSEMANATRABAJA')\n",
        "p = replace_nans_equilibrado(p, 'ESTU_HORASSEMANATRABAJA')\n",
        "print(z['ESTU_HORASSEMANATRABAJA'].isnull().sum())\n",
        "print(p['ESTU_HORASSEMANATRABAJA'].isnull().sum())"
      ]
    },
    {
      "cell_type": "code",
      "execution_count": 69,
      "metadata": {
        "id": "ZYCpUoQy1XHt"
      },
      "outputs": [],
      "source": [
        "cmap = {\n",
        "    'mas de 30 horas': 35,               # Suponiendo un promedio de 35 horas\n",
        "    '0': 0,\n",
        "    'entre 11 y 20 horas': 15.5,         # Promedio de 11 a 20 horas\n",
        "    'entre 21 y 30 horas': 25.5,         # Promedio de 21 a 30 horas\n",
        "    'menos de 10 horas': 5,              # Suponiendo un promedio de menos de 10 horas\n",
        "}\n",
        "\n",
        "\n",
        "z.ESTU_HORASSEMANATRABAJA = np.r_[[cmap[i] for i in z.ESTU_HORASSEMANATRABAJA]]\n",
        "p.ESTU_HORASSEMANATRABAJA = np.r_[[cmap[i] for i in p.ESTU_HORASSEMANATRABAJA]]\n"
      ]
    },
    {
      "cell_type": "markdown",
      "metadata": {
        "id": "4SQVjjqA5VPB"
      },
      "source": [
        "#### Categoricas Nominales"
      ]
    },
    {
      "cell_type": "markdown",
      "metadata": {
        "id": "dIposE-H94XM"
      },
      "source": [
        "##### Departamento estudiante"
      ]
    },
    {
      "cell_type": "code",
      "execution_count": 70,
      "metadata": {
        "id": "mzHWsIbIVrH0"
      },
      "outputs": [],
      "source": [
        "z = limpiar_columna(z, 'ESTU_PRGM_DEPARTAMENTO')\n",
        "p = limpiar_columna(p, 'ESTU_PRGM_DEPARTAMENTO')"
      ]
    },
    {
      "cell_type": "code",
      "execution_count": 71,
      "metadata": {
        "id": "vUw9zfISBFAI",
        "colab": {
          "base_uri": "https://localhost:8080/"
        },
        "outputId": "a566dc44-27ea-4528-e15f-db7a5f591022"
      },
      "outputs": [
        {
          "output_type": "stream",
          "name": "stdout",
          "text": [
            "Mapeo de categorías en la columna ESTU_PRGM_DEPARTAMENTO:\n",
            "| Categoría Original   |   Valor Numérico |\n",
            "|:---------------------|-----------------:|\n",
            "| amazonas             |                0 |\n",
            "| antioquia            |                1 |\n",
            "| arauca               |                2 |\n",
            "| atlantico            |                3 |\n",
            "| bogota               |                4 |\n",
            "| bolivar              |                5 |\n",
            "| boyaca               |                6 |\n",
            "| caldas               |                7 |\n",
            "| caqueta              |                8 |\n",
            "| casanare             |                9 |\n",
            "| cauca                |               10 |\n",
            "| cesar                |               11 |\n",
            "| choco                |               12 |\n",
            "| cordoba              |               13 |\n",
            "| cundinamarca         |               14 |\n",
            "| guaviare             |               15 |\n",
            "| huila                |               16 |\n",
            "| la guajira           |               17 |\n",
            "| magdalena            |               18 |\n",
            "| meta                 |               19 |\n",
            "| narino               |               20 |\n",
            "| norte santander      |               21 |\n",
            "| putumayo             |               22 |\n",
            "| quindio              |               23 |\n",
            "| risaralda            |               24 |\n",
            "| san andres           |               25 |\n",
            "| santander            |               26 |\n",
            "| sucre                |               27 |\n",
            "| tolima               |               28 |\n",
            "| valle                |               29 |\n",
            "| vaupes               |               30 |\n",
            " \n",
            "encoder para test\n",
            "Mapeo de categorías en la columna ESTU_PRGM_DEPARTAMENTO:\n",
            "| Categoría Original   |   Valor Numérico |\n",
            "|:---------------------|-----------------:|\n",
            "| amazonas             |                0 |\n",
            "| antioquia            |                1 |\n",
            "| arauca               |                2 |\n",
            "| atlantico            |                3 |\n",
            "| bogota               |                4 |\n",
            "| bolivar              |                5 |\n",
            "| boyaca               |                6 |\n",
            "| caldas               |                7 |\n",
            "| caqueta              |                8 |\n",
            "| casanare             |                9 |\n",
            "| cauca                |               10 |\n",
            "| cesar                |               11 |\n",
            "| choco                |               12 |\n",
            "| cordoba              |               13 |\n",
            "| cundinamarca         |               14 |\n",
            "| guaviare             |               15 |\n",
            "| huila                |               16 |\n",
            "| la guajira           |               17 |\n",
            "| magdalena            |               18 |\n",
            "| meta                 |               19 |\n",
            "| narino               |               20 |\n",
            "| norte santander      |               21 |\n",
            "| putumayo             |               22 |\n",
            "| quindio              |               23 |\n",
            "| risaralda            |               24 |\n",
            "| san andres           |               25 |\n",
            "| santander            |               26 |\n",
            "| sucre                |               27 |\n",
            "| tolima               |               28 |\n",
            "| valle                |               29 |\n",
            "| vaupes               |               30 |\n"
          ]
        }
      ],
      "source": [
        "z, encoder_fami_estuprograma = label_encode_column(z, 'ESTU_PRGM_DEPARTAMENTO' )\n",
        "\n",
        "print(\" \")\n",
        "print(\"encoder para test\")\n",
        "p, encoder_fami_estuprograma_test = label_encode_column(p, 'ESTU_PRGM_DEPARTAMENTO' )"
      ]
    },
    {
      "cell_type": "markdown",
      "metadata": {
        "id": "iio-beQr-8gt"
      },
      "source": [
        "##### Programa Academico"
      ]
    },
    {
      "cell_type": "markdown",
      "metadata": {
        "id": "OndNjMQsEdVB"
      },
      "source": [
        "Al ser esta la columna con más datos únicos posiblemente tenga muchisimos errores orgotograficos que duplican valores que no deberían\n",
        "\n",
        "Ejemplo:\n",
        "\n",
        "quimicafarmaceutica, química farmacéutica, química farmaceutica, quimica farmacéutica\n",
        "\n",
        "Que realmente son el mismo valor pero a causa de las tildes aparecen como cuatro únicos, por ellos procedemos a normalizar los datos de la columna eliminando tildes, diarisis, minúsculas, caracteres especiales como la ñ, comas, guiones, puntos, dos puntos, dobles espacios, comillas simples o dobles, etc."
      ]
    },
    {
      "cell_type": "code",
      "execution_count": 72,
      "metadata": {
        "id": "b5ob4pjrNXC3"
      },
      "outputs": [],
      "source": [
        "z = limpiar_columna(z, 'ESTU_PRGM_ACADEMICO')\n",
        "p = limpiar_columna(p, 'ESTU_PRGM_ACADEMICO')"
      ]
    },
    {
      "cell_type": "code",
      "execution_count": 73,
      "metadata": {
        "colab": {
          "base_uri": "https://localhost:8080/"
        },
        "id": "vQ17AOzkEviG",
        "outputId": "044be683-d5f2-42ba-9a4b-dd2d0ccca31e"
      },
      "outputs": [
        {
          "output_type": "stream",
          "name": "stdout",
          "text": [
            "Palabras con caracteres extraños o múltiples espacios: ['gastronom¿a', '¿nfasis', 'esc¿nicas', 'gesti¿n', 'comunicaci¿¿n', 'comunicaci¿n', 'm¿sica', 'matem¿ticas', 'b¿sica', 'recreaci¿n', 'dise¿¿o', 'pedagog¿a', 'ingenier¿a', 'gr¿¿fica', 'farmac¿utica', 'dise¿o', 'qu¿mica', '3°', 'geolog¿a', 'filosof¿a', 'administraci¿n', 'log¿stica', 'art¿stica', 'econom¿a', 'educaci¿n', 'p¿blica', 'ingl¿s', 'el¿ctrica', 'f¿sica']\n",
            "Palabras con caracteres extraños o múltiples espacios: ['gastronom¿a', '¿nfasis', 'gesti¿n', 'comunicaci¿¿n', 'comunicaci¿n', 'm¿sica', 'b¿sica', 'dise¿¿o', 'pedagog¿a', 'ingenier¿a', 'gr¿¿fica', 'farmac¿utica', 'dise¿o', 'qu¿mica', '3°', 'geolog¿a', 'administraci¿n', 'log¿stica', 'art¿stica', 'econom¿a', 'educaci¿n', 'p¿blica', 'ingl¿s', 'el¿ctrica']\n"
          ]
        }
      ],
      "source": [
        "palabras_extranas = encontrar_palabras_extranas(z, 'ESTU_PRGM_ACADEMICO')\n",
        "palabras_extranas_p = encontrar_palabras_extranas(p, 'ESTU_PRGM_ACADEMICO')\n",
        "print(\"Palabras con caracteres extraños o múltiples espacios:\", palabras_extranas)\n",
        "print(\"Palabras con caracteres extraños o múltiples espacios:\", palabras_extranas_p)"
      ]
    },
    {
      "cell_type": "code",
      "execution_count": 74,
      "metadata": {
        "id": "ocnEMWB0FBz2"
      },
      "outputs": [],
      "source": [
        "\n",
        "correcciones_z = {\n",
        "    'b¿sica': 'basica',\n",
        "    'pedagog¿a': 'pedagogia',\n",
        "    'gastronom¿a': 'gastronomia',\n",
        "    'farmac¿utica': 'farmaceutica',\n",
        "    'ingl¿s': 'ingles',\n",
        "    'filosof¿a': 'filosofia',\n",
        "    'dise¿o': 'diseno',\n",
        "    'f¿sica': 'fisica',\n",
        "    'econom¿a': 'economia',\n",
        "    'administraci¿n': 'administracion',\n",
        "    'esc¿nicas': 'escenicas',\n",
        "    'geolog¿a': 'geologia',\n",
        "    '3°ciclo': '3 ciclo',\n",
        "    'ingenier¿a': 'ingenieria',\n",
        "    'm¿sica': 'musica',\n",
        "    'publica.': 'publica',\n",
        "    'p¿blica': 'publica',\n",
        "    '¿nfasisi': 'enfasis',\n",
        "    'matem¿ticas': 'matematicas',\n",
        "    'el¿ctrica': 'electrica',\n",
        "    'quimica.': 'quimica',\n",
        "    'recreaci¿n': 'recreacion',\n",
        "    'educaci¿n': 'educacion',\n",
        "    'comunicaci¿n': 'comunicacion',\n",
        "    'gesti¿n': 'gestion',\n",
        "    'qu¿mica': 'quimica',\n",
        "    'log¿stica': 'logistica',\n",
        "    'dise¿¿o': 'diseno',\n",
        "    'comunicaci¿¿n': 'comunicacion',\n",
        "    'art¿stica': 'artistica',\n",
        "    'gr¿¿fica': 'grafica',\n",
        "    '3°': '3',\n",
        "    '¿nfasis': 'enfasis'\n",
        "\n",
        "}\n",
        "\n",
        "\n",
        "z['ESTU_PRGM_ACADEMICO'] = z['ESTU_PRGM_ACADEMICO'].replace(correcciones_z, regex=True)"
      ]
    },
    {
      "cell_type": "code",
      "execution_count": 75,
      "metadata": {
        "id": "fr16dncmaK7W"
      },
      "outputs": [],
      "source": [
        "correcciones_p = {\n",
        "    'gastronom¿a': 'gastronomia',\n",
        "    'dise¿o': 'diseno',\n",
        "    'educaci¿n': 'educacion',\n",
        "    'comunicaci¿¿n': 'comunicacion',\n",
        "    'pedagog¿a': 'pedagogia',\n",
        "    'comunicaci¿n': 'comunicacion',\n",
        "    'm¿sica': 'musica',\n",
        "    'ingl¿s': 'ingles',\n",
        "    'qu¿mica': 'quimica',\n",
        "    '¿nfasis': 'enfasis',\n",
        "    'farmac¿utica': 'farmaceutica',\n",
        "    'geolog¿a': 'geologia',\n",
        "    'gesti¿n': 'gestion',\n",
        "    'econom¿a': 'economia',\n",
        "    'el¿ctrica': 'electrica',\n",
        "    'b¿sica': 'basica',\n",
        "    'dise¿¿o': 'diseno',\n",
        "    'p¿blica': 'publica',\n",
        "    'administraci¿n': 'administracion',\n",
        "    'log¿stica': 'logistica',\n",
        "    'gr¿¿fica': 'grafica',\n",
        "    'ingenier¿a': 'ingenieria',\n",
        "    'art¿stica': 'artistica',\n",
        "    '3°': '3'\n",
        "}\n",
        "\n",
        "p['ESTU_PRGM_ACADEMICO'] = p['ESTU_PRGM_ACADEMICO'].replace(correcciones_p, regex=True)\n"
      ]
    },
    {
      "cell_type": "code",
      "execution_count": 76,
      "metadata": {
        "colab": {
          "base_uri": "https://localhost:8080/"
        },
        "id": "hE1yqAWcdDNY",
        "outputId": "d635f027-14b1-4d9b-d613-0b4a31b2fac6"
      },
      "outputs": [
        {
          "output_type": "execute_result",
          "data": {
            "text/plain": [
              "0"
            ]
          },
          "metadata": {},
          "execution_count": 76
        }
      ],
      "source": [
        "\n",
        "\n",
        "z['ESTU_PRGM_ACADEMICO'].isna().sum()\n",
        "p['ESTU_PRGM_ACADEMICO'].isna().sum()\n"
      ]
    },
    {
      "cell_type": "markdown",
      "metadata": {
        "id": "4Ocqd9x9ofUI"
      },
      "source": [
        "Dado que la columna contiene una gran cantidad de valores únicos, se procederá a agruparlos según áreas del conocimiento o programas académicos. Esto se debe a que las pruebas Saber Pro tienen un componente común a la carrera y otro específico. Para simplificar el análisis, nos enfocaremos en agrupar los datos de esta columna en función del componente común, ya que es más fácil de ordenar y estandarizar. Al hacer esto, podremos reducir la complejidad del conjunto de datos y mejorar la interpretación y comparabilidad de los resultados en contextos más amplios."
      ]
    },
    {
      "cell_type": "code",
      "execution_count": 77,
      "metadata": {
        "colab": {
          "base_uri": "https://localhost:8080/"
        },
        "id": "qFJ5sG5XGJPq",
        "outputId": "68643dfe-32a7-41cf-ef00-0507e15fb06c"
      },
      "outputs": [
        {
          "output_type": "stream",
          "name": "stdout",
          "text": [
            "                        ESTU_PRGM_ACADEMICO GRUPO_PRGM_ACADEMICO\n",
            "0                                enfermeria           enfermeria\n",
            "1                                   derecho              derecho\n",
            "2                     mercadeo y publicidad             mercadeo\n",
            "3                administracion de empresas       administracion\n",
            "4                                psicologia           psicologia\n",
            "...                                     ...                  ...\n",
            "692495                             biologia             biologia\n",
            "692496                           psicologia           psicologia\n",
            "692497  administracion en salud ocupacional       administracion\n",
            "692498                           psicologia           psicologia\n",
            "692499                           psicologia           psicologia\n",
            "\n",
            "[651175 rows x 2 columns]\n"
          ]
        }
      ],
      "source": [
        "valores_academicos = z['ESTU_PRGM_ACADEMICO'].unique()\n",
        "\n",
        "valores_agrupados = agrupar_por_primera_palabra(valores_academicos, 90)\n",
        "\n",
        "valor_a_grupo = {}\n",
        "for clave, grupo in valores_agrupados.items():\n",
        "    if len(grupo) > 1:\n",
        "        primera_palabra_grupo = clave.split()[0]\n",
        "        for valor in grupo:\n",
        "            valor_a_grupo[valor] = primera_palabra_grupo\n",
        "\n",
        "\n",
        "z['GRUPO_PRGM_ACADEMICO'] = z['ESTU_PRGM_ACADEMICO'].map(valor_a_grupo)\n",
        "\n",
        "\n",
        "z['GRUPO_PRGM_ACADEMICO'] = z['GRUPO_PRGM_ACADEMICO'].fillna(z['ESTU_PRGM_ACADEMICO'])\n",
        "\n",
        "\n",
        "print(z[['ESTU_PRGM_ACADEMICO', 'GRUPO_PRGM_ACADEMICO']])"
      ]
    },
    {
      "cell_type": "code",
      "execution_count": 78,
      "metadata": {
        "colab": {
          "base_uri": "https://localhost:8080/"
        },
        "id": "YbWT_XTyazT-",
        "outputId": "c43e94e9-ada7-4574-8857-8d19b3ce8679"
      },
      "outputs": [
        {
          "output_type": "stream",
          "name": "stdout",
          "text": [
            "                           ESTU_PRGM_ACADEMICO GRUPO_PRGM_ACADEMICO\n",
            "0                               trabajo social       trabajo social\n",
            "1       administracion comercial y de mercadeo       administracion\n",
            "2                       ingenieria mecatronica           ingenieria\n",
            "3                           contaduria publica           contaduria\n",
            "4                   administracion de empresas       administracion\n",
            "...                                        ...                  ...\n",
            "296781              administracion de empresas       administracion\n",
            "296782                                 derecho              derecho\n",
            "296783                                 derecho              derecho\n",
            "296784                  ingenieria aeronautica           ingenieria\n",
            "296785                   ingenieria industrial           ingenieria\n",
            "\n",
            "[296786 rows x 2 columns]\n"
          ]
        }
      ],
      "source": [
        "valores_academicos_p = p['ESTU_PRGM_ACADEMICO'].unique()\n",
        "\n",
        "valores_agrupados_p = agrupar_por_primera_palabra(valores_academicos_p, 90)\n",
        "\n",
        "valor_a_grupo_p = {}\n",
        "for clave, grupo in valores_agrupados_p.items():\n",
        "    if len(grupo) > 1:\n",
        "        primera_palabra_grupo = clave.split()[0]\n",
        "        for valor in grupo:\n",
        "            valor_a_grupo_p[valor] = primera_palabra_grupo\n",
        "\n",
        "\n",
        "p['GRUPO_PRGM_ACADEMICO'] = p['ESTU_PRGM_ACADEMICO'].map(valor_a_grupo_p)\n",
        "\n",
        "\n",
        "p['GRUPO_PRGM_ACADEMICO'] = p['GRUPO_PRGM_ACADEMICO'].fillna(p['ESTU_PRGM_ACADEMICO'])\n",
        "\n",
        "\n",
        "print(p[['ESTU_PRGM_ACADEMICO', 'GRUPO_PRGM_ACADEMICO']])"
      ]
    },
    {
      "cell_type": "code",
      "execution_count": 79,
      "metadata": {
        "colab": {
          "base_uri": "https://localhost:8080/"
        },
        "id": "RFizl1uvKM0H",
        "outputId": "82c44df3-8335-4bae-fd60-ca37ed976c3a"
      },
      "outputs": [
        {
          "output_type": "execute_result",
          "data": {
            "text/plain": [
              "array(['enfermeria', 'derecho', 'mercadeo', 'administracion',\n",
              "       'psicologia', 'medicina', 'ingenieria', 'hoteleria',\n",
              "       'licenciatura', 'comunicacion', 'ciencia', 'profesional',\n",
              "       'maestro en musica', 'trabajo social', 'contaduria', 'estadistica',\n",
              "       'zootecnia', 'seguridad y salud en el trabajo', 'odontologia',\n",
              "       'diseno', 'economia', 'negocios', 'quimicafarmaceutica',\n",
              "       'finanzas', 'relaciones', 'instrumentacion', 'fisioterapia',\n",
              "       'farmacia', 'arte', 'arquitectura', 'optometria', 'jurisprudencia',\n",
              "       'estudios', 'nutricion y dietetica', 'terapia', 'filologia',\n",
              "       'gerencia', 'traduccion ingles frances espanol', 'gestion',\n",
              "       'planeacion y desarrollo social', 'entrenamiento deportivo',\n",
              "       'biologia', 'filosofia', 'bacteriologia', 'sociologia',\n",
              "       'periodismo', 'linguistica', 'antropologia', 'agronomia',\n",
              "       'fonoaudiologia', 'lenguas', 'geologia', 'quimica', 'historia',\n",
              "       'microbiologia', 'salud ocupacional', 'construccion', 'teologia',\n",
              "       'comercio', 'publicidad', 'artes', 'cine', 'deporte',\n",
              "       'culinaria y gastronomia', 'bioingenieria', 'arqueologia',\n",
              "       'criminalistica', 'danza', 'archivistica', 'gastronomia',\n",
              "       'matematicas',\n",
              "       'programa profesional universitario en lenguas extranjeras',\n",
              "       'sistemas', 'cultura', 'espanol y filologia clasica', 'formacion',\n",
              "       'direccion', 'geografia', 'fisica', 'ingenierìa informàtica',\n",
              "       'turismo', 'quimicaindustrial', 'bibliotecologia',\n",
              "       '3 ciclo profesional negocios internacionales',\n",
              "       'produccion agroindustrial', 'musica', 'ecologia', 'literatura',\n",
              "       'gobierno', 'geociencias', 'investigacion criminal', 'fotografia',\n",
              "       'marketing', 'mercadologia', 'logistica', 'desarrollo',\n",
              "       'letras filologia hispanica',\n",
              "       'politica y relaciones internacionales', 'biotecnologia',\n",
              "       'actividad fisica y deporte', 'banca', 'oceanografia',\n",
              "       'realizacion en animacion', 'creacion literaria', 'gerontologia',\n",
              "       'conservacion y restauracion de bienes muebles', 'acuicultura',\n",
              "       'recreacion', 'bioquimica', 'quimicaambiental',\n",
              "       'interpretacion musical', 'urbanismo',\n",
              "       'lenguajes y estudios socioculturales', 'narrativas digitales',\n",
              "       'pedagogia', 'teatro musical', 'animacion',\n",
              "       'computacion cientifica', 'bellas artes'], dtype=object)"
            ]
          },
          "metadata": {},
          "execution_count": 79
        }
      ],
      "source": [
        "z['GRUPO_PRGM_ACADEMICO'].unique()"
      ]
    },
    {
      "cell_type": "code",
      "execution_count": 80,
      "metadata": {
        "colab": {
          "base_uri": "https://localhost:8080/"
        },
        "id": "9k8uNO6qKyKq",
        "outputId": "c33ed884-6d6a-481a-dd73-02fcece81aa0"
      },
      "outputs": [
        {
          "output_type": "execute_result",
          "data": {
            "text/plain": [
              "array(['trabajo social', 'administracion', 'ingenieria', 'contaduria',\n",
              "       'economia', 'psicologia', 'negocios', 'arquitectura',\n",
              "       'seguridad y salud en el trabajo', 'medicina', 'derecho',\n",
              "       'licenciatura', 'fonoaudiologia', 'profesional', 'enfermeria',\n",
              "       'fisioterapia', 'filosofia', 'criminalistica', 'comunicacion',\n",
              "       'finanzas', 'ciencias',\n",
              "       'programa profesional universitario en lenguas extranjeras',\n",
              "       'terapia', 'gobierno', 'diseno', 'geociencias', 'mercadeo',\n",
              "       'musica', 'geologia', 'odontologia', 'comercio', 'cine',\n",
              "       'instrumentacion', 'actividad fisica y deporte', 'publicidad',\n",
              "       'lenguas', 'optometria', 'relaciones', 'bacteriologia',\n",
              "       'sociologia', 'literatura', 'maestro en musica', 'artes',\n",
              "       'farmacia', 'matematicas', 'fisica', 'arte', 'biologia',\n",
              "       'antropologia', 'salud ocupacional', 'hoteleria', 'quimica',\n",
              "       'planeacion y desarrollo social', 'zootecnia', 'marketing',\n",
              "       'nutricion y dietetica', 'linguistica', 'agronomia', 'fotografia',\n",
              "       'bioingenieria', 'deporte', 'estudios', 'construccion', 'teologia',\n",
              "       'gerencia', 'jurisprudencia', 'formacion musical',\n",
              "       'bibliotecologia', 'turismo', 'gastronomia',\n",
              "       'investigacion criminal', 'microbiologia',\n",
              "       'ingenierìa informàtica', 'interpretacion musical', 'direccion',\n",
              "       'gerontologia', 'gestion', 'historia', 'cultura', 'estadistica',\n",
              "       'geografia', 'produccion agroindustrial',\n",
              "       'espanol y filologia clasica', 'filologia', 'ecologia',\n",
              "       'desarrollo', '3 ciclo profesional negocios internacionales',\n",
              "       'archivistica', 'culinaria y gastronomia', 'periodismo',\n",
              "       'arqueologia', 'politica y relaciones internacionales', 'sistemas',\n",
              "       'creacion literaria', 'mercadologia', 'recreacion', 'acuicultura',\n",
              "       'narrativas digitales', 'entrenamiento deportivo',\n",
              "       'letras filologia hispanica',\n",
              "       'lenguajes y estudios socioculturales', 'danza', 'bioquimica',\n",
              "       'traduccion ingles frances espanol', 'logistica', 'biotecnologia',\n",
              "       'realizacion en animacion', 'pedagogia',\n",
              "       'conservacion y restauracion de bienes muebles', 'banca',\n",
              "       'teatro musical', 'oceanografia', 'urbanismo', 'bellas artes',\n",
              "       'computacion cientifica',\n",
              "       'licenc en educacion basica primaria enf en ciencias naturaleseduc ambiental matema lengua castellana',\n",
              "       'agroindustria'], dtype=object)"
            ]
          },
          "metadata": {},
          "execution_count": 80
        }
      ],
      "source": [
        "p['GRUPO_PRGM_ACADEMICO'].unique()"
      ]
    },
    {
      "cell_type": "code",
      "execution_count": 81,
      "metadata": {
        "id": "ysBIXlGzTe-W"
      },
      "outputs": [],
      "source": [
        "#Reemplazamos ESTU_PRGM_ACADEMICO por GRUPO_PRGM_ACADEMICO\n",
        "z = z.drop(columns=['ESTU_PRGM_ACADEMICO'])\n",
        "p = p.drop(columns=['ESTU_PRGM_ACADEMICO'])"
      ]
    },
    {
      "cell_type": "code",
      "source": [
        "#eliminar temporalmente familia tiene internet para\n",
        "#poder hacer el one hot encoding\n",
        "z_dropped = z.drop(columns=['FAMI_TIENEINTERNET'])\n",
        "p_dropped = p.drop(columns=['FAMI_TIENEINTERNET'])\n",
        "\n",
        "z_encoded = one_hot_encode_column(z_dropped, 'GRUPO_PRGM_ACADEMICO')\n",
        "z_encoded['FAMI_TIENEINTERNET'] = z['FAMI_TIENEINTERNET']\n",
        "\n",
        "p_encoded = one_hot_encode_column(p_dropped, 'GRUPO_PRGM_ACADEMICO')\n",
        "p_encoded['FAMI_TIENEINTERNET'] = p['FAMI_TIENEINTERNET']\n",
        "\n",
        "z = z_encoded\n",
        "p = p_encoded\n"
      ],
      "metadata": {
        "id": "7VjS_p3p0pMS"
      },
      "execution_count": 82,
      "outputs": []
    },
    {
      "cell_type": "markdown",
      "metadata": {
        "id": "XcPZrtR26S1l"
      },
      "source": [
        "##### Familia tiene internet"
      ]
    },
    {
      "cell_type": "code",
      "execution_count": 83,
      "metadata": {
        "id": "ZVW8LYbabU5K"
      },
      "outputs": [],
      "source": [
        "z = limpiar_columna(z, 'FAMI_TIENEINTERNET')\n",
        "p = limpiar_columna(p, 'FAMI_TIENEINTERNET')"
      ]
    },
    {
      "cell_type": "code",
      "execution_count": 84,
      "metadata": {
        "colab": {
          "base_uri": "https://localhost:8080/"
        },
        "id": "AjwpFvoJ6RJ4",
        "outputId": "b6e8b162-b2b1-4b8d-e871-9dc24e245fe7"
      },
      "outputs": [
        {
          "output_type": "stream",
          "name": "stdout",
          "text": [
            "Total de valores nulos en FAMI_TIENEINTERNET: 836\n",
            "Total de valores nulos en FAMI_TIENEINTERNET: 11539\n"
          ]
        }
      ],
      "source": [
        "contar_nulos(z,'FAMI_TIENEINTERNET')\n",
        "contar_nulos(p,'FAMI_TIENEINTERNET')"
      ]
    },
    {
      "cell_type": "code",
      "execution_count": 85,
      "metadata": {
        "colab": {
          "base_uri": "https://localhost:8080/"
        },
        "id": "Wyk5ROC26uGn",
        "outputId": "87481ed6-8706-478c-b882-ca01946c9378"
      },
      "outputs": [
        {
          "output_type": "stream",
          "name": "stdout",
          "text": [
            "Se eliminaron filas de la columna 'FAMI_TIENEINTERNET' con NaN. Porcentaje de NaN: 0.13%\n",
            "Porcentaje de NaN reemplazado en 'FAMI_TIENEINTERNET': 3.89%\n",
            "0\n",
            "0\n"
          ]
        }
      ],
      "source": [
        "z = eliminar_filas_nan(z, 'FAMI_TIENEINTERNET')\n",
        "p = replace_nans_equilibrado(p, 'FAMI_TIENEINTERNET')\n",
        "print(z['FAMI_TIENEINTERNET'].isnull().sum())\n",
        "print(p['FAMI_TIENEINTERNET'].isnull().sum())"
      ]
    },
    {
      "cell_type": "code",
      "source": [],
      "metadata": {
        "id": "FHdgSmQnzZqw"
      },
      "execution_count": null,
      "outputs": []
    },
    {
      "cell_type": "code",
      "execution_count": 86,
      "metadata": {
        "id": "Y6dW2pZI7Jzx"
      },
      "outputs": [],
      "source": [
        "z = one_hot_encode_column(z,'FAMI_TIENEINTERNET')\n",
        "p = one_hot_encode_column(p,'FAMI_TIENEINTERNET')"
      ]
    },
    {
      "cell_type": "markdown",
      "metadata": {
        "id": "gwobuy5MKDio"
      },
      "source": [
        "## Resultados de la limpieza y pre procesamiento de datos"
      ]
    },
    {
      "cell_type": "markdown",
      "source": [],
      "metadata": {
        "id": "dJmfWOcE0gyR"
      }
    },
    {
      "cell_type": "code",
      "execution_count": 87,
      "metadata": {
        "colab": {
          "base_uri": "https://localhost:8080/"
        },
        "id": "WKe6x4P_KYsn",
        "outputId": "f859b14f-56fd-498d-ef15-1235cd045bce"
      },
      "outputs": [
        {
          "output_type": "stream",
          "name": "stdout",
          "text": [
            "                                                   Tipo de Dato  \\\n",
            "ESTU_PRGM_DEPARTAMENTO                                    int64   \n",
            "ESTU_HORASSEMANATRABAJA                                   int64   \n",
            "FAMI_ESTRATOVIVIENDA                                      int64   \n",
            "FAMI_EDUCACIONPADRE                                       int64   \n",
            "FAMI_EDUCACIONMADRE                                       int64   \n",
            "...                                                         ...   \n",
            "GRUPO_PRGM_ACADEMICO_traduccion ingles frances ...        int64   \n",
            "GRUPO_PRGM_ACADEMICO_turismo                              int64   \n",
            "GRUPO_PRGM_ACADEMICO_urbanismo                            int64   \n",
            "GRUPO_PRGM_ACADEMICO_zootecnia                            int64   \n",
            "FAMI_TIENEINTERNET_si                                     int64   \n",
            "\n",
            "                                                    Cantidad de NaN  \n",
            "ESTU_PRGM_DEPARTAMENTO                                            0  \n",
            "ESTU_HORASSEMANATRABAJA                                           0  \n",
            "FAMI_ESTRATOVIVIENDA                                              0  \n",
            "FAMI_EDUCACIONPADRE                                               0  \n",
            "FAMI_EDUCACIONMADRE                                               0  \n",
            "...                                                             ...  \n",
            "GRUPO_PRGM_ACADEMICO_traduccion ingles frances ...                0  \n",
            "GRUPO_PRGM_ACADEMICO_turismo                                      0  \n",
            "GRUPO_PRGM_ACADEMICO_urbanismo                                    0  \n",
            "GRUPO_PRGM_ACADEMICO_zootecnia                                    0  \n",
            "FAMI_TIENEINTERNET_si                                             0  \n",
            "\n",
            "[125 rows x 2 columns]\n"
          ]
        }
      ],
      "source": [
        "column_info = z.dtypes.to_frame(name='Tipo de Dato')\n",
        "column_info['Cantidad de NaN'] = z.isna().sum()\n",
        "\n",
        "print(column_info)"
      ]
    },
    {
      "cell_type": "code",
      "execution_count": null,
      "metadata": {
        "colab": {
          "base_uri": "https://localhost:8080/"
        },
        "id": "8hIFSEYhLp7w",
        "outputId": "4770410f-0c79-472a-ebd3-0794d2f989ea"
      },
      "outputs": [
        {
          "output_type": "stream",
          "name": "stdout",
          "text": [
            "                                                   Tipo de Dato  \\\n",
            "ESTU_PRGM_DEPARTAMENTO                                    int64   \n",
            "ESTU_HORASSEMANATRABAJA                                   int64   \n",
            "FAMI_ESTRATOVIVIENDA                                      int64   \n",
            "FAMI_EDUCACIONPADRE                                       int64   \n",
            "FAMI_EDUCACIONMADRE                                       int64   \n",
            "...                                                         ...   \n",
            "GRUPO_PRGM_ACADEMICO_traduccion ingles frances ...        int64   \n",
            "GRUPO_PRGM_ACADEMICO_turismo                              int64   \n",
            "GRUPO_PRGM_ACADEMICO_urbanismo                            int64   \n",
            "GRUPO_PRGM_ACADEMICO_zootecnia                            int64   \n",
            "FAMI_TIENEINTERNET_si                                     int64   \n",
            "\n",
            "                                                    Cantidad de NaN  \n",
            "ESTU_PRGM_DEPARTAMENTO                                            0  \n",
            "ESTU_HORASSEMANATRABAJA                                           0  \n",
            "FAMI_ESTRATOVIVIENDA                                              0  \n",
            "FAMI_EDUCACIONPADRE                                               0  \n",
            "FAMI_EDUCACIONMADRE                                               0  \n",
            "...                                                             ...  \n",
            "GRUPO_PRGM_ACADEMICO_traduccion ingles frances ...                0  \n",
            "GRUPO_PRGM_ACADEMICO_turismo                                      0  \n",
            "GRUPO_PRGM_ACADEMICO_urbanismo                                    0  \n",
            "GRUPO_PRGM_ACADEMICO_zootecnia                                    0  \n",
            "FAMI_TIENEINTERNET_si                                             0  \n",
            "\n",
            "[122 rows x 2 columns]\n"
          ]
        }
      ],
      "source": [
        "column_info = p.dtypes.to_frame(name='Tipo de Dato')\n",
        "column_info['Cantidad de NaN'] = p.isna().sum()\n",
        "\n",
        "print(column_info)"
      ]
    },
    {
      "cell_type": "code",
      "execution_count": 88,
      "metadata": {
        "colab": {
          "base_uri": "https://localhost:8080/"
        },
        "id": "gVtUj6iLK1U3",
        "outputId": "4528e117-a127-4dbb-dbb6-6976ba60906d"
      },
      "outputs": [
        {
          "output_type": "stream",
          "name": "stdout",
          "text": [
            "shape of loaded dataframe train (650339, 125)\n",
            "shape of loaded dataframe test (296786, 122)\n"
          ]
        }
      ],
      "source": [
        "print (\"shape of loaded dataframe train\", z.shape)\n",
        "print (\"shape of loaded dataframe test\",p.shape)"
      ]
    },
    {
      "cell_type": "markdown",
      "metadata": {
        "id": "lXx-LaKzb0sY"
      },
      "source": [
        "En el proceso de limpieza y preparación de datos, se llevaron a cabo varias técnicas, incluyendo la eliminación de columnas innecesarias, la codificación de etiquetas (label encoding) y la codificación one-hot para variables categóricas. Además, se eliminaron filas con valores nulos, asegurando que el porcentaje de estos no superara el 5%. También se realizaron normalizaciones y agrupaciones de datos para mejorar la calidad y relevancia del conjunto. Como resultado de estas transformaciones, se redujo el conjunto de datos de 692,501 registros  a 650,339  y 12 columnas a 154, optimizando así la información disponible para análisis posteriores."
      ]
    },
    {
      "cell_type": "code",
      "execution_count": null,
      "metadata": {
        "colab": {
          "base_uri": "https://localhost:8080/",
          "height": 273
        },
        "id": "UhS52x_Xe9-t",
        "outputId": "64de6261-9882-4614-f2fc-280d800dbd70"
      },
      "outputs": [
        {
          "output_type": "execute_result",
          "data": {
            "text/plain": [
              "   ESTU_PRGM_DEPARTAMENTO  ESTU_HORASSEMANATRABAJA  FAMI_ESTRATOVIVIENDA  \\\n",
              "0                       4                        5                     2   \n",
              "1                       3                        0                     2   \n",
              "2                       4                       35                     2   \n",
              "3                      26                        0                     3   \n",
              "4                       1                       25                     2   \n",
              "\n",
              "   FAMI_EDUCACIONPADRE  FAMI_EDUCACIONMADRE  RENDIMIENTO_GLOBAL  \\\n",
              "0                   11                    5                   2   \n",
              "1                   10                   11                   1   \n",
              "2                    8                    8                   1   \n",
              "3                    4                    8                   0   \n",
              "4                    6                    6                   3   \n",
              "\n",
              "   GRUPO_PRGM_ACADEMICO_actividad fisica y deporte  \\\n",
              "0                                                0   \n",
              "1                                                0   \n",
              "2                                                0   \n",
              "3                                                0   \n",
              "4                                                0   \n",
              "\n",
              "   GRUPO_PRGM_ACADEMICO_acuicultura  GRUPO_PRGM_ACADEMICO_administracion  \\\n",
              "0                                 0                                    0   \n",
              "1                                 0                                    0   \n",
              "2                                 0                                    0   \n",
              "3                                 0                                    1   \n",
              "4                                 0                                    0   \n",
              "\n",
              "   GRUPO_PRGM_ACADEMICO_agronomia  ...  GRUPO_PRGM_ACADEMICO_sociologia  \\\n",
              "0                               0  ...                                0   \n",
              "1                               0  ...                                0   \n",
              "2                               0  ...                                0   \n",
              "3                               0  ...                                0   \n",
              "4                               0  ...                                0   \n",
              "\n",
              "   GRUPO_PRGM_ACADEMICO_teatro musical  GRUPO_PRGM_ACADEMICO_teologia  \\\n",
              "0                                    0                              0   \n",
              "1                                    0                              0   \n",
              "2                                    0                              0   \n",
              "3                                    0                              0   \n",
              "4                                    0                              0   \n",
              "\n",
              "   GRUPO_PRGM_ACADEMICO_terapia  GRUPO_PRGM_ACADEMICO_trabajo social  \\\n",
              "0                             0                                    0   \n",
              "1                             0                                    0   \n",
              "2                             0                                    0   \n",
              "3                             0                                    0   \n",
              "4                             0                                    0   \n",
              "\n",
              "   GRUPO_PRGM_ACADEMICO_traduccion ingles frances espanol  \\\n",
              "0                                                  0        \n",
              "1                                                  0        \n",
              "2                                                  0        \n",
              "3                                                  0        \n",
              "4                                                  0        \n",
              "\n",
              "   GRUPO_PRGM_ACADEMICO_turismo  GRUPO_PRGM_ACADEMICO_urbanismo  \\\n",
              "0                             0                               0   \n",
              "1                             0                               0   \n",
              "2                             0                               0   \n",
              "3                             0                               0   \n",
              "4                             0                               0   \n",
              "\n",
              "   GRUPO_PRGM_ACADEMICO_zootecnia  FAMI_TIENEINTERNET_si  \n",
              "0                               0                      1  \n",
              "1                               0                      0  \n",
              "2                               0                      1  \n",
              "3                               0                      1  \n",
              "4                               0                      1  \n",
              "\n",
              "[5 rows x 125 columns]"
            ],
            "text/html": [
              "\n",
              "  <div id=\"df-a5e85d82-7982-4f5c-b093-cf2ca7d3803e\" class=\"colab-df-container\">\n",
              "    <div>\n",
              "<style scoped>\n",
              "    .dataframe tbody tr th:only-of-type {\n",
              "        vertical-align: middle;\n",
              "    }\n",
              "\n",
              "    .dataframe tbody tr th {\n",
              "        vertical-align: top;\n",
              "    }\n",
              "\n",
              "    .dataframe thead th {\n",
              "        text-align: right;\n",
              "    }\n",
              "</style>\n",
              "<table border=\"1\" class=\"dataframe\">\n",
              "  <thead>\n",
              "    <tr style=\"text-align: right;\">\n",
              "      <th></th>\n",
              "      <th>ESTU_PRGM_DEPARTAMENTO</th>\n",
              "      <th>ESTU_HORASSEMANATRABAJA</th>\n",
              "      <th>FAMI_ESTRATOVIVIENDA</th>\n",
              "      <th>FAMI_EDUCACIONPADRE</th>\n",
              "      <th>FAMI_EDUCACIONMADRE</th>\n",
              "      <th>RENDIMIENTO_GLOBAL</th>\n",
              "      <th>GRUPO_PRGM_ACADEMICO_actividad fisica y deporte</th>\n",
              "      <th>GRUPO_PRGM_ACADEMICO_acuicultura</th>\n",
              "      <th>GRUPO_PRGM_ACADEMICO_administracion</th>\n",
              "      <th>GRUPO_PRGM_ACADEMICO_agronomia</th>\n",
              "      <th>...</th>\n",
              "      <th>GRUPO_PRGM_ACADEMICO_sociologia</th>\n",
              "      <th>GRUPO_PRGM_ACADEMICO_teatro musical</th>\n",
              "      <th>GRUPO_PRGM_ACADEMICO_teologia</th>\n",
              "      <th>GRUPO_PRGM_ACADEMICO_terapia</th>\n",
              "      <th>GRUPO_PRGM_ACADEMICO_trabajo social</th>\n",
              "      <th>GRUPO_PRGM_ACADEMICO_traduccion ingles frances espanol</th>\n",
              "      <th>GRUPO_PRGM_ACADEMICO_turismo</th>\n",
              "      <th>GRUPO_PRGM_ACADEMICO_urbanismo</th>\n",
              "      <th>GRUPO_PRGM_ACADEMICO_zootecnia</th>\n",
              "      <th>FAMI_TIENEINTERNET_si</th>\n",
              "    </tr>\n",
              "  </thead>\n",
              "  <tbody>\n",
              "    <tr>\n",
              "      <th>0</th>\n",
              "      <td>4</td>\n",
              "      <td>5</td>\n",
              "      <td>2</td>\n",
              "      <td>11</td>\n",
              "      <td>5</td>\n",
              "      <td>2</td>\n",
              "      <td>0</td>\n",
              "      <td>0</td>\n",
              "      <td>0</td>\n",
              "      <td>0</td>\n",
              "      <td>...</td>\n",
              "      <td>0</td>\n",
              "      <td>0</td>\n",
              "      <td>0</td>\n",
              "      <td>0</td>\n",
              "      <td>0</td>\n",
              "      <td>0</td>\n",
              "      <td>0</td>\n",
              "      <td>0</td>\n",
              "      <td>0</td>\n",
              "      <td>1</td>\n",
              "    </tr>\n",
              "    <tr>\n",
              "      <th>1</th>\n",
              "      <td>3</td>\n",
              "      <td>0</td>\n",
              "      <td>2</td>\n",
              "      <td>10</td>\n",
              "      <td>11</td>\n",
              "      <td>1</td>\n",
              "      <td>0</td>\n",
              "      <td>0</td>\n",
              "      <td>0</td>\n",
              "      <td>0</td>\n",
              "      <td>...</td>\n",
              "      <td>0</td>\n",
              "      <td>0</td>\n",
              "      <td>0</td>\n",
              "      <td>0</td>\n",
              "      <td>0</td>\n",
              "      <td>0</td>\n",
              "      <td>0</td>\n",
              "      <td>0</td>\n",
              "      <td>0</td>\n",
              "      <td>0</td>\n",
              "    </tr>\n",
              "    <tr>\n",
              "      <th>2</th>\n",
              "      <td>4</td>\n",
              "      <td>35</td>\n",
              "      <td>2</td>\n",
              "      <td>8</td>\n",
              "      <td>8</td>\n",
              "      <td>1</td>\n",
              "      <td>0</td>\n",
              "      <td>0</td>\n",
              "      <td>0</td>\n",
              "      <td>0</td>\n",
              "      <td>...</td>\n",
              "      <td>0</td>\n",
              "      <td>0</td>\n",
              "      <td>0</td>\n",
              "      <td>0</td>\n",
              "      <td>0</td>\n",
              "      <td>0</td>\n",
              "      <td>0</td>\n",
              "      <td>0</td>\n",
              "      <td>0</td>\n",
              "      <td>1</td>\n",
              "    </tr>\n",
              "    <tr>\n",
              "      <th>3</th>\n",
              "      <td>26</td>\n",
              "      <td>0</td>\n",
              "      <td>3</td>\n",
              "      <td>4</td>\n",
              "      <td>8</td>\n",
              "      <td>0</td>\n",
              "      <td>0</td>\n",
              "      <td>0</td>\n",
              "      <td>1</td>\n",
              "      <td>0</td>\n",
              "      <td>...</td>\n",
              "      <td>0</td>\n",
              "      <td>0</td>\n",
              "      <td>0</td>\n",
              "      <td>0</td>\n",
              "      <td>0</td>\n",
              "      <td>0</td>\n",
              "      <td>0</td>\n",
              "      <td>0</td>\n",
              "      <td>0</td>\n",
              "      <td>1</td>\n",
              "    </tr>\n",
              "    <tr>\n",
              "      <th>4</th>\n",
              "      <td>1</td>\n",
              "      <td>25</td>\n",
              "      <td>2</td>\n",
              "      <td>6</td>\n",
              "      <td>6</td>\n",
              "      <td>3</td>\n",
              "      <td>0</td>\n",
              "      <td>0</td>\n",
              "      <td>0</td>\n",
              "      <td>0</td>\n",
              "      <td>...</td>\n",
              "      <td>0</td>\n",
              "      <td>0</td>\n",
              "      <td>0</td>\n",
              "      <td>0</td>\n",
              "      <td>0</td>\n",
              "      <td>0</td>\n",
              "      <td>0</td>\n",
              "      <td>0</td>\n",
              "      <td>0</td>\n",
              "      <td>1</td>\n",
              "    </tr>\n",
              "  </tbody>\n",
              "</table>\n",
              "<p>5 rows × 125 columns</p>\n",
              "</div>\n",
              "    <div class=\"colab-df-buttons\">\n",
              "\n",
              "  <div class=\"colab-df-container\">\n",
              "    <button class=\"colab-df-convert\" onclick=\"convertToInteractive('df-a5e85d82-7982-4f5c-b093-cf2ca7d3803e')\"\n",
              "            title=\"Convert this dataframe to an interactive table.\"\n",
              "            style=\"display:none;\">\n",
              "\n",
              "  <svg xmlns=\"http://www.w3.org/2000/svg\" height=\"24px\" viewBox=\"0 -960 960 960\">\n",
              "    <path d=\"M120-120v-720h720v720H120Zm60-500h600v-160H180v160Zm220 220h160v-160H400v160Zm0 220h160v-160H400v160ZM180-400h160v-160H180v160Zm440 0h160v-160H620v160ZM180-180h160v-160H180v160Zm440 0h160v-160H620v160Z\"/>\n",
              "  </svg>\n",
              "    </button>\n",
              "\n",
              "  <style>\n",
              "    .colab-df-container {\n",
              "      display:flex;\n",
              "      gap: 12px;\n",
              "    }\n",
              "\n",
              "    .colab-df-convert {\n",
              "      background-color: #E8F0FE;\n",
              "      border: none;\n",
              "      border-radius: 50%;\n",
              "      cursor: pointer;\n",
              "      display: none;\n",
              "      fill: #1967D2;\n",
              "      height: 32px;\n",
              "      padding: 0 0 0 0;\n",
              "      width: 32px;\n",
              "    }\n",
              "\n",
              "    .colab-df-convert:hover {\n",
              "      background-color: #E2EBFA;\n",
              "      box-shadow: 0px 1px 2px rgba(60, 64, 67, 0.3), 0px 1px 3px 1px rgba(60, 64, 67, 0.15);\n",
              "      fill: #174EA6;\n",
              "    }\n",
              "\n",
              "    .colab-df-buttons div {\n",
              "      margin-bottom: 4px;\n",
              "    }\n",
              "\n",
              "    [theme=dark] .colab-df-convert {\n",
              "      background-color: #3B4455;\n",
              "      fill: #D2E3FC;\n",
              "    }\n",
              "\n",
              "    [theme=dark] .colab-df-convert:hover {\n",
              "      background-color: #434B5C;\n",
              "      box-shadow: 0px 1px 3px 1px rgba(0, 0, 0, 0.15);\n",
              "      filter: drop-shadow(0px 1px 2px rgba(0, 0, 0, 0.3));\n",
              "      fill: #FFFFFF;\n",
              "    }\n",
              "  </style>\n",
              "\n",
              "    <script>\n",
              "      const buttonEl =\n",
              "        document.querySelector('#df-a5e85d82-7982-4f5c-b093-cf2ca7d3803e button.colab-df-convert');\n",
              "      buttonEl.style.display =\n",
              "        google.colab.kernel.accessAllowed ? 'block' : 'none';\n",
              "\n",
              "      async function convertToInteractive(key) {\n",
              "        const element = document.querySelector('#df-a5e85d82-7982-4f5c-b093-cf2ca7d3803e');\n",
              "        const dataTable =\n",
              "          await google.colab.kernel.invokeFunction('convertToInteractive',\n",
              "                                                    [key], {});\n",
              "        if (!dataTable) return;\n",
              "\n",
              "        const docLinkHtml = 'Like what you see? Visit the ' +\n",
              "          '<a target=\"_blank\" href=https://colab.research.google.com/notebooks/data_table.ipynb>data table notebook</a>'\n",
              "          + ' to learn more about interactive tables.';\n",
              "        element.innerHTML = '';\n",
              "        dataTable['output_type'] = 'display_data';\n",
              "        await google.colab.output.renderOutput(dataTable, element);\n",
              "        const docLink = document.createElement('div');\n",
              "        docLink.innerHTML = docLinkHtml;\n",
              "        element.appendChild(docLink);\n",
              "      }\n",
              "    </script>\n",
              "  </div>\n",
              "\n",
              "\n",
              "<div id=\"df-653e44ba-0d9c-4ea1-8a83-4b6cfe29eff2\">\n",
              "  <button class=\"colab-df-quickchart\" onclick=\"quickchart('df-653e44ba-0d9c-4ea1-8a83-4b6cfe29eff2')\"\n",
              "            title=\"Suggest charts\"\n",
              "            style=\"display:none;\">\n",
              "\n",
              "<svg xmlns=\"http://www.w3.org/2000/svg\" height=\"24px\"viewBox=\"0 0 24 24\"\n",
              "     width=\"24px\">\n",
              "    <g>\n",
              "        <path d=\"M19 3H5c-1.1 0-2 .9-2 2v14c0 1.1.9 2 2 2h14c1.1 0 2-.9 2-2V5c0-1.1-.9-2-2-2zM9 17H7v-7h2v7zm4 0h-2V7h2v10zm4 0h-2v-4h2v4z\"/>\n",
              "    </g>\n",
              "</svg>\n",
              "  </button>\n",
              "\n",
              "<style>\n",
              "  .colab-df-quickchart {\n",
              "      --bg-color: #E8F0FE;\n",
              "      --fill-color: #1967D2;\n",
              "      --hover-bg-color: #E2EBFA;\n",
              "      --hover-fill-color: #174EA6;\n",
              "      --disabled-fill-color: #AAA;\n",
              "      --disabled-bg-color: #DDD;\n",
              "  }\n",
              "\n",
              "  [theme=dark] .colab-df-quickchart {\n",
              "      --bg-color: #3B4455;\n",
              "      --fill-color: #D2E3FC;\n",
              "      --hover-bg-color: #434B5C;\n",
              "      --hover-fill-color: #FFFFFF;\n",
              "      --disabled-bg-color: #3B4455;\n",
              "      --disabled-fill-color: #666;\n",
              "  }\n",
              "\n",
              "  .colab-df-quickchart {\n",
              "    background-color: var(--bg-color);\n",
              "    border: none;\n",
              "    border-radius: 50%;\n",
              "    cursor: pointer;\n",
              "    display: none;\n",
              "    fill: var(--fill-color);\n",
              "    height: 32px;\n",
              "    padding: 0;\n",
              "    width: 32px;\n",
              "  }\n",
              "\n",
              "  .colab-df-quickchart:hover {\n",
              "    background-color: var(--hover-bg-color);\n",
              "    box-shadow: 0 1px 2px rgba(60, 64, 67, 0.3), 0 1px 3px 1px rgba(60, 64, 67, 0.15);\n",
              "    fill: var(--button-hover-fill-color);\n",
              "  }\n",
              "\n",
              "  .colab-df-quickchart-complete:disabled,\n",
              "  .colab-df-quickchart-complete:disabled:hover {\n",
              "    background-color: var(--disabled-bg-color);\n",
              "    fill: var(--disabled-fill-color);\n",
              "    box-shadow: none;\n",
              "  }\n",
              "\n",
              "  .colab-df-spinner {\n",
              "    border: 2px solid var(--fill-color);\n",
              "    border-color: transparent;\n",
              "    border-bottom-color: var(--fill-color);\n",
              "    animation:\n",
              "      spin 1s steps(1) infinite;\n",
              "  }\n",
              "\n",
              "  @keyframes spin {\n",
              "    0% {\n",
              "      border-color: transparent;\n",
              "      border-bottom-color: var(--fill-color);\n",
              "      border-left-color: var(--fill-color);\n",
              "    }\n",
              "    20% {\n",
              "      border-color: transparent;\n",
              "      border-left-color: var(--fill-color);\n",
              "      border-top-color: var(--fill-color);\n",
              "    }\n",
              "    30% {\n",
              "      border-color: transparent;\n",
              "      border-left-color: var(--fill-color);\n",
              "      border-top-color: var(--fill-color);\n",
              "      border-right-color: var(--fill-color);\n",
              "    }\n",
              "    40% {\n",
              "      border-color: transparent;\n",
              "      border-right-color: var(--fill-color);\n",
              "      border-top-color: var(--fill-color);\n",
              "    }\n",
              "    60% {\n",
              "      border-color: transparent;\n",
              "      border-right-color: var(--fill-color);\n",
              "    }\n",
              "    80% {\n",
              "      border-color: transparent;\n",
              "      border-right-color: var(--fill-color);\n",
              "      border-bottom-color: var(--fill-color);\n",
              "    }\n",
              "    90% {\n",
              "      border-color: transparent;\n",
              "      border-bottom-color: var(--fill-color);\n",
              "    }\n",
              "  }\n",
              "</style>\n",
              "\n",
              "  <script>\n",
              "    async function quickchart(key) {\n",
              "      const quickchartButtonEl =\n",
              "        document.querySelector('#' + key + ' button');\n",
              "      quickchartButtonEl.disabled = true;  // To prevent multiple clicks.\n",
              "      quickchartButtonEl.classList.add('colab-df-spinner');\n",
              "      try {\n",
              "        const charts = await google.colab.kernel.invokeFunction(\n",
              "            'suggestCharts', [key], {});\n",
              "      } catch (error) {\n",
              "        console.error('Error during call to suggestCharts:', error);\n",
              "      }\n",
              "      quickchartButtonEl.classList.remove('colab-df-spinner');\n",
              "      quickchartButtonEl.classList.add('colab-df-quickchart-complete');\n",
              "    }\n",
              "    (() => {\n",
              "      let quickchartButtonEl =\n",
              "        document.querySelector('#df-653e44ba-0d9c-4ea1-8a83-4b6cfe29eff2 button');\n",
              "      quickchartButtonEl.style.display =\n",
              "        google.colab.kernel.accessAllowed ? 'block' : 'none';\n",
              "    })();\n",
              "  </script>\n",
              "</div>\n",
              "\n",
              "    </div>\n",
              "  </div>\n"
            ],
            "application/vnd.google.colaboratory.intrinsic+json": {
              "type": "dataframe",
              "variable_name": "z"
            }
          },
          "metadata": {},
          "execution_count": 72
        }
      ],
      "source": [
        "z.head()"
      ]
    },
    {
      "cell_type": "code",
      "execution_count": null,
      "metadata": {
        "colab": {
          "base_uri": "https://localhost:8080/",
          "height": 273
        },
        "id": "WGZT7VQPLy2Z",
        "outputId": "c92a9f24-a587-4439-c03a-a8d1c7aa147d"
      },
      "outputs": [
        {
          "output_type": "execute_result",
          "data": {
            "text/plain": [
              "   ESTU_PRGM_DEPARTAMENTO  ESTU_HORASSEMANATRABAJA  FAMI_ESTRATOVIVIENDA  \\\n",
              "0                       5                        5                     2   \n",
              "1                       1                       25                     1   \n",
              "2                       4                        0                     2   \n",
              "3                      27                       25                     0   \n",
              "4                       3                       15                     1   \n",
              "\n",
              "   FAMI_EDUCACIONPADRE  FAMI_EDUCACIONMADRE  \\\n",
              "0                   10                    6   \n",
              "1                    8                   10   \n",
              "2                    9                    8   \n",
              "3                    7                    7   \n",
              "4                    8                    8   \n",
              "\n",
              "   GRUPO_PRGM_ACADEMICO_actividad fisica y deporte  \\\n",
              "0                                                0   \n",
              "1                                                0   \n",
              "2                                                0   \n",
              "3                                                0   \n",
              "4                                                0   \n",
              "\n",
              "   GRUPO_PRGM_ACADEMICO_acuicultura  GRUPO_PRGM_ACADEMICO_administracion  \\\n",
              "0                                 0                                    0   \n",
              "1                                 0                                    1   \n",
              "2                                 0                                    0   \n",
              "3                                 0                                    0   \n",
              "4                                 0                                    1   \n",
              "\n",
              "   GRUPO_PRGM_ACADEMICO_agroindustria  GRUPO_PRGM_ACADEMICO_agronomia  ...  \\\n",
              "0                                   0                               0  ...   \n",
              "1                                   0                               0  ...   \n",
              "2                                   0                               0  ...   \n",
              "3                                   0                               0  ...   \n",
              "4                                   0                               0  ...   \n",
              "\n",
              "   GRUPO_PRGM_ACADEMICO_sociologia  GRUPO_PRGM_ACADEMICO_teatro musical  \\\n",
              "0                                0                                    0   \n",
              "1                                0                                    0   \n",
              "2                                0                                    0   \n",
              "3                                0                                    0   \n",
              "4                                0                                    0   \n",
              "\n",
              "   GRUPO_PRGM_ACADEMICO_teologia  GRUPO_PRGM_ACADEMICO_terapia  \\\n",
              "0                              0                             0   \n",
              "1                              0                             0   \n",
              "2                              0                             0   \n",
              "3                              0                             0   \n",
              "4                              0                             0   \n",
              "\n",
              "   GRUPO_PRGM_ACADEMICO_trabajo social  \\\n",
              "0                                    1   \n",
              "1                                    0   \n",
              "2                                    0   \n",
              "3                                    0   \n",
              "4                                    0   \n",
              "\n",
              "   GRUPO_PRGM_ACADEMICO_traduccion ingles frances espanol  \\\n",
              "0                                                  0        \n",
              "1                                                  0        \n",
              "2                                                  0        \n",
              "3                                                  0        \n",
              "4                                                  0        \n",
              "\n",
              "   GRUPO_PRGM_ACADEMICO_turismo  GRUPO_PRGM_ACADEMICO_urbanismo  \\\n",
              "0                             0                               0   \n",
              "1                             0                               0   \n",
              "2                             0                               0   \n",
              "3                             0                               0   \n",
              "4                             0                               0   \n",
              "\n",
              "   GRUPO_PRGM_ACADEMICO_zootecnia  FAMI_TIENEINTERNET_si  \n",
              "0                               0                      1  \n",
              "1                               0                      1  \n",
              "2                               0                      1  \n",
              "3                               0                      0  \n",
              "4                               0                      1  \n",
              "\n",
              "[5 rows x 122 columns]"
            ],
            "text/html": [
              "\n",
              "  <div id=\"df-795fea6e-89bc-4347-9534-53f2c02d9e5b\" class=\"colab-df-container\">\n",
              "    <div>\n",
              "<style scoped>\n",
              "    .dataframe tbody tr th:only-of-type {\n",
              "        vertical-align: middle;\n",
              "    }\n",
              "\n",
              "    .dataframe tbody tr th {\n",
              "        vertical-align: top;\n",
              "    }\n",
              "\n",
              "    .dataframe thead th {\n",
              "        text-align: right;\n",
              "    }\n",
              "</style>\n",
              "<table border=\"1\" class=\"dataframe\">\n",
              "  <thead>\n",
              "    <tr style=\"text-align: right;\">\n",
              "      <th></th>\n",
              "      <th>ESTU_PRGM_DEPARTAMENTO</th>\n",
              "      <th>ESTU_HORASSEMANATRABAJA</th>\n",
              "      <th>FAMI_ESTRATOVIVIENDA</th>\n",
              "      <th>FAMI_EDUCACIONPADRE</th>\n",
              "      <th>FAMI_EDUCACIONMADRE</th>\n",
              "      <th>GRUPO_PRGM_ACADEMICO_actividad fisica y deporte</th>\n",
              "      <th>GRUPO_PRGM_ACADEMICO_acuicultura</th>\n",
              "      <th>GRUPO_PRGM_ACADEMICO_administracion</th>\n",
              "      <th>GRUPO_PRGM_ACADEMICO_agroindustria</th>\n",
              "      <th>GRUPO_PRGM_ACADEMICO_agronomia</th>\n",
              "      <th>...</th>\n",
              "      <th>GRUPO_PRGM_ACADEMICO_sociologia</th>\n",
              "      <th>GRUPO_PRGM_ACADEMICO_teatro musical</th>\n",
              "      <th>GRUPO_PRGM_ACADEMICO_teologia</th>\n",
              "      <th>GRUPO_PRGM_ACADEMICO_terapia</th>\n",
              "      <th>GRUPO_PRGM_ACADEMICO_trabajo social</th>\n",
              "      <th>GRUPO_PRGM_ACADEMICO_traduccion ingles frances espanol</th>\n",
              "      <th>GRUPO_PRGM_ACADEMICO_turismo</th>\n",
              "      <th>GRUPO_PRGM_ACADEMICO_urbanismo</th>\n",
              "      <th>GRUPO_PRGM_ACADEMICO_zootecnia</th>\n",
              "      <th>FAMI_TIENEINTERNET_si</th>\n",
              "    </tr>\n",
              "  </thead>\n",
              "  <tbody>\n",
              "    <tr>\n",
              "      <th>0</th>\n",
              "      <td>5</td>\n",
              "      <td>5</td>\n",
              "      <td>2</td>\n",
              "      <td>10</td>\n",
              "      <td>6</td>\n",
              "      <td>0</td>\n",
              "      <td>0</td>\n",
              "      <td>0</td>\n",
              "      <td>0</td>\n",
              "      <td>0</td>\n",
              "      <td>...</td>\n",
              "      <td>0</td>\n",
              "      <td>0</td>\n",
              "      <td>0</td>\n",
              "      <td>0</td>\n",
              "      <td>1</td>\n",
              "      <td>0</td>\n",
              "      <td>0</td>\n",
              "      <td>0</td>\n",
              "      <td>0</td>\n",
              "      <td>1</td>\n",
              "    </tr>\n",
              "    <tr>\n",
              "      <th>1</th>\n",
              "      <td>1</td>\n",
              "      <td>25</td>\n",
              "      <td>1</td>\n",
              "      <td>8</td>\n",
              "      <td>10</td>\n",
              "      <td>0</td>\n",
              "      <td>0</td>\n",
              "      <td>1</td>\n",
              "      <td>0</td>\n",
              "      <td>0</td>\n",
              "      <td>...</td>\n",
              "      <td>0</td>\n",
              "      <td>0</td>\n",
              "      <td>0</td>\n",
              "      <td>0</td>\n",
              "      <td>0</td>\n",
              "      <td>0</td>\n",
              "      <td>0</td>\n",
              "      <td>0</td>\n",
              "      <td>0</td>\n",
              "      <td>1</td>\n",
              "    </tr>\n",
              "    <tr>\n",
              "      <th>2</th>\n",
              "      <td>4</td>\n",
              "      <td>0</td>\n",
              "      <td>2</td>\n",
              "      <td>9</td>\n",
              "      <td>8</td>\n",
              "      <td>0</td>\n",
              "      <td>0</td>\n",
              "      <td>0</td>\n",
              "      <td>0</td>\n",
              "      <td>0</td>\n",
              "      <td>...</td>\n",
              "      <td>0</td>\n",
              "      <td>0</td>\n",
              "      <td>0</td>\n",
              "      <td>0</td>\n",
              "      <td>0</td>\n",
              "      <td>0</td>\n",
              "      <td>0</td>\n",
              "      <td>0</td>\n",
              "      <td>0</td>\n",
              "      <td>1</td>\n",
              "    </tr>\n",
              "    <tr>\n",
              "      <th>3</th>\n",
              "      <td>27</td>\n",
              "      <td>25</td>\n",
              "      <td>0</td>\n",
              "      <td>7</td>\n",
              "      <td>7</td>\n",
              "      <td>0</td>\n",
              "      <td>0</td>\n",
              "      <td>0</td>\n",
              "      <td>0</td>\n",
              "      <td>0</td>\n",
              "      <td>...</td>\n",
              "      <td>0</td>\n",
              "      <td>0</td>\n",
              "      <td>0</td>\n",
              "      <td>0</td>\n",
              "      <td>0</td>\n",
              "      <td>0</td>\n",
              "      <td>0</td>\n",
              "      <td>0</td>\n",
              "      <td>0</td>\n",
              "      <td>0</td>\n",
              "    </tr>\n",
              "    <tr>\n",
              "      <th>4</th>\n",
              "      <td>3</td>\n",
              "      <td>15</td>\n",
              "      <td>1</td>\n",
              "      <td>8</td>\n",
              "      <td>8</td>\n",
              "      <td>0</td>\n",
              "      <td>0</td>\n",
              "      <td>1</td>\n",
              "      <td>0</td>\n",
              "      <td>0</td>\n",
              "      <td>...</td>\n",
              "      <td>0</td>\n",
              "      <td>0</td>\n",
              "      <td>0</td>\n",
              "      <td>0</td>\n",
              "      <td>0</td>\n",
              "      <td>0</td>\n",
              "      <td>0</td>\n",
              "      <td>0</td>\n",
              "      <td>0</td>\n",
              "      <td>1</td>\n",
              "    </tr>\n",
              "  </tbody>\n",
              "</table>\n",
              "<p>5 rows × 122 columns</p>\n",
              "</div>\n",
              "    <div class=\"colab-df-buttons\">\n",
              "\n",
              "  <div class=\"colab-df-container\">\n",
              "    <button class=\"colab-df-convert\" onclick=\"convertToInteractive('df-795fea6e-89bc-4347-9534-53f2c02d9e5b')\"\n",
              "            title=\"Convert this dataframe to an interactive table.\"\n",
              "            style=\"display:none;\">\n",
              "\n",
              "  <svg xmlns=\"http://www.w3.org/2000/svg\" height=\"24px\" viewBox=\"0 -960 960 960\">\n",
              "    <path d=\"M120-120v-720h720v720H120Zm60-500h600v-160H180v160Zm220 220h160v-160H400v160Zm0 220h160v-160H400v160ZM180-400h160v-160H180v160Zm440 0h160v-160H620v160ZM180-180h160v-160H180v160Zm440 0h160v-160H620v160Z\"/>\n",
              "  </svg>\n",
              "    </button>\n",
              "\n",
              "  <style>\n",
              "    .colab-df-container {\n",
              "      display:flex;\n",
              "      gap: 12px;\n",
              "    }\n",
              "\n",
              "    .colab-df-convert {\n",
              "      background-color: #E8F0FE;\n",
              "      border: none;\n",
              "      border-radius: 50%;\n",
              "      cursor: pointer;\n",
              "      display: none;\n",
              "      fill: #1967D2;\n",
              "      height: 32px;\n",
              "      padding: 0 0 0 0;\n",
              "      width: 32px;\n",
              "    }\n",
              "\n",
              "    .colab-df-convert:hover {\n",
              "      background-color: #E2EBFA;\n",
              "      box-shadow: 0px 1px 2px rgba(60, 64, 67, 0.3), 0px 1px 3px 1px rgba(60, 64, 67, 0.15);\n",
              "      fill: #174EA6;\n",
              "    }\n",
              "\n",
              "    .colab-df-buttons div {\n",
              "      margin-bottom: 4px;\n",
              "    }\n",
              "\n",
              "    [theme=dark] .colab-df-convert {\n",
              "      background-color: #3B4455;\n",
              "      fill: #D2E3FC;\n",
              "    }\n",
              "\n",
              "    [theme=dark] .colab-df-convert:hover {\n",
              "      background-color: #434B5C;\n",
              "      box-shadow: 0px 1px 3px 1px rgba(0, 0, 0, 0.15);\n",
              "      filter: drop-shadow(0px 1px 2px rgba(0, 0, 0, 0.3));\n",
              "      fill: #FFFFFF;\n",
              "    }\n",
              "  </style>\n",
              "\n",
              "    <script>\n",
              "      const buttonEl =\n",
              "        document.querySelector('#df-795fea6e-89bc-4347-9534-53f2c02d9e5b button.colab-df-convert');\n",
              "      buttonEl.style.display =\n",
              "        google.colab.kernel.accessAllowed ? 'block' : 'none';\n",
              "\n",
              "      async function convertToInteractive(key) {\n",
              "        const element = document.querySelector('#df-795fea6e-89bc-4347-9534-53f2c02d9e5b');\n",
              "        const dataTable =\n",
              "          await google.colab.kernel.invokeFunction('convertToInteractive',\n",
              "                                                    [key], {});\n",
              "        if (!dataTable) return;\n",
              "\n",
              "        const docLinkHtml = 'Like what you see? Visit the ' +\n",
              "          '<a target=\"_blank\" href=https://colab.research.google.com/notebooks/data_table.ipynb>data table notebook</a>'\n",
              "          + ' to learn more about interactive tables.';\n",
              "        element.innerHTML = '';\n",
              "        dataTable['output_type'] = 'display_data';\n",
              "        await google.colab.output.renderOutput(dataTable, element);\n",
              "        const docLink = document.createElement('div');\n",
              "        docLink.innerHTML = docLinkHtml;\n",
              "        element.appendChild(docLink);\n",
              "      }\n",
              "    </script>\n",
              "  </div>\n",
              "\n",
              "\n",
              "<div id=\"df-df7b9ffb-e1ac-4e22-879c-4b44d02ae127\">\n",
              "  <button class=\"colab-df-quickchart\" onclick=\"quickchart('df-df7b9ffb-e1ac-4e22-879c-4b44d02ae127')\"\n",
              "            title=\"Suggest charts\"\n",
              "            style=\"display:none;\">\n",
              "\n",
              "<svg xmlns=\"http://www.w3.org/2000/svg\" height=\"24px\"viewBox=\"0 0 24 24\"\n",
              "     width=\"24px\">\n",
              "    <g>\n",
              "        <path d=\"M19 3H5c-1.1 0-2 .9-2 2v14c0 1.1.9 2 2 2h14c1.1 0 2-.9 2-2V5c0-1.1-.9-2-2-2zM9 17H7v-7h2v7zm4 0h-2V7h2v10zm4 0h-2v-4h2v4z\"/>\n",
              "    </g>\n",
              "</svg>\n",
              "  </button>\n",
              "\n",
              "<style>\n",
              "  .colab-df-quickchart {\n",
              "      --bg-color: #E8F0FE;\n",
              "      --fill-color: #1967D2;\n",
              "      --hover-bg-color: #E2EBFA;\n",
              "      --hover-fill-color: #174EA6;\n",
              "      --disabled-fill-color: #AAA;\n",
              "      --disabled-bg-color: #DDD;\n",
              "  }\n",
              "\n",
              "  [theme=dark] .colab-df-quickchart {\n",
              "      --bg-color: #3B4455;\n",
              "      --fill-color: #D2E3FC;\n",
              "      --hover-bg-color: #434B5C;\n",
              "      --hover-fill-color: #FFFFFF;\n",
              "      --disabled-bg-color: #3B4455;\n",
              "      --disabled-fill-color: #666;\n",
              "  }\n",
              "\n",
              "  .colab-df-quickchart {\n",
              "    background-color: var(--bg-color);\n",
              "    border: none;\n",
              "    border-radius: 50%;\n",
              "    cursor: pointer;\n",
              "    display: none;\n",
              "    fill: var(--fill-color);\n",
              "    height: 32px;\n",
              "    padding: 0;\n",
              "    width: 32px;\n",
              "  }\n",
              "\n",
              "  .colab-df-quickchart:hover {\n",
              "    background-color: var(--hover-bg-color);\n",
              "    box-shadow: 0 1px 2px rgba(60, 64, 67, 0.3), 0 1px 3px 1px rgba(60, 64, 67, 0.15);\n",
              "    fill: var(--button-hover-fill-color);\n",
              "  }\n",
              "\n",
              "  .colab-df-quickchart-complete:disabled,\n",
              "  .colab-df-quickchart-complete:disabled:hover {\n",
              "    background-color: var(--disabled-bg-color);\n",
              "    fill: var(--disabled-fill-color);\n",
              "    box-shadow: none;\n",
              "  }\n",
              "\n",
              "  .colab-df-spinner {\n",
              "    border: 2px solid var(--fill-color);\n",
              "    border-color: transparent;\n",
              "    border-bottom-color: var(--fill-color);\n",
              "    animation:\n",
              "      spin 1s steps(1) infinite;\n",
              "  }\n",
              "\n",
              "  @keyframes spin {\n",
              "    0% {\n",
              "      border-color: transparent;\n",
              "      border-bottom-color: var(--fill-color);\n",
              "      border-left-color: var(--fill-color);\n",
              "    }\n",
              "    20% {\n",
              "      border-color: transparent;\n",
              "      border-left-color: var(--fill-color);\n",
              "      border-top-color: var(--fill-color);\n",
              "    }\n",
              "    30% {\n",
              "      border-color: transparent;\n",
              "      border-left-color: var(--fill-color);\n",
              "      border-top-color: var(--fill-color);\n",
              "      border-right-color: var(--fill-color);\n",
              "    }\n",
              "    40% {\n",
              "      border-color: transparent;\n",
              "      border-right-color: var(--fill-color);\n",
              "      border-top-color: var(--fill-color);\n",
              "    }\n",
              "    60% {\n",
              "      border-color: transparent;\n",
              "      border-right-color: var(--fill-color);\n",
              "    }\n",
              "    80% {\n",
              "      border-color: transparent;\n",
              "      border-right-color: var(--fill-color);\n",
              "      border-bottom-color: var(--fill-color);\n",
              "    }\n",
              "    90% {\n",
              "      border-color: transparent;\n",
              "      border-bottom-color: var(--fill-color);\n",
              "    }\n",
              "  }\n",
              "</style>\n",
              "\n",
              "  <script>\n",
              "    async function quickchart(key) {\n",
              "      const quickchartButtonEl =\n",
              "        document.querySelector('#' + key + ' button');\n",
              "      quickchartButtonEl.disabled = true;  // To prevent multiple clicks.\n",
              "      quickchartButtonEl.classList.add('colab-df-spinner');\n",
              "      try {\n",
              "        const charts = await google.colab.kernel.invokeFunction(\n",
              "            'suggestCharts', [key], {});\n",
              "      } catch (error) {\n",
              "        console.error('Error during call to suggestCharts:', error);\n",
              "      }\n",
              "      quickchartButtonEl.classList.remove('colab-df-spinner');\n",
              "      quickchartButtonEl.classList.add('colab-df-quickchart-complete');\n",
              "    }\n",
              "    (() => {\n",
              "      let quickchartButtonEl =\n",
              "        document.querySelector('#df-df7b9ffb-e1ac-4e22-879c-4b44d02ae127 button');\n",
              "      quickchartButtonEl.style.display =\n",
              "        google.colab.kernel.accessAllowed ? 'block' : 'none';\n",
              "    })();\n",
              "  </script>\n",
              "</div>\n",
              "\n",
              "    </div>\n",
              "  </div>\n"
            ],
            "application/vnd.google.colaboratory.intrinsic+json": {
              "type": "dataframe",
              "variable_name": "p"
            }
          },
          "metadata": {},
          "execution_count": 73
        }
      ],
      "source": [
        "p.head()"
      ]
    },
    {
      "cell_type": "code",
      "source": [
        "#guardar el dataframe limpio\n",
        "\n",
        "p.to_csv(\"datos_limpios_test_label_one_hot.csv\", index=False)\n",
        "z.to_csv(\"datos_limpios_train_label_one_hot.csv\", index=False)"
      ],
      "metadata": {
        "id": "SFv43N6lwqmO"
      },
      "execution_count": null,
      "outputs": []
    },
    {
      "cell_type": "markdown",
      "metadata": {
        "id": "C2Vl3wAZ6YOb"
      },
      "source": [
        "## Entrenamiento y Validación del Modelo Gradielt Boosting"
      ]
    },
    {
      "cell_type": "markdown",
      "source": [
        "Para un problema de clasificación multinomial como el que describes, con clases de rendimiento categorizadas en niveles (alto, bajo, medio alto, medio bajo), es importante elegir una métrica que nos permita evaluar el rendimiento considerando todas las clases.\n",
        "\n",
        "- ### f1_weighted:\n",
        "\n",
        " Esta métrica calcula el puntaje F1 para cada clase y luego hace un promedio ponderado según la cantidad de instancias en cada clase.\n",
        " Es útil para problemas de clasificación multicategoría, especialmente si las clases están desbalanceadas, ya que evita que las clases más comunes dominen la evaluación del modelo.\n",
        " Se especifica como scoring='f1_weighted'\n",
        "\n",
        "- ### precision_weighted o recall_weighted:\n",
        "\n",
        " precision_weighted: Útil si es particularmente importante evitar falsos positivos en ciertas clases. Esta métrica considera el balance de clases y puede ser útil si algunas clases no deben ser sobre-predichas.\n",
        " recall_weighted: Mide la capacidad de detectar todos los casos en cada clase, útil si deseas minimizar los falsos negativos en todas las clases.\n",
        " Se especifican como scoring='precision_weighted' o scoring='recall_weighted'."
      ],
      "metadata": {
        "id": "Zpc7XjBl30ee"
      }
    },
    {
      "cell_type": "code",
      "source": [
        "!pip install \"dask[dataframe]\""
      ],
      "metadata": {
        "colab": {
          "base_uri": "https://localhost:8080/"
        },
        "id": "GjZJYDuSIdzP",
        "outputId": "8579e088-ec9c-467e-ece7-cbbc52905deb"
      },
      "execution_count": null,
      "outputs": [
        {
          "output_type": "stream",
          "name": "stdout",
          "text": [
            "Requirement already satisfied: dask[dataframe] in /usr/local/lib/python3.10/dist-packages (2024.10.0)\n",
            "Requirement already satisfied: click>=8.1 in /usr/local/lib/python3.10/dist-packages (from dask[dataframe]) (8.1.7)\n",
            "Requirement already satisfied: cloudpickle>=3.0.0 in /usr/local/lib/python3.10/dist-packages (from dask[dataframe]) (3.1.0)\n",
            "Requirement already satisfied: fsspec>=2021.09.0 in /usr/local/lib/python3.10/dist-packages (from dask[dataframe]) (2024.10.0)\n",
            "Requirement already satisfied: packaging>=20.0 in /usr/local/lib/python3.10/dist-packages (from dask[dataframe]) (24.2)\n",
            "Requirement already satisfied: partd>=1.4.0 in /usr/local/lib/python3.10/dist-packages (from dask[dataframe]) (1.4.2)\n",
            "Requirement already satisfied: pyyaml>=5.3.1 in /usr/local/lib/python3.10/dist-packages (from dask[dataframe]) (6.0.2)\n",
            "Requirement already satisfied: toolz>=0.10.0 in /usr/local/lib/python3.10/dist-packages (from dask[dataframe]) (0.12.1)\n",
            "Requirement already satisfied: importlib-metadata>=4.13.0 in /usr/local/lib/python3.10/dist-packages (from dask[dataframe]) (8.5.0)\n",
            "Requirement already satisfied: pandas>=2.0 in /usr/local/lib/python3.10/dist-packages (from dask[dataframe]) (2.2.2)\n",
            "Requirement already satisfied: dask-expr<1.2,>=1.1 in /usr/local/lib/python3.10/dist-packages (from dask[dataframe]) (1.1.16)\n",
            "Requirement already satisfied: pyarrow>=14.0.1 in /usr/local/lib/python3.10/dist-packages (from dask-expr<1.2,>=1.1->dask[dataframe]) (17.0.0)\n",
            "Requirement already satisfied: zipp>=3.20 in /usr/local/lib/python3.10/dist-packages (from importlib-metadata>=4.13.0->dask[dataframe]) (3.21.0)\n",
            "Requirement already satisfied: numpy>=1.22.4 in /usr/local/lib/python3.10/dist-packages (from pandas>=2.0->dask[dataframe]) (1.26.4)\n",
            "Requirement already satisfied: python-dateutil>=2.8.2 in /usr/local/lib/python3.10/dist-packages (from pandas>=2.0->dask[dataframe]) (2.8.2)\n",
            "Requirement already satisfied: pytz>=2020.1 in /usr/local/lib/python3.10/dist-packages (from pandas>=2.0->dask[dataframe]) (2024.2)\n",
            "Requirement already satisfied: tzdata>=2022.7 in /usr/local/lib/python3.10/dist-packages (from pandas>=2.0->dask[dataframe]) (2024.2)\n",
            "Requirement already satisfied: locket in /usr/local/lib/python3.10/dist-packages (from partd>=1.4.0->dask[dataframe]) (1.0.0)\n",
            "Requirement already satisfied: six>=1.5 in /usr/local/lib/python3.10/dist-packages (from python-dateutil>=2.8.2->pandas>=2.0->dask[dataframe]) (1.16.0)\n"
          ]
        }
      ]
    },
    {
      "cell_type": "code",
      "source": [
        "X = z.drop('RENDIMIENTO_GLOBAL', axis=1)\n",
        "y = z['RENDIMIENTO_GLOBAL']\n",
        "\n",
        "X_train, X_test, y_train, y_test = train_test_split(X, y, test_size=0.2, random_state=42)"
      ],
      "metadata": {
        "id": "CC0s8q2xMyzr"
      },
      "execution_count": 90,
      "outputs": []
    },
    {
      "cell_type": "code",
      "source": [
        "from sklearn.ensemble import GradientBoostingClassifier\n",
        "\n",
        "gb_model = GradientBoostingClassifier(\n",
        "    n_estimators=100,        # Número de árboles\n",
        "    learning_rate=0.1,       # Tasa de aprendizaje\n",
        "    max_depth=3,             # Profundidad máxima de los árboles\n",
        "    random_state=42          # Asegurar reproducibilidad\n",
        ")"
      ],
      "metadata": {
        "id": "sljl_OntIPJp"
      },
      "execution_count": null,
      "outputs": []
    },
    {
      "cell_type": "code",
      "source": [
        "gb_model.fit(X_train, y_train)\n",
        "print(\"Modelo entrenado exitosamente.\")\n",
        "\n",
        "# Guardar el modelo entrenado\n",
        "joblib.dump(gb_model, 'gradient_boosting_model.pkl')\n",
        "print(\"Modelo guardado exitosamente en 'gradient_boosting_model.pkl'\")"
      ],
      "metadata": {
        "colab": {
          "base_uri": "https://localhost:8080/"
        },
        "id": "CHUrn-zrIn_O",
        "outputId": "d0a63f02-f446-4770-9d13-b16c2e5bfb01"
      },
      "execution_count": null,
      "outputs": [
        {
          "output_type": "stream",
          "name": "stdout",
          "text": [
            "Modelo entrenado exitosamente.\n",
            "Modelo guardado exitosamente en 'gradient_boosting_model.pkl'\n"
          ]
        }
      ]
    },
    {
      "cell_type": "code",
      "source": [
        "model = joblib.load('gradient_boosting_model.pkl')"
      ],
      "metadata": {
        "id": "IfjyN_qwlaAw"
      },
      "execution_count": 18,
      "outputs": []
    },
    {
      "cell_type": "code",
      "source": [
        "y_pred = model.predict(X_test)\n",
        "\n",
        "\n",
        "accuracy = accuracy_score(y_test, y_pred)\n",
        "print(f\"Accuracy: {accuracy}\")\n",
        "print(\"Reporte de Clasificación:\")\n",
        "print(classification_report(y_test, y_pred))\n"
      ],
      "metadata": {
        "colab": {
          "base_uri": "https://localhost:8080/"
        },
        "id": "nfH_n3tznySO",
        "outputId": "fc3b402f-f9d6-408d-97d6-c8b18404b038"
      },
      "execution_count": 92,
      "outputs": [
        {
          "output_type": "stream",
          "name": "stdout",
          "text": [
            "Accuracy: 0.3869975705015838\n",
            "Reporte de Clasificación:\n",
            "              precision    recall  f1-score   support\n",
            "\n",
            "           0       0.47      0.58      0.52     33462\n",
            "           1       0.41      0.48      0.44     32147\n",
            "           2       0.30      0.23      0.26     32252\n",
            "           3       0.31      0.25      0.27     32207\n",
            "\n",
            "    accuracy                           0.39    130068\n",
            "   macro avg       0.37      0.39      0.37    130068\n",
            "weighted avg       0.37      0.39      0.38    130068\n",
            "\n"
          ]
        }
      ]
    },
    {
      "cell_type": "code",
      "source": [],
      "metadata": {
        "id": "H8GkLdtxJDye"
      },
      "execution_count": null,
      "outputs": []
    }
  ],
  "metadata": {
    "colab": {
      "provenance": []
    },
    "kernelspec": {
      "display_name": "Python 3",
      "name": "python3"
    },
    "language_info": {
      "name": "python"
    }
  },
  "nbformat": 4,
  "nbformat_minor": 0
}