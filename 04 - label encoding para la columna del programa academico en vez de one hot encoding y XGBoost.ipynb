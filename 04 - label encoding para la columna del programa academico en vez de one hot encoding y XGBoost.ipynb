{
  "cells": [
    {
      "cell_type": "markdown",
      "metadata": {
        "id": "vM_DHPb6s1L-"
      },
      "source": [
        "# Análisis y Predicción de Rendimiento en Pruebas Saber Pro\n"
      ]
    },
    {
      "cell_type": "markdown",
      "metadata": {
        "id": "QOY4gbZffT8t"
      },
      "source": [
        "## Introducción\n",
        "Las Pruebas Saber Pro son exámenes estandarizados administrados en Colombia para evaluar la calidad y el nivel de conocimiento y competencias de los estudiantes de educación superior. Estas pruebas, que abarcan cinco componentes genéricos (Inglés, Lectura Crítica, Competencias Ciudadanas, Razonamiento Cuantitativo y Comunicación Escrita), son fundamentales para los esfuerzos del Gobierno colombiano en monitorear y mejorar la calidad de la educación superior en el país."
      ]
    },
    {
      "cell_type": "markdown",
      "metadata": {
        "id": "tzA7v8IcfFRy"
      },
      "source": [
        "## Objetivo del proyecto\n",
        "El objetivo principal de este proyecto es desarrollar un modelo de clasificación que prediga el desempeño de cada estudiante en las Pruebas Saber Pro, categorizándolo como bajo, medio-bajo, medio-alto o alto."
      ]
    },
    {
      "cell_type": "markdown",
      "metadata": {
        "id": "C3CGadE3fPCP"
      },
      "source": [
        "## Enfoque Actual: Limpieza, Pre-prosesamiento de Datos y Modelo\n",
        "\n",
        "En esta etapa del proyecto, nos centraremos en tres aspectos :\n",
        "\n",
        "En esta etapa del proyecto, nos enfocaremos en la limpieza y preprocesamiento de los datos para asegurar que el modelo se entrene y pruebe de manera efectiva en ambos conjuntos de datos, de entrenamiento y de prueba.\n",
        "\n",
        "Limpieza de Datos: Prepararemos el conjunto de datos de entrenamiento, identificando y corrigiendo problemas como valores faltantes, outliers y formatos inconsistentes. Esta limpieza también se extiende al conjunto de datos de prueba, que debe estar en las mismas condiciones que el de entrenamiento para una evaluación justa. Utilizaremos métodos adecuados de imputación para los valores NaN, manteniendo la distribución original de los datos y evitando sesgos.\n",
        "\n",
        "Selección de Variables: Realizaremos un análisis exhaustivo de las características disponibles para identificar las variables más relevantes en la predicción de la columna RENDIMIENTO_GLOBAL. Seleccionaremos aquellas variables que ofrezcan el mayor poder predictivo, reduciendo la dimensionalidad del modelo y optimizando su rendimiento.\n",
        "\n",
        "Entrenamiento y Prueba del Modelo: Tras el preprocesamiento, entrenaremos el modelo con el conjunto de datos de entrenamiento y evaluaremos su desempeño con el conjunto de datos de prueba. Este paso nos permitirá validar la capacidad predictiva del modelo y ajustar sus parámetros para obtener resultados óptimos en términos de precisión y generalización."
      ]
    },
    {
      "cell_type": "markdown",
      "metadata": {
        "id": "1AMViic4f1YS"
      },
      "source": [
        "## Estructura del Notebook\n",
        "\n",
        "Este notebook guiará a través del proceso de limpieza de datos y selección de variables, sentando las bases para el desarrollo del modelo predictivo. Las secciones incluirán:\n",
        "\n",
        "- Carga y exploración inicial de datos\n",
        "- Exploración del Dataset\n",
        "- Limpieza de datos\n",
        "- Resultados de la limpieza y preprocesamiento de datos\n",
        "- Entremiento y prueba del Modelo"
      ]
    },
    {
      "cell_type": "markdown",
      "metadata": {
        "id": "btkv2czJgMCT"
      },
      "source": [
        "# Limpieza y Pre-procesamiento de los datos"
      ]
    },
    {
      "cell_type": "markdown",
      "metadata": {
        "id": "hkZhJrM2t8oL"
      },
      "source": [
        "## Carga y exploración inicial de datos"
      ]
    },
    {
      "cell_type": "markdown",
      "metadata": {
        "id": "EpfoZYKluex3"
      },
      "source": [
        "### Instalación de librerias necesarias"
      ]
    },
    {
      "cell_type": "code",
      "execution_count": null,
      "metadata": {
        "colab": {
          "base_uri": "https://localhost:8080/",
          "height": 58
        },
        "id": "Ntq2GquPMFQH",
        "outputId": "b6d0a1e7-2047-42e7-a7a6-ab4ed84f4bc9"
      },
      "outputs": [
        {
          "output_type": "display_data",
          "data": {
            "text/plain": [
              "<IPython.core.display.HTML object>"
            ],
            "text/html": [
              "\n",
              "<meta name=\"google-signin-client_id\"\n",
              "      content=\"461673936472-kdjosv61up3ac1ajeuq6qqu72upilmls.apps.googleusercontent.com\"/>\n",
              "<script src=\"https://apis.google.com/js/client:platform.js?onload=google_button_start\"></script>\n",
              "    "
            ]
          },
          "metadata": {}
        },
        {
          "output_type": "execute_result",
          "data": {
            "text/plain": [
              "<IPython.core.display.HTML object>"
            ],
            "text/html": [
              "<h3>See <a href='https://m5knaekxo6.execute-api.us-west-2.amazonaws.com/dev-v0001/rlxmooc/web/login' target='_blank'>my courses and progress</a></h2>"
            ]
          },
          "metadata": {},
          "execution_count": 1
        }
      ],
      "source": [
        "!wget --no-cache -O init.py -q https://raw.githubusercontent.com/rramosp/ai4eng.v1/main/content/init.py\n",
        "import init; init.init(force_download=False); init.get_weblink()"
      ]
    },
    {
      "cell_type": "markdown",
      "metadata": {
        "id": "num5TsbpMTgD"
      },
      "source": [
        "### Carga del dataset desde Kaggle"
      ]
    },
    {
      "cell_type": "code",
      "execution_count": null,
      "metadata": {
        "colab": {
          "base_uri": "https://localhost:8080/"
        },
        "id": "D1bR5xAIMR4Q",
        "outputId": "61f288bf-dda1-4bf3-e13b-2644a681db5c"
      },
      "outputs": [
        {
          "output_type": "stream",
          "name": "stdout",
          "text": [
            "udea-ai4eng-20242.zip: Skipping, found more recently modified local copy (use --force to force download)\n"
          ]
        }
      ],
      "source": [
        "import os\n",
        "os.environ['KAGGLE_CONFIG_DIR'] = '.'\n",
        "!chmod 600 ./kaggle.json\n",
        "!kaggle competitions download -c udea-ai4eng-20242"
      ]
    },
    {
      "cell_type": "markdown",
      "metadata": {
        "id": "uZjO4QCwiw8N"
      },
      "source": []
    },
    {
      "cell_type": "markdown",
      "metadata": {
        "id": "oJ5c4RguNKq0"
      },
      "source": [
        "### Descomprimir data\n"
      ]
    },
    {
      "cell_type": "code",
      "execution_count": null,
      "metadata": {
        "id": "lPKC4dbyM-p1",
        "colab": {
          "base_uri": "https://localhost:8080/"
        },
        "outputId": "bcaac4e2-8ab1-4962-e6d5-0ecb1f0c6642"
      },
      "outputs": [
        {
          "output_type": "stream",
          "name": "stdout",
          "text": [
            "replace submission_example.csv? [y]es, [n]o, [A]ll, [N]one, [r]ename: y\n",
            "replace test.csv? [y]es, [n]o, [A]ll, [N]one, [r]ename: y\n",
            "replace train.csv? [y]es, [n]o, [A]ll, [N]one, [r]ename: y\n"
          ]
        }
      ],
      "source": [
        "!unzip udea*.zip > /dev/null"
      ]
    },
    {
      "cell_type": "code",
      "execution_count": null,
      "metadata": {
        "colab": {
          "base_uri": "https://localhost:8080/"
        },
        "id": "Bjn99rYNNDpl",
        "outputId": "29b6ad80-3db0-444b-da28-32bff2c5f573"
      },
      "outputs": [
        {
          "output_type": "stream",
          "name": "stdout",
          "text": [
            "   296787    296787   4716673 submission_example.csv\n",
            "   296787   4565553  50135751 test.csv\n",
            "   692501  10666231 118025055 train.csv\n",
            "  1286075  15528571 172877479 total\n"
          ]
        }
      ],
      "source": [
        "!wc *.csv"
      ]
    },
    {
      "cell_type": "markdown",
      "metadata": {
        "id": "iLnrm-4Oi-_k"
      },
      "source": [
        "### Instalaciones e importaciones"
      ]
    },
    {
      "cell_type": "code",
      "execution_count": null,
      "metadata": {
        "colab": {
          "base_uri": "https://localhost:8080/"
        },
        "id": "xW4Z0k4bimwT",
        "outputId": "0a17309e-60d2-438e-a9be-a1891eae59d5"
      },
      "outputs": [
        {
          "output_type": "stream",
          "name": "stdout",
          "text": [
            "Requirement already satisfied: fuzzywuzzy in /usr/local/lib/python3.10/dist-packages (0.18.0)\n",
            "Requirement already satisfied: python-Levenshtein in /usr/local/lib/python3.10/dist-packages (0.26.1)\n",
            "Requirement already satisfied: Levenshtein==0.26.1 in /usr/local/lib/python3.10/dist-packages (from python-Levenshtein) (0.26.1)\n",
            "Requirement already satisfied: rapidfuzz<4.0.0,>=3.9.0 in /usr/local/lib/python3.10/dist-packages (from Levenshtein==0.26.1->python-Levenshtein) (3.10.1)\n",
            "Requirement already satisfied: pandas in /usr/local/lib/python3.10/dist-packages (2.2.2)\n",
            "Requirement already satisfied: scikit-learn in /usr/local/lib/python3.10/dist-packages (1.5.2)\n",
            "Requirement already satisfied: fuzzywuzzy in /usr/local/lib/python3.10/dist-packages (0.18.0)\n",
            "Requirement already satisfied: numpy>=1.22.4 in /usr/local/lib/python3.10/dist-packages (from pandas) (1.26.4)\n",
            "Requirement already satisfied: python-dateutil>=2.8.2 in /usr/local/lib/python3.10/dist-packages (from pandas) (2.8.2)\n",
            "Requirement already satisfied: pytz>=2020.1 in /usr/local/lib/python3.10/dist-packages (from pandas) (2024.2)\n",
            "Requirement already satisfied: tzdata>=2022.7 in /usr/local/lib/python3.10/dist-packages (from pandas) (2024.2)\n",
            "Requirement already satisfied: scipy>=1.6.0 in /usr/local/lib/python3.10/dist-packages (from scikit-learn) (1.13.1)\n",
            "Requirement already satisfied: joblib>=1.2.0 in /usr/local/lib/python3.10/dist-packages (from scikit-learn) (1.4.2)\n",
            "Requirement already satisfied: threadpoolctl>=3.1.0 in /usr/local/lib/python3.10/dist-packages (from scikit-learn) (3.5.0)\n",
            "Requirement already satisfied: six>=1.5 in /usr/local/lib/python3.10/dist-packages (from python-dateutil>=2.8.2->pandas) (1.16.0)\n",
            "Requirement already satisfied: ydata-profiling in /usr/local/lib/python3.10/dist-packages (4.12.0)\n",
            "Requirement already satisfied: scipy<1.14,>=1.4.1 in /usr/local/lib/python3.10/dist-packages (from ydata-profiling) (1.13.1)\n",
            "Requirement already satisfied: pandas!=1.4.0,<3,>1.1 in /usr/local/lib/python3.10/dist-packages (from ydata-profiling) (2.2.2)\n",
            "Requirement already satisfied: matplotlib<3.10,>=3.5 in /usr/local/lib/python3.10/dist-packages (from ydata-profiling) (3.8.0)\n",
            "Requirement already satisfied: pydantic>=2 in /usr/local/lib/python3.10/dist-packages (from ydata-profiling) (2.9.2)\n",
            "Requirement already satisfied: PyYAML<6.1,>=5.0.0 in /usr/local/lib/python3.10/dist-packages (from ydata-profiling) (6.0.2)\n",
            "Requirement already satisfied: jinja2<3.2,>=2.11.1 in /usr/local/lib/python3.10/dist-packages (from ydata-profiling) (3.1.4)\n",
            "Requirement already satisfied: visions<0.7.7,>=0.7.5 in /usr/local/lib/python3.10/dist-packages (from visions[type_image_path]<0.7.7,>=0.7.5->ydata-profiling) (0.7.6)\n",
            "Requirement already satisfied: numpy<2.2,>=1.16.0 in /usr/local/lib/python3.10/dist-packages (from ydata-profiling) (1.26.4)\n",
            "Requirement already satisfied: htmlmin==0.1.12 in /usr/local/lib/python3.10/dist-packages (from ydata-profiling) (0.1.12)\n",
            "Requirement already satisfied: phik<0.13,>=0.11.1 in /usr/local/lib/python3.10/dist-packages (from ydata-profiling) (0.12.4)\n",
            "Requirement already satisfied: requests<3,>=2.24.0 in /usr/local/lib/python3.10/dist-packages (from ydata-profiling) (2.32.3)\n",
            "Requirement already satisfied: tqdm<5,>=4.48.2 in /usr/local/lib/python3.10/dist-packages (from ydata-profiling) (4.66.6)\n",
            "Requirement already satisfied: seaborn<0.14,>=0.10.1 in /usr/local/lib/python3.10/dist-packages (from ydata-profiling) (0.13.2)\n",
            "Requirement already satisfied: multimethod<2,>=1.4 in /usr/local/lib/python3.10/dist-packages (from ydata-profiling) (1.12)\n",
            "Requirement already satisfied: statsmodels<1,>=0.13.2 in /usr/local/lib/python3.10/dist-packages (from ydata-profiling) (0.14.4)\n",
            "Requirement already satisfied: typeguard<5,>=3 in /usr/local/lib/python3.10/dist-packages (from ydata-profiling) (4.4.1)\n",
            "Requirement already satisfied: imagehash==4.3.1 in /usr/local/lib/python3.10/dist-packages (from ydata-profiling) (4.3.1)\n",
            "Requirement already satisfied: wordcloud>=1.9.3 in /usr/local/lib/python3.10/dist-packages (from ydata-profiling) (1.9.4)\n",
            "Requirement already satisfied: dacite>=1.8 in /usr/local/lib/python3.10/dist-packages (from ydata-profiling) (1.8.1)\n",
            "Requirement already satisfied: numba<1,>=0.56.0 in /usr/local/lib/python3.10/dist-packages (from ydata-profiling) (0.60.0)\n",
            "Requirement already satisfied: PyWavelets in /usr/local/lib/python3.10/dist-packages (from imagehash==4.3.1->ydata-profiling) (1.7.0)\n",
            "Requirement already satisfied: pillow in /usr/local/lib/python3.10/dist-packages (from imagehash==4.3.1->ydata-profiling) (11.0.0)\n",
            "Requirement already satisfied: MarkupSafe>=2.0 in /usr/local/lib/python3.10/dist-packages (from jinja2<3.2,>=2.11.1->ydata-profiling) (3.0.2)\n",
            "Requirement already satisfied: contourpy>=1.0.1 in /usr/local/lib/python3.10/dist-packages (from matplotlib<3.10,>=3.5->ydata-profiling) (1.3.1)\n",
            "Requirement already satisfied: cycler>=0.10 in /usr/local/lib/python3.10/dist-packages (from matplotlib<3.10,>=3.5->ydata-profiling) (0.12.1)\n",
            "Requirement already satisfied: fonttools>=4.22.0 in /usr/local/lib/python3.10/dist-packages (from matplotlib<3.10,>=3.5->ydata-profiling) (4.55.0)\n",
            "Requirement already satisfied: kiwisolver>=1.0.1 in /usr/local/lib/python3.10/dist-packages (from matplotlib<3.10,>=3.5->ydata-profiling) (1.4.7)\n",
            "Requirement already satisfied: packaging>=20.0 in /usr/local/lib/python3.10/dist-packages (from matplotlib<3.10,>=3.5->ydata-profiling) (24.2)\n",
            "Requirement already satisfied: pyparsing>=2.3.1 in /usr/local/lib/python3.10/dist-packages (from matplotlib<3.10,>=3.5->ydata-profiling) (3.2.0)\n",
            "Requirement already satisfied: python-dateutil>=2.7 in /usr/local/lib/python3.10/dist-packages (from matplotlib<3.10,>=3.5->ydata-profiling) (2.8.2)\n",
            "Requirement already satisfied: llvmlite<0.44,>=0.43.0dev0 in /usr/local/lib/python3.10/dist-packages (from numba<1,>=0.56.0->ydata-profiling) (0.43.0)\n",
            "Requirement already satisfied: pytz>=2020.1 in /usr/local/lib/python3.10/dist-packages (from pandas!=1.4.0,<3,>1.1->ydata-profiling) (2024.2)\n",
            "Requirement already satisfied: tzdata>=2022.7 in /usr/local/lib/python3.10/dist-packages (from pandas!=1.4.0,<3,>1.1->ydata-profiling) (2024.2)\n",
            "Requirement already satisfied: joblib>=0.14.1 in /usr/local/lib/python3.10/dist-packages (from phik<0.13,>=0.11.1->ydata-profiling) (1.4.2)\n",
            "Requirement already satisfied: annotated-types>=0.6.0 in /usr/local/lib/python3.10/dist-packages (from pydantic>=2->ydata-profiling) (0.7.0)\n",
            "Requirement already satisfied: pydantic-core==2.23.4 in /usr/local/lib/python3.10/dist-packages (from pydantic>=2->ydata-profiling) (2.23.4)\n",
            "Requirement already satisfied: typing-extensions>=4.6.1 in /usr/local/lib/python3.10/dist-packages (from pydantic>=2->ydata-profiling) (4.12.2)\n",
            "Requirement already satisfied: charset-normalizer<4,>=2 in /usr/local/lib/python3.10/dist-packages (from requests<3,>=2.24.0->ydata-profiling) (3.4.0)\n",
            "Requirement already satisfied: idna<4,>=2.5 in /usr/local/lib/python3.10/dist-packages (from requests<3,>=2.24.0->ydata-profiling) (3.10)\n",
            "Requirement already satisfied: urllib3<3,>=1.21.1 in /usr/local/lib/python3.10/dist-packages (from requests<3,>=2.24.0->ydata-profiling) (2.2.3)\n",
            "Requirement already satisfied: certifi>=2017.4.17 in /usr/local/lib/python3.10/dist-packages (from requests<3,>=2.24.0->ydata-profiling) (2024.8.30)\n",
            "Requirement already satisfied: patsy>=0.5.6 in /usr/local/lib/python3.10/dist-packages (from statsmodels<1,>=0.13.2->ydata-profiling) (1.0.1)\n",
            "Requirement already satisfied: attrs>=19.3.0 in /usr/local/lib/python3.10/dist-packages (from visions<0.7.7,>=0.7.5->visions[type_image_path]<0.7.7,>=0.7.5->ydata-profiling) (24.2.0)\n",
            "Requirement already satisfied: networkx>=2.4 in /usr/local/lib/python3.10/dist-packages (from visions<0.7.7,>=0.7.5->visions[type_image_path]<0.7.7,>=0.7.5->ydata-profiling) (3.4.2)\n",
            "Requirement already satisfied: six>=1.5 in /usr/local/lib/python3.10/dist-packages (from python-dateutil>=2.7->matplotlib<3.10,>=3.5->ydata-profiling) (1.16.0)\n",
            "Requirement already satisfied: xgboost in /usr/local/lib/python3.10/dist-packages (2.1.2)\n",
            "Requirement already satisfied: numpy in /usr/local/lib/python3.10/dist-packages (from xgboost) (1.26.4)\n",
            "Requirement already satisfied: nvidia-nccl-cu12 in /usr/local/lib/python3.10/dist-packages (from xgboost) (2.23.4)\n",
            "Requirement already satisfied: scipy in /usr/local/lib/python3.10/dist-packages (from xgboost) (1.13.1)\n"
          ]
        }
      ],
      "source": [
        "!pip install fuzzywuzzy\n",
        "!pip install python-Levenshtein\n",
        "!pip install pandas scikit-learn fuzzywuzzy\n",
        "!pip install ydata-profiling\n",
        "!pip install xgboost\n"
      ]
    },
    {
      "cell_type": "code",
      "execution_count": null,
      "metadata": {
        "id": "RHfh1R12ES8X"
      },
      "outputs": [],
      "source": [
        "import re\n",
        "import matplotlib.pyplot as plt\n",
        "import seaborn as sns\n",
        "import pandas as pd\n",
        "from fuzzywuzzy import fuzz\n",
        "from collections import defaultdict\n",
        "from ydata_profiling import ProfileReport\n",
        "import numpy as np\n",
        "from sklearn.model_selection import train_test_split\n",
        "from sklearn.preprocessing import OneHotEncoder\n",
        "from sklearn.ensemble import RandomForestClassifier\n",
        "from sklearn.metrics import classification_report\n",
        "from sklearn.preprocessing import StandardScaler\n",
        "from sklearn.decomposition import PCA\n",
        "import matplotlib.pyplot as plt\n",
        "from sklearn.preprocessing import LabelEncoder\n",
        "from sklearn.model_selection import train_test_split\n",
        "from sklearn.linear_model import LinearRegression\n",
        "from sklearn.ensemble import RandomForestRegressor\n",
        "from sklearn.metrics import mean_squared_error, r2_score\n",
        "from sklearn.ensemble import RandomForestRegressor\n",
        "from xgboost import XGBRegressor\n",
        "from sklearn.linear_model import LogisticRegression\n",
        "from google.colab import files\n",
        "from sklearn.ensemble import RandomForestRegressor\n",
        "from sklearn.model_selection import train_test_split, GridSearchCV\n",
        "from sklearn.metrics import mean_squared_error, r2_score\n",
        "from sklearn.model_selection import RandomizedSearchCV\n",
        "from sklearn.metrics import accuracy_score, f1_score, precision_score, recall_score, confusion_matrix, classification_report\n",
        "from imblearn.over_sampling import SMOTE\n",
        "from sklearn.model_selection import train_test_split, RandomizedSearchCV\n",
        "from sklearn.ensemble import RandomForestClassifier\n",
        "from sklearn.metrics import accuracy_score, classification_report, confusion_matrix, f1_score\n",
        "import numpy as np\n",
        "from xgboost import XGBClassifier\n",
        "import joblib\n"
      ]
    },
    {
      "cell_type": "markdown",
      "metadata": {
        "id": "mSoyd6icu4pF"
      },
      "source": [
        "### Exploración del dataset\n"
      ]
    },
    {
      "cell_type": "markdown",
      "metadata": {
        "id": "6vwPuabIMLzI"
      },
      "source": [
        "#### Visualización de la data de entrenamiento y test"
      ]
    },
    {
      "cell_type": "code",
      "execution_count": null,
      "metadata": {
        "colab": {
          "base_uri": "https://localhost:8080/"
        },
        "id": "flDjfdc5ODxu",
        "outputId": "0766fc27-66ec-4c68-83fd-704c1592042c"
      },
      "outputs": [
        {
          "output_type": "stream",
          "name": "stdout",
          "text": [
            "shape of loaded dataframe (692500, 12)\n",
            "shape of loaded dataframe (296786, 11)\n"
          ]
        }
      ],
      "source": [
        "z = pd.read_csv(\"train.csv\")\n",
        "print (\"shape of loaded dataframe\", z.shape)\n",
        "\n",
        "p = pd.read_csv('test.csv', index_col=0)\n",
        "print (\"shape of loaded dataframe\", p.shape)"
      ]
    },
    {
      "cell_type": "code",
      "execution_count": null,
      "metadata": {
        "colab": {
          "base_uri": "https://localhost:8080/",
          "height": 313
        },
        "id": "CBwZ1KlpOLxW",
        "outputId": "b9c52649-458c-4388-c44e-8519ae7f1058"
      },
      "outputs": [
        {
          "output_type": "execute_result",
          "data": {
            "text/plain": [
              "       ID  PERIODO         ESTU_PRGM_ACADEMICO ESTU_PRGM_DEPARTAMENTO  \\\n",
              "0  904256    20212                  ENFERMERIA                 BOGOTÁ   \n",
              "1  645256    20212                     DERECHO              ATLANTICO   \n",
              "2  308367    20203       MERCADEO Y PUBLICIDAD                 BOGOTÁ   \n",
              "3  470353    20195  ADMINISTRACION DE EMPRESAS              SANTANDER   \n",
              "4  989032    20212                  PSICOLOGIA              ANTIOQUIA   \n",
              "\n",
              "             ESTU_VALORMATRICULAUNIVERSIDAD ESTU_HORASSEMANATRABAJA  \\\n",
              "0  Entre 5.5 millones y menos de 7 millones       Menos de 10 horas   \n",
              "1  Entre 2.5 millones y menos de 4 millones                       0   \n",
              "2  Entre 2.5 millones y menos de 4 millones         Más de 30 horas   \n",
              "3  Entre 4 millones y menos de 5.5 millones                       0   \n",
              "4  Entre 2.5 millones y menos de 4 millones     Entre 21 y 30 horas   \n",
              "\n",
              "  FAMI_ESTRATOVIVIENDA FAMI_TIENEINTERNET                 FAMI_EDUCACIONPADRE  \\\n",
              "0            Estrato 3                 Si    Técnica o tecnológica incompleta   \n",
              "1            Estrato 3                 No      Técnica o tecnológica completa   \n",
              "2            Estrato 3                 Si  Secundaria (Bachillerato) completa   \n",
              "3            Estrato 4                 Si                             No sabe   \n",
              "4            Estrato 3                 Si                   Primaria completa   \n",
              "\n",
              "                  FAMI_EDUCACIONMADRE ESTU_PAGOMATRICULAPROPIO  \\\n",
              "0                           Postgrado                       No   \n",
              "1    Técnica o tecnológica incompleta                       No   \n",
              "2  Secundaria (Bachillerato) completa                       No   \n",
              "3  Secundaria (Bachillerato) completa                       No   \n",
              "4                   Primaria completa                       No   \n",
              "\n",
              "  RENDIMIENTO_GLOBAL  \n",
              "0         medio-alto  \n",
              "1               bajo  \n",
              "2               bajo  \n",
              "3               alto  \n",
              "4         medio-bajo  "
            ],
            "text/html": [
              "\n",
              "  <div id=\"df-2c64535e-1084-404e-8e73-9dd6a5e65359\" class=\"colab-df-container\">\n",
              "    <div>\n",
              "<style scoped>\n",
              "    .dataframe tbody tr th:only-of-type {\n",
              "        vertical-align: middle;\n",
              "    }\n",
              "\n",
              "    .dataframe tbody tr th {\n",
              "        vertical-align: top;\n",
              "    }\n",
              "\n",
              "    .dataframe thead th {\n",
              "        text-align: right;\n",
              "    }\n",
              "</style>\n",
              "<table border=\"1\" class=\"dataframe\">\n",
              "  <thead>\n",
              "    <tr style=\"text-align: right;\">\n",
              "      <th></th>\n",
              "      <th>ID</th>\n",
              "      <th>PERIODO</th>\n",
              "      <th>ESTU_PRGM_ACADEMICO</th>\n",
              "      <th>ESTU_PRGM_DEPARTAMENTO</th>\n",
              "      <th>ESTU_VALORMATRICULAUNIVERSIDAD</th>\n",
              "      <th>ESTU_HORASSEMANATRABAJA</th>\n",
              "      <th>FAMI_ESTRATOVIVIENDA</th>\n",
              "      <th>FAMI_TIENEINTERNET</th>\n",
              "      <th>FAMI_EDUCACIONPADRE</th>\n",
              "      <th>FAMI_EDUCACIONMADRE</th>\n",
              "      <th>ESTU_PAGOMATRICULAPROPIO</th>\n",
              "      <th>RENDIMIENTO_GLOBAL</th>\n",
              "    </tr>\n",
              "  </thead>\n",
              "  <tbody>\n",
              "    <tr>\n",
              "      <th>0</th>\n",
              "      <td>904256</td>\n",
              "      <td>20212</td>\n",
              "      <td>ENFERMERIA</td>\n",
              "      <td>BOGOTÁ</td>\n",
              "      <td>Entre 5.5 millones y menos de 7 millones</td>\n",
              "      <td>Menos de 10 horas</td>\n",
              "      <td>Estrato 3</td>\n",
              "      <td>Si</td>\n",
              "      <td>Técnica o tecnológica incompleta</td>\n",
              "      <td>Postgrado</td>\n",
              "      <td>No</td>\n",
              "      <td>medio-alto</td>\n",
              "    </tr>\n",
              "    <tr>\n",
              "      <th>1</th>\n",
              "      <td>645256</td>\n",
              "      <td>20212</td>\n",
              "      <td>DERECHO</td>\n",
              "      <td>ATLANTICO</td>\n",
              "      <td>Entre 2.5 millones y menos de 4 millones</td>\n",
              "      <td>0</td>\n",
              "      <td>Estrato 3</td>\n",
              "      <td>No</td>\n",
              "      <td>Técnica o tecnológica completa</td>\n",
              "      <td>Técnica o tecnológica incompleta</td>\n",
              "      <td>No</td>\n",
              "      <td>bajo</td>\n",
              "    </tr>\n",
              "    <tr>\n",
              "      <th>2</th>\n",
              "      <td>308367</td>\n",
              "      <td>20203</td>\n",
              "      <td>MERCADEO Y PUBLICIDAD</td>\n",
              "      <td>BOGOTÁ</td>\n",
              "      <td>Entre 2.5 millones y menos de 4 millones</td>\n",
              "      <td>Más de 30 horas</td>\n",
              "      <td>Estrato 3</td>\n",
              "      <td>Si</td>\n",
              "      <td>Secundaria (Bachillerato) completa</td>\n",
              "      <td>Secundaria (Bachillerato) completa</td>\n",
              "      <td>No</td>\n",
              "      <td>bajo</td>\n",
              "    </tr>\n",
              "    <tr>\n",
              "      <th>3</th>\n",
              "      <td>470353</td>\n",
              "      <td>20195</td>\n",
              "      <td>ADMINISTRACION DE EMPRESAS</td>\n",
              "      <td>SANTANDER</td>\n",
              "      <td>Entre 4 millones y menos de 5.5 millones</td>\n",
              "      <td>0</td>\n",
              "      <td>Estrato 4</td>\n",
              "      <td>Si</td>\n",
              "      <td>No sabe</td>\n",
              "      <td>Secundaria (Bachillerato) completa</td>\n",
              "      <td>No</td>\n",
              "      <td>alto</td>\n",
              "    </tr>\n",
              "    <tr>\n",
              "      <th>4</th>\n",
              "      <td>989032</td>\n",
              "      <td>20212</td>\n",
              "      <td>PSICOLOGIA</td>\n",
              "      <td>ANTIOQUIA</td>\n",
              "      <td>Entre 2.5 millones y menos de 4 millones</td>\n",
              "      <td>Entre 21 y 30 horas</td>\n",
              "      <td>Estrato 3</td>\n",
              "      <td>Si</td>\n",
              "      <td>Primaria completa</td>\n",
              "      <td>Primaria completa</td>\n",
              "      <td>No</td>\n",
              "      <td>medio-bajo</td>\n",
              "    </tr>\n",
              "  </tbody>\n",
              "</table>\n",
              "</div>\n",
              "    <div class=\"colab-df-buttons\">\n",
              "\n",
              "  <div class=\"colab-df-container\">\n",
              "    <button class=\"colab-df-convert\" onclick=\"convertToInteractive('df-2c64535e-1084-404e-8e73-9dd6a5e65359')\"\n",
              "            title=\"Convert this dataframe to an interactive table.\"\n",
              "            style=\"display:none;\">\n",
              "\n",
              "  <svg xmlns=\"http://www.w3.org/2000/svg\" height=\"24px\" viewBox=\"0 -960 960 960\">\n",
              "    <path d=\"M120-120v-720h720v720H120Zm60-500h600v-160H180v160Zm220 220h160v-160H400v160Zm0 220h160v-160H400v160ZM180-400h160v-160H180v160Zm440 0h160v-160H620v160ZM180-180h160v-160H180v160Zm440 0h160v-160H620v160Z\"/>\n",
              "  </svg>\n",
              "    </button>\n",
              "\n",
              "  <style>\n",
              "    .colab-df-container {\n",
              "      display:flex;\n",
              "      gap: 12px;\n",
              "    }\n",
              "\n",
              "    .colab-df-convert {\n",
              "      background-color: #E8F0FE;\n",
              "      border: none;\n",
              "      border-radius: 50%;\n",
              "      cursor: pointer;\n",
              "      display: none;\n",
              "      fill: #1967D2;\n",
              "      height: 32px;\n",
              "      padding: 0 0 0 0;\n",
              "      width: 32px;\n",
              "    }\n",
              "\n",
              "    .colab-df-convert:hover {\n",
              "      background-color: #E2EBFA;\n",
              "      box-shadow: 0px 1px 2px rgba(60, 64, 67, 0.3), 0px 1px 3px 1px rgba(60, 64, 67, 0.15);\n",
              "      fill: #174EA6;\n",
              "    }\n",
              "\n",
              "    .colab-df-buttons div {\n",
              "      margin-bottom: 4px;\n",
              "    }\n",
              "\n",
              "    [theme=dark] .colab-df-convert {\n",
              "      background-color: #3B4455;\n",
              "      fill: #D2E3FC;\n",
              "    }\n",
              "\n",
              "    [theme=dark] .colab-df-convert:hover {\n",
              "      background-color: #434B5C;\n",
              "      box-shadow: 0px 1px 3px 1px rgba(0, 0, 0, 0.15);\n",
              "      filter: drop-shadow(0px 1px 2px rgba(0, 0, 0, 0.3));\n",
              "      fill: #FFFFFF;\n",
              "    }\n",
              "  </style>\n",
              "\n",
              "    <script>\n",
              "      const buttonEl =\n",
              "        document.querySelector('#df-2c64535e-1084-404e-8e73-9dd6a5e65359 button.colab-df-convert');\n",
              "      buttonEl.style.display =\n",
              "        google.colab.kernel.accessAllowed ? 'block' : 'none';\n",
              "\n",
              "      async function convertToInteractive(key) {\n",
              "        const element = document.querySelector('#df-2c64535e-1084-404e-8e73-9dd6a5e65359');\n",
              "        const dataTable =\n",
              "          await google.colab.kernel.invokeFunction('convertToInteractive',\n",
              "                                                    [key], {});\n",
              "        if (!dataTable) return;\n",
              "\n",
              "        const docLinkHtml = 'Like what you see? Visit the ' +\n",
              "          '<a target=\"_blank\" href=https://colab.research.google.com/notebooks/data_table.ipynb>data table notebook</a>'\n",
              "          + ' to learn more about interactive tables.';\n",
              "        element.innerHTML = '';\n",
              "        dataTable['output_type'] = 'display_data';\n",
              "        await google.colab.output.renderOutput(dataTable, element);\n",
              "        const docLink = document.createElement('div');\n",
              "        docLink.innerHTML = docLinkHtml;\n",
              "        element.appendChild(docLink);\n",
              "      }\n",
              "    </script>\n",
              "  </div>\n",
              "\n",
              "\n",
              "<div id=\"df-4fe14196-89c1-4a58-a16c-51b23c64f446\">\n",
              "  <button class=\"colab-df-quickchart\" onclick=\"quickchart('df-4fe14196-89c1-4a58-a16c-51b23c64f446')\"\n",
              "            title=\"Suggest charts\"\n",
              "            style=\"display:none;\">\n",
              "\n",
              "<svg xmlns=\"http://www.w3.org/2000/svg\" height=\"24px\"viewBox=\"0 0 24 24\"\n",
              "     width=\"24px\">\n",
              "    <g>\n",
              "        <path d=\"M19 3H5c-1.1 0-2 .9-2 2v14c0 1.1.9 2 2 2h14c1.1 0 2-.9 2-2V5c0-1.1-.9-2-2-2zM9 17H7v-7h2v7zm4 0h-2V7h2v10zm4 0h-2v-4h2v4z\"/>\n",
              "    </g>\n",
              "</svg>\n",
              "  </button>\n",
              "\n",
              "<style>\n",
              "  .colab-df-quickchart {\n",
              "      --bg-color: #E8F0FE;\n",
              "      --fill-color: #1967D2;\n",
              "      --hover-bg-color: #E2EBFA;\n",
              "      --hover-fill-color: #174EA6;\n",
              "      --disabled-fill-color: #AAA;\n",
              "      --disabled-bg-color: #DDD;\n",
              "  }\n",
              "\n",
              "  [theme=dark] .colab-df-quickchart {\n",
              "      --bg-color: #3B4455;\n",
              "      --fill-color: #D2E3FC;\n",
              "      --hover-bg-color: #434B5C;\n",
              "      --hover-fill-color: #FFFFFF;\n",
              "      --disabled-bg-color: #3B4455;\n",
              "      --disabled-fill-color: #666;\n",
              "  }\n",
              "\n",
              "  .colab-df-quickchart {\n",
              "    background-color: var(--bg-color);\n",
              "    border: none;\n",
              "    border-radius: 50%;\n",
              "    cursor: pointer;\n",
              "    display: none;\n",
              "    fill: var(--fill-color);\n",
              "    height: 32px;\n",
              "    padding: 0;\n",
              "    width: 32px;\n",
              "  }\n",
              "\n",
              "  .colab-df-quickchart:hover {\n",
              "    background-color: var(--hover-bg-color);\n",
              "    box-shadow: 0 1px 2px rgba(60, 64, 67, 0.3), 0 1px 3px 1px rgba(60, 64, 67, 0.15);\n",
              "    fill: var(--button-hover-fill-color);\n",
              "  }\n",
              "\n",
              "  .colab-df-quickchart-complete:disabled,\n",
              "  .colab-df-quickchart-complete:disabled:hover {\n",
              "    background-color: var(--disabled-bg-color);\n",
              "    fill: var(--disabled-fill-color);\n",
              "    box-shadow: none;\n",
              "  }\n",
              "\n",
              "  .colab-df-spinner {\n",
              "    border: 2px solid var(--fill-color);\n",
              "    border-color: transparent;\n",
              "    border-bottom-color: var(--fill-color);\n",
              "    animation:\n",
              "      spin 1s steps(1) infinite;\n",
              "  }\n",
              "\n",
              "  @keyframes spin {\n",
              "    0% {\n",
              "      border-color: transparent;\n",
              "      border-bottom-color: var(--fill-color);\n",
              "      border-left-color: var(--fill-color);\n",
              "    }\n",
              "    20% {\n",
              "      border-color: transparent;\n",
              "      border-left-color: var(--fill-color);\n",
              "      border-top-color: var(--fill-color);\n",
              "    }\n",
              "    30% {\n",
              "      border-color: transparent;\n",
              "      border-left-color: var(--fill-color);\n",
              "      border-top-color: var(--fill-color);\n",
              "      border-right-color: var(--fill-color);\n",
              "    }\n",
              "    40% {\n",
              "      border-color: transparent;\n",
              "      border-right-color: var(--fill-color);\n",
              "      border-top-color: var(--fill-color);\n",
              "    }\n",
              "    60% {\n",
              "      border-color: transparent;\n",
              "      border-right-color: var(--fill-color);\n",
              "    }\n",
              "    80% {\n",
              "      border-color: transparent;\n",
              "      border-right-color: var(--fill-color);\n",
              "      border-bottom-color: var(--fill-color);\n",
              "    }\n",
              "    90% {\n",
              "      border-color: transparent;\n",
              "      border-bottom-color: var(--fill-color);\n",
              "    }\n",
              "  }\n",
              "</style>\n",
              "\n",
              "  <script>\n",
              "    async function quickchart(key) {\n",
              "      const quickchartButtonEl =\n",
              "        document.querySelector('#' + key + ' button');\n",
              "      quickchartButtonEl.disabled = true;  // To prevent multiple clicks.\n",
              "      quickchartButtonEl.classList.add('colab-df-spinner');\n",
              "      try {\n",
              "        const charts = await google.colab.kernel.invokeFunction(\n",
              "            'suggestCharts', [key], {});\n",
              "      } catch (error) {\n",
              "        console.error('Error during call to suggestCharts:', error);\n",
              "      }\n",
              "      quickchartButtonEl.classList.remove('colab-df-spinner');\n",
              "      quickchartButtonEl.classList.add('colab-df-quickchart-complete');\n",
              "    }\n",
              "    (() => {\n",
              "      let quickchartButtonEl =\n",
              "        document.querySelector('#df-4fe14196-89c1-4a58-a16c-51b23c64f446 button');\n",
              "      quickchartButtonEl.style.display =\n",
              "        google.colab.kernel.accessAllowed ? 'block' : 'none';\n",
              "    })();\n",
              "  </script>\n",
              "</div>\n",
              "\n",
              "    </div>\n",
              "  </div>\n"
            ],
            "application/vnd.google.colaboratory.intrinsic+json": {
              "type": "dataframe",
              "variable_name": "z"
            }
          },
          "metadata": {},
          "execution_count": 67
        }
      ],
      "source": [
        "z.head()"
      ]
    },
    {
      "cell_type": "code",
      "execution_count": null,
      "metadata": {
        "colab": {
          "base_uri": "https://localhost:8080/",
          "height": 348
        },
        "id": "2sw14Km2LfPj",
        "outputId": "22b791ff-0f40-41b1-9787-6451ed813c68"
      },
      "outputs": [
        {
          "output_type": "execute_result",
          "data": {
            "text/plain": [
              "       ID  PERIODO                     ESTU_PRGM_ACADEMICO  \\\n",
              "0  550236    20183                          TRABAJO SOCIAL   \n",
              "1   98545    20203  ADMINISTRACION COMERCIAL Y DE MERCADEO   \n",
              "2  499179    20212                  INGENIERIA MECATRONICA   \n",
              "3  782980    20195                      CONTADURIA PUBLICA   \n",
              "4  785185    20212              ADMINISTRACION DE EMPRESAS   \n",
              "\n",
              "  ESTU_PRGM_DEPARTAMENTO            ESTU_VALORMATRICULAUNIVERSIDAD  \\\n",
              "0                BOLIVAR                          Menos de 500 mil   \n",
              "1              ANTIOQUIA  Entre 2.5 millones y menos de 4 millones   \n",
              "2                 BOGOTÁ    Entre 1 millón y menos de 2.5 millones   \n",
              "3                  SUCRE    Entre 1 millón y menos de 2.5 millones   \n",
              "4              ATLANTICO  Entre 2.5 millones y menos de 4 millones   \n",
              "\n",
              "  ESTU_HORASSEMANATRABAJA FAMI_ESTRATOVIVIENDA FAMI_TIENEINTERNET  \\\n",
              "0       Menos de 10 horas            Estrato 3                 Si   \n",
              "1     Entre 21 y 30 horas            Estrato 2                 Si   \n",
              "2                       0            Estrato 3                 Si   \n",
              "3     Entre 21 y 30 horas            Estrato 1                 No   \n",
              "4     Entre 11 y 20 horas            Estrato 2                 Si   \n",
              "\n",
              "                    FAMI_EDUCACIONPADRE                 FAMI_EDUCACIONMADRE  \\\n",
              "0        Técnica o tecnológica completa                   Primaria completa   \n",
              "1    Secundaria (Bachillerato) completa      Técnica o tecnológica completa   \n",
              "2  Secundaria (Bachillerato) incompleta  Secundaria (Bachillerato) completa   \n",
              "3                   Primaria incompleta                 Primaria incompleta   \n",
              "4    Secundaria (Bachillerato) completa  Secundaria (Bachillerato) completa   \n",
              "\n",
              "  ESTU_PAGOMATRICULAPROPIO  \n",
              "0                       Si  \n",
              "1                       No  \n",
              "2                       No  \n",
              "3                       No  \n",
              "4                       No  "
            ],
            "text/html": [
              "\n",
              "  <div id=\"df-c2b1b7ce-ac83-4d83-810d-a0d84857f42e\" class=\"colab-df-container\">\n",
              "    <div>\n",
              "<style scoped>\n",
              "    .dataframe tbody tr th:only-of-type {\n",
              "        vertical-align: middle;\n",
              "    }\n",
              "\n",
              "    .dataframe tbody tr th {\n",
              "        vertical-align: top;\n",
              "    }\n",
              "\n",
              "    .dataframe thead th {\n",
              "        text-align: right;\n",
              "    }\n",
              "</style>\n",
              "<table border=\"1\" class=\"dataframe\">\n",
              "  <thead>\n",
              "    <tr style=\"text-align: right;\">\n",
              "      <th></th>\n",
              "      <th>ID</th>\n",
              "      <th>PERIODO</th>\n",
              "      <th>ESTU_PRGM_ACADEMICO</th>\n",
              "      <th>ESTU_PRGM_DEPARTAMENTO</th>\n",
              "      <th>ESTU_VALORMATRICULAUNIVERSIDAD</th>\n",
              "      <th>ESTU_HORASSEMANATRABAJA</th>\n",
              "      <th>FAMI_ESTRATOVIVIENDA</th>\n",
              "      <th>FAMI_TIENEINTERNET</th>\n",
              "      <th>FAMI_EDUCACIONPADRE</th>\n",
              "      <th>FAMI_EDUCACIONMADRE</th>\n",
              "      <th>ESTU_PAGOMATRICULAPROPIO</th>\n",
              "    </tr>\n",
              "  </thead>\n",
              "  <tbody>\n",
              "    <tr>\n",
              "      <th>0</th>\n",
              "      <td>550236</td>\n",
              "      <td>20183</td>\n",
              "      <td>TRABAJO SOCIAL</td>\n",
              "      <td>BOLIVAR</td>\n",
              "      <td>Menos de 500 mil</td>\n",
              "      <td>Menos de 10 horas</td>\n",
              "      <td>Estrato 3</td>\n",
              "      <td>Si</td>\n",
              "      <td>Técnica o tecnológica completa</td>\n",
              "      <td>Primaria completa</td>\n",
              "      <td>Si</td>\n",
              "    </tr>\n",
              "    <tr>\n",
              "      <th>1</th>\n",
              "      <td>98545</td>\n",
              "      <td>20203</td>\n",
              "      <td>ADMINISTRACION COMERCIAL Y DE MERCADEO</td>\n",
              "      <td>ANTIOQUIA</td>\n",
              "      <td>Entre 2.5 millones y menos de 4 millones</td>\n",
              "      <td>Entre 21 y 30 horas</td>\n",
              "      <td>Estrato 2</td>\n",
              "      <td>Si</td>\n",
              "      <td>Secundaria (Bachillerato) completa</td>\n",
              "      <td>Técnica o tecnológica completa</td>\n",
              "      <td>No</td>\n",
              "    </tr>\n",
              "    <tr>\n",
              "      <th>2</th>\n",
              "      <td>499179</td>\n",
              "      <td>20212</td>\n",
              "      <td>INGENIERIA MECATRONICA</td>\n",
              "      <td>BOGOTÁ</td>\n",
              "      <td>Entre 1 millón y menos de 2.5 millones</td>\n",
              "      <td>0</td>\n",
              "      <td>Estrato 3</td>\n",
              "      <td>Si</td>\n",
              "      <td>Secundaria (Bachillerato) incompleta</td>\n",
              "      <td>Secundaria (Bachillerato) completa</td>\n",
              "      <td>No</td>\n",
              "    </tr>\n",
              "    <tr>\n",
              "      <th>3</th>\n",
              "      <td>782980</td>\n",
              "      <td>20195</td>\n",
              "      <td>CONTADURIA PUBLICA</td>\n",
              "      <td>SUCRE</td>\n",
              "      <td>Entre 1 millón y menos de 2.5 millones</td>\n",
              "      <td>Entre 21 y 30 horas</td>\n",
              "      <td>Estrato 1</td>\n",
              "      <td>No</td>\n",
              "      <td>Primaria incompleta</td>\n",
              "      <td>Primaria incompleta</td>\n",
              "      <td>No</td>\n",
              "    </tr>\n",
              "    <tr>\n",
              "      <th>4</th>\n",
              "      <td>785185</td>\n",
              "      <td>20212</td>\n",
              "      <td>ADMINISTRACION DE EMPRESAS</td>\n",
              "      <td>ATLANTICO</td>\n",
              "      <td>Entre 2.5 millones y menos de 4 millones</td>\n",
              "      <td>Entre 11 y 20 horas</td>\n",
              "      <td>Estrato 2</td>\n",
              "      <td>Si</td>\n",
              "      <td>Secundaria (Bachillerato) completa</td>\n",
              "      <td>Secundaria (Bachillerato) completa</td>\n",
              "      <td>No</td>\n",
              "    </tr>\n",
              "  </tbody>\n",
              "</table>\n",
              "</div>\n",
              "    <div class=\"colab-df-buttons\">\n",
              "\n",
              "  <div class=\"colab-df-container\">\n",
              "    <button class=\"colab-df-convert\" onclick=\"convertToInteractive('df-c2b1b7ce-ac83-4d83-810d-a0d84857f42e')\"\n",
              "            title=\"Convert this dataframe to an interactive table.\"\n",
              "            style=\"display:none;\">\n",
              "\n",
              "  <svg xmlns=\"http://www.w3.org/2000/svg\" height=\"24px\" viewBox=\"0 -960 960 960\">\n",
              "    <path d=\"M120-120v-720h720v720H120Zm60-500h600v-160H180v160Zm220 220h160v-160H400v160Zm0 220h160v-160H400v160ZM180-400h160v-160H180v160Zm440 0h160v-160H620v160ZM180-180h160v-160H180v160Zm440 0h160v-160H620v160Z\"/>\n",
              "  </svg>\n",
              "    </button>\n",
              "\n",
              "  <style>\n",
              "    .colab-df-container {\n",
              "      display:flex;\n",
              "      gap: 12px;\n",
              "    }\n",
              "\n",
              "    .colab-df-convert {\n",
              "      background-color: #E8F0FE;\n",
              "      border: none;\n",
              "      border-radius: 50%;\n",
              "      cursor: pointer;\n",
              "      display: none;\n",
              "      fill: #1967D2;\n",
              "      height: 32px;\n",
              "      padding: 0 0 0 0;\n",
              "      width: 32px;\n",
              "    }\n",
              "\n",
              "    .colab-df-convert:hover {\n",
              "      background-color: #E2EBFA;\n",
              "      box-shadow: 0px 1px 2px rgba(60, 64, 67, 0.3), 0px 1px 3px 1px rgba(60, 64, 67, 0.15);\n",
              "      fill: #174EA6;\n",
              "    }\n",
              "\n",
              "    .colab-df-buttons div {\n",
              "      margin-bottom: 4px;\n",
              "    }\n",
              "\n",
              "    [theme=dark] .colab-df-convert {\n",
              "      background-color: #3B4455;\n",
              "      fill: #D2E3FC;\n",
              "    }\n",
              "\n",
              "    [theme=dark] .colab-df-convert:hover {\n",
              "      background-color: #434B5C;\n",
              "      box-shadow: 0px 1px 3px 1px rgba(0, 0, 0, 0.15);\n",
              "      filter: drop-shadow(0px 1px 2px rgba(0, 0, 0, 0.3));\n",
              "      fill: #FFFFFF;\n",
              "    }\n",
              "  </style>\n",
              "\n",
              "    <script>\n",
              "      const buttonEl =\n",
              "        document.querySelector('#df-c2b1b7ce-ac83-4d83-810d-a0d84857f42e button.colab-df-convert');\n",
              "      buttonEl.style.display =\n",
              "        google.colab.kernel.accessAllowed ? 'block' : 'none';\n",
              "\n",
              "      async function convertToInteractive(key) {\n",
              "        const element = document.querySelector('#df-c2b1b7ce-ac83-4d83-810d-a0d84857f42e');\n",
              "        const dataTable =\n",
              "          await google.colab.kernel.invokeFunction('convertToInteractive',\n",
              "                                                    [key], {});\n",
              "        if (!dataTable) return;\n",
              "\n",
              "        const docLinkHtml = 'Like what you see? Visit the ' +\n",
              "          '<a target=\"_blank\" href=https://colab.research.google.com/notebooks/data_table.ipynb>data table notebook</a>'\n",
              "          + ' to learn more about interactive tables.';\n",
              "        element.innerHTML = '';\n",
              "        dataTable['output_type'] = 'display_data';\n",
              "        await google.colab.output.renderOutput(dataTable, element);\n",
              "        const docLink = document.createElement('div');\n",
              "        docLink.innerHTML = docLinkHtml;\n",
              "        element.appendChild(docLink);\n",
              "      }\n",
              "    </script>\n",
              "  </div>\n",
              "\n",
              "\n",
              "<div id=\"df-f9863dc5-d234-4763-9ad0-78b6be3aac3c\">\n",
              "  <button class=\"colab-df-quickchart\" onclick=\"quickchart('df-f9863dc5-d234-4763-9ad0-78b6be3aac3c')\"\n",
              "            title=\"Suggest charts\"\n",
              "            style=\"display:none;\">\n",
              "\n",
              "<svg xmlns=\"http://www.w3.org/2000/svg\" height=\"24px\"viewBox=\"0 0 24 24\"\n",
              "     width=\"24px\">\n",
              "    <g>\n",
              "        <path d=\"M19 3H5c-1.1 0-2 .9-2 2v14c0 1.1.9 2 2 2h14c1.1 0 2-.9 2-2V5c0-1.1-.9-2-2-2zM9 17H7v-7h2v7zm4 0h-2V7h2v10zm4 0h-2v-4h2v4z\"/>\n",
              "    </g>\n",
              "</svg>\n",
              "  </button>\n",
              "\n",
              "<style>\n",
              "  .colab-df-quickchart {\n",
              "      --bg-color: #E8F0FE;\n",
              "      --fill-color: #1967D2;\n",
              "      --hover-bg-color: #E2EBFA;\n",
              "      --hover-fill-color: #174EA6;\n",
              "      --disabled-fill-color: #AAA;\n",
              "      --disabled-bg-color: #DDD;\n",
              "  }\n",
              "\n",
              "  [theme=dark] .colab-df-quickchart {\n",
              "      --bg-color: #3B4455;\n",
              "      --fill-color: #D2E3FC;\n",
              "      --hover-bg-color: #434B5C;\n",
              "      --hover-fill-color: #FFFFFF;\n",
              "      --disabled-bg-color: #3B4455;\n",
              "      --disabled-fill-color: #666;\n",
              "  }\n",
              "\n",
              "  .colab-df-quickchart {\n",
              "    background-color: var(--bg-color);\n",
              "    border: none;\n",
              "    border-radius: 50%;\n",
              "    cursor: pointer;\n",
              "    display: none;\n",
              "    fill: var(--fill-color);\n",
              "    height: 32px;\n",
              "    padding: 0;\n",
              "    width: 32px;\n",
              "  }\n",
              "\n",
              "  .colab-df-quickchart:hover {\n",
              "    background-color: var(--hover-bg-color);\n",
              "    box-shadow: 0 1px 2px rgba(60, 64, 67, 0.3), 0 1px 3px 1px rgba(60, 64, 67, 0.15);\n",
              "    fill: var(--button-hover-fill-color);\n",
              "  }\n",
              "\n",
              "  .colab-df-quickchart-complete:disabled,\n",
              "  .colab-df-quickchart-complete:disabled:hover {\n",
              "    background-color: var(--disabled-bg-color);\n",
              "    fill: var(--disabled-fill-color);\n",
              "    box-shadow: none;\n",
              "  }\n",
              "\n",
              "  .colab-df-spinner {\n",
              "    border: 2px solid var(--fill-color);\n",
              "    border-color: transparent;\n",
              "    border-bottom-color: var(--fill-color);\n",
              "    animation:\n",
              "      spin 1s steps(1) infinite;\n",
              "  }\n",
              "\n",
              "  @keyframes spin {\n",
              "    0% {\n",
              "      border-color: transparent;\n",
              "      border-bottom-color: var(--fill-color);\n",
              "      border-left-color: var(--fill-color);\n",
              "    }\n",
              "    20% {\n",
              "      border-color: transparent;\n",
              "      border-left-color: var(--fill-color);\n",
              "      border-top-color: var(--fill-color);\n",
              "    }\n",
              "    30% {\n",
              "      border-color: transparent;\n",
              "      border-left-color: var(--fill-color);\n",
              "      border-top-color: var(--fill-color);\n",
              "      border-right-color: var(--fill-color);\n",
              "    }\n",
              "    40% {\n",
              "      border-color: transparent;\n",
              "      border-right-color: var(--fill-color);\n",
              "      border-top-color: var(--fill-color);\n",
              "    }\n",
              "    60% {\n",
              "      border-color: transparent;\n",
              "      border-right-color: var(--fill-color);\n",
              "    }\n",
              "    80% {\n",
              "      border-color: transparent;\n",
              "      border-right-color: var(--fill-color);\n",
              "      border-bottom-color: var(--fill-color);\n",
              "    }\n",
              "    90% {\n",
              "      border-color: transparent;\n",
              "      border-bottom-color: var(--fill-color);\n",
              "    }\n",
              "  }\n",
              "</style>\n",
              "\n",
              "  <script>\n",
              "    async function quickchart(key) {\n",
              "      const quickchartButtonEl =\n",
              "        document.querySelector('#' + key + ' button');\n",
              "      quickchartButtonEl.disabled = true;  // To prevent multiple clicks.\n",
              "      quickchartButtonEl.classList.add('colab-df-spinner');\n",
              "      try {\n",
              "        const charts = await google.colab.kernel.invokeFunction(\n",
              "            'suggestCharts', [key], {});\n",
              "      } catch (error) {\n",
              "        console.error('Error during call to suggestCharts:', error);\n",
              "      }\n",
              "      quickchartButtonEl.classList.remove('colab-df-spinner');\n",
              "      quickchartButtonEl.classList.add('colab-df-quickchart-complete');\n",
              "    }\n",
              "    (() => {\n",
              "      let quickchartButtonEl =\n",
              "        document.querySelector('#df-f9863dc5-d234-4763-9ad0-78b6be3aac3c button');\n",
              "      quickchartButtonEl.style.display =\n",
              "        google.colab.kernel.accessAllowed ? 'block' : 'none';\n",
              "    })();\n",
              "  </script>\n",
              "</div>\n",
              "\n",
              "    </div>\n",
              "  </div>\n"
            ],
            "application/vnd.google.colaboratory.intrinsic+json": {
              "type": "dataframe",
              "variable_name": "p"
            }
          },
          "metadata": {},
          "execution_count": 68
        }
      ],
      "source": [
        "p.head()"
      ]
    },
    {
      "cell_type": "markdown",
      "metadata": {
        "id": "L5JJU1-YPM3W"
      },
      "source": [
        "## Limpieza de datos\n"
      ]
    },
    {
      "cell_type": "markdown",
      "metadata": {
        "id": "nBxO-P9PhLMt"
      },
      "source": [
        "### Eliminación de columnas inaportantes"
      ]
    },
    {
      "cell_type": "code",
      "execution_count": null,
      "metadata": {
        "id": "o5ubywn9dh0Z"
      },
      "outputs": [],
      "source": [
        "columnas = [\n",
        "    'ID', 'PERIODO', 'ESTU_PRGM_ACADEMICO', 'ESTU_PRGM_DEPARTAMENTO',\n",
        "    'ESTU_VALORMATRICULAUNIVERSIDAD', 'ESTU_HORASSEMANATRABAJA',\n",
        "    'FAMI_ESTRATOVIVIENDA', 'FAMI_TIENEINTERNET', 'FAMI_EDUCACIONPADRE',\n",
        "    'FAMI_EDUCACIONMADRE', 'ESTU_PAGOMATRICULAPROPIO', 'RENDIMIENTO_GLOBAL'\n",
        "]"
      ]
    },
    {
      "cell_type": "code",
      "execution_count": null,
      "metadata": {
        "colab": {
          "base_uri": "https://localhost:8080/"
        },
        "id": "PzMCPtk7Thg_",
        "outputId": "882f4a7e-12f8-47eb-b9b0-e4fa23519d1e"
      },
      "outputs": [
        {
          "output_type": "stream",
          "name": "stdout",
          "text": [
            "|    | Columna                        |   Valores_Unicos |\n",
            "|---:|:-------------------------------|-----------------:|\n",
            "|  0 | ID                             |           692500 |\n",
            "|  1 | PERIODO                        |                9 |\n",
            "|  2 | ESTU_PRGM_ACADEMICO            |              948 |\n",
            "|  3 | ESTU_PRGM_DEPARTAMENTO         |               31 |\n",
            "|  4 | ESTU_VALORMATRICULAUNIVERSIDAD |                8 |\n",
            "|  5 | ESTU_HORASSEMANATRABAJA        |                5 |\n",
            "|  6 | FAMI_ESTRATOVIVIENDA           |                7 |\n",
            "|  7 | FAMI_TIENEINTERNET             |                2 |\n",
            "|  8 | FAMI_EDUCACIONPADRE            |               12 |\n",
            "|  9 | FAMI_EDUCACIONMADRE            |               12 |\n",
            "| 10 | ESTU_PAGOMATRICULAPROPIO       |                2 |\n",
            "| 11 | RENDIMIENTO_GLOBAL             |                4 |\n"
          ]
        }
      ],
      "source": [
        "tabla_valores = pd.DataFrame({\n",
        "    'Columna': columnas,\n",
        "    'Valores_Unicos': [z[col].nunique() for col in columnas],\n",
        "})\n",
        "\n",
        "tabla_valores.reset_index(drop=True, inplace=True)\n",
        "\n",
        "markdown_tabla = tabla_valores.to_markdown()\n",
        "\n",
        "print(markdown_tabla)"
      ]
    },
    {
      "cell_type": "code",
      "execution_count": null,
      "metadata": {
        "colab": {
          "base_uri": "https://localhost:8080/"
        },
        "id": "Xg0ym2ohTnFm",
        "outputId": "5ad034b4-e2a2-44df-8d20-503108d375e7"
      },
      "outputs": [
        {
          "output_type": "stream",
          "name": "stdout",
          "text": [
            "|    | Columna                        |   Valores_NA |   Porcentaje |\n",
            "|---:|:-------------------------------|-------------:|-------------:|\n",
            "|  0 | ID                             |            0 |     0        |\n",
            "|  1 | PERIODO                        |            0 |     0        |\n",
            "|  2 | ESTU_PRGM_ACADEMICO            |            0 |     0        |\n",
            "|  3 | ESTU_PRGM_DEPARTAMENTO         |            0 |     0        |\n",
            "|  4 | ESTU_VALORMATRICULAUNIVERSIDAD |         6287 |     0.90787  |\n",
            "|  5 | ESTU_HORASSEMANATRABAJA        |        30857 |     4.45588  |\n",
            "|  6 | FAMI_ESTRATOVIVIENDA           |        32137 |     4.64072  |\n",
            "|  7 | FAMI_TIENEINTERNET             |        26629 |     3.84534  |\n",
            "|  8 | FAMI_EDUCACIONPADRE            |        23178 |     3.347    |\n",
            "|  9 | FAMI_EDUCACIONMADRE            |        23664 |     3.41718  |\n",
            "| 10 | ESTU_PAGOMATRICULAPROPIO       |         6498 |     0.938339 |\n",
            "| 11 | RENDIMIENTO_GLOBAL             |            0 |     0        |\n"
          ]
        }
      ],
      "source": [
        "tabla_nulls = pd.DataFrame({\n",
        "    'Columna': columnas,\n",
        "    'Valores_NA': z[columnas].isna().sum().values\n",
        "})\n",
        "\n",
        "\n",
        "total_datos = 692500\n",
        "\n",
        "\n",
        "tabla_nulls['Porcentaje'] = (tabla_nulls['Valores_NA'] / total_datos) * 100\n",
        "\n",
        "\n",
        "markdown_tabla = tabla_nulls.to_markdown()\n",
        "\n",
        "print(markdown_tabla)"
      ]
    },
    {
      "cell_type": "code",
      "execution_count": null,
      "metadata": {
        "id": "wDl0J__dTy4e"
      },
      "outputs": [],
      "source": [
        "columna_a_excluir = 'RENDIMIENTO_GLOBAL'\n",
        "columnas_filtradas = [col for col in columnas if col != columna_a_excluir]"
      ]
    },
    {
      "cell_type": "code",
      "execution_count": null,
      "metadata": {
        "colab": {
          "base_uri": "https://localhost:8080/"
        },
        "id": "imZm-YvKTtO6",
        "outputId": "93df1123-3570-4dd3-addd-23ee70f1b416"
      },
      "outputs": [
        {
          "output_type": "stream",
          "name": "stdout",
          "text": [
            "|    | Columna                        |   Valores_Unicos |\n",
            "|---:|:-------------------------------|-----------------:|\n",
            "|  0 | ID                             |           296786 |\n",
            "|  1 | PERIODO                        |                9 |\n",
            "|  2 | ESTU_PRGM_ACADEMICO            |              919 |\n",
            "|  3 | ESTU_PRGM_DEPARTAMENTO         |               31 |\n",
            "|  4 | ESTU_VALORMATRICULAUNIVERSIDAD |                8 |\n",
            "|  5 | ESTU_HORASSEMANATRABAJA        |                5 |\n",
            "|  6 | FAMI_ESTRATOVIVIENDA           |                7 |\n",
            "|  7 | FAMI_TIENEINTERNET             |                2 |\n",
            "|  8 | FAMI_EDUCACIONPADRE            |               12 |\n",
            "|  9 | FAMI_EDUCACIONMADRE            |               12 |\n",
            "| 10 | ESTU_PAGOMATRICULAPROPIO       |                2 |\n"
          ]
        }
      ],
      "source": [
        "tabla_valores = pd.DataFrame({\n",
        "    'Columna': columnas_filtradas,\n",
        "    'Valores_Unicos': [p[col].nunique() for col in columnas_filtradas],\n",
        "})\n",
        "\n",
        "tabla_valores.reset_index(drop=True, inplace=True)\n",
        "\n",
        "markdown_tabla = tabla_valores.to_markdown()\n",
        "\n",
        "print(markdown_tabla)"
      ]
    },
    {
      "cell_type": "code",
      "execution_count": null,
      "metadata": {
        "id": "jzMZrtLPXeIz"
      },
      "outputs": [],
      "source": [
        "p['ESTU_PRGM_ACADEMICO'] = p['ESTU_PRGM_ACADEMICO'].apply(lambda x: np.nan if isinstance(x, str) and x.strip() == \"\" else x)"
      ]
    },
    {
      "cell_type": "code",
      "execution_count": null,
      "metadata": {
        "colab": {
          "base_uri": "https://localhost:8080/"
        },
        "id": "6tDL8QnFdbW5",
        "outputId": "6123190b-a277-4390-d45b-82526e6bfda3"
      },
      "outputs": [
        {
          "output_type": "stream",
          "name": "stdout",
          "text": [
            "|    | Columna                        |   Valores_NA_p |   Porcentaje_NA_p |\n",
            "|---:|:-------------------------------|---------------:|------------------:|\n",
            "|  0 | ID                             |              0 |          0        |\n",
            "|  1 | PERIODO                        |              0 |          0        |\n",
            "|  2 | ESTU_PRGM_ACADEMICO            |              0 |          0        |\n",
            "|  3 | ESTU_PRGM_DEPARTAMENTO         |              0 |          0        |\n",
            "|  4 | ESTU_VALORMATRICULAUNIVERSIDAD |           2723 |          0.917496 |\n",
            "|  5 | ESTU_HORASSEMANATRABAJA        |          13379 |          4.50796  |\n",
            "|  6 | FAMI_ESTRATOVIVIENDA           |          13795 |          4.64813  |\n",
            "|  7 | FAMI_TIENEINTERNET             |          11539 |          3.88799  |\n",
            "|  8 | FAMI_EDUCACIONPADRE            |           9993 |          3.36707  |\n",
            "|  9 | FAMI_EDUCACIONMADRE            |          10223 |          3.44457  |\n",
            "| 10 | ESTU_PAGOMATRICULAPROPIO       |           2807 |          0.945799 |\n"
          ]
        }
      ],
      "source": [
        "tabla_nulls = pd.DataFrame({\n",
        "    'Columna': columnas_filtradas,\n",
        "    'Valores_NA_p': p[columnas_filtradas].isna().sum().values\n",
        "})\n",
        "\n",
        "total_datos = 296786\n",
        "\n",
        "tabla_nulls['Porcentaje_NA_p'] = (tabla_nulls['Valores_NA_p'] / total_datos) * 100\n",
        "\n",
        "# Convert the table to markdown\n",
        "markdown_tabla = tabla_nulls.to_markdown()\n",
        "\n",
        "# Print the markdown table\n",
        "print(markdown_tabla)\n"
      ]
    },
    {
      "cell_type": "markdown",
      "metadata": {
        "id": "QRNIlxogeSYZ"
      },
      "source": [
        " Se eliminan las columnas que se consideran inaportantes para predecir la variable de interes sin importar el valor de la correlación."
      ]
    },
    {
      "cell_type": "code",
      "execution_count": null,
      "metadata": {
        "id": "fSxqxXAregwl"
      },
      "outputs": [],
      "source": [
        "z = z.drop(columns=['ID'])\n",
        "z = z.drop(columns=['ESTU_PAGOMATRICULAPROPIO'])\n",
        "z = z.drop(columns=['ESTU_VALORMATRICULAUNIVERSIDAD'])\n",
        "z = z.drop(columns=['PERIODO'])\n",
        "\n",
        "p = p.drop(columns=['ID'])\n",
        "p = p.drop(columns=['ESTU_PAGOMATRICULAPROPIO'])\n",
        "p = p.drop(columns=['ESTU_VALORMATRICULAUNIVERSIDAD'])\n",
        "p = p.drop(columns=['PERIODO'])"
      ]
    },
    {
      "cell_type": "markdown",
      "metadata": {
        "id": "BR0LnMJ6IYiF"
      },
      "source": [
        "#### Elección de columnas a eliminar basado en valores Nan"
      ]
    },
    {
      "cell_type": "markdown",
      "metadata": {
        "id": "WNA9muJ2Prto"
      },
      "source": [
        "Eliminar columnas con un porcentaje de valores **NaN superior al 70%** en un dataset es una práctica común en la limpieza de datos, ya que indica que la mayoría de los datos en esa columna están ausentes. Esto puede comprometer la calidad y la integridad del análisis posterior, ya que un alto porcentaje de datos faltantes sugiere que la columna puede no ser representativa o útil para los objetivos del estudio."
      ]
    },
    {
      "cell_type": "code",
      "execution_count": null,
      "metadata": {
        "colab": {
          "base_uri": "https://localhost:8080/"
        },
        "id": "nPGPMOT6LdkW",
        "outputId": "77c35894-0c22-4945-fe0b-17c90458d501"
      },
      "outputs": [
        {
          "output_type": "stream",
          "name": "stdout",
          "text": [
            "Columnas con más del 70% de valores nulos:\n",
            "Series([], dtype: float64)\n"
          ]
        }
      ],
      "source": [
        "null_percentage = z.isnull().mean() * 100\n",
        "\n",
        "high_null_columns = null_percentage[null_percentage > 70]\n",
        "\n",
        "print(\"Columnas con más del 70% de valores nulos:\")\n",
        "print(high_null_columns)\n"
      ]
    },
    {
      "cell_type": "code",
      "execution_count": null,
      "metadata": {
        "colab": {
          "base_uri": "https://localhost:8080/"
        },
        "id": "3_HThWftVqqb",
        "outputId": "446bf915-c1ee-4fe1-b45b-0b218bb1cd99"
      },
      "outputs": [
        {
          "output_type": "stream",
          "name": "stdout",
          "text": [
            "Columnas con más del 70% de valores nulos:\n",
            "Series([], dtype: float64)\n"
          ]
        }
      ],
      "source": [
        "null_percentage = p.isnull().mean() * 100\n",
        "\n",
        "high_null_columns = null_percentage[null_percentage > 70]\n",
        "\n",
        "print(\"Columnas con más del 70% de valores nulos:\")\n",
        "print(high_null_columns)"
      ]
    },
    {
      "cell_type": "markdown",
      "metadata": {
        "id": "s6V7grsvJ24x"
      },
      "source": [
        "No hay porcentajes demasiado significativos en las columnas con valores null para ser eliminadas por este criterio"
      ]
    },
    {
      "cell_type": "markdown",
      "metadata": {
        "id": "wiKnJyB0ZM4u"
      },
      "source": [
        "### Conversión variables categoricas a numericas y reemplazo de datos y Nan"
      ]
    },
    {
      "cell_type": "markdown",
      "metadata": {
        "id": "n7G9_vHDHHqi"
      },
      "source": [
        "#### **Variables Categoricas a numericas**"
      ]
    },
    {
      "cell_type": "markdown",
      "metadata": {
        "id": "B1ofBBJpypXA"
      },
      "source": [
        "Una **variable categórica** es aquella que representa diferentes categorías o grupos. Dentro de las variables categóricas, existen dos tipos principales:\n",
        "\n",
        "- Variable categórica nominal:\n",
        "  Representa categorías sin un orden intrínseco. No hay una jerarquía entre las categorías.\n",
        "  Ejemplos: Colores (rojo, azul, verde), ciudades (Bogotá, Lima, Madrid).\n",
        "\n",
        "- Variable categórica ordinal:\n",
        "  Representa categorías que sí tienen un orden o jerarquía entre ellas, pero las diferencias entre los niveles no son cuantificables.\n",
        "  Ejemplos: Niveles de satisfacción (bajo, medio, alto), grados académicos (secundaria, licenciatura, maestría).\n",
        "\n",
        "\n",
        "Para convertir **variables categóricas** en valores numéricos durante la limpieza y estandarización de datos, es importante considerar su tipo. **Las variables categóricas nominales,** al no tener un orden intrínseco, se transforman típicamente mediante **One-Hot Encoding**, que crea columnas binarias para cada categoría, o **Label Encoding** en casos binarios. Las **variables categóricas ordinales**, por su parte, siguen un orden lógico, por lo que se transforman usando Label Encoding, asignando un número que respete esa jerarquía. Esta distinción asegura que las transformaciones numéricas representen adecuadamente la naturaleza de las categorías en el análisis posterior.\n",
        "\n",
        "**Dentro del dataset en variables categoricas ordinales que quedan tenemos**\n",
        "- FAMI_EDUCACIONPADRE, FAMI_EDUCACIONPADRE, RENDIMIENTO_GLOBAL,  FAMI_ESTRATOVIVIENDA, ESTU_HORASSEMANATRABAJA\n",
        "\n",
        "**Dentro del dataset en variables categoricas nominales que quedan tenemos**\n",
        "- FAMI_TIENEINTERNET, ESTU_PRGM_ACADEMICO , ESTU_PRGM_DEPARTAMENTO"
      ]
    },
    {
      "cell_type": "markdown",
      "metadata": {
        "id": "B7jt_ZteHTcT"
      },
      "source": [
        "#### **Valores Faltantes en Datasets de Entrenamiento y Prueba**"
      ]
    },
    {
      "cell_type": "markdown",
      "metadata": {
        "id": "EszctkqiEq6M"
      },
      "source": [
        "Es fundamental entender que el procesamiento de valores NaN debe abordarse de manera diferente en los datasets de entrenamiento y prueba, ya que cada uno tiene propósitos y restricciones distintas.\n",
        "\n",
        "En el contexto de un dataset de prueba, no es posible eliminar filas basadas en la presencia de valores NaN, ya que esto alteraría el tamaño del dataset y podría llevar a la pérdida de información esencial para las predicciones o evaluaciones posteriores. Al ser un conjunto de prueba, mantener la integridad y el tamaño original es fundamental para obtener resultados consistentes y comparables con otros modelos o evaluaciones.\n",
        "\n",
        "**Dataset de Entrenamiento**\n",
        "En el dataset de entrenamiento, se optó por eliminar las filas que contenían valores NaN, ya que:\n",
        "\n",
        "- Esta práctica es aceptable durante la fase de entrenamiento\n",
        "- No compromete la integridad del modelo\n",
        "- Permite trabajar con datos completos y limpios\n",
        "\n",
        "**Dataset de Prueba**\n",
        "Para el dataset de prueba, el enfoque debe ser más conservador:\n",
        "\n",
        "Restricciones Importantes:\n",
        "\n",
        "- No se pueden eliminar filas con valores NaN\n",
        "- Es crucial mantener el tamaño original del dataset\n",
        "- Se debe preservar toda la información para evaluaciones posteriores\n",
        "\n",
        "\n",
        "**Solución Adoptada:**\n",
        "Se implementó la Imputación Basada en Distribución de Probabilidades porque:\n",
        "\n",
        "- Preserva la distribución original de las categorías\n",
        "- Evita sesgos que podrían surgir al usar métodos simples (moda, mediana)\n",
        "- Mantiene la diversidad de los datos\n",
        "- Asegura una distribución más realista de los valores\n",
        "\n",
        "\n",
        "Beneficios del Método: **texto en negrita**\n",
        "\n",
        "- Evita la sobre-representación de categorías específicas\n",
        "- Mantiene la integridad estadística del dataset\n",
        "- Permite obtener resultados más precisos y confiables en la evaluación del modelo\n",
        "\n"
      ]
    },
    {
      "cell_type": "markdown",
      "metadata": {
        "id": "VaLVP45gzFjr"
      },
      "source": [
        "##### Funciones"
      ]
    },
    {
      "cell_type": "code",
      "execution_count": null,
      "metadata": {
        "id": "wHtGH1qTzX5o"
      },
      "outputs": [],
      "source": [
        "def replace_nans_equilibrado(df, column_name):\n",
        "    \"\"\"\n",
        "    Reemplaza los valores NaN de una columna con otros valores de la misma columna\n",
        "    de manera proporcional a su frecuencia.\n",
        "\n",
        "    :param df: DataFrame que contiene la columna.\n",
        "    :param column_name: Nombre de la columna donde se reemplazarán los NaN.\n",
        "    :return: DataFrame con los NaN reemplazados de manera equilibrada.\n",
        "    \"\"\"\n",
        "    nan_count_before = df[column_name].isna().sum()\n",
        "    values, counts = np.unique(df[column_name].dropna(), return_counts=True)\n",
        "\n",
        "    if len(values) == 0:\n",
        "        return df\n",
        "\n",
        "    probabilities = counts / counts.sum()\n",
        "\n",
        "    df[column_name] = df[column_name].apply(\n",
        "        lambda x: np.random.choice(values, p=probabilities) if pd.isna(x) else x\n",
        "    )\n",
        "\n",
        "    nan_count_after = df[column_name].isna().sum()\n",
        "    replaced_percentage = ((nan_count_before - nan_count_after) / len(df)) * 100\n",
        "\n",
        "    print(f\"Porcentaje de NaN reemplazado en '{column_name}': {replaced_percentage:.2f}%\")\n",
        "\n",
        "    return df"
      ]
    },
    {
      "cell_type": "code",
      "execution_count": null,
      "metadata": {
        "id": "dMJDdWj92Rrn"
      },
      "outputs": [],
      "source": [
        "def contar_nulos(df, column_name):\n",
        "    null_count = df[column_name].isnull().sum()\n",
        "    print(f'Total de valores nulos en {column_name}: {null_count}')\n"
      ]
    },
    {
      "cell_type": "code",
      "execution_count": null,
      "metadata": {
        "id": "kjGawIm-4T1s"
      },
      "outputs": [],
      "source": [
        "def label_encode_column(df, column_name):\n",
        "    \"\"\"\n",
        "    Aplica Label Encoding a una columna de un DataFrame, transformando los valores categóricos en numéricos.\n",
        "\n",
        "    :param df: DataFrame que contiene la columna.\n",
        "    :param column_name: Nombre de la columna a codificar.\n",
        "    :return: DataFrame con la columna codificada y el codificador.\n",
        "    \"\"\"\n",
        "\n",
        "    le = LabelEncoder()\n",
        "\n",
        "    df[column_name] = le.fit_transform(df[column_name])\n",
        "\n",
        "    mapping_df = pd.DataFrame({\n",
        "        'Categoría Original': le.classes_,\n",
        "        'Valor Numérico': le.transform(le.classes_)\n",
        "    })\n",
        "\n",
        "    print(f'Mapeo de categorías en la columna {column_name}:')\n",
        "    print(mapping_df.to_markdown(index=False))\n",
        "\n",
        "\n",
        "    return df, mapping_df\n"
      ]
    },
    {
      "cell_type": "code",
      "execution_count": null,
      "metadata": {
        "id": "ZWO0g-4z7E4k"
      },
      "outputs": [],
      "source": [
        "def one_hot_encode_column(df, column_name):\n",
        "    \"\"\"\n",
        "    Aplica One-Hot Encoding a una columna categórica de un DataFrame y devuelve el DataFrame transformado.\n",
        "\n",
        "    :param df: DataFrame que contiene la columna.\n",
        "    :param column_name: Nombre de la columna a codificar.\n",
        "    :return: DataFrame con la columna codificada usando One-Hot Encoding.\n",
        "    \"\"\"\n",
        "    one_hot_encoded_df = pd.get_dummies(df, columns=[column_name], prefix=column_name, drop_first=True)\n",
        "\n",
        "    one_hot_encoded_df = one_hot_encoded_df.astype(int)\n",
        "\n",
        "    return one_hot_encoded_df"
      ]
    },
    {
      "cell_type": "code",
      "execution_count": null,
      "metadata": {
        "id": "SGg3tXF99nOl"
      },
      "outputs": [],
      "source": [
        "def eliminar_filas_nan(df, columna):\n",
        "    \"\"\"\n",
        "    Elimina filas del DataFrame si la columna especificada tiene NaN,\n",
        "    siempre y cuando el porcentaje de NaN en esa columna no supere el 5%.\n",
        "\n",
        "    Args:\n",
        "        df (pd.DataFrame): El DataFrame del que se eliminarán las filas.\n",
        "        columna (str): El nombre de la columna a evaluar.\n",
        "\n",
        "    Returns:\n",
        "        pd.DataFrame: El DataFrame resultante después de eliminar las filas.\n",
        "    \"\"\"\n",
        "\n",
        "    porcentaje_nan = df[columna].isna().mean() * 100\n",
        "\n",
        "    if porcentaje_nan <= 5:\n",
        "        df = df.dropna(subset=[columna])\n",
        "        print(f\"Se eliminaron filas de la columna '{columna}' con NaN. Porcentaje de NaN: {porcentaje_nan:.2f}%\")\n",
        "    else:\n",
        "        print(f\"No se eliminan filas. El porcentaje de NaN en la columna '{columna}' es {porcentaje_nan:.2f}%, mayor al 5%.\")\n",
        "\n",
        "    return df"
      ]
    },
    {
      "cell_type": "code",
      "execution_count": null,
      "metadata": {
        "id": "OpVtPJ1YFGrr"
      },
      "outputs": [],
      "source": [
        "def encontrar_palabras_extranas(df, columna):\n",
        "    patron = r'[^\\w\\s]| {2,}'\n",
        "    palabras_extranas = set()\n",
        "\n",
        "    for texto in df[columna]:\n",
        "        if pd.notna(texto):\n",
        "            palabras_extranas.update([palabra for palabra in texto.split() if re.search(patron, palabra)])\n",
        "\n",
        "    return list(palabras_extranas)\n"
      ]
    },
    {
      "cell_type": "code",
      "execution_count": null,
      "metadata": {
        "id": "Kj7BlsSEB4qn"
      },
      "outputs": [],
      "source": [
        "def limpiar_columna(df, columna):\n",
        "    reemplazo_vocales = {\n",
        "        'á': 'a',\n",
        "        'é': 'e',\n",
        "        'í': 'i',\n",
        "        'ó': 'o',\n",
        "        'ú': 'u',\n",
        "        'ü': 'u',\n",
        "        'ñ': 'n',\n",
        "        '&': 'y'\n",
        "    }\n",
        "\n",
        "\n",
        "    df[columna] = df[columna].str.lower()\n",
        "\n",
        "    df[columna] = df[columna].replace(reemplazo_vocales, regex=True)\n",
        "    df[columna] = df[columna].replace(r\"[,&\\-:+'*\\\"\\.()]+\", ' ', regex=True)\n",
        "    df[columna] = df[columna].replace(r'\\s+', ' ', regex=True).str.strip()\n",
        "\n",
        "    return df"
      ]
    },
    {
      "cell_type": "code",
      "execution_count": null,
      "metadata": {
        "id": "GofzmiFNGWvk"
      },
      "outputs": [],
      "source": [
        "\n",
        "def agrupar_por_primera_palabra(valores, presicion):\n",
        "    agrupados = defaultdict(list)\n",
        "\n",
        "    for valor in valores:\n",
        "        primera_palabra = valor.split()[0] if valor else ''\n",
        "        clave_encontrada = False\n",
        "\n",
        "        for clave in list(agrupados.keys()):\n",
        "            if fuzz.ratio(primera_palabra, clave) > presicion:  # Umbral de similitud\n",
        "                agrupados[clave].append(valor)\n",
        "                clave_encontrada = True\n",
        "                break\n",
        "\n",
        "        if not clave_encontrada:\n",
        "            agrupados[primera_palabra].append(valor)\n",
        "\n",
        "    return dict(agrupados)\n"
      ]
    },
    {
      "cell_type": "markdown",
      "metadata": {
        "id": "MRaR11uf4mVc"
      },
      "source": [
        "#### Categoricas Ordinales"
      ]
    },
    {
      "cell_type": "markdown",
      "metadata": {
        "id": "Ox2GUHk5ve40"
      },
      "source": [
        "##### Familia educación padre"
      ]
    },
    {
      "cell_type": "code",
      "execution_count": null,
      "metadata": {
        "id": "xg_aIpPsRc-9"
      },
      "outputs": [],
      "source": [
        "z = limpiar_columna(z, 'FAMI_EDUCACIONPADRE')\n",
        "p = limpiar_columna(p, 'FAMI_EDUCACIONPADRE')"
      ]
    },
    {
      "cell_type": "code",
      "execution_count": null,
      "metadata": {
        "colab": {
          "base_uri": "https://localhost:8080/"
        },
        "id": "P8IlAPahv_Y1",
        "outputId": "5c6b36c2-e8cf-4edf-ca83-56b868ecda4e"
      },
      "outputs": [
        {
          "output_type": "stream",
          "name": "stdout",
          "text": [
            "Total de valores nulos en FAMI_EDUCACIONPADRE: 0\n",
            "Total de valores nulos en FAMI_EDUCACIONPADRE: 0\n"
          ]
        }
      ],
      "source": [
        "contar_nulos(z,'FAMI_EDUCACIONPADRE')\n",
        "contar_nulos(p,'FAMI_EDUCACIONPADRE')\n"
      ]
    },
    {
      "cell_type": "code",
      "execution_count": null,
      "metadata": {
        "colab": {
          "base_uri": "https://localhost:8080/"
        },
        "id": "q-GaSbGrzCGX",
        "outputId": "1bf8e404-a4d2-442b-990f-c78407cd4805"
      },
      "outputs": [
        {
          "output_type": "stream",
          "name": "stdout",
          "text": [
            "Se eliminaron filas de la columna 'FAMI_EDUCACIONPADRE' con NaN. Porcentaje de NaN: 3.35%\n",
            "Porcentaje de NaN reemplazado en 'FAMI_EDUCACIONPADRE': 3.37%\n",
            "0\n",
            "0\n"
          ]
        }
      ],
      "source": [
        "z = eliminar_filas_nan(z, 'FAMI_EDUCACIONPADRE')\n",
        "p = replace_nans_equilibrado(p, 'FAMI_EDUCACIONPADRE')\n",
        "print(z['FAMI_EDUCACIONPADRE'].isnull().sum())\n",
        "print(p['FAMI_EDUCACIONPADRE'].isnull().sum())"
      ]
    },
    {
      "cell_type": "code",
      "execution_count": null,
      "metadata": {
        "colab": {
          "base_uri": "https://localhost:8080/"
        },
        "id": "VdGRaF2J1Jip",
        "outputId": "49cdd4e5-b340-48b3-a808-7fb3db4909df"
      },
      "outputs": [
        {
          "output_type": "stream",
          "name": "stdout",
          "text": [
            "Mapeo de categorías en la columna FAMI_EDUCACIONPADRE:\n",
            "| Categoría Original                 |   Valor Numérico |\n",
            "|:-----------------------------------|-----------------:|\n",
            "| educacion profesional completa     |                0 |\n",
            "| educacion profesional incompleta   |                1 |\n",
            "| ninguno                            |                2 |\n",
            "| no aplica                          |                3 |\n",
            "| no sabe                            |                4 |\n",
            "| postgrado                          |                5 |\n",
            "| primaria completa                  |                6 |\n",
            "| primaria incompleta                |                7 |\n",
            "| secundaria bachillerato completa   |                8 |\n",
            "| secundaria bachillerato incompleta |                9 |\n",
            "| tecnica o tecnologica completa     |               10 |\n",
            "| tecnica o tecnologica incompleta   |               11 |\n",
            " \n",
            "encoder educación padre\n",
            "Mapeo de categorías en la columna FAMI_EDUCACIONPADRE:\n",
            "| Categoría Original                 |   Valor Numérico |\n",
            "|:-----------------------------------|-----------------:|\n",
            "| educacion profesional completa     |                0 |\n",
            "| educacion profesional incompleta   |                1 |\n",
            "| ninguno                            |                2 |\n",
            "| no aplica                          |                3 |\n",
            "| no sabe                            |                4 |\n",
            "| postgrado                          |                5 |\n",
            "| primaria completa                  |                6 |\n",
            "| primaria incompleta                |                7 |\n",
            "| secundaria bachillerato completa   |                8 |\n",
            "| secundaria bachillerato incompleta |                9 |\n",
            "| tecnica o tecnologica completa     |               10 |\n",
            "| tecnica o tecnologica incompleta   |               11 |\n"
          ]
        }
      ],
      "source": [
        "z, encoder_fami_educacionpadre= label_encode_column(z, 'FAMI_EDUCACIONPADRE' )\n",
        "print(\" \")\n",
        "print(\"encoder educación padre\")\n",
        "p, encoder_fami_educacionpadre= label_encode_column(p, 'FAMI_EDUCACIONPADRE' )"
      ]
    },
    {
      "cell_type": "markdown",
      "metadata": {
        "id": "FMnGfF-G2hZz"
      },
      "source": [
        "##### Familia educación madre"
      ]
    },
    {
      "cell_type": "code",
      "execution_count": null,
      "metadata": {
        "id": "Z3R6RQ2QTWmN"
      },
      "outputs": [],
      "source": [
        "z = limpiar_columna(z, 'FAMI_EDUCACIONMADRE')\n",
        "p = limpiar_columna(p, 'FAMI_EDUCACIONMADRE')"
      ]
    },
    {
      "cell_type": "code",
      "execution_count": null,
      "metadata": {
        "colab": {
          "base_uri": "https://localhost:8080/"
        },
        "id": "prmBeJIb2kzT",
        "outputId": "968ddc5a-71ae-472c-9dbe-d7966cb74261"
      },
      "outputs": [
        {
          "output_type": "stream",
          "name": "stdout",
          "text": [
            "Total de valores nulos en FAMI_EDUCACIONMADRE: 1681\n",
            "Total de valores nulos en FAMI_EDUCACIONMADRE: 10223\n"
          ]
        }
      ],
      "source": [
        "contar_nulos(z,'FAMI_EDUCACIONMADRE')\n",
        "contar_nulos(p,'FAMI_EDUCACIONMADRE')\n"
      ]
    },
    {
      "cell_type": "code",
      "execution_count": null,
      "metadata": {
        "colab": {
          "base_uri": "https://localhost:8080/"
        },
        "id": "hmcEK0Sl3gc4",
        "outputId": "88692859-c3ec-44a5-aa2a-cb6708cbd6d6"
      },
      "outputs": [
        {
          "output_type": "stream",
          "name": "stdout",
          "text": [
            "Se eliminaron filas de la columna 'FAMI_EDUCACIONMADRE' con NaN. Porcentaje de NaN: 0.25%\n",
            "Porcentaje de NaN reemplazado en 'FAMI_EDUCACIONMADRE': 3.44%\n",
            "0\n",
            "0\n"
          ]
        }
      ],
      "source": [
        "z = eliminar_filas_nan(z, 'FAMI_EDUCACIONMADRE')\n",
        "p = replace_nans_equilibrado(p, 'FAMI_EDUCACIONMADRE')\n",
        "\n",
        "print(z['FAMI_EDUCACIONMADRE'].isnull().sum())\n",
        "print(p['FAMI_EDUCACIONMADRE'].isnull().sum())"
      ]
    },
    {
      "cell_type": "code",
      "execution_count": null,
      "metadata": {
        "colab": {
          "base_uri": "https://localhost:8080/"
        },
        "id": "fJGszln11Q51",
        "outputId": "b10aac56-3ef3-422f-e01b-357b03e1c642"
      },
      "outputs": [
        {
          "output_type": "stream",
          "name": "stdout",
          "text": [
            "Mapeo de categorías en la columna FAMI_EDUCACIONMADRE:\n",
            "| Categoría Original                 |   Valor Numérico |\n",
            "|:-----------------------------------|-----------------:|\n",
            "| educacion profesional completa     |                0 |\n",
            "| educacion profesional incompleta   |                1 |\n",
            "| ninguno                            |                2 |\n",
            "| no aplica                          |                3 |\n",
            "| no sabe                            |                4 |\n",
            "| postgrado                          |                5 |\n",
            "| primaria completa                  |                6 |\n",
            "| primaria incompleta                |                7 |\n",
            "| secundaria bachillerato completa   |                8 |\n",
            "| secundaria bachillerato incompleta |                9 |\n",
            "| tecnica o tecnologica completa     |               10 |\n",
            "| tecnica o tecnologica incompleta   |               11 |\n",
            " \n",
            "Encoder test\n",
            "Mapeo de categorías en la columna FAMI_EDUCACIONMADRE:\n",
            "| Categoría Original                 |   Valor Numérico |\n",
            "|:-----------------------------------|-----------------:|\n",
            "| educacion profesional completa     |                0 |\n",
            "| educacion profesional incompleta   |                1 |\n",
            "| ninguno                            |                2 |\n",
            "| no aplica                          |                3 |\n",
            "| no sabe                            |                4 |\n",
            "| postgrado                          |                5 |\n",
            "| primaria completa                  |                6 |\n",
            "| primaria incompleta                |                7 |\n",
            "| secundaria bachillerato completa   |                8 |\n",
            "| secundaria bachillerato incompleta |                9 |\n",
            "| tecnica o tecnologica completa     |               10 |\n",
            "| tecnica o tecnologica incompleta   |               11 |\n"
          ]
        }
      ],
      "source": [
        "z, encoder_fami_educacionpadre= label_encode_column(z, 'FAMI_EDUCACIONMADRE' )\n",
        "print(\" \")\n",
        "print(\"Encoder test\")\n",
        "p, encoder_fami_educacionpadre= label_encode_column(p, 'FAMI_EDUCACIONMADRE' )"
      ]
    },
    {
      "cell_type": "markdown",
      "metadata": {
        "id": "KuNs-wIY7tWz"
      },
      "source": [
        "##### Rendimiento global"
      ]
    },
    {
      "cell_type": "code",
      "execution_count": null,
      "metadata": {
        "id": "f3Y9X9l6T9ZW"
      },
      "outputs": [],
      "source": [
        "z = limpiar_columna(z, 'RENDIMIENTO_GLOBAL')\n",
        "## el dataset de test no tiene esta variable"
      ]
    },
    {
      "cell_type": "code",
      "execution_count": null,
      "metadata": {
        "colab": {
          "base_uri": "https://localhost:8080/"
        },
        "id": "vgUNyZ3-poo4",
        "outputId": "54f06e02-82d1-44b1-daa0-589bc87cfe44"
      },
      "outputs": [
        {
          "output_type": "stream",
          "name": "stdout",
          "text": [
            "Mapeo de categorías en la columna RENDIMIENTO_GLOBAL:\n",
            "| Categoría Original   |   Valor Numérico |\n",
            "|:---------------------|-----------------:|\n",
            "| alto                 |                0 |\n",
            "| bajo                 |                1 |\n",
            "| medio alto           |                2 |\n",
            "| medio bajo           |                3 |\n"
          ]
        }
      ],
      "source": [
        "z, encoder_rendi_global= label_encode_column(z, 'RENDIMIENTO_GLOBAL' )"
      ]
    },
    {
      "cell_type": "markdown",
      "metadata": {
        "id": "WTBaKpBA8Vo-"
      },
      "source": [
        "##### Familia estrato vivienda"
      ]
    },
    {
      "cell_type": "code",
      "execution_count": null,
      "metadata": {
        "id": "l945mssOUM5N"
      },
      "outputs": [],
      "source": [
        "z = limpiar_columna(z, 'FAMI_ESTRATOVIVIENDA')\n",
        "p = limpiar_columna(p, 'FAMI_ESTRATOVIVIENDA')"
      ]
    },
    {
      "cell_type": "code",
      "execution_count": null,
      "metadata": {
        "colab": {
          "base_uri": "https://localhost:8080/"
        },
        "id": "aqVWf8mW8Y7d",
        "outputId": "e247e3c9-f46f-4d5a-e194-39c13e0e1f2a"
      },
      "outputs": [
        {
          "output_type": "stream",
          "name": "stdout",
          "text": [
            "Total de valores nulos en FAMI_ESTRATOVIVIENDA: 9917\n",
            "Total de valores nulos en FAMI_ESTRATOVIVIENDA: 13795\n"
          ]
        }
      ],
      "source": [
        "contar_nulos(z,'FAMI_ESTRATOVIVIENDA')\n",
        "contar_nulos(p,'FAMI_ESTRATOVIVIENDA')\n"
      ]
    },
    {
      "cell_type": "code",
      "execution_count": null,
      "metadata": {
        "colab": {
          "base_uri": "https://localhost:8080/"
        },
        "id": "OI8iVjZ_8s42",
        "outputId": "f40a3d1f-6b63-4b70-9a77-fdfd11b3689d"
      },
      "outputs": [
        {
          "output_type": "stream",
          "name": "stdout",
          "text": [
            "Se eliminaron filas de la columna 'FAMI_ESTRATOVIVIENDA' con NaN. Porcentaje de NaN: 1.49%\n",
            "Porcentaje de NaN reemplazado en 'FAMI_ESTRATOVIVIENDA': 4.65%\n",
            "0\n",
            "0\n"
          ]
        }
      ],
      "source": [
        "z = eliminar_filas_nan(z, 'FAMI_ESTRATOVIVIENDA')\n",
        "p = replace_nans_equilibrado(p, 'FAMI_ESTRATOVIVIENDA')\n",
        "print(z['FAMI_ESTRATOVIVIENDA'].isnull().sum())\n",
        "print(p['FAMI_ESTRATOVIVIENDA'].isnull().sum())"
      ]
    },
    {
      "cell_type": "code",
      "execution_count": null,
      "metadata": {
        "colab": {
          "base_uri": "https://localhost:8080/"
        },
        "id": "NUAu1p4A87CP",
        "outputId": "1eed715c-bb35-4365-cf05-16664a203f5f"
      },
      "outputs": [
        {
          "output_type": "stream",
          "name": "stdout",
          "text": [
            "Mapeo de categorías en la columna FAMI_ESTRATOVIVIENDA:\n",
            "| Categoría Original   |   Valor Numérico |\n",
            "|:---------------------|-----------------:|\n",
            "| estrato 1            |                0 |\n",
            "| estrato 2            |                1 |\n",
            "| estrato 3            |                2 |\n",
            "| estrato 4            |                3 |\n",
            "| estrato 5            |                4 |\n",
            "| estrato 6            |                5 |\n",
            "| sin estrato          |                6 |\n",
            " \n",
            "encoder para test\n",
            "Mapeo de categorías en la columna FAMI_ESTRATOVIVIENDA:\n",
            "| Categoría Original   |   Valor Numérico |\n",
            "|:---------------------|-----------------:|\n",
            "| estrato 1            |                0 |\n",
            "| estrato 2            |                1 |\n",
            "| estrato 3            |                2 |\n",
            "| estrato 4            |                3 |\n",
            "| estrato 5            |                4 |\n",
            "| estrato 6            |                5 |\n",
            "| sin estrato          |                6 |\n"
          ]
        }
      ],
      "source": [
        "z, encoder_fami_estactovivienda= label_encode_column(z, 'FAMI_ESTRATOVIVIENDA' )\n",
        "\n",
        "print(\" \")\n",
        "print(\"encoder para test\")\n",
        "p, encoder_fami_estactovivienda= label_encode_column(p, 'FAMI_ESTRATOVIVIENDA' )"
      ]
    },
    {
      "cell_type": "markdown",
      "metadata": {
        "id": "o-dGHBIm9Ci5"
      },
      "source": [
        "##### Horas semanales trabajadas"
      ]
    },
    {
      "cell_type": "code",
      "execution_count": null,
      "metadata": {
        "id": "cSVUMyoVUw29"
      },
      "outputs": [],
      "source": [
        "z = limpiar_columna(z, 'ESTU_HORASSEMANATRABAJA')\n",
        "p = limpiar_columna(p, 'ESTU_HORASSEMANATRABAJA')"
      ]
    },
    {
      "cell_type": "code",
      "execution_count": null,
      "metadata": {
        "colab": {
          "base_uri": "https://localhost:8080/"
        },
        "id": "MQIGxiFD9HDr",
        "outputId": "c7c516ea-59c9-4a15-cd45-06542742f124"
      },
      "outputs": [
        {
          "output_type": "stream",
          "name": "stdout",
          "text": [
            "Total de valores nulos en ESTU_HORASSEMANATRABAJA: 6549\n",
            "Total de valores nulos en ESTU_HORASSEMANATRABAJA: 13379\n"
          ]
        }
      ],
      "source": [
        "contar_nulos(z,'ESTU_HORASSEMANATRABAJA')\n",
        "contar_nulos(p,'ESTU_HORASSEMANATRABAJA')"
      ]
    },
    {
      "cell_type": "code",
      "execution_count": null,
      "metadata": {
        "colab": {
          "base_uri": "https://localhost:8080/"
        },
        "id": "-XkjMapSz5wH",
        "outputId": "ec34c4da-8f94-4d7b-b6c4-52118d6ab799"
      },
      "outputs": [
        {
          "output_type": "stream",
          "name": "stdout",
          "text": [
            "Se eliminaron filas de la columna 'ESTU_HORASSEMANATRABAJA' con NaN. Porcentaje de NaN: 1.00%\n",
            "Porcentaje de NaN reemplazado en 'ESTU_HORASSEMANATRABAJA': 4.51%\n",
            "0\n",
            "0\n"
          ]
        }
      ],
      "source": [
        "z = eliminar_filas_nan(z, 'ESTU_HORASSEMANATRABAJA')\n",
        "p = replace_nans_equilibrado(p, 'ESTU_HORASSEMANATRABAJA')\n",
        "print(z['ESTU_HORASSEMANATRABAJA'].isnull().sum())\n",
        "print(p['ESTU_HORASSEMANATRABAJA'].isnull().sum())"
      ]
    },
    {
      "cell_type": "code",
      "execution_count": null,
      "metadata": {
        "id": "ZYCpUoQy1XHt"
      },
      "outputs": [],
      "source": [
        "cmap = {\n",
        "    'mas de 30 horas': 35,               # Suponiendo un promedio de 35 horas\n",
        "    '0': 0,\n",
        "    'entre 11 y 20 horas': 15.5,         # Promedio de 11 a 20 horas\n",
        "    'entre 21 y 30 horas': 25.5,         # Promedio de 21 a 30 horas\n",
        "    'menos de 10 horas': 5,              # Suponiendo un promedio de menos de 10 horas\n",
        "}\n",
        "\n",
        "\n",
        "z.ESTU_HORASSEMANATRABAJA = np.r_[[cmap[i] for i in z.ESTU_HORASSEMANATRABAJA]]\n",
        "p.ESTU_HORASSEMANATRABAJA = np.r_[[cmap[i] for i in p.ESTU_HORASSEMANATRABAJA]]\n"
      ]
    },
    {
      "cell_type": "markdown",
      "metadata": {
        "id": "4SQVjjqA5VPB"
      },
      "source": [
        "#### Categoricas Nominales"
      ]
    },
    {
      "cell_type": "markdown",
      "metadata": {
        "id": "dIposE-H94XM"
      },
      "source": [
        "##### Departamento estudiante"
      ]
    },
    {
      "cell_type": "code",
      "execution_count": null,
      "metadata": {
        "id": "mzHWsIbIVrH0"
      },
      "outputs": [],
      "source": [
        "z = limpiar_columna(z, 'ESTU_PRGM_DEPARTAMENTO')\n",
        "p = limpiar_columna(p, 'ESTU_PRGM_DEPARTAMENTO')"
      ]
    },
    {
      "cell_type": "code",
      "execution_count": null,
      "metadata": {
        "id": "vUw9zfISBFAI",
        "colab": {
          "base_uri": "https://localhost:8080/"
        },
        "outputId": "503d4413-a88f-4ae1-a2f6-328f720288fe"
      },
      "outputs": [
        {
          "output_type": "stream",
          "name": "stdout",
          "text": [
            "Mapeo de categorías en la columna ESTU_PRGM_DEPARTAMENTO:\n",
            "| Categoría Original   |   Valor Numérico |\n",
            "|:---------------------|-----------------:|\n",
            "| amazonas             |                0 |\n",
            "| antioquia            |                1 |\n",
            "| arauca               |                2 |\n",
            "| atlantico            |                3 |\n",
            "| bogota               |                4 |\n",
            "| bolivar              |                5 |\n",
            "| boyaca               |                6 |\n",
            "| caldas               |                7 |\n",
            "| caqueta              |                8 |\n",
            "| casanare             |                9 |\n",
            "| cauca                |               10 |\n",
            "| cesar                |               11 |\n",
            "| choco                |               12 |\n",
            "| cordoba              |               13 |\n",
            "| cundinamarca         |               14 |\n",
            "| guaviare             |               15 |\n",
            "| huila                |               16 |\n",
            "| la guajira           |               17 |\n",
            "| magdalena            |               18 |\n",
            "| meta                 |               19 |\n",
            "| narino               |               20 |\n",
            "| norte santander      |               21 |\n",
            "| putumayo             |               22 |\n",
            "| quindio              |               23 |\n",
            "| risaralda            |               24 |\n",
            "| san andres           |               25 |\n",
            "| santander            |               26 |\n",
            "| sucre                |               27 |\n",
            "| tolima               |               28 |\n",
            "| valle                |               29 |\n",
            "| vaupes               |               30 |\n",
            " \n",
            "encoder para test\n",
            "Mapeo de categorías en la columna ESTU_PRGM_DEPARTAMENTO:\n",
            "| Categoría Original   |   Valor Numérico |\n",
            "|:---------------------|-----------------:|\n",
            "| amazonas             |                0 |\n",
            "| antioquia            |                1 |\n",
            "| arauca               |                2 |\n",
            "| atlantico            |                3 |\n",
            "| bogota               |                4 |\n",
            "| bolivar              |                5 |\n",
            "| boyaca               |                6 |\n",
            "| caldas               |                7 |\n",
            "| caqueta              |                8 |\n",
            "| casanare             |                9 |\n",
            "| cauca                |               10 |\n",
            "| cesar                |               11 |\n",
            "| choco                |               12 |\n",
            "| cordoba              |               13 |\n",
            "| cundinamarca         |               14 |\n",
            "| guaviare             |               15 |\n",
            "| huila                |               16 |\n",
            "| la guajira           |               17 |\n",
            "| magdalena            |               18 |\n",
            "| meta                 |               19 |\n",
            "| narino               |               20 |\n",
            "| norte santander      |               21 |\n",
            "| putumayo             |               22 |\n",
            "| quindio              |               23 |\n",
            "| risaralda            |               24 |\n",
            "| san andres           |               25 |\n",
            "| santander            |               26 |\n",
            "| sucre                |               27 |\n",
            "| tolima               |               28 |\n",
            "| valle                |               29 |\n",
            "| vaupes               |               30 |\n"
          ]
        }
      ],
      "source": [
        "z, encoder_fami_estuprograma = label_encode_column(z, 'ESTU_PRGM_DEPARTAMENTO' )\n",
        "\n",
        "print(\" \")\n",
        "print(\"encoder para test\")\n",
        "p, encoder_fami_estuprograma_test = label_encode_column(p, 'ESTU_PRGM_DEPARTAMENTO' )"
      ]
    },
    {
      "cell_type": "markdown",
      "metadata": {
        "id": "iio-beQr-8gt"
      },
      "source": [
        "##### Programa Academico"
      ]
    },
    {
      "cell_type": "markdown",
      "metadata": {
        "id": "OndNjMQsEdVB"
      },
      "source": [
        "Al ser esta la columna con más datos únicos posiblemente tenga muchisimos errores orgotograficos que duplican valores que no deberían\n",
        "\n",
        "Ejemplo:\n",
        "\n",
        "quimicafarmaceutica, química farmacéutica, química farmaceutica, quimica farmacéutica\n",
        "\n",
        "Que realmente son el mismo valor pero a causa de las tildes aparecen como cuatro únicos, por ellos procedemos a normalizar los datos de la columna eliminando tildes, diarisis, minúsculas, caracteres especiales como la ñ, comas, guiones, puntos, dos puntos, dobles espacios, comillas simples o dobles, etc."
      ]
    },
    {
      "cell_type": "code",
      "execution_count": null,
      "metadata": {
        "id": "b5ob4pjrNXC3"
      },
      "outputs": [],
      "source": [
        "z = limpiar_columna(z, 'ESTU_PRGM_ACADEMICO')\n",
        "p = limpiar_columna(p, 'ESTU_PRGM_ACADEMICO')"
      ]
    },
    {
      "cell_type": "code",
      "execution_count": null,
      "metadata": {
        "colab": {
          "base_uri": "https://localhost:8080/"
        },
        "id": "vQ17AOzkEviG",
        "outputId": "889c969c-bba1-4c17-9ff6-34dff4e391f4"
      },
      "outputs": [
        {
          "output_type": "stream",
          "name": "stdout",
          "text": [
            "Palabras con caracteres extraños o múltiples espacios: ['esc¿nicas', 'administraci¿n', 'matem¿ticas', 'educaci¿n', 'gr¿¿fica', 'qu¿mica', 'dise¿¿o', 'farmac¿utica', 'log¿stica', '3°', 'comunicaci¿n', 'b¿sica', 'ingl¿s', 'comunicaci¿¿n', 'recreaci¿n', 'ingenier¿a', 'pedagog¿a', 'f¿sica', 'gesti¿n', 'm¿sica', 'p¿blica', 'filosof¿a', 'geolog¿a', 'econom¿a', 'gastronom¿a', 'art¿stica', 'el¿ctrica', 'dise¿o', '¿nfasis']\n",
            "Palabras con caracteres extraños o múltiples espacios: ['administraci¿n', 'educaci¿n', 'gr¿¿fica', 'qu¿mica', 'dise¿¿o', 'farmac¿utica', 'log¿stica', 'comunicaci¿n', '3°', 'b¿sica', 'ingl¿s', 'comunicaci¿¿n', 'ingenier¿a', 'pedagog¿a', 'gesti¿n', 'm¿sica', 'p¿blica', 'geolog¿a', 'econom¿a', 'gastronom¿a', 'el¿ctrica', 'art¿stica', 'dise¿o', '¿nfasis']\n"
          ]
        }
      ],
      "source": [
        "palabras_extranas = encontrar_palabras_extranas(z, 'ESTU_PRGM_ACADEMICO')\n",
        "palabras_extranas_p = encontrar_palabras_extranas(p, 'ESTU_PRGM_ACADEMICO')\n",
        "print(\"Palabras con caracteres extraños o múltiples espacios:\", palabras_extranas)\n",
        "print(\"Palabras con caracteres extraños o múltiples espacios:\", palabras_extranas_p)"
      ]
    },
    {
      "cell_type": "code",
      "execution_count": null,
      "metadata": {
        "id": "ocnEMWB0FBz2"
      },
      "outputs": [],
      "source": [
        "\n",
        "correcciones_z = {\n",
        "    'b¿sica': 'basica',\n",
        "    'pedagog¿a': 'pedagogia',\n",
        "    'gastronom¿a': 'gastronomia',\n",
        "    'farmac¿utica': 'farmaceutica',\n",
        "    'ingl¿s': 'ingles',\n",
        "    'filosof¿a': 'filosofia',\n",
        "    'dise¿o': 'diseno',\n",
        "    'f¿sica': 'fisica',\n",
        "    'econom¿a': 'economia',\n",
        "    'administraci¿n': 'administracion',\n",
        "    'esc¿nicas': 'escenicas',\n",
        "    'geolog¿a': 'geologia',\n",
        "    '3°ciclo': '3 ciclo',\n",
        "    'ingenier¿a': 'ingenieria',\n",
        "    'm¿sica': 'musica',\n",
        "    'publica.': 'publica',\n",
        "    'p¿blica': 'publica',\n",
        "    '¿nfasisi': 'enfasis',\n",
        "    'matem¿ticas': 'matematicas',\n",
        "    'el¿ctrica': 'electrica',\n",
        "    'quimica.': 'quimica',\n",
        "    'recreaci¿n': 'recreacion',\n",
        "    'educaci¿n': 'educacion',\n",
        "    'comunicaci¿n': 'comunicacion',\n",
        "    'gesti¿n': 'gestion',\n",
        "    'qu¿mica': 'quimica',\n",
        "    'log¿stica': 'logistica',\n",
        "    'dise¿¿o': 'diseno',\n",
        "    'comunicaci¿¿n': 'comunicacion',\n",
        "    'art¿stica': 'artistica',\n",
        "    'gr¿¿fica': 'grafica',\n",
        "    '3°': '3',\n",
        "    '¿nfasis': 'enfasis'\n",
        "\n",
        "}\n",
        "\n",
        "\n",
        "z['ESTU_PRGM_ACADEMICO'] = z['ESTU_PRGM_ACADEMICO'].replace(correcciones_z, regex=True)"
      ]
    },
    {
      "cell_type": "code",
      "execution_count": null,
      "metadata": {
        "id": "fr16dncmaK7W"
      },
      "outputs": [],
      "source": [
        "correcciones_p = {\n",
        "    'gastronom¿a': 'gastronomia',\n",
        "    'dise¿o': 'diseno',\n",
        "    'educaci¿n': 'educacion',\n",
        "    'comunicaci¿¿n': 'comunicacion',\n",
        "    'pedagog¿a': 'pedagogia',\n",
        "    'comunicaci¿n': 'comunicacion',\n",
        "    'm¿sica': 'musica',\n",
        "    'ingl¿s': 'ingles',\n",
        "    'qu¿mica': 'quimica',\n",
        "    '¿nfasis': 'enfasis',\n",
        "    'farmac¿utica': 'farmaceutica',\n",
        "    'geolog¿a': 'geologia',\n",
        "    'gesti¿n': 'gestion',\n",
        "    'econom¿a': 'economia',\n",
        "    'el¿ctrica': 'electrica',\n",
        "    'b¿sica': 'basica',\n",
        "    'dise¿¿o': 'diseno',\n",
        "    'p¿blica': 'publica',\n",
        "    'administraci¿n': 'administracion',\n",
        "    'log¿stica': 'logistica',\n",
        "    'gr¿¿fica': 'grafica',\n",
        "    'ingenier¿a': 'ingenieria',\n",
        "    'art¿stica': 'artistica',\n",
        "    '3°': '3'\n",
        "}\n",
        "\n",
        "p['ESTU_PRGM_ACADEMICO'] = p['ESTU_PRGM_ACADEMICO'].replace(correcciones_p, regex=True)\n"
      ]
    },
    {
      "cell_type": "code",
      "execution_count": null,
      "metadata": {
        "colab": {
          "base_uri": "https://localhost:8080/"
        },
        "id": "hE1yqAWcdDNY",
        "outputId": "c4bc2e2a-ce86-4a52-eb43-bed539093d43"
      },
      "outputs": [
        {
          "output_type": "execute_result",
          "data": {
            "text/plain": [
              "0"
            ]
          },
          "metadata": {},
          "execution_count": 101
        }
      ],
      "source": [
        "\n",
        "\n",
        "z['ESTU_PRGM_ACADEMICO'].isna().sum()\n",
        "p['ESTU_PRGM_ACADEMICO'].isna().sum()\n"
      ]
    },
    {
      "cell_type": "markdown",
      "metadata": {
        "id": "4Ocqd9x9ofUI"
      },
      "source": [
        "Dado que la columna contiene una gran cantidad de valores únicos, se procederá a agruparlos según áreas del conocimiento o programas académicos. Esto se debe a que las pruebas Saber Pro tienen un componente común a la carrera y otro específico. Para simplificar el análisis, nos enfocaremos en agrupar los datos de esta columna en función del componente común, ya que es más fácil de ordenar y estandarizar. Al hacer esto, podremos reducir la complejidad del conjunto de datos y mejorar la interpretación y comparabilidad de los resultados en contextos más amplios."
      ]
    },
    {
      "cell_type": "code",
      "execution_count": null,
      "metadata": {
        "colab": {
          "base_uri": "https://localhost:8080/"
        },
        "id": "qFJ5sG5XGJPq",
        "outputId": "218b85eb-1bbd-415a-a84e-b8fe12087456"
      },
      "outputs": [
        {
          "output_type": "stream",
          "name": "stdout",
          "text": [
            "                        ESTU_PRGM_ACADEMICO GRUPO_PRGM_ACADEMICO\n",
            "0                                enfermeria           enfermeria\n",
            "1                                   derecho              derecho\n",
            "2                     mercadeo y publicidad             mercadeo\n",
            "3                administracion de empresas       administracion\n",
            "4                                psicologia           psicologia\n",
            "...                                     ...                  ...\n",
            "692495                             biologia             biologia\n",
            "692496                           psicologia           psicologia\n",
            "692497  administracion en salud ocupacional       administracion\n",
            "692498                           psicologia           psicologia\n",
            "692499                           psicologia           psicologia\n",
            "\n",
            "[651175 rows x 2 columns]\n"
          ]
        }
      ],
      "source": [
        "valores_academicos = z['ESTU_PRGM_ACADEMICO'].unique()\n",
        "\n",
        "valores_agrupados = agrupar_por_primera_palabra(valores_academicos, 90)\n",
        "\n",
        "valor_a_grupo = {}\n",
        "for clave, grupo in valores_agrupados.items():\n",
        "    if len(grupo) > 1:\n",
        "        primera_palabra_grupo = clave.split()[0]\n",
        "        for valor in grupo:\n",
        "            valor_a_grupo[valor] = primera_palabra_grupo\n",
        "\n",
        "\n",
        "z['GRUPO_PRGM_ACADEMICO'] = z['ESTU_PRGM_ACADEMICO'].map(valor_a_grupo)\n",
        "\n",
        "\n",
        "z['GRUPO_PRGM_ACADEMICO'] = z['GRUPO_PRGM_ACADEMICO'].fillna(z['ESTU_PRGM_ACADEMICO'])\n",
        "\n",
        "\n",
        "print(z[['ESTU_PRGM_ACADEMICO', 'GRUPO_PRGM_ACADEMICO']])"
      ]
    },
    {
      "cell_type": "code",
      "execution_count": null,
      "metadata": {
        "colab": {
          "base_uri": "https://localhost:8080/"
        },
        "id": "YbWT_XTyazT-",
        "outputId": "8f7663cc-bf7a-48e4-d57a-eb95a7365162"
      },
      "outputs": [
        {
          "output_type": "stream",
          "name": "stdout",
          "text": [
            "                           ESTU_PRGM_ACADEMICO GRUPO_PRGM_ACADEMICO\n",
            "0                               trabajo social       trabajo social\n",
            "1       administracion comercial y de mercadeo       administracion\n",
            "2                       ingenieria mecatronica           ingenieria\n",
            "3                           contaduria publica           contaduria\n",
            "4                   administracion de empresas       administracion\n",
            "...                                        ...                  ...\n",
            "296781              administracion de empresas       administracion\n",
            "296782                                 derecho              derecho\n",
            "296783                                 derecho              derecho\n",
            "296784                  ingenieria aeronautica           ingenieria\n",
            "296785                   ingenieria industrial           ingenieria\n",
            "\n",
            "[296786 rows x 2 columns]\n"
          ]
        }
      ],
      "source": [
        "valores_academicos_p = p['ESTU_PRGM_ACADEMICO'].unique()\n",
        "\n",
        "valores_agrupados_p = agrupar_por_primera_palabra(valores_academicos_p, 90)\n",
        "\n",
        "valor_a_grupo_p = {}\n",
        "for clave, grupo in valores_agrupados_p.items():\n",
        "    if len(grupo) > 1:\n",
        "        primera_palabra_grupo = clave.split()[0]\n",
        "        for valor in grupo:\n",
        "            valor_a_grupo_p[valor] = primera_palabra_grupo\n",
        "\n",
        "\n",
        "p['GRUPO_PRGM_ACADEMICO'] = p['ESTU_PRGM_ACADEMICO'].map(valor_a_grupo_p)\n",
        "\n",
        "\n",
        "p['GRUPO_PRGM_ACADEMICO'] = p['GRUPO_PRGM_ACADEMICO'].fillna(p['ESTU_PRGM_ACADEMICO'])\n",
        "\n",
        "\n",
        "print(p[['ESTU_PRGM_ACADEMICO', 'GRUPO_PRGM_ACADEMICO']])"
      ]
    },
    {
      "cell_type": "code",
      "execution_count": null,
      "metadata": {
        "colab": {
          "base_uri": "https://localhost:8080/"
        },
        "id": "RFizl1uvKM0H",
        "outputId": "fa308a8e-9071-4816-f09f-679c3a2e96e9"
      },
      "outputs": [
        {
          "output_type": "execute_result",
          "data": {
            "text/plain": [
              "array(['enfermeria', 'derecho', 'mercadeo', 'administracion',\n",
              "       'psicologia', 'medicina', 'ingenieria', 'hoteleria',\n",
              "       'licenciatura', 'comunicacion', 'ciencia', 'profesional',\n",
              "       'maestro en musica', 'trabajo social', 'contaduria', 'estadistica',\n",
              "       'zootecnia', 'seguridad y salud en el trabajo', 'odontologia',\n",
              "       'diseno', 'economia', 'negocios', 'quimicafarmaceutica',\n",
              "       'finanzas', 'relaciones', 'instrumentacion', 'fisioterapia',\n",
              "       'farmacia', 'arte', 'arquitectura', 'optometria', 'jurisprudencia',\n",
              "       'estudios', 'nutricion y dietetica', 'terapia', 'filologia',\n",
              "       'gerencia', 'traduccion ingles frances espanol', 'gestion',\n",
              "       'planeacion y desarrollo social', 'entrenamiento deportivo',\n",
              "       'biologia', 'filosofia', 'bacteriologia', 'sociologia',\n",
              "       'periodismo', 'linguistica', 'antropologia', 'agronomia',\n",
              "       'fonoaudiologia', 'lenguas', 'geologia', 'quimica', 'historia',\n",
              "       'microbiologia', 'salud ocupacional', 'construccion', 'teologia',\n",
              "       'comercio', 'publicidad', 'artes', 'cine', 'deporte',\n",
              "       'culinaria y gastronomia', 'bioingenieria', 'arqueologia',\n",
              "       'criminalistica', 'danza', 'archivistica', 'gastronomia',\n",
              "       'matematicas',\n",
              "       'programa profesional universitario en lenguas extranjeras',\n",
              "       'sistemas', 'cultura', 'espanol y filologia clasica', 'formacion',\n",
              "       'direccion', 'geografia', 'fisica', 'ingenierìa informàtica',\n",
              "       'turismo', 'quimicaindustrial', 'bibliotecologia',\n",
              "       '3 ciclo profesional negocios internacionales',\n",
              "       'produccion agroindustrial', 'musica', 'ecologia', 'literatura',\n",
              "       'gobierno', 'geociencias', 'investigacion criminal', 'fotografia',\n",
              "       'marketing', 'mercadologia', 'logistica', 'desarrollo',\n",
              "       'letras filologia hispanica',\n",
              "       'politica y relaciones internacionales', 'biotecnologia',\n",
              "       'actividad fisica y deporte', 'banca', 'oceanografia',\n",
              "       'realizacion en animacion', 'creacion literaria', 'gerontologia',\n",
              "       'conservacion y restauracion de bienes muebles', 'acuicultura',\n",
              "       'recreacion', 'bioquimica', 'quimicaambiental',\n",
              "       'interpretacion musical', 'urbanismo',\n",
              "       'lenguajes y estudios socioculturales', 'narrativas digitales',\n",
              "       'pedagogia', 'teatro musical', 'animacion',\n",
              "       'computacion cientifica', 'bellas artes'], dtype=object)"
            ]
          },
          "metadata": {},
          "execution_count": 104
        }
      ],
      "source": [
        "z['GRUPO_PRGM_ACADEMICO'].unique()"
      ]
    },
    {
      "cell_type": "code",
      "execution_count": null,
      "metadata": {
        "colab": {
          "base_uri": "https://localhost:8080/"
        },
        "id": "9k8uNO6qKyKq",
        "outputId": "a5078bfd-37cf-4e9d-87c1-f27be4ef405a"
      },
      "outputs": [
        {
          "output_type": "execute_result",
          "data": {
            "text/plain": [
              "array(['trabajo social', 'administracion', 'ingenieria', 'contaduria',\n",
              "       'economia', 'psicologia', 'negocios', 'arquitectura',\n",
              "       'seguridad y salud en el trabajo', 'medicina', 'derecho',\n",
              "       'licenciatura', 'fonoaudiologia', 'profesional', 'enfermeria',\n",
              "       'fisioterapia', 'filosofia', 'criminalistica', 'comunicacion',\n",
              "       'finanzas', 'ciencias',\n",
              "       'programa profesional universitario en lenguas extranjeras',\n",
              "       'terapia', 'gobierno', 'diseno', 'geociencias', 'mercadeo',\n",
              "       'musica', 'geologia', 'odontologia', 'comercio', 'cine',\n",
              "       'instrumentacion', 'actividad fisica y deporte', 'publicidad',\n",
              "       'lenguas', 'optometria', 'relaciones', 'bacteriologia',\n",
              "       'sociologia', 'literatura', 'maestro en musica', 'artes',\n",
              "       'farmacia', 'matematicas', 'fisica', 'arte', 'biologia',\n",
              "       'antropologia', 'salud ocupacional', 'hoteleria', 'quimica',\n",
              "       'planeacion y desarrollo social', 'zootecnia', 'marketing',\n",
              "       'nutricion y dietetica', 'linguistica', 'agronomia', 'fotografia',\n",
              "       'bioingenieria', 'deporte', 'estudios', 'construccion', 'teologia',\n",
              "       'gerencia', 'jurisprudencia', 'formacion musical',\n",
              "       'bibliotecologia', 'turismo', 'gastronomia',\n",
              "       'investigacion criminal', 'microbiologia',\n",
              "       'ingenierìa informàtica', 'interpretacion musical', 'direccion',\n",
              "       'gerontologia', 'gestion', 'historia', 'cultura', 'estadistica',\n",
              "       'geografia', 'produccion agroindustrial',\n",
              "       'espanol y filologia clasica', 'filologia', 'ecologia',\n",
              "       'desarrollo', '3 ciclo profesional negocios internacionales',\n",
              "       'archivistica', 'culinaria y gastronomia', 'periodismo',\n",
              "       'arqueologia', 'politica y relaciones internacionales', 'sistemas',\n",
              "       'creacion literaria', 'mercadologia', 'recreacion', 'acuicultura',\n",
              "       'narrativas digitales', 'entrenamiento deportivo',\n",
              "       'letras filologia hispanica',\n",
              "       'lenguajes y estudios socioculturales', 'danza', 'bioquimica',\n",
              "       'traduccion ingles frances espanol', 'logistica', 'biotecnologia',\n",
              "       'realizacion en animacion', 'pedagogia',\n",
              "       'conservacion y restauracion de bienes muebles', 'banca',\n",
              "       'teatro musical', 'oceanografia', 'urbanismo', 'bellas artes',\n",
              "       'computacion cientifica',\n",
              "       'licenc en educacion basica primaria enf en ciencias naturaleseduc ambiental matema lengua castellana',\n",
              "       'agroindustria'], dtype=object)"
            ]
          },
          "metadata": {},
          "execution_count": 105
        }
      ],
      "source": [
        "p['GRUPO_PRGM_ACADEMICO'].unique()"
      ]
    },
    {
      "cell_type": "code",
      "execution_count": null,
      "metadata": {
        "id": "ysBIXlGzTe-W"
      },
      "outputs": [],
      "source": [
        "#Reemplazamos ESTU_PRGM_ACADEMICO por GRUPO_PRGM_ACADEMICO\n",
        "z = z.drop(columns=['ESTU_PRGM_ACADEMICO'])\n",
        "p = p.drop(columns=['ESTU_PRGM_ACADEMICO'])"
      ]
    },
    {
      "cell_type": "code",
      "source": [
        "z, encoder_fami_estuprograma = label_encode_column(z, 'GRUPO_PRGM_ACADEMICO' )\n",
        "\n",
        "print(\" \")\n",
        "print(\"encoder para test\")\n",
        "p, encoder_fami_estuprograma_test = label_encode_column(p, 'GRUPO_PRGM_ACADEMICO' )"
      ],
      "metadata": {
        "colab": {
          "base_uri": "https://localhost:8080/"
        },
        "id": "7VjS_p3p0pMS",
        "outputId": "95d1d349-d254-4990-a5a8-fb6ebea8aeac"
      },
      "execution_count": null,
      "outputs": [
        {
          "output_type": "stream",
          "name": "stdout",
          "text": [
            "Mapeo de categorías en la columna GRUPO_PRGM_ACADEMICO:\n",
            "| Categoría Original                                        |   Valor Numérico |\n",
            "|:----------------------------------------------------------|-----------------:|\n",
            "| 3 ciclo profesional negocios internacionales              |                0 |\n",
            "| actividad fisica y deporte                                |                1 |\n",
            "| acuicultura                                               |                2 |\n",
            "| administracion                                            |                3 |\n",
            "| agronomia                                                 |                4 |\n",
            "| animacion                                                 |                5 |\n",
            "| antropologia                                              |                6 |\n",
            "| archivistica                                              |                7 |\n",
            "| arqueologia                                               |                8 |\n",
            "| arquitectura                                              |                9 |\n",
            "| arte                                                      |               10 |\n",
            "| artes                                                     |               11 |\n",
            "| bacteriologia                                             |               12 |\n",
            "| banca                                                     |               13 |\n",
            "| bellas artes                                              |               14 |\n",
            "| bibliotecologia                                           |               15 |\n",
            "| bioingenieria                                             |               16 |\n",
            "| biologia                                                  |               17 |\n",
            "| bioquimica                                                |               18 |\n",
            "| biotecnologia                                             |               19 |\n",
            "| ciencia                                                   |               20 |\n",
            "| cine                                                      |               21 |\n",
            "| comercio                                                  |               22 |\n",
            "| computacion cientifica                                    |               23 |\n",
            "| comunicacion                                              |               24 |\n",
            "| conservacion y restauracion de bienes muebles             |               25 |\n",
            "| construccion                                              |               26 |\n",
            "| contaduria                                                |               27 |\n",
            "| creacion literaria                                        |               28 |\n",
            "| criminalistica                                            |               29 |\n",
            "| culinaria y gastronomia                                   |               30 |\n",
            "| cultura                                                   |               31 |\n",
            "| danza                                                     |               32 |\n",
            "| deporte                                                   |               33 |\n",
            "| derecho                                                   |               34 |\n",
            "| desarrollo                                                |               35 |\n",
            "| direccion                                                 |               36 |\n",
            "| diseno                                                    |               37 |\n",
            "| ecologia                                                  |               38 |\n",
            "| economia                                                  |               39 |\n",
            "| enfermeria                                                |               40 |\n",
            "| entrenamiento deportivo                                   |               41 |\n",
            "| espanol y filologia clasica                               |               42 |\n",
            "| estadistica                                               |               43 |\n",
            "| estudios                                                  |               44 |\n",
            "| farmacia                                                  |               45 |\n",
            "| filologia                                                 |               46 |\n",
            "| filosofia                                                 |               47 |\n",
            "| finanzas                                                  |               48 |\n",
            "| fisica                                                    |               49 |\n",
            "| fisioterapia                                              |               50 |\n",
            "| fonoaudiologia                                            |               51 |\n",
            "| formacion                                                 |               52 |\n",
            "| fotografia                                                |               53 |\n",
            "| gastronomia                                               |               54 |\n",
            "| geociencias                                               |               55 |\n",
            "| geografia                                                 |               56 |\n",
            "| geologia                                                  |               57 |\n",
            "| gerencia                                                  |               58 |\n",
            "| gerontologia                                              |               59 |\n",
            "| gestion                                                   |               60 |\n",
            "| gobierno                                                  |               61 |\n",
            "| historia                                                  |               62 |\n",
            "| hoteleria                                                 |               63 |\n",
            "| ingenieria                                                |               64 |\n",
            "| ingenierìa informàtica                                    |               65 |\n",
            "| instrumentacion                                           |               66 |\n",
            "| interpretacion musical                                    |               67 |\n",
            "| investigacion criminal                                    |               68 |\n",
            "| jurisprudencia                                            |               69 |\n",
            "| lenguajes y estudios socioculturales                      |               70 |\n",
            "| lenguas                                                   |               71 |\n",
            "| letras filologia hispanica                                |               72 |\n",
            "| licenciatura                                              |               73 |\n",
            "| linguistica                                               |               74 |\n",
            "| literatura                                                |               75 |\n",
            "| logistica                                                 |               76 |\n",
            "| maestro en musica                                         |               77 |\n",
            "| marketing                                                 |               78 |\n",
            "| matematicas                                               |               79 |\n",
            "| medicina                                                  |               80 |\n",
            "| mercadeo                                                  |               81 |\n",
            "| mercadologia                                              |               82 |\n",
            "| microbiologia                                             |               83 |\n",
            "| musica                                                    |               84 |\n",
            "| narrativas digitales                                      |               85 |\n",
            "| negocios                                                  |               86 |\n",
            "| nutricion y dietetica                                     |               87 |\n",
            "| oceanografia                                              |               88 |\n",
            "| odontologia                                               |               89 |\n",
            "| optometria                                                |               90 |\n",
            "| pedagogia                                                 |               91 |\n",
            "| periodismo                                                |               92 |\n",
            "| planeacion y desarrollo social                            |               93 |\n",
            "| politica y relaciones internacionales                     |               94 |\n",
            "| produccion agroindustrial                                 |               95 |\n",
            "| profesional                                               |               96 |\n",
            "| programa profesional universitario en lenguas extranjeras |               97 |\n",
            "| psicologia                                                |               98 |\n",
            "| publicidad                                                |               99 |\n",
            "| quimica                                                   |              100 |\n",
            "| quimicaambiental                                          |              101 |\n",
            "| quimicafarmaceutica                                       |              102 |\n",
            "| quimicaindustrial                                         |              103 |\n",
            "| realizacion en animacion                                  |              104 |\n",
            "| recreacion                                                |              105 |\n",
            "| relaciones                                                |              106 |\n",
            "| salud ocupacional                                         |              107 |\n",
            "| seguridad y salud en el trabajo                           |              108 |\n",
            "| sistemas                                                  |              109 |\n",
            "| sociologia                                                |              110 |\n",
            "| teatro musical                                            |              111 |\n",
            "| teologia                                                  |              112 |\n",
            "| terapia                                                   |              113 |\n",
            "| trabajo social                                            |              114 |\n",
            "| traduccion ingles frances espanol                         |              115 |\n",
            "| turismo                                                   |              116 |\n",
            "| urbanismo                                                 |              117 |\n",
            "| zootecnia                                                 |              118 |\n",
            " \n",
            "encoder para test\n",
            "Mapeo de categorías en la columna GRUPO_PRGM_ACADEMICO:\n",
            "| Categoría Original                                                                                   |   Valor Numérico |\n",
            "|:-----------------------------------------------------------------------------------------------------|-----------------:|\n",
            "| 3 ciclo profesional negocios internacionales                                                         |                0 |\n",
            "| actividad fisica y deporte                                                                           |                1 |\n",
            "| acuicultura                                                                                          |                2 |\n",
            "| administracion                                                                                       |                3 |\n",
            "| agroindustria                                                                                        |                4 |\n",
            "| agronomia                                                                                            |                5 |\n",
            "| antropologia                                                                                         |                6 |\n",
            "| archivistica                                                                                         |                7 |\n",
            "| arqueologia                                                                                          |                8 |\n",
            "| arquitectura                                                                                         |                9 |\n",
            "| arte                                                                                                 |               10 |\n",
            "| artes                                                                                                |               11 |\n",
            "| bacteriologia                                                                                        |               12 |\n",
            "| banca                                                                                                |               13 |\n",
            "| bellas artes                                                                                         |               14 |\n",
            "| bibliotecologia                                                                                      |               15 |\n",
            "| bioingenieria                                                                                        |               16 |\n",
            "| biologia                                                                                             |               17 |\n",
            "| bioquimica                                                                                           |               18 |\n",
            "| biotecnologia                                                                                        |               19 |\n",
            "| ciencias                                                                                             |               20 |\n",
            "| cine                                                                                                 |               21 |\n",
            "| comercio                                                                                             |               22 |\n",
            "| computacion cientifica                                                                               |               23 |\n",
            "| comunicacion                                                                                         |               24 |\n",
            "| conservacion y restauracion de bienes muebles                                                        |               25 |\n",
            "| construccion                                                                                         |               26 |\n",
            "| contaduria                                                                                           |               27 |\n",
            "| creacion literaria                                                                                   |               28 |\n",
            "| criminalistica                                                                                       |               29 |\n",
            "| culinaria y gastronomia                                                                              |               30 |\n",
            "| cultura                                                                                              |               31 |\n",
            "| danza                                                                                                |               32 |\n",
            "| deporte                                                                                              |               33 |\n",
            "| derecho                                                                                              |               34 |\n",
            "| desarrollo                                                                                           |               35 |\n",
            "| direccion                                                                                            |               36 |\n",
            "| diseno                                                                                               |               37 |\n",
            "| ecologia                                                                                             |               38 |\n",
            "| economia                                                                                             |               39 |\n",
            "| enfermeria                                                                                           |               40 |\n",
            "| entrenamiento deportivo                                                                              |               41 |\n",
            "| espanol y filologia clasica                                                                          |               42 |\n",
            "| estadistica                                                                                          |               43 |\n",
            "| estudios                                                                                             |               44 |\n",
            "| farmacia                                                                                             |               45 |\n",
            "| filologia                                                                                            |               46 |\n",
            "| filosofia                                                                                            |               47 |\n",
            "| finanzas                                                                                             |               48 |\n",
            "| fisica                                                                                               |               49 |\n",
            "| fisioterapia                                                                                         |               50 |\n",
            "| fonoaudiologia                                                                                       |               51 |\n",
            "| formacion musical                                                                                    |               52 |\n",
            "| fotografia                                                                                           |               53 |\n",
            "| gastronomia                                                                                          |               54 |\n",
            "| geociencias                                                                                          |               55 |\n",
            "| geografia                                                                                            |               56 |\n",
            "| geologia                                                                                             |               57 |\n",
            "| gerencia                                                                                             |               58 |\n",
            "| gerontologia                                                                                         |               59 |\n",
            "| gestion                                                                                              |               60 |\n",
            "| gobierno                                                                                             |               61 |\n",
            "| historia                                                                                             |               62 |\n",
            "| hoteleria                                                                                            |               63 |\n",
            "| ingenieria                                                                                           |               64 |\n",
            "| ingenierìa informàtica                                                                               |               65 |\n",
            "| instrumentacion                                                                                      |               66 |\n",
            "| interpretacion musical                                                                               |               67 |\n",
            "| investigacion criminal                                                                               |               68 |\n",
            "| jurisprudencia                                                                                       |               69 |\n",
            "| lenguajes y estudios socioculturales                                                                 |               70 |\n",
            "| lenguas                                                                                              |               71 |\n",
            "| letras filologia hispanica                                                                           |               72 |\n",
            "| licenc en educacion basica primaria enf en ciencias naturaleseduc ambiental matema lengua castellana |               73 |\n",
            "| licenciatura                                                                                         |               74 |\n",
            "| linguistica                                                                                          |               75 |\n",
            "| literatura                                                                                           |               76 |\n",
            "| logistica                                                                                            |               77 |\n",
            "| maestro en musica                                                                                    |               78 |\n",
            "| marketing                                                                                            |               79 |\n",
            "| matematicas                                                                                          |               80 |\n",
            "| medicina                                                                                             |               81 |\n",
            "| mercadeo                                                                                             |               82 |\n",
            "| mercadologia                                                                                         |               83 |\n",
            "| microbiologia                                                                                        |               84 |\n",
            "| musica                                                                                               |               85 |\n",
            "| narrativas digitales                                                                                 |               86 |\n",
            "| negocios                                                                                             |               87 |\n",
            "| nutricion y dietetica                                                                                |               88 |\n",
            "| oceanografia                                                                                         |               89 |\n",
            "| odontologia                                                                                          |               90 |\n",
            "| optometria                                                                                           |               91 |\n",
            "| pedagogia                                                                                            |               92 |\n",
            "| periodismo                                                                                           |               93 |\n",
            "| planeacion y desarrollo social                                                                       |               94 |\n",
            "| politica y relaciones internacionales                                                                |               95 |\n",
            "| produccion agroindustrial                                                                            |               96 |\n",
            "| profesional                                                                                          |               97 |\n",
            "| programa profesional universitario en lenguas extranjeras                                            |               98 |\n",
            "| psicologia                                                                                           |               99 |\n",
            "| publicidad                                                                                           |              100 |\n",
            "| quimica                                                                                              |              101 |\n",
            "| realizacion en animacion                                                                             |              102 |\n",
            "| recreacion                                                                                           |              103 |\n",
            "| relaciones                                                                                           |              104 |\n",
            "| salud ocupacional                                                                                    |              105 |\n",
            "| seguridad y salud en el trabajo                                                                      |              106 |\n",
            "| sistemas                                                                                             |              107 |\n",
            "| sociologia                                                                                           |              108 |\n",
            "| teatro musical                                                                                       |              109 |\n",
            "| teologia                                                                                             |              110 |\n",
            "| terapia                                                                                              |              111 |\n",
            "| trabajo social                                                                                       |              112 |\n",
            "| traduccion ingles frances espanol                                                                    |              113 |\n",
            "| turismo                                                                                              |              114 |\n",
            "| urbanismo                                                                                            |              115 |\n",
            "| zootecnia                                                                                            |              116 |\n"
          ]
        }
      ]
    },
    {
      "cell_type": "markdown",
      "metadata": {
        "id": "XcPZrtR26S1l"
      },
      "source": [
        "##### Familia tiene internet"
      ]
    },
    {
      "cell_type": "code",
      "execution_count": null,
      "metadata": {
        "id": "ZVW8LYbabU5K"
      },
      "outputs": [],
      "source": [
        "z = limpiar_columna(z, 'FAMI_TIENEINTERNET')\n",
        "p = limpiar_columna(p, 'FAMI_TIENEINTERNET')"
      ]
    },
    {
      "cell_type": "code",
      "execution_count": null,
      "metadata": {
        "colab": {
          "base_uri": "https://localhost:8080/"
        },
        "id": "AjwpFvoJ6RJ4",
        "outputId": "c5aa2990-e92f-4a65-ec8b-af6286cf7881"
      },
      "outputs": [
        {
          "output_type": "stream",
          "name": "stdout",
          "text": [
            "Total de valores nulos en FAMI_TIENEINTERNET: 836\n",
            "Total de valores nulos en FAMI_TIENEINTERNET: 11539\n"
          ]
        }
      ],
      "source": [
        "contar_nulos(z,'FAMI_TIENEINTERNET')\n",
        "contar_nulos(p,'FAMI_TIENEINTERNET')"
      ]
    },
    {
      "cell_type": "code",
      "execution_count": null,
      "metadata": {
        "colab": {
          "base_uri": "https://localhost:8080/"
        },
        "id": "Wyk5ROC26uGn",
        "outputId": "54e39142-0b6d-4a1b-9474-8e7ae4ccdcf8"
      },
      "outputs": [
        {
          "output_type": "stream",
          "name": "stdout",
          "text": [
            "Se eliminaron filas de la columna 'FAMI_TIENEINTERNET' con NaN. Porcentaje de NaN: 0.13%\n",
            "Porcentaje de NaN reemplazado en 'FAMI_TIENEINTERNET': 3.89%\n",
            "0\n",
            "0\n"
          ]
        }
      ],
      "source": [
        "z = eliminar_filas_nan(z, 'FAMI_TIENEINTERNET')\n",
        "p = replace_nans_equilibrado(p, 'FAMI_TIENEINTERNET')\n",
        "print(z['FAMI_TIENEINTERNET'].isnull().sum())\n",
        "print(p['FAMI_TIENEINTERNET'].isnull().sum())"
      ]
    },
    {
      "cell_type": "code",
      "source": [],
      "metadata": {
        "id": "FHdgSmQnzZqw"
      },
      "execution_count": null,
      "outputs": []
    },
    {
      "cell_type": "code",
      "execution_count": null,
      "metadata": {
        "id": "Y6dW2pZI7Jzx"
      },
      "outputs": [],
      "source": [
        "z = one_hot_encode_column(z,'FAMI_TIENEINTERNET')\n",
        "p = one_hot_encode_column(p,'FAMI_TIENEINTERNET')"
      ]
    },
    {
      "cell_type": "markdown",
      "metadata": {
        "id": "gwobuy5MKDio"
      },
      "source": [
        "## Resultados de la limpieza y pre procesamiento de datos"
      ]
    },
    {
      "cell_type": "markdown",
      "source": [],
      "metadata": {
        "id": "dJmfWOcE0gyR"
      }
    },
    {
      "cell_type": "code",
      "execution_count": null,
      "metadata": {
        "colab": {
          "base_uri": "https://localhost:8080/"
        },
        "id": "WKe6x4P_KYsn",
        "outputId": "be89634c-c76b-4940-eddc-f84d8be62944"
      },
      "outputs": [
        {
          "output_type": "stream",
          "name": "stdout",
          "text": [
            "                        Tipo de Dato  Cantidad de NaN\n",
            "ESTU_PRGM_DEPARTAMENTO         int64                0\n",
            "ESTU_HORASSEMANATRABAJA        int64                0\n",
            "FAMI_ESTRATOVIVIENDA           int64                0\n",
            "FAMI_EDUCACIONPADRE            int64                0\n",
            "FAMI_EDUCACIONMADRE            int64                0\n",
            "RENDIMIENTO_GLOBAL             int64                0\n",
            "GRUPO_PRGM_ACADEMICO           int64                0\n",
            "FAMI_TIENEINTERNET_si          int64                0\n"
          ]
        }
      ],
      "source": [
        "column_info = z.dtypes.to_frame(name='Tipo de Dato')\n",
        "column_info['Cantidad de NaN'] = z.isna().sum()\n",
        "\n",
        "print(column_info)"
      ]
    },
    {
      "cell_type": "code",
      "execution_count": null,
      "metadata": {
        "colab": {
          "base_uri": "https://localhost:8080/"
        },
        "id": "8hIFSEYhLp7w",
        "outputId": "a10d4b35-e158-4f3f-d3bd-d45a1667c474"
      },
      "outputs": [
        {
          "output_type": "stream",
          "name": "stdout",
          "text": [
            "                        Tipo de Dato  Cantidad de NaN\n",
            "ESTU_PRGM_DEPARTAMENTO         int64                0\n",
            "ESTU_HORASSEMANATRABAJA        int64                0\n",
            "FAMI_ESTRATOVIVIENDA           int64                0\n",
            "FAMI_EDUCACIONPADRE            int64                0\n",
            "FAMI_EDUCACIONMADRE            int64                0\n",
            "GRUPO_PRGM_ACADEMICO           int64                0\n",
            "FAMI_TIENEINTERNET_si          int64                0\n"
          ]
        }
      ],
      "source": [
        "column_info = p.dtypes.to_frame(name='Tipo de Dato')\n",
        "column_info['Cantidad de NaN'] = p.isna().sum()\n",
        "\n",
        "print(column_info)"
      ]
    },
    {
      "cell_type": "code",
      "execution_count": null,
      "metadata": {
        "colab": {
          "base_uri": "https://localhost:8080/"
        },
        "id": "gVtUj6iLK1U3",
        "outputId": "f104cc34-3c7a-4dc5-dec4-9de43e0c9ea3"
      },
      "outputs": [
        {
          "output_type": "stream",
          "name": "stdout",
          "text": [
            "shape of loaded dataframe train (650339, 8)\n",
            "shape of loaded dataframe test (296786, 7)\n"
          ]
        }
      ],
      "source": [
        "print (\"shape of loaded dataframe train\", z.shape)\n",
        "print (\"shape of loaded dataframe test\",p.shape)"
      ]
    },
    {
      "cell_type": "markdown",
      "metadata": {
        "id": "lXx-LaKzb0sY"
      },
      "source": [
        "En el proceso de limpieza y preparación de datos, se llevaron a cabo varias técnicas, incluyendo la eliminación de columnas innecesarias, la codificación de etiquetas (label encoding) y la codificación one-hot para variables categóricas. Además, se eliminaron filas con valores nulos, asegurando que el porcentaje de estos no superara el 5%. También se realizaron normalizaciones y agrupaciones de datos para mejorar la calidad y relevancia del conjunto. Como resultado de estas transformaciones, se redujo el conjunto de datos de 692,501 registros  a 650,339  y 12 columnas a 154, optimizando así la información disponible para análisis posteriores."
      ]
    },
    {
      "cell_type": "code",
      "execution_count": null,
      "metadata": {
        "colab": {
          "base_uri": "https://localhost:8080/",
          "height": 226
        },
        "id": "UhS52x_Xe9-t",
        "outputId": "6c69286f-fa95-4b0d-bd20-ac26e4e227ed"
      },
      "outputs": [
        {
          "output_type": "execute_result",
          "data": {
            "text/plain": [
              "   ESTU_PRGM_DEPARTAMENTO  ESTU_HORASSEMANATRABAJA  FAMI_ESTRATOVIVIENDA  \\\n",
              "0                       4                        5                     2   \n",
              "1                       3                        0                     2   \n",
              "2                       4                       35                     2   \n",
              "3                      26                        0                     3   \n",
              "4                       1                       25                     2   \n",
              "\n",
              "   FAMI_EDUCACIONPADRE  FAMI_EDUCACIONMADRE  RENDIMIENTO_GLOBAL  \\\n",
              "0                   11                    5                   2   \n",
              "1                   10                   11                   1   \n",
              "2                    8                    8                   1   \n",
              "3                    4                    8                   0   \n",
              "4                    6                    6                   3   \n",
              "\n",
              "   GRUPO_PRGM_ACADEMICO  FAMI_TIENEINTERNET_si  \n",
              "0                    40                      1  \n",
              "1                    34                      0  \n",
              "2                    81                      1  \n",
              "3                     3                      1  \n",
              "4                    98                      1  "
            ],
            "text/html": [
              "\n",
              "  <div id=\"df-35e3235d-f33f-4a74-a3d9-903bc745dc9a\" class=\"colab-df-container\">\n",
              "    <div>\n",
              "<style scoped>\n",
              "    .dataframe tbody tr th:only-of-type {\n",
              "        vertical-align: middle;\n",
              "    }\n",
              "\n",
              "    .dataframe tbody tr th {\n",
              "        vertical-align: top;\n",
              "    }\n",
              "\n",
              "    .dataframe thead th {\n",
              "        text-align: right;\n",
              "    }\n",
              "</style>\n",
              "<table border=\"1\" class=\"dataframe\">\n",
              "  <thead>\n",
              "    <tr style=\"text-align: right;\">\n",
              "      <th></th>\n",
              "      <th>ESTU_PRGM_DEPARTAMENTO</th>\n",
              "      <th>ESTU_HORASSEMANATRABAJA</th>\n",
              "      <th>FAMI_ESTRATOVIVIENDA</th>\n",
              "      <th>FAMI_EDUCACIONPADRE</th>\n",
              "      <th>FAMI_EDUCACIONMADRE</th>\n",
              "      <th>RENDIMIENTO_GLOBAL</th>\n",
              "      <th>GRUPO_PRGM_ACADEMICO</th>\n",
              "      <th>FAMI_TIENEINTERNET_si</th>\n",
              "    </tr>\n",
              "  </thead>\n",
              "  <tbody>\n",
              "    <tr>\n",
              "      <th>0</th>\n",
              "      <td>4</td>\n",
              "      <td>5</td>\n",
              "      <td>2</td>\n",
              "      <td>11</td>\n",
              "      <td>5</td>\n",
              "      <td>2</td>\n",
              "      <td>40</td>\n",
              "      <td>1</td>\n",
              "    </tr>\n",
              "    <tr>\n",
              "      <th>1</th>\n",
              "      <td>3</td>\n",
              "      <td>0</td>\n",
              "      <td>2</td>\n",
              "      <td>10</td>\n",
              "      <td>11</td>\n",
              "      <td>1</td>\n",
              "      <td>34</td>\n",
              "      <td>0</td>\n",
              "    </tr>\n",
              "    <tr>\n",
              "      <th>2</th>\n",
              "      <td>4</td>\n",
              "      <td>35</td>\n",
              "      <td>2</td>\n",
              "      <td>8</td>\n",
              "      <td>8</td>\n",
              "      <td>1</td>\n",
              "      <td>81</td>\n",
              "      <td>1</td>\n",
              "    </tr>\n",
              "    <tr>\n",
              "      <th>3</th>\n",
              "      <td>26</td>\n",
              "      <td>0</td>\n",
              "      <td>3</td>\n",
              "      <td>4</td>\n",
              "      <td>8</td>\n",
              "      <td>0</td>\n",
              "      <td>3</td>\n",
              "      <td>1</td>\n",
              "    </tr>\n",
              "    <tr>\n",
              "      <th>4</th>\n",
              "      <td>1</td>\n",
              "      <td>25</td>\n",
              "      <td>2</td>\n",
              "      <td>6</td>\n",
              "      <td>6</td>\n",
              "      <td>3</td>\n",
              "      <td>98</td>\n",
              "      <td>1</td>\n",
              "    </tr>\n",
              "  </tbody>\n",
              "</table>\n",
              "</div>\n",
              "    <div class=\"colab-df-buttons\">\n",
              "\n",
              "  <div class=\"colab-df-container\">\n",
              "    <button class=\"colab-df-convert\" onclick=\"convertToInteractive('df-35e3235d-f33f-4a74-a3d9-903bc745dc9a')\"\n",
              "            title=\"Convert this dataframe to an interactive table.\"\n",
              "            style=\"display:none;\">\n",
              "\n",
              "  <svg xmlns=\"http://www.w3.org/2000/svg\" height=\"24px\" viewBox=\"0 -960 960 960\">\n",
              "    <path d=\"M120-120v-720h720v720H120Zm60-500h600v-160H180v160Zm220 220h160v-160H400v160Zm0 220h160v-160H400v160ZM180-400h160v-160H180v160Zm440 0h160v-160H620v160ZM180-180h160v-160H180v160Zm440 0h160v-160H620v160Z\"/>\n",
              "  </svg>\n",
              "    </button>\n",
              "\n",
              "  <style>\n",
              "    .colab-df-container {\n",
              "      display:flex;\n",
              "      gap: 12px;\n",
              "    }\n",
              "\n",
              "    .colab-df-convert {\n",
              "      background-color: #E8F0FE;\n",
              "      border: none;\n",
              "      border-radius: 50%;\n",
              "      cursor: pointer;\n",
              "      display: none;\n",
              "      fill: #1967D2;\n",
              "      height: 32px;\n",
              "      padding: 0 0 0 0;\n",
              "      width: 32px;\n",
              "    }\n",
              "\n",
              "    .colab-df-convert:hover {\n",
              "      background-color: #E2EBFA;\n",
              "      box-shadow: 0px 1px 2px rgba(60, 64, 67, 0.3), 0px 1px 3px 1px rgba(60, 64, 67, 0.15);\n",
              "      fill: #174EA6;\n",
              "    }\n",
              "\n",
              "    .colab-df-buttons div {\n",
              "      margin-bottom: 4px;\n",
              "    }\n",
              "\n",
              "    [theme=dark] .colab-df-convert {\n",
              "      background-color: #3B4455;\n",
              "      fill: #D2E3FC;\n",
              "    }\n",
              "\n",
              "    [theme=dark] .colab-df-convert:hover {\n",
              "      background-color: #434B5C;\n",
              "      box-shadow: 0px 1px 3px 1px rgba(0, 0, 0, 0.15);\n",
              "      filter: drop-shadow(0px 1px 2px rgba(0, 0, 0, 0.3));\n",
              "      fill: #FFFFFF;\n",
              "    }\n",
              "  </style>\n",
              "\n",
              "    <script>\n",
              "      const buttonEl =\n",
              "        document.querySelector('#df-35e3235d-f33f-4a74-a3d9-903bc745dc9a button.colab-df-convert');\n",
              "      buttonEl.style.display =\n",
              "        google.colab.kernel.accessAllowed ? 'block' : 'none';\n",
              "\n",
              "      async function convertToInteractive(key) {\n",
              "        const element = document.querySelector('#df-35e3235d-f33f-4a74-a3d9-903bc745dc9a');\n",
              "        const dataTable =\n",
              "          await google.colab.kernel.invokeFunction('convertToInteractive',\n",
              "                                                    [key], {});\n",
              "        if (!dataTable) return;\n",
              "\n",
              "        const docLinkHtml = 'Like what you see? Visit the ' +\n",
              "          '<a target=\"_blank\" href=https://colab.research.google.com/notebooks/data_table.ipynb>data table notebook</a>'\n",
              "          + ' to learn more about interactive tables.';\n",
              "        element.innerHTML = '';\n",
              "        dataTable['output_type'] = 'display_data';\n",
              "        await google.colab.output.renderOutput(dataTable, element);\n",
              "        const docLink = document.createElement('div');\n",
              "        docLink.innerHTML = docLinkHtml;\n",
              "        element.appendChild(docLink);\n",
              "      }\n",
              "    </script>\n",
              "  </div>\n",
              "\n",
              "\n",
              "<div id=\"df-4157b11e-58b7-45e6-b48e-fb4067807e27\">\n",
              "  <button class=\"colab-df-quickchart\" onclick=\"quickchart('df-4157b11e-58b7-45e6-b48e-fb4067807e27')\"\n",
              "            title=\"Suggest charts\"\n",
              "            style=\"display:none;\">\n",
              "\n",
              "<svg xmlns=\"http://www.w3.org/2000/svg\" height=\"24px\"viewBox=\"0 0 24 24\"\n",
              "     width=\"24px\">\n",
              "    <g>\n",
              "        <path d=\"M19 3H5c-1.1 0-2 .9-2 2v14c0 1.1.9 2 2 2h14c1.1 0 2-.9 2-2V5c0-1.1-.9-2-2-2zM9 17H7v-7h2v7zm4 0h-2V7h2v10zm4 0h-2v-4h2v4z\"/>\n",
              "    </g>\n",
              "</svg>\n",
              "  </button>\n",
              "\n",
              "<style>\n",
              "  .colab-df-quickchart {\n",
              "      --bg-color: #E8F0FE;\n",
              "      --fill-color: #1967D2;\n",
              "      --hover-bg-color: #E2EBFA;\n",
              "      --hover-fill-color: #174EA6;\n",
              "      --disabled-fill-color: #AAA;\n",
              "      --disabled-bg-color: #DDD;\n",
              "  }\n",
              "\n",
              "  [theme=dark] .colab-df-quickchart {\n",
              "      --bg-color: #3B4455;\n",
              "      --fill-color: #D2E3FC;\n",
              "      --hover-bg-color: #434B5C;\n",
              "      --hover-fill-color: #FFFFFF;\n",
              "      --disabled-bg-color: #3B4455;\n",
              "      --disabled-fill-color: #666;\n",
              "  }\n",
              "\n",
              "  .colab-df-quickchart {\n",
              "    background-color: var(--bg-color);\n",
              "    border: none;\n",
              "    border-radius: 50%;\n",
              "    cursor: pointer;\n",
              "    display: none;\n",
              "    fill: var(--fill-color);\n",
              "    height: 32px;\n",
              "    padding: 0;\n",
              "    width: 32px;\n",
              "  }\n",
              "\n",
              "  .colab-df-quickchart:hover {\n",
              "    background-color: var(--hover-bg-color);\n",
              "    box-shadow: 0 1px 2px rgba(60, 64, 67, 0.3), 0 1px 3px 1px rgba(60, 64, 67, 0.15);\n",
              "    fill: var(--button-hover-fill-color);\n",
              "  }\n",
              "\n",
              "  .colab-df-quickchart-complete:disabled,\n",
              "  .colab-df-quickchart-complete:disabled:hover {\n",
              "    background-color: var(--disabled-bg-color);\n",
              "    fill: var(--disabled-fill-color);\n",
              "    box-shadow: none;\n",
              "  }\n",
              "\n",
              "  .colab-df-spinner {\n",
              "    border: 2px solid var(--fill-color);\n",
              "    border-color: transparent;\n",
              "    border-bottom-color: var(--fill-color);\n",
              "    animation:\n",
              "      spin 1s steps(1) infinite;\n",
              "  }\n",
              "\n",
              "  @keyframes spin {\n",
              "    0% {\n",
              "      border-color: transparent;\n",
              "      border-bottom-color: var(--fill-color);\n",
              "      border-left-color: var(--fill-color);\n",
              "    }\n",
              "    20% {\n",
              "      border-color: transparent;\n",
              "      border-left-color: var(--fill-color);\n",
              "      border-top-color: var(--fill-color);\n",
              "    }\n",
              "    30% {\n",
              "      border-color: transparent;\n",
              "      border-left-color: var(--fill-color);\n",
              "      border-top-color: var(--fill-color);\n",
              "      border-right-color: var(--fill-color);\n",
              "    }\n",
              "    40% {\n",
              "      border-color: transparent;\n",
              "      border-right-color: var(--fill-color);\n",
              "      border-top-color: var(--fill-color);\n",
              "    }\n",
              "    60% {\n",
              "      border-color: transparent;\n",
              "      border-right-color: var(--fill-color);\n",
              "    }\n",
              "    80% {\n",
              "      border-color: transparent;\n",
              "      border-right-color: var(--fill-color);\n",
              "      border-bottom-color: var(--fill-color);\n",
              "    }\n",
              "    90% {\n",
              "      border-color: transparent;\n",
              "      border-bottom-color: var(--fill-color);\n",
              "    }\n",
              "  }\n",
              "</style>\n",
              "\n",
              "  <script>\n",
              "    async function quickchart(key) {\n",
              "      const quickchartButtonEl =\n",
              "        document.querySelector('#' + key + ' button');\n",
              "      quickchartButtonEl.disabled = true;  // To prevent multiple clicks.\n",
              "      quickchartButtonEl.classList.add('colab-df-spinner');\n",
              "      try {\n",
              "        const charts = await google.colab.kernel.invokeFunction(\n",
              "            'suggestCharts', [key], {});\n",
              "      } catch (error) {\n",
              "        console.error('Error during call to suggestCharts:', error);\n",
              "      }\n",
              "      quickchartButtonEl.classList.remove('colab-df-spinner');\n",
              "      quickchartButtonEl.classList.add('colab-df-quickchart-complete');\n",
              "    }\n",
              "    (() => {\n",
              "      let quickchartButtonEl =\n",
              "        document.querySelector('#df-4157b11e-58b7-45e6-b48e-fb4067807e27 button');\n",
              "      quickchartButtonEl.style.display =\n",
              "        google.colab.kernel.accessAllowed ? 'block' : 'none';\n",
              "    })();\n",
              "  </script>\n",
              "</div>\n",
              "\n",
              "    </div>\n",
              "  </div>\n"
            ],
            "application/vnd.google.colaboratory.intrinsic+json": {
              "type": "dataframe",
              "variable_name": "z"
            }
          },
          "metadata": {},
          "execution_count": 123
        }
      ],
      "source": [
        "z.head()"
      ]
    },
    {
      "cell_type": "code",
      "execution_count": null,
      "metadata": {
        "colab": {
          "base_uri": "https://localhost:8080/",
          "height": 226
        },
        "id": "WGZT7VQPLy2Z",
        "outputId": "0b874bc8-bf60-432e-f0a9-b6462a52343f"
      },
      "outputs": [
        {
          "output_type": "execute_result",
          "data": {
            "text/plain": [
              "   ESTU_PRGM_DEPARTAMENTO  ESTU_HORASSEMANATRABAJA  FAMI_ESTRATOVIVIENDA  \\\n",
              "0                       5                        5                     2   \n",
              "1                       1                       25                     1   \n",
              "2                       4                        0                     2   \n",
              "3                      27                       25                     0   \n",
              "4                       3                       15                     1   \n",
              "\n",
              "   FAMI_EDUCACIONPADRE  FAMI_EDUCACIONMADRE  GRUPO_PRGM_ACADEMICO  \\\n",
              "0                   10                    6                   112   \n",
              "1                    8                   10                     3   \n",
              "2                    9                    8                    64   \n",
              "3                    7                    7                    27   \n",
              "4                    8                    8                     3   \n",
              "\n",
              "   FAMI_TIENEINTERNET_si  \n",
              "0                      1  \n",
              "1                      1  \n",
              "2                      1  \n",
              "3                      0  \n",
              "4                      1  "
            ],
            "text/html": [
              "\n",
              "  <div id=\"df-a79fe428-0be4-4891-a76d-c2f4b99a9b30\" class=\"colab-df-container\">\n",
              "    <div>\n",
              "<style scoped>\n",
              "    .dataframe tbody tr th:only-of-type {\n",
              "        vertical-align: middle;\n",
              "    }\n",
              "\n",
              "    .dataframe tbody tr th {\n",
              "        vertical-align: top;\n",
              "    }\n",
              "\n",
              "    .dataframe thead th {\n",
              "        text-align: right;\n",
              "    }\n",
              "</style>\n",
              "<table border=\"1\" class=\"dataframe\">\n",
              "  <thead>\n",
              "    <tr style=\"text-align: right;\">\n",
              "      <th></th>\n",
              "      <th>ESTU_PRGM_DEPARTAMENTO</th>\n",
              "      <th>ESTU_HORASSEMANATRABAJA</th>\n",
              "      <th>FAMI_ESTRATOVIVIENDA</th>\n",
              "      <th>FAMI_EDUCACIONPADRE</th>\n",
              "      <th>FAMI_EDUCACIONMADRE</th>\n",
              "      <th>GRUPO_PRGM_ACADEMICO</th>\n",
              "      <th>FAMI_TIENEINTERNET_si</th>\n",
              "    </tr>\n",
              "  </thead>\n",
              "  <tbody>\n",
              "    <tr>\n",
              "      <th>0</th>\n",
              "      <td>5</td>\n",
              "      <td>5</td>\n",
              "      <td>2</td>\n",
              "      <td>10</td>\n",
              "      <td>6</td>\n",
              "      <td>112</td>\n",
              "      <td>1</td>\n",
              "    </tr>\n",
              "    <tr>\n",
              "      <th>1</th>\n",
              "      <td>1</td>\n",
              "      <td>25</td>\n",
              "      <td>1</td>\n",
              "      <td>8</td>\n",
              "      <td>10</td>\n",
              "      <td>3</td>\n",
              "      <td>1</td>\n",
              "    </tr>\n",
              "    <tr>\n",
              "      <th>2</th>\n",
              "      <td>4</td>\n",
              "      <td>0</td>\n",
              "      <td>2</td>\n",
              "      <td>9</td>\n",
              "      <td>8</td>\n",
              "      <td>64</td>\n",
              "      <td>1</td>\n",
              "    </tr>\n",
              "    <tr>\n",
              "      <th>3</th>\n",
              "      <td>27</td>\n",
              "      <td>25</td>\n",
              "      <td>0</td>\n",
              "      <td>7</td>\n",
              "      <td>7</td>\n",
              "      <td>27</td>\n",
              "      <td>0</td>\n",
              "    </tr>\n",
              "    <tr>\n",
              "      <th>4</th>\n",
              "      <td>3</td>\n",
              "      <td>15</td>\n",
              "      <td>1</td>\n",
              "      <td>8</td>\n",
              "      <td>8</td>\n",
              "      <td>3</td>\n",
              "      <td>1</td>\n",
              "    </tr>\n",
              "  </tbody>\n",
              "</table>\n",
              "</div>\n",
              "    <div class=\"colab-df-buttons\">\n",
              "\n",
              "  <div class=\"colab-df-container\">\n",
              "    <button class=\"colab-df-convert\" onclick=\"convertToInteractive('df-a79fe428-0be4-4891-a76d-c2f4b99a9b30')\"\n",
              "            title=\"Convert this dataframe to an interactive table.\"\n",
              "            style=\"display:none;\">\n",
              "\n",
              "  <svg xmlns=\"http://www.w3.org/2000/svg\" height=\"24px\" viewBox=\"0 -960 960 960\">\n",
              "    <path d=\"M120-120v-720h720v720H120Zm60-500h600v-160H180v160Zm220 220h160v-160H400v160Zm0 220h160v-160H400v160ZM180-400h160v-160H180v160Zm440 0h160v-160H620v160ZM180-180h160v-160H180v160Zm440 0h160v-160H620v160Z\"/>\n",
              "  </svg>\n",
              "    </button>\n",
              "\n",
              "  <style>\n",
              "    .colab-df-container {\n",
              "      display:flex;\n",
              "      gap: 12px;\n",
              "    }\n",
              "\n",
              "    .colab-df-convert {\n",
              "      background-color: #E8F0FE;\n",
              "      border: none;\n",
              "      border-radius: 50%;\n",
              "      cursor: pointer;\n",
              "      display: none;\n",
              "      fill: #1967D2;\n",
              "      height: 32px;\n",
              "      padding: 0 0 0 0;\n",
              "      width: 32px;\n",
              "    }\n",
              "\n",
              "    .colab-df-convert:hover {\n",
              "      background-color: #E2EBFA;\n",
              "      box-shadow: 0px 1px 2px rgba(60, 64, 67, 0.3), 0px 1px 3px 1px rgba(60, 64, 67, 0.15);\n",
              "      fill: #174EA6;\n",
              "    }\n",
              "\n",
              "    .colab-df-buttons div {\n",
              "      margin-bottom: 4px;\n",
              "    }\n",
              "\n",
              "    [theme=dark] .colab-df-convert {\n",
              "      background-color: #3B4455;\n",
              "      fill: #D2E3FC;\n",
              "    }\n",
              "\n",
              "    [theme=dark] .colab-df-convert:hover {\n",
              "      background-color: #434B5C;\n",
              "      box-shadow: 0px 1px 3px 1px rgba(0, 0, 0, 0.15);\n",
              "      filter: drop-shadow(0px 1px 2px rgba(0, 0, 0, 0.3));\n",
              "      fill: #FFFFFF;\n",
              "    }\n",
              "  </style>\n",
              "\n",
              "    <script>\n",
              "      const buttonEl =\n",
              "        document.querySelector('#df-a79fe428-0be4-4891-a76d-c2f4b99a9b30 button.colab-df-convert');\n",
              "      buttonEl.style.display =\n",
              "        google.colab.kernel.accessAllowed ? 'block' : 'none';\n",
              "\n",
              "      async function convertToInteractive(key) {\n",
              "        const element = document.querySelector('#df-a79fe428-0be4-4891-a76d-c2f4b99a9b30');\n",
              "        const dataTable =\n",
              "          await google.colab.kernel.invokeFunction('convertToInteractive',\n",
              "                                                    [key], {});\n",
              "        if (!dataTable) return;\n",
              "\n",
              "        const docLinkHtml = 'Like what you see? Visit the ' +\n",
              "          '<a target=\"_blank\" href=https://colab.research.google.com/notebooks/data_table.ipynb>data table notebook</a>'\n",
              "          + ' to learn more about interactive tables.';\n",
              "        element.innerHTML = '';\n",
              "        dataTable['output_type'] = 'display_data';\n",
              "        await google.colab.output.renderOutput(dataTable, element);\n",
              "        const docLink = document.createElement('div');\n",
              "        docLink.innerHTML = docLinkHtml;\n",
              "        element.appendChild(docLink);\n",
              "      }\n",
              "    </script>\n",
              "  </div>\n",
              "\n",
              "\n",
              "<div id=\"df-41ff8433-7aeb-4c0f-ab3e-6d5281ac5125\">\n",
              "  <button class=\"colab-df-quickchart\" onclick=\"quickchart('df-41ff8433-7aeb-4c0f-ab3e-6d5281ac5125')\"\n",
              "            title=\"Suggest charts\"\n",
              "            style=\"display:none;\">\n",
              "\n",
              "<svg xmlns=\"http://www.w3.org/2000/svg\" height=\"24px\"viewBox=\"0 0 24 24\"\n",
              "     width=\"24px\">\n",
              "    <g>\n",
              "        <path d=\"M19 3H5c-1.1 0-2 .9-2 2v14c0 1.1.9 2 2 2h14c1.1 0 2-.9 2-2V5c0-1.1-.9-2-2-2zM9 17H7v-7h2v7zm4 0h-2V7h2v10zm4 0h-2v-4h2v4z\"/>\n",
              "    </g>\n",
              "</svg>\n",
              "  </button>\n",
              "\n",
              "<style>\n",
              "  .colab-df-quickchart {\n",
              "      --bg-color: #E8F0FE;\n",
              "      --fill-color: #1967D2;\n",
              "      --hover-bg-color: #E2EBFA;\n",
              "      --hover-fill-color: #174EA6;\n",
              "      --disabled-fill-color: #AAA;\n",
              "      --disabled-bg-color: #DDD;\n",
              "  }\n",
              "\n",
              "  [theme=dark] .colab-df-quickchart {\n",
              "      --bg-color: #3B4455;\n",
              "      --fill-color: #D2E3FC;\n",
              "      --hover-bg-color: #434B5C;\n",
              "      --hover-fill-color: #FFFFFF;\n",
              "      --disabled-bg-color: #3B4455;\n",
              "      --disabled-fill-color: #666;\n",
              "  }\n",
              "\n",
              "  .colab-df-quickchart {\n",
              "    background-color: var(--bg-color);\n",
              "    border: none;\n",
              "    border-radius: 50%;\n",
              "    cursor: pointer;\n",
              "    display: none;\n",
              "    fill: var(--fill-color);\n",
              "    height: 32px;\n",
              "    padding: 0;\n",
              "    width: 32px;\n",
              "  }\n",
              "\n",
              "  .colab-df-quickchart:hover {\n",
              "    background-color: var(--hover-bg-color);\n",
              "    box-shadow: 0 1px 2px rgba(60, 64, 67, 0.3), 0 1px 3px 1px rgba(60, 64, 67, 0.15);\n",
              "    fill: var(--button-hover-fill-color);\n",
              "  }\n",
              "\n",
              "  .colab-df-quickchart-complete:disabled,\n",
              "  .colab-df-quickchart-complete:disabled:hover {\n",
              "    background-color: var(--disabled-bg-color);\n",
              "    fill: var(--disabled-fill-color);\n",
              "    box-shadow: none;\n",
              "  }\n",
              "\n",
              "  .colab-df-spinner {\n",
              "    border: 2px solid var(--fill-color);\n",
              "    border-color: transparent;\n",
              "    border-bottom-color: var(--fill-color);\n",
              "    animation:\n",
              "      spin 1s steps(1) infinite;\n",
              "  }\n",
              "\n",
              "  @keyframes spin {\n",
              "    0% {\n",
              "      border-color: transparent;\n",
              "      border-bottom-color: var(--fill-color);\n",
              "      border-left-color: var(--fill-color);\n",
              "    }\n",
              "    20% {\n",
              "      border-color: transparent;\n",
              "      border-left-color: var(--fill-color);\n",
              "      border-top-color: var(--fill-color);\n",
              "    }\n",
              "    30% {\n",
              "      border-color: transparent;\n",
              "      border-left-color: var(--fill-color);\n",
              "      border-top-color: var(--fill-color);\n",
              "      border-right-color: var(--fill-color);\n",
              "    }\n",
              "    40% {\n",
              "      border-color: transparent;\n",
              "      border-right-color: var(--fill-color);\n",
              "      border-top-color: var(--fill-color);\n",
              "    }\n",
              "    60% {\n",
              "      border-color: transparent;\n",
              "      border-right-color: var(--fill-color);\n",
              "    }\n",
              "    80% {\n",
              "      border-color: transparent;\n",
              "      border-right-color: var(--fill-color);\n",
              "      border-bottom-color: var(--fill-color);\n",
              "    }\n",
              "    90% {\n",
              "      border-color: transparent;\n",
              "      border-bottom-color: var(--fill-color);\n",
              "    }\n",
              "  }\n",
              "</style>\n",
              "\n",
              "  <script>\n",
              "    async function quickchart(key) {\n",
              "      const quickchartButtonEl =\n",
              "        document.querySelector('#' + key + ' button');\n",
              "      quickchartButtonEl.disabled = true;  // To prevent multiple clicks.\n",
              "      quickchartButtonEl.classList.add('colab-df-spinner');\n",
              "      try {\n",
              "        const charts = await google.colab.kernel.invokeFunction(\n",
              "            'suggestCharts', [key], {});\n",
              "      } catch (error) {\n",
              "        console.error('Error during call to suggestCharts:', error);\n",
              "      }\n",
              "      quickchartButtonEl.classList.remove('colab-df-spinner');\n",
              "      quickchartButtonEl.classList.add('colab-df-quickchart-complete');\n",
              "    }\n",
              "    (() => {\n",
              "      let quickchartButtonEl =\n",
              "        document.querySelector('#df-41ff8433-7aeb-4c0f-ab3e-6d5281ac5125 button');\n",
              "      quickchartButtonEl.style.display =\n",
              "        google.colab.kernel.accessAllowed ? 'block' : 'none';\n",
              "    })();\n",
              "  </script>\n",
              "</div>\n",
              "\n",
              "    </div>\n",
              "  </div>\n"
            ],
            "application/vnd.google.colaboratory.intrinsic+json": {
              "type": "dataframe",
              "variable_name": "p"
            }
          },
          "metadata": {},
          "execution_count": 124
        }
      ],
      "source": [
        "p.head()"
      ]
    },
    {
      "cell_type": "code",
      "source": [
        "#guardar el dataframe limpio\n",
        "\n",
        "p.to_csv(\"datos_limpios_test_label.csv\", index=False)\n",
        "z.to_csv(\"datos_limpios_train_label.csv\", index=False)"
      ],
      "metadata": {
        "id": "SFv43N6lwqmO"
      },
      "execution_count": null,
      "outputs": []
    },
    {
      "cell_type": "markdown",
      "source": [
        "### Entrenamiento y Validación del Modelo XGBoos\n"
      ],
      "metadata": {
        "id": "mKgcnu2qDjWE"
      }
    },
    {
      "cell_type": "markdown",
      "source": [
        "El modelo XGBoost (eXtreme Gradient Boosting) es uno de los algoritmos más potentes y ampliamente utilizados para problemas de clasificación y regresión. En este proceso, se busca optimizar los hiperparámetros del modelo utilizando un enfoque de búsqueda en cuadrícula (Grid Search), con el objetivo de maximizar el rendimiento predictivo.\n",
        "\n",
        "Se han definido varios hiperparámetros clave para ajustar el modelo a través de la variable param_grid, los cuales incluyen:\n",
        "\n",
        "- n_estimators: El número de árboles a construir, lo que afecta la capacidad del modelo para captar patrones complejos.\n",
        "- max_depth: La profundidad máxima de cada árbol, que controla el nivel de división y la complejidad del modelo.\n",
        "- learning_rate: La tasa de aprendizaje, que ajusta la contribución de cada árbol en la construcción del modelo.\n",
        "- subsample y colsample_bytree: Proporciones de muestreo de observaciones y características, respectivamente, para reducir el sobreajuste.\n",
        "- gamma y min_child_weight: Parámetros de regularización que previenen la creación de nodos irrelevantes en los árboles.\n",
        "\n",
        "El modelo se configura con parámetros iniciales específicos, como el uso de un objetivo de clasificación multiclase (multi:softmax) y la métrica de evaluación mlogloss (log-loss para problemas multiclase). Además, se ha desactivado la codificación automática de etiquetas con use_label_encoder=False para evitar advertencias innecesarias.\n",
        "\n",
        "En este proceso de ajuste y validación, la estrategia utilizada asegura un balance óptimo entre bias y varianza, mejorando la capacidad del modelo para generalizar sobre datos no vistos."
      ],
      "metadata": {
        "id": "yMLigPsgjC6H"
      }
    },
    {
      "cell_type": "code",
      "source": [
        "!pip install imbalanced-learn\n"
      ],
      "metadata": {
        "colab": {
          "base_uri": "https://localhost:8080/"
        },
        "id": "XDqJqCy6Bj56",
        "outputId": "52d99688-eeda-4dd7-a556-7a8252f21772"
      },
      "execution_count": null,
      "outputs": [
        {
          "output_type": "stream",
          "name": "stdout",
          "text": [
            "Requirement already satisfied: imbalanced-learn in /usr/local/lib/python3.10/dist-packages (0.12.4)\n",
            "Requirement already satisfied: numpy>=1.17.3 in /usr/local/lib/python3.10/dist-packages (from imbalanced-learn) (1.26.4)\n",
            "Requirement already satisfied: scipy>=1.5.0 in /usr/local/lib/python3.10/dist-packages (from imbalanced-learn) (1.13.1)\n",
            "Requirement already satisfied: scikit-learn>=1.0.2 in /usr/local/lib/python3.10/dist-packages (from imbalanced-learn) (1.5.2)\n",
            "Requirement already satisfied: joblib>=1.1.1 in /usr/local/lib/python3.10/dist-packages (from imbalanced-learn) (1.4.2)\n",
            "Requirement already satisfied: threadpoolctl>=2.0.0 in /usr/local/lib/python3.10/dist-packages (from imbalanced-learn) (3.5.0)\n"
          ]
        }
      ]
    },
    {
      "cell_type": "code",
      "source": [
        "X = z.drop(columns=[\"RENDIMIENTO_GLOBAL\"])  # Variables predictoras\n",
        "y = z[\"RENDIMIENTO_GLOBAL\"]                 # Variable objetivo\n",
        "\n",
        "# Dividir en entrenamiento y validación (80%-20%)\n",
        "X_train, X_val, y_train, y_val = train_test_split(X, y, test_size=0.2, random_state=42, stratify=y)"
      ],
      "metadata": {
        "id": "wNQm0a_PEK6-"
      },
      "execution_count": null,
      "outputs": []
    },
    {
      "cell_type": "code",
      "source": [
        "\n",
        "smote = SMOTE(random_state=42)\n",
        "X_resampled, y_resampled = smote.fit_resample(X_train, y_train)\n",
        "\n",
        "# Verificar el nuevo balance de clases\n",
        "print(\"Distribución de clases después de SMOTE:\")\n",
        "print(y_resampled.value_counts())"
      ],
      "metadata": {
        "id": "ZvLCrjykBuNR",
        "colab": {
          "base_uri": "https://localhost:8080/"
        },
        "outputId": "9150fa0d-8b1c-4cec-b2a3-24e00eb4bee2"
      },
      "execution_count": null,
      "outputs": [
        {
          "output_type": "stream",
          "name": "stdout",
          "text": [
            "Distribución de clases después de SMOTE:\n",
            "RENDIMIENTO_GLOBAL\n",
            "0    133492\n",
            "2    133492\n",
            "3    133492\n",
            "1    133492\n",
            "Name: count, dtype: int64\n"
          ]
        }
      ]
    },
    {
      "cell_type": "code",
      "source": [
        "param_grid = {\n",
        "    'n_estimators': [50, 100, 200, 300],       # Número de árboles en el modelo\n",
        "    'max_depth': [3, 5, 7, 10],               # Profundidad máxima de los árboles\n",
        "    'learning_rate': [0.01, 0.1, 0.2],        # Tasa de aprendizaje\n",
        "    'subsample': [0.6, 0.8, 1.0],             # Proporción de muestras usadas en cada árbol\n",
        "    'colsample_bytree': [0.6, 0.8, 1.0],      # Proporción de características usadas en cada árbol\n",
        "    'gamma': [0, 1, 5],                       # Regularización para dividir nodos\n",
        "    'min_child_weight': [1, 3, 5],            # Mínimo peso de las hojas\n",
        "}\n"
      ],
      "metadata": {
        "id": "9wCFeT68M37z"
      },
      "execution_count": null,
      "outputs": []
    },
    {
      "cell_type": "code",
      "source": [
        "\n",
        "\n",
        "# Crear el modelo\n",
        "xgb = XGBClassifier(\n",
        "    objective='multi:softmax',  # Clasificación multiclase\n",
        "    num_class=4,               # Número de clases (alto, bajo, medio-alto, medio-bajo)\n",
        "    eval_metric='mlogloss',    # Métrica de evaluación\n",
        "    use_label_encoder=False,   # Evitar warning de codificación de etiquetas\n",
        "    random_state=42\n",
        ")"
      ],
      "metadata": {
        "id": "BFdR-DxMEYFj"
      },
      "execution_count": null,
      "outputs": []
    },
    {
      "cell_type": "code",
      "source": [
        "random_search = RandomizedSearchCV(\n",
        "    estimator=xgb,\n",
        "    param_distributions=param_grid,\n",
        "    n_iter=50,               # Número de combinaciones aleatorias a probar\n",
        "    cv=3,                    # Validación cruzada\n",
        "    verbose=2,               # Salida detallada del progreso\n",
        "    random_state=42,\n",
        "    scoring='f1_weighted',   # Métrica de evaluación\n",
        "    n_jobs=-1                # Usa todos los núcleos disponibles\n",
        ")"
      ],
      "metadata": {
        "id": "Xym9kBEFNCtb"
      },
      "execution_count": null,
      "outputs": []
    },
    {
      "cell_type": "code",
      "source": [
        "random_search.fit(X_resampled, y_resampled)\n",
        "\n",
        "best_xgb = random_search.best_estimator_\n",
        "print(\"Mejores hiperparámetros:\", random_search.best_params_)\n",
        "\n",
        "# Guardar el modelo entrenado\n",
        "joblib.dump(best_xgb, 'xgboost_model.joblib')\n",
        "print(\"Modelo entrenado y guardado exitosamente.\")"
      ],
      "metadata": {
        "colab": {
          "base_uri": "https://localhost:8080/"
        },
        "id": "5NgjGjM_EcMD",
        "outputId": "a12ac292-5581-490c-941d-400a241dd8ba"
      },
      "execution_count": null,
      "outputs": [
        {
          "output_type": "stream",
          "name": "stdout",
          "text": [
            "Fitting 3 folds for each of 50 candidates, totalling 150 fits\n"
          ]
        },
        {
          "output_type": "stream",
          "name": "stderr",
          "text": [
            "/usr/local/lib/python3.10/dist-packages/joblib/externals/loky/process_executor.py:752: UserWarning: A worker stopped while some jobs were given to the executor. This can be caused by a too short worker timeout or by a memory leak.\n",
            "  warnings.warn(\n",
            "/usr/local/lib/python3.10/dist-packages/xgboost/core.py:158: UserWarning: [14:28:54] WARNING: /workspace/src/learner.cc:740: \n",
            "Parameters: { \"use_label_encoder\" } are not used.\n",
            "\n",
            "  warnings.warn(smsg, UserWarning)\n"
          ]
        },
        {
          "output_type": "stream",
          "name": "stdout",
          "text": [
            "Mejores hiperparámetros: {'subsample': 0.6, 'n_estimators': 300, 'min_child_weight': 3, 'max_depth': 5, 'learning_rate': 0.2, 'gamma': 0, 'colsample_bytree': 1.0}\n",
            "Modelo entrenado y guardado exitosamente.\n"
          ]
        }
      ]
    },
    {
      "cell_type": "code",
      "source": [
        "y_pred = best_xgb.predict(X_val)\n",
        "\n",
        "# Métricas de evaluación\n",
        "print(\"Accuracy:\", accuracy_score(y_val, y_pred))\n",
        "print(\"Matriz de confusión:\")\n",
        "print(confusion_matrix(y_val, y_pred))\n",
        "print(\"Reporte de clasificación:\")\n",
        "print(classification_report(y_val, y_pred))\n"
      ],
      "metadata": {
        "colab": {
          "base_uri": "https://localhost:8080/"
        },
        "id": "_Bgy0olyG2nE",
        "outputId": "e31bcaab-defd-4334-a143-49b54d7da2bd"
      },
      "execution_count": null,
      "outputs": [
        {
          "output_type": "stream",
          "name": "stdout",
          "text": [
            "Accuracy: 0.401751391579789\n",
            "Matriz de confusión:\n",
            "[[19822  3721  6305  3543]\n",
            " [ 3775 16543  4920  6597]\n",
            " [10061  7489  8025  6820]\n",
            " [ 6086 11462  7034  7865]]\n",
            "Reporte de clasificación:\n",
            "              precision    recall  f1-score   support\n",
            "\n",
            "           0       0.50      0.59      0.54     33391\n",
            "           1       0.42      0.52      0.47     31835\n",
            "           2       0.31      0.25      0.27     32395\n",
            "           3       0.32      0.24      0.27     32447\n",
            "\n",
            "    accuracy                           0.40    130068\n",
            "   macro avg       0.39      0.40      0.39    130068\n",
            "weighted avg       0.39      0.40      0.39    130068\n",
            "\n"
          ]
        }
      ]
    },
    {
      "cell_type": "code",
      "source": [],
      "metadata": {
        "id": "CC0s8q2xMyzr"
      },
      "execution_count": null,
      "outputs": []
    }
  ],
  "metadata": {
    "colab": {
      "provenance": []
    },
    "kernelspec": {
      "display_name": "Python 3",
      "name": "python3"
    },
    "language_info": {
      "name": "python"
    }
  },
  "nbformat": 4,
  "nbformat_minor": 0
}