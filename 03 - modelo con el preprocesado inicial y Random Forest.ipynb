{
  "cells": [
    {
      "cell_type": "markdown",
      "metadata": {
        "id": "vM_DHPb6s1L-"
      },
      "source": [
        "# Análisis y Predicción de Rendimiento en Pruebas Saber Pro\n"
      ]
    },
    {
      "cell_type": "markdown",
      "metadata": {
        "id": "QOY4gbZffT8t"
      },
      "source": [
        "## Introducción\n",
        "Las Pruebas Saber Pro son exámenes estandarizados administrados en Colombia para evaluar la calidad y el nivel de conocimiento y competencias de los estudiantes de educación superior. Estas pruebas, que abarcan cinco componentes genéricos (Inglés, Lectura Crítica, Competencias Ciudadanas, Razonamiento Cuantitativo y Comunicación Escrita), son fundamentales para los esfuerzos del Gobierno colombiano en monitorear y mejorar la calidad de la educación superior en el país."
      ]
    },
    {
      "cell_type": "markdown",
      "metadata": {
        "id": "tzA7v8IcfFRy"
      },
      "source": [
        "## Objetivo del proyecto\n",
        "El objetivo principal de este proyecto es desarrollar un modelo de clasificación que prediga el desempeño de cada estudiante en las Pruebas Saber Pro, categorizándolo como bajo, medio-bajo, medio-alto o alto."
      ]
    },
    {
      "cell_type": "markdown",
      "metadata": {
        "id": "C3CGadE3fPCP"
      },
      "source": [
        "## Enfoque Actual: Limpieza, Pre-prosesamiento de Datos y Modelo\n",
        "\n",
        "En esta etapa del proyecto, nos centraremos en tres aspectos :\n",
        "\n",
        "En esta etapa del proyecto, nos enfocaremos en la limpieza y preprocesamiento de los datos para asegurar que el modelo se entrene y pruebe de manera efectiva en ambos conjuntos de datos, de entrenamiento y de prueba.\n",
        "\n",
        "Limpieza de Datos: Prepararemos el conjunto de datos de entrenamiento, identificando y corrigiendo problemas como valores faltantes, outliers y formatos inconsistentes. Esta limpieza también se extiende al conjunto de datos de prueba, que debe estar en las mismas condiciones que el de entrenamiento para una evaluación justa. Utilizaremos métodos adecuados de imputación para los valores NaN, manteniendo la distribución original de los datos y evitando sesgos.\n",
        "\n",
        "Selección de Variables: Realizaremos un análisis exhaustivo de las características disponibles para identificar las variables más relevantes en la predicción de la columna RENDIMIENTO_GLOBAL. Seleccionaremos aquellas variables que ofrezcan el mayor poder predictivo, reduciendo la dimensionalidad del modelo y optimizando su rendimiento.\n",
        "\n",
        "Entrenamiento y Prueba del Modelo: Tras el preprocesamiento, entrenaremos el modelo con el conjunto de datos de entrenamiento y evaluaremos su desempeño con el conjunto de datos de prueba. Este paso nos permitirá validar la capacidad predictiva del modelo y ajustar sus parámetros para obtener resultados óptimos en términos de precisión y generalización."
      ]
    },
    {
      "cell_type": "markdown",
      "metadata": {
        "id": "1AMViic4f1YS"
      },
      "source": [
        "## Estructura del Notebook\n",
        "\n",
        "Este notebook guiará a través del proceso de limpieza de datos y selección de variables, sentando las bases para el desarrollo del modelo predictivo. Las secciones incluirán:\n",
        "\n",
        "- Carga y exploración inicial de datos\n",
        "- Exploración del Dataset\n",
        "- Limpieza de datos\n",
        "- Resultados de la limpieza y preprocesamiento de datos\n",
        "- Entremiento y prueba del Modelo"
      ]
    },
    {
      "cell_type": "markdown",
      "metadata": {
        "id": "btkv2czJgMCT"
      },
      "source": [
        "# Limpieza y Pre-procesamiento de los datos"
      ]
    },
    {
      "cell_type": "markdown",
      "metadata": {
        "id": "hkZhJrM2t8oL"
      },
      "source": [
        "## Carga y exploración inicial de datos"
      ]
    },
    {
      "cell_type": "markdown",
      "metadata": {
        "id": "EpfoZYKluex3"
      },
      "source": [
        "### Instalación de librerias necesarias"
      ]
    },
    {
      "cell_type": "code",
      "execution_count": null,
      "metadata": {
        "colab": {
          "base_uri": "https://localhost:8080/",
          "height": 75
        },
        "id": "Ntq2GquPMFQH",
        "outputId": "451a2652-4e92-414e-8bc4-4b351029a1cb"
      },
      "outputs": [
        {
          "output_type": "display_data",
          "data": {
            "text/plain": [
              "<IPython.core.display.HTML object>"
            ],
            "text/html": [
              "\n",
              "<meta name=\"google-signin-client_id\"\n",
              "      content=\"461673936472-kdjosv61up3ac1ajeuq6qqu72upilmls.apps.googleusercontent.com\"/>\n",
              "<script src=\"https://apis.google.com/js/client:platform.js?onload=google_button_start\"></script>\n",
              "    "
            ]
          },
          "metadata": {}
        },
        {
          "output_type": "stream",
          "name": "stdout",
          "text": [
            "replicating local resources\n"
          ]
        },
        {
          "output_type": "execute_result",
          "data": {
            "text/plain": [
              "<IPython.core.display.HTML object>"
            ],
            "text/html": [
              "<h3>See <a href='https://m5knaekxo6.execute-api.us-west-2.amazonaws.com/dev-v0001/rlxmooc/web/login' target='_blank'>my courses and progress</a></h2>"
            ]
          },
          "metadata": {},
          "execution_count": 3
        }
      ],
      "source": [
        "!wget --no-cache -O init.py -q https://raw.githubusercontent.com/rramosp/ai4eng.v1/main/content/init.py\n",
        "import init; init.init(force_download=False); init.get_weblink()"
      ]
    },
    {
      "cell_type": "markdown",
      "metadata": {
        "id": "num5TsbpMTgD"
      },
      "source": [
        "### Carga del dataset desde Kaggle"
      ]
    },
    {
      "cell_type": "code",
      "execution_count": null,
      "metadata": {
        "colab": {
          "base_uri": "https://localhost:8080/"
        },
        "id": "D1bR5xAIMR4Q",
        "outputId": "defe572a-eead-4e60-aa57-39a31bcd2087"
      },
      "outputs": [
        {
          "output_type": "stream",
          "name": "stdout",
          "text": [
            "Downloading udea-ai4eng-20242.zip to /content\n",
            " 75% 15.0M/20.1M [00:00<00:00, 66.2MB/s]\n",
            "100% 20.1M/20.1M [00:00<00:00, 61.3MB/s]\n"
          ]
        }
      ],
      "source": [
        "import os\n",
        "os.environ['KAGGLE_CONFIG_DIR'] = '.'\n",
        "!chmod 600 ./kaggle.json\n",
        "!kaggle competitions download -c udea-ai4eng-20242"
      ]
    },
    {
      "cell_type": "markdown",
      "metadata": {
        "id": "uZjO4QCwiw8N"
      },
      "source": []
    },
    {
      "cell_type": "markdown",
      "metadata": {
        "id": "oJ5c4RguNKq0"
      },
      "source": [
        "### Descomprimir data\n"
      ]
    },
    {
      "cell_type": "code",
      "execution_count": null,
      "metadata": {
        "id": "lPKC4dbyM-p1",
        "colab": {
          "base_uri": "https://localhost:8080/"
        },
        "outputId": "efded574-6658-4c3c-e605-309adbf740c4"
      },
      "outputs": [
        {
          "output_type": "stream",
          "name": "stdout",
          "text": [
            "replace submission_example.csv? [y]es, [n]o, [A]ll, [N]one, [r]ename: y\n",
            "replace test.csv? [y]es, [n]o, [A]ll, [N]one, [r]ename: y\n",
            "replace train.csv? [y]es, [n]o, [A]ll, [N]one, [r]ename: y\n"
          ]
        }
      ],
      "source": [
        "!unzip udea*.zip > /dev/null"
      ]
    },
    {
      "cell_type": "code",
      "execution_count": null,
      "metadata": {
        "colab": {
          "base_uri": "https://localhost:8080/"
        },
        "id": "Bjn99rYNNDpl",
        "outputId": "e929533d-eb94-4900-bf7b-0e930d2f9e3c"
      },
      "outputs": [
        {
          "output_type": "stream",
          "name": "stdout",
          "text": [
            "   296787    296787   4716673 submission_example.csv\n",
            "   296787   4565553  50135751 test.csv\n",
            "   692501  10666231 118025055 train.csv\n",
            "  1286075  15528571 172877479 total\n"
          ]
        }
      ],
      "source": [
        "!wc *.csv"
      ]
    },
    {
      "cell_type": "markdown",
      "metadata": {
        "id": "iLnrm-4Oi-_k"
      },
      "source": [
        "### Instalaciones e importaciones"
      ]
    },
    {
      "cell_type": "code",
      "execution_count": null,
      "metadata": {
        "colab": {
          "base_uri": "https://localhost:8080/"
        },
        "id": "xW4Z0k4bimwT",
        "outputId": "387961ce-c48c-48ef-c520-e309791da592"
      },
      "outputs": [
        {
          "output_type": "stream",
          "name": "stdout",
          "text": [
            "Collecting fuzzywuzzy\n",
            "  Downloading fuzzywuzzy-0.18.0-py2.py3-none-any.whl.metadata (4.9 kB)\n",
            "Downloading fuzzywuzzy-0.18.0-py2.py3-none-any.whl (18 kB)\n",
            "Installing collected packages: fuzzywuzzy\n",
            "Successfully installed fuzzywuzzy-0.18.0\n",
            "Collecting python-Levenshtein\n",
            "  Downloading python_Levenshtein-0.26.1-py3-none-any.whl.metadata (3.7 kB)\n",
            "Collecting Levenshtein==0.26.1 (from python-Levenshtein)\n",
            "  Downloading levenshtein-0.26.1-cp310-cp310-manylinux_2_17_x86_64.manylinux2014_x86_64.whl.metadata (3.2 kB)\n",
            "Collecting rapidfuzz<4.0.0,>=3.9.0 (from Levenshtein==0.26.1->python-Levenshtein)\n",
            "  Downloading rapidfuzz-3.10.1-cp310-cp310-manylinux_2_17_x86_64.manylinux2014_x86_64.whl.metadata (11 kB)\n",
            "Downloading python_Levenshtein-0.26.1-py3-none-any.whl (9.4 kB)\n",
            "Downloading levenshtein-0.26.1-cp310-cp310-manylinux_2_17_x86_64.manylinux2014_x86_64.whl (162 kB)\n",
            "\u001b[2K   \u001b[90m━━━━━━━━━━━━━━━━━━━━━━━━━━━━━━━━━━━━━━━━\u001b[0m \u001b[32m162.6/162.6 kB\u001b[0m \u001b[31m3.3 MB/s\u001b[0m eta \u001b[36m0:00:00\u001b[0m\n",
            "\u001b[?25hDownloading rapidfuzz-3.10.1-cp310-cp310-manylinux_2_17_x86_64.manylinux2014_x86_64.whl (3.1 MB)\n",
            "\u001b[2K   \u001b[90m━━━━━━━━━━━━━━━━━━━━━━━━━━━━━━━━━━━━━━━━\u001b[0m \u001b[32m3.1/3.1 MB\u001b[0m \u001b[31m35.4 MB/s\u001b[0m eta \u001b[36m0:00:00\u001b[0m\n",
            "\u001b[?25hInstalling collected packages: rapidfuzz, Levenshtein, python-Levenshtein\n",
            "Successfully installed Levenshtein-0.26.1 python-Levenshtein-0.26.1 rapidfuzz-3.10.1\n",
            "Requirement already satisfied: pandas in /usr/local/lib/python3.10/dist-packages (2.2.2)\n",
            "Requirement already satisfied: scikit-learn in /usr/local/lib/python3.10/dist-packages (1.5.2)\n",
            "Requirement already satisfied: fuzzywuzzy in /usr/local/lib/python3.10/dist-packages (0.18.0)\n",
            "Requirement already satisfied: numpy>=1.22.4 in /usr/local/lib/python3.10/dist-packages (from pandas) (1.26.4)\n",
            "Requirement already satisfied: python-dateutil>=2.8.2 in /usr/local/lib/python3.10/dist-packages (from pandas) (2.8.2)\n",
            "Requirement already satisfied: pytz>=2020.1 in /usr/local/lib/python3.10/dist-packages (from pandas) (2024.2)\n",
            "Requirement already satisfied: tzdata>=2022.7 in /usr/local/lib/python3.10/dist-packages (from pandas) (2024.2)\n",
            "Requirement already satisfied: scipy>=1.6.0 in /usr/local/lib/python3.10/dist-packages (from scikit-learn) (1.13.1)\n",
            "Requirement already satisfied: joblib>=1.2.0 in /usr/local/lib/python3.10/dist-packages (from scikit-learn) (1.4.2)\n",
            "Requirement already satisfied: threadpoolctl>=3.1.0 in /usr/local/lib/python3.10/dist-packages (from scikit-learn) (3.5.0)\n",
            "Requirement already satisfied: six>=1.5 in /usr/local/lib/python3.10/dist-packages (from python-dateutil>=2.8.2->pandas) (1.16.0)\n",
            "Collecting ydata-profiling\n",
            "  Downloading ydata_profiling-4.12.0-py2.py3-none-any.whl.metadata (20 kB)\n",
            "Requirement already satisfied: scipy<1.14,>=1.4.1 in /usr/local/lib/python3.10/dist-packages (from ydata-profiling) (1.13.1)\n",
            "Requirement already satisfied: pandas!=1.4.0,<3,>1.1 in /usr/local/lib/python3.10/dist-packages (from ydata-profiling) (2.2.2)\n",
            "Requirement already satisfied: matplotlib<3.10,>=3.5 in /usr/local/lib/python3.10/dist-packages (from ydata-profiling) (3.8.0)\n",
            "Requirement already satisfied: pydantic>=2 in /usr/local/lib/python3.10/dist-packages (from ydata-profiling) (2.9.2)\n",
            "Requirement already satisfied: PyYAML<6.1,>=5.0.0 in /usr/local/lib/python3.10/dist-packages (from ydata-profiling) (6.0.2)\n",
            "Requirement already satisfied: jinja2<3.2,>=2.11.1 in /usr/local/lib/python3.10/dist-packages (from ydata-profiling) (3.1.4)\n",
            "Collecting visions<0.7.7,>=0.7.5 (from visions[type_image_path]<0.7.7,>=0.7.5->ydata-profiling)\n",
            "  Downloading visions-0.7.6-py3-none-any.whl.metadata (11 kB)\n",
            "Requirement already satisfied: numpy<2.2,>=1.16.0 in /usr/local/lib/python3.10/dist-packages (from ydata-profiling) (1.26.4)\n",
            "Collecting htmlmin==0.1.12 (from ydata-profiling)\n",
            "  Downloading htmlmin-0.1.12.tar.gz (19 kB)\n",
            "  Preparing metadata (setup.py) ... \u001b[?25l\u001b[?25hdone\n",
            "Collecting phik<0.13,>=0.11.1 (from ydata-profiling)\n",
            "  Downloading phik-0.12.4-cp310-cp310-manylinux_2_17_x86_64.manylinux2014_x86_64.whl.metadata (5.6 kB)\n",
            "Requirement already satisfied: requests<3,>=2.24.0 in /usr/local/lib/python3.10/dist-packages (from ydata-profiling) (2.32.3)\n",
            "Requirement already satisfied: tqdm<5,>=4.48.2 in /usr/local/lib/python3.10/dist-packages (from ydata-profiling) (4.66.6)\n",
            "Requirement already satisfied: seaborn<0.14,>=0.10.1 in /usr/local/lib/python3.10/dist-packages (from ydata-profiling) (0.13.2)\n",
            "Collecting multimethod<2,>=1.4 (from ydata-profiling)\n",
            "  Downloading multimethod-1.12-py3-none-any.whl.metadata (9.6 kB)\n",
            "Requirement already satisfied: statsmodels<1,>=0.13.2 in /usr/local/lib/python3.10/dist-packages (from ydata-profiling) (0.14.4)\n",
            "Requirement already satisfied: typeguard<5,>=3 in /usr/local/lib/python3.10/dist-packages (from ydata-profiling) (4.4.1)\n",
            "Collecting imagehash==4.3.1 (from ydata-profiling)\n",
            "  Downloading ImageHash-4.3.1-py2.py3-none-any.whl.metadata (8.0 kB)\n",
            "Requirement already satisfied: wordcloud>=1.9.3 in /usr/local/lib/python3.10/dist-packages (from ydata-profiling) (1.9.3)\n",
            "Collecting dacite>=1.8 (from ydata-profiling)\n",
            "  Downloading dacite-1.8.1-py3-none-any.whl.metadata (15 kB)\n",
            "Requirement already satisfied: numba<1,>=0.56.0 in /usr/local/lib/python3.10/dist-packages (from ydata-profiling) (0.60.0)\n",
            "Collecting PyWavelets (from imagehash==4.3.1->ydata-profiling)\n",
            "  Downloading pywavelets-1.7.0-cp310-cp310-manylinux_2_17_x86_64.manylinux2014_x86_64.whl.metadata (9.0 kB)\n",
            "Requirement already satisfied: pillow in /usr/local/lib/python3.10/dist-packages (from imagehash==4.3.1->ydata-profiling) (11.0.0)\n",
            "Requirement already satisfied: MarkupSafe>=2.0 in /usr/local/lib/python3.10/dist-packages (from jinja2<3.2,>=2.11.1->ydata-profiling) (3.0.2)\n",
            "Requirement already satisfied: contourpy>=1.0.1 in /usr/local/lib/python3.10/dist-packages (from matplotlib<3.10,>=3.5->ydata-profiling) (1.3.0)\n",
            "Requirement already satisfied: cycler>=0.10 in /usr/local/lib/python3.10/dist-packages (from matplotlib<3.10,>=3.5->ydata-profiling) (0.12.1)\n",
            "Requirement already satisfied: fonttools>=4.22.0 in /usr/local/lib/python3.10/dist-packages (from matplotlib<3.10,>=3.5->ydata-profiling) (4.54.1)\n",
            "Requirement already satisfied: kiwisolver>=1.0.1 in /usr/local/lib/python3.10/dist-packages (from matplotlib<3.10,>=3.5->ydata-profiling) (1.4.7)\n",
            "Requirement already satisfied: packaging>=20.0 in /usr/local/lib/python3.10/dist-packages (from matplotlib<3.10,>=3.5->ydata-profiling) (24.2)\n",
            "Requirement already satisfied: pyparsing>=2.3.1 in /usr/local/lib/python3.10/dist-packages (from matplotlib<3.10,>=3.5->ydata-profiling) (3.2.0)\n",
            "Requirement already satisfied: python-dateutil>=2.7 in /usr/local/lib/python3.10/dist-packages (from matplotlib<3.10,>=3.5->ydata-profiling) (2.8.2)\n",
            "Requirement already satisfied: llvmlite<0.44,>=0.43.0dev0 in /usr/local/lib/python3.10/dist-packages (from numba<1,>=0.56.0->ydata-profiling) (0.43.0)\n",
            "Requirement already satisfied: pytz>=2020.1 in /usr/local/lib/python3.10/dist-packages (from pandas!=1.4.0,<3,>1.1->ydata-profiling) (2024.2)\n",
            "Requirement already satisfied: tzdata>=2022.7 in /usr/local/lib/python3.10/dist-packages (from pandas!=1.4.0,<3,>1.1->ydata-profiling) (2024.2)\n",
            "Requirement already satisfied: joblib>=0.14.1 in /usr/local/lib/python3.10/dist-packages (from phik<0.13,>=0.11.1->ydata-profiling) (1.4.2)\n",
            "Requirement already satisfied: annotated-types>=0.6.0 in /usr/local/lib/python3.10/dist-packages (from pydantic>=2->ydata-profiling) (0.7.0)\n",
            "Requirement already satisfied: pydantic-core==2.23.4 in /usr/local/lib/python3.10/dist-packages (from pydantic>=2->ydata-profiling) (2.23.4)\n",
            "Requirement already satisfied: typing-extensions>=4.6.1 in /usr/local/lib/python3.10/dist-packages (from pydantic>=2->ydata-profiling) (4.12.2)\n",
            "Requirement already satisfied: charset-normalizer<4,>=2 in /usr/local/lib/python3.10/dist-packages (from requests<3,>=2.24.0->ydata-profiling) (3.4.0)\n",
            "Requirement already satisfied: idna<4,>=2.5 in /usr/local/lib/python3.10/dist-packages (from requests<3,>=2.24.0->ydata-profiling) (3.10)\n",
            "Requirement already satisfied: urllib3<3,>=1.21.1 in /usr/local/lib/python3.10/dist-packages (from requests<3,>=2.24.0->ydata-profiling) (2.2.3)\n",
            "Requirement already satisfied: certifi>=2017.4.17 in /usr/local/lib/python3.10/dist-packages (from requests<3,>=2.24.0->ydata-profiling) (2024.8.30)\n",
            "Requirement already satisfied: patsy>=0.5.6 in /usr/local/lib/python3.10/dist-packages (from statsmodels<1,>=0.13.2->ydata-profiling) (0.5.6)\n",
            "Requirement already satisfied: attrs>=19.3.0 in /usr/local/lib/python3.10/dist-packages (from visions<0.7.7,>=0.7.5->visions[type_image_path]<0.7.7,>=0.7.5->ydata-profiling) (24.2.0)\n",
            "Requirement already satisfied: networkx>=2.4 in /usr/local/lib/python3.10/dist-packages (from visions<0.7.7,>=0.7.5->visions[type_image_path]<0.7.7,>=0.7.5->ydata-profiling) (3.4.2)\n",
            "Requirement already satisfied: six in /usr/local/lib/python3.10/dist-packages (from patsy>=0.5.6->statsmodels<1,>=0.13.2->ydata-profiling) (1.16.0)\n",
            "Downloading ydata_profiling-4.12.0-py2.py3-none-any.whl (390 kB)\n",
            "\u001b[2K   \u001b[90m━━━━━━━━━━━━━━━━━━━━━━━━━━━━━━━━━━━━━━━━\u001b[0m \u001b[32m390.6/390.6 kB\u001b[0m \u001b[31m8.5 MB/s\u001b[0m eta \u001b[36m0:00:00\u001b[0m\n",
            "\u001b[?25hDownloading ImageHash-4.3.1-py2.py3-none-any.whl (296 kB)\n",
            "\u001b[2K   \u001b[90m━━━━━━━━━━━━━━━━━━━━━━━━━━━━━━━━━━━━━━━━\u001b[0m \u001b[32m296.5/296.5 kB\u001b[0m \u001b[31m16.1 MB/s\u001b[0m eta \u001b[36m0:00:00\u001b[0m\n",
            "\u001b[?25hDownloading dacite-1.8.1-py3-none-any.whl (14 kB)\n",
            "Downloading multimethod-1.12-py3-none-any.whl (10 kB)\n",
            "Downloading phik-0.12.4-cp310-cp310-manylinux_2_17_x86_64.manylinux2014_x86_64.whl (686 kB)\n",
            "\u001b[2K   \u001b[90m━━━━━━━━━━━━━━━━━━━━━━━━━━━━━━━━━━━━━━━━\u001b[0m \u001b[32m686.1/686.1 kB\u001b[0m \u001b[31m25.6 MB/s\u001b[0m eta \u001b[36m0:00:00\u001b[0m\n",
            "\u001b[?25hDownloading visions-0.7.6-py3-none-any.whl (104 kB)\n",
            "\u001b[2K   \u001b[90m━━━━━━━━━━━━━━━━━━━━━━━━━━━━━━━━━━━━━━━━\u001b[0m \u001b[32m104.8/104.8 kB\u001b[0m \u001b[31m6.7 MB/s\u001b[0m eta \u001b[36m0:00:00\u001b[0m\n",
            "\u001b[?25hDownloading pywavelets-1.7.0-cp310-cp310-manylinux_2_17_x86_64.manylinux2014_x86_64.whl (4.5 MB)\n",
            "\u001b[2K   \u001b[90m━━━━━━━━━━━━━━━━━━━━━━━━━━━━━━━━━━━━━━━━\u001b[0m \u001b[32m4.5/4.5 MB\u001b[0m \u001b[31m74.6 MB/s\u001b[0m eta \u001b[36m0:00:00\u001b[0m\n",
            "\u001b[?25hBuilding wheels for collected packages: htmlmin\n",
            "  Building wheel for htmlmin (setup.py) ... \u001b[?25l\u001b[?25hdone\n",
            "  Created wheel for htmlmin: filename=htmlmin-0.1.12-py3-none-any.whl size=27081 sha256=8760eb60ede19ab4e29e83fc0d853b8871815f3f036dce0be32cec957b0103dc\n",
            "  Stored in directory: /root/.cache/pip/wheels/dd/91/29/a79cecb328d01739e64017b6fb9a1ab9d8cb1853098ec5966d\n",
            "Successfully built htmlmin\n",
            "Installing collected packages: htmlmin, PyWavelets, multimethod, dacite, imagehash, visions, phik, ydata-profiling\n",
            "Successfully installed PyWavelets-1.7.0 dacite-1.8.1 htmlmin-0.1.12 imagehash-4.3.1 multimethod-1.12 phik-0.12.4 visions-0.7.6 ydata-profiling-4.12.0\n"
          ]
        }
      ],
      "source": [
        "!pip install fuzzywuzzy\n",
        "!pip install python-Levenshtein\n",
        "!pip install pandas scikit-learn fuzzywuzzy\n",
        "!pip install ydata-profiling"
      ]
    },
    {
      "cell_type": "code",
      "execution_count": null,
      "metadata": {
        "id": "RHfh1R12ES8X"
      },
      "outputs": [],
      "source": [
        "import re\n",
        "import matplotlib.pyplot as plt\n",
        "import seaborn as sns\n",
        "import pandas as pd\n",
        "from fuzzywuzzy import fuzz\n",
        "from collections import defaultdict\n",
        "from ydata_profiling import ProfileReport\n",
        "import numpy as np\n",
        "from sklearn.model_selection import train_test_split\n",
        "from sklearn.preprocessing import OneHotEncoder\n",
        "from sklearn.ensemble import RandomForestClassifier\n",
        "from sklearn.metrics import classification_report\n",
        "from sklearn.preprocessing import StandardScaler\n",
        "from sklearn.decomposition import PCA\n",
        "import matplotlib.pyplot as plt\n",
        "from sklearn.preprocessing import LabelEncoder\n",
        "from sklearn.model_selection import train_test_split\n",
        "from sklearn.linear_model import LinearRegression\n",
        "from sklearn.ensemble import RandomForestRegressor\n",
        "from sklearn.metrics import mean_squared_error, r2_score\n",
        "from sklearn.ensemble import RandomForestRegressor\n",
        "from xgboost import XGBRegressor\n",
        "from sklearn.linear_model import LogisticRegression\n",
        "from google.colab import files\n",
        "from sklearn.ensemble import RandomForestRegressor\n",
        "from sklearn.model_selection import train_test_split, GridSearchCV\n",
        "from sklearn.metrics import mean_squared_error, r2_score\n"
      ]
    },
    {
      "cell_type": "markdown",
      "metadata": {
        "id": "mSoyd6icu4pF"
      },
      "source": [
        "### Exploración del dataset\n"
      ]
    },
    {
      "cell_type": "markdown",
      "metadata": {
        "id": "6vwPuabIMLzI"
      },
      "source": [
        "#### Visualización de la data de entrenamiento y test"
      ]
    },
    {
      "cell_type": "code",
      "execution_count": null,
      "metadata": {
        "colab": {
          "base_uri": "https://localhost:8080/"
        },
        "id": "flDjfdc5ODxu",
        "outputId": "5edb53ad-a8af-4e76-aa85-af548b619819"
      },
      "outputs": [
        {
          "output_type": "stream",
          "name": "stdout",
          "text": [
            "shape of loaded dataframe (692500, 12)\n",
            "shape of loaded dataframe (296786, 11)\n"
          ]
        }
      ],
      "source": [
        "z = pd.read_csv(\"train.csv\")\n",
        "print (\"shape of loaded dataframe\", z.shape)\n",
        "\n",
        "p = pd.read_csv('test.csv', index_col=0)\n",
        "print (\"shape of loaded dataframe\", p.shape)"
      ]
    },
    {
      "cell_type": "code",
      "execution_count": null,
      "metadata": {
        "colab": {
          "base_uri": "https://localhost:8080/",
          "height": 313
        },
        "id": "CBwZ1KlpOLxW",
        "outputId": "6ad8f30e-2972-4be1-fa97-669f2702d189"
      },
      "outputs": [
        {
          "output_type": "execute_result",
          "data": {
            "text/plain": [
              "       ID  PERIODO         ESTU_PRGM_ACADEMICO ESTU_PRGM_DEPARTAMENTO  \\\n",
              "0  904256    20212                  ENFERMERIA                 BOGOTÁ   \n",
              "1  645256    20212                     DERECHO              ATLANTICO   \n",
              "2  308367    20203       MERCADEO Y PUBLICIDAD                 BOGOTÁ   \n",
              "3  470353    20195  ADMINISTRACION DE EMPRESAS              SANTANDER   \n",
              "4  989032    20212                  PSICOLOGIA              ANTIOQUIA   \n",
              "\n",
              "             ESTU_VALORMATRICULAUNIVERSIDAD ESTU_HORASSEMANATRABAJA  \\\n",
              "0  Entre 5.5 millones y menos de 7 millones       Menos de 10 horas   \n",
              "1  Entre 2.5 millones y menos de 4 millones                       0   \n",
              "2  Entre 2.5 millones y menos de 4 millones         Más de 30 horas   \n",
              "3  Entre 4 millones y menos de 5.5 millones                       0   \n",
              "4  Entre 2.5 millones y menos de 4 millones     Entre 21 y 30 horas   \n",
              "\n",
              "  FAMI_ESTRATOVIVIENDA FAMI_TIENEINTERNET                 FAMI_EDUCACIONPADRE  \\\n",
              "0            Estrato 3                 Si    Técnica o tecnológica incompleta   \n",
              "1            Estrato 3                 No      Técnica o tecnológica completa   \n",
              "2            Estrato 3                 Si  Secundaria (Bachillerato) completa   \n",
              "3            Estrato 4                 Si                             No sabe   \n",
              "4            Estrato 3                 Si                   Primaria completa   \n",
              "\n",
              "                  FAMI_EDUCACIONMADRE ESTU_PAGOMATRICULAPROPIO  \\\n",
              "0                           Postgrado                       No   \n",
              "1    Técnica o tecnológica incompleta                       No   \n",
              "2  Secundaria (Bachillerato) completa                       No   \n",
              "3  Secundaria (Bachillerato) completa                       No   \n",
              "4                   Primaria completa                       No   \n",
              "\n",
              "  RENDIMIENTO_GLOBAL  \n",
              "0         medio-alto  \n",
              "1               bajo  \n",
              "2               bajo  \n",
              "3               alto  \n",
              "4         medio-bajo  "
            ],
            "text/html": [
              "\n",
              "  <div id=\"df-69664b8d-d6a1-47fd-a822-95ea88001738\" class=\"colab-df-container\">\n",
              "    <div>\n",
              "<style scoped>\n",
              "    .dataframe tbody tr th:only-of-type {\n",
              "        vertical-align: middle;\n",
              "    }\n",
              "\n",
              "    .dataframe tbody tr th {\n",
              "        vertical-align: top;\n",
              "    }\n",
              "\n",
              "    .dataframe thead th {\n",
              "        text-align: right;\n",
              "    }\n",
              "</style>\n",
              "<table border=\"1\" class=\"dataframe\">\n",
              "  <thead>\n",
              "    <tr style=\"text-align: right;\">\n",
              "      <th></th>\n",
              "      <th>ID</th>\n",
              "      <th>PERIODO</th>\n",
              "      <th>ESTU_PRGM_ACADEMICO</th>\n",
              "      <th>ESTU_PRGM_DEPARTAMENTO</th>\n",
              "      <th>ESTU_VALORMATRICULAUNIVERSIDAD</th>\n",
              "      <th>ESTU_HORASSEMANATRABAJA</th>\n",
              "      <th>FAMI_ESTRATOVIVIENDA</th>\n",
              "      <th>FAMI_TIENEINTERNET</th>\n",
              "      <th>FAMI_EDUCACIONPADRE</th>\n",
              "      <th>FAMI_EDUCACIONMADRE</th>\n",
              "      <th>ESTU_PAGOMATRICULAPROPIO</th>\n",
              "      <th>RENDIMIENTO_GLOBAL</th>\n",
              "    </tr>\n",
              "  </thead>\n",
              "  <tbody>\n",
              "    <tr>\n",
              "      <th>0</th>\n",
              "      <td>904256</td>\n",
              "      <td>20212</td>\n",
              "      <td>ENFERMERIA</td>\n",
              "      <td>BOGOTÁ</td>\n",
              "      <td>Entre 5.5 millones y menos de 7 millones</td>\n",
              "      <td>Menos de 10 horas</td>\n",
              "      <td>Estrato 3</td>\n",
              "      <td>Si</td>\n",
              "      <td>Técnica o tecnológica incompleta</td>\n",
              "      <td>Postgrado</td>\n",
              "      <td>No</td>\n",
              "      <td>medio-alto</td>\n",
              "    </tr>\n",
              "    <tr>\n",
              "      <th>1</th>\n",
              "      <td>645256</td>\n",
              "      <td>20212</td>\n",
              "      <td>DERECHO</td>\n",
              "      <td>ATLANTICO</td>\n",
              "      <td>Entre 2.5 millones y menos de 4 millones</td>\n",
              "      <td>0</td>\n",
              "      <td>Estrato 3</td>\n",
              "      <td>No</td>\n",
              "      <td>Técnica o tecnológica completa</td>\n",
              "      <td>Técnica o tecnológica incompleta</td>\n",
              "      <td>No</td>\n",
              "      <td>bajo</td>\n",
              "    </tr>\n",
              "    <tr>\n",
              "      <th>2</th>\n",
              "      <td>308367</td>\n",
              "      <td>20203</td>\n",
              "      <td>MERCADEO Y PUBLICIDAD</td>\n",
              "      <td>BOGOTÁ</td>\n",
              "      <td>Entre 2.5 millones y menos de 4 millones</td>\n",
              "      <td>Más de 30 horas</td>\n",
              "      <td>Estrato 3</td>\n",
              "      <td>Si</td>\n",
              "      <td>Secundaria (Bachillerato) completa</td>\n",
              "      <td>Secundaria (Bachillerato) completa</td>\n",
              "      <td>No</td>\n",
              "      <td>bajo</td>\n",
              "    </tr>\n",
              "    <tr>\n",
              "      <th>3</th>\n",
              "      <td>470353</td>\n",
              "      <td>20195</td>\n",
              "      <td>ADMINISTRACION DE EMPRESAS</td>\n",
              "      <td>SANTANDER</td>\n",
              "      <td>Entre 4 millones y menos de 5.5 millones</td>\n",
              "      <td>0</td>\n",
              "      <td>Estrato 4</td>\n",
              "      <td>Si</td>\n",
              "      <td>No sabe</td>\n",
              "      <td>Secundaria (Bachillerato) completa</td>\n",
              "      <td>No</td>\n",
              "      <td>alto</td>\n",
              "    </tr>\n",
              "    <tr>\n",
              "      <th>4</th>\n",
              "      <td>989032</td>\n",
              "      <td>20212</td>\n",
              "      <td>PSICOLOGIA</td>\n",
              "      <td>ANTIOQUIA</td>\n",
              "      <td>Entre 2.5 millones y menos de 4 millones</td>\n",
              "      <td>Entre 21 y 30 horas</td>\n",
              "      <td>Estrato 3</td>\n",
              "      <td>Si</td>\n",
              "      <td>Primaria completa</td>\n",
              "      <td>Primaria completa</td>\n",
              "      <td>No</td>\n",
              "      <td>medio-bajo</td>\n",
              "    </tr>\n",
              "  </tbody>\n",
              "</table>\n",
              "</div>\n",
              "    <div class=\"colab-df-buttons\">\n",
              "\n",
              "  <div class=\"colab-df-container\">\n",
              "    <button class=\"colab-df-convert\" onclick=\"convertToInteractive('df-69664b8d-d6a1-47fd-a822-95ea88001738')\"\n",
              "            title=\"Convert this dataframe to an interactive table.\"\n",
              "            style=\"display:none;\">\n",
              "\n",
              "  <svg xmlns=\"http://www.w3.org/2000/svg\" height=\"24px\" viewBox=\"0 -960 960 960\">\n",
              "    <path d=\"M120-120v-720h720v720H120Zm60-500h600v-160H180v160Zm220 220h160v-160H400v160Zm0 220h160v-160H400v160ZM180-400h160v-160H180v160Zm440 0h160v-160H620v160ZM180-180h160v-160H180v160Zm440 0h160v-160H620v160Z\"/>\n",
              "  </svg>\n",
              "    </button>\n",
              "\n",
              "  <style>\n",
              "    .colab-df-container {\n",
              "      display:flex;\n",
              "      gap: 12px;\n",
              "    }\n",
              "\n",
              "    .colab-df-convert {\n",
              "      background-color: #E8F0FE;\n",
              "      border: none;\n",
              "      border-radius: 50%;\n",
              "      cursor: pointer;\n",
              "      display: none;\n",
              "      fill: #1967D2;\n",
              "      height: 32px;\n",
              "      padding: 0 0 0 0;\n",
              "      width: 32px;\n",
              "    }\n",
              "\n",
              "    .colab-df-convert:hover {\n",
              "      background-color: #E2EBFA;\n",
              "      box-shadow: 0px 1px 2px rgba(60, 64, 67, 0.3), 0px 1px 3px 1px rgba(60, 64, 67, 0.15);\n",
              "      fill: #174EA6;\n",
              "    }\n",
              "\n",
              "    .colab-df-buttons div {\n",
              "      margin-bottom: 4px;\n",
              "    }\n",
              "\n",
              "    [theme=dark] .colab-df-convert {\n",
              "      background-color: #3B4455;\n",
              "      fill: #D2E3FC;\n",
              "    }\n",
              "\n",
              "    [theme=dark] .colab-df-convert:hover {\n",
              "      background-color: #434B5C;\n",
              "      box-shadow: 0px 1px 3px 1px rgba(0, 0, 0, 0.15);\n",
              "      filter: drop-shadow(0px 1px 2px rgba(0, 0, 0, 0.3));\n",
              "      fill: #FFFFFF;\n",
              "    }\n",
              "  </style>\n",
              "\n",
              "    <script>\n",
              "      const buttonEl =\n",
              "        document.querySelector('#df-69664b8d-d6a1-47fd-a822-95ea88001738 button.colab-df-convert');\n",
              "      buttonEl.style.display =\n",
              "        google.colab.kernel.accessAllowed ? 'block' : 'none';\n",
              "\n",
              "      async function convertToInteractive(key) {\n",
              "        const element = document.querySelector('#df-69664b8d-d6a1-47fd-a822-95ea88001738');\n",
              "        const dataTable =\n",
              "          await google.colab.kernel.invokeFunction('convertToInteractive',\n",
              "                                                    [key], {});\n",
              "        if (!dataTable) return;\n",
              "\n",
              "        const docLinkHtml = 'Like what you see? Visit the ' +\n",
              "          '<a target=\"_blank\" href=https://colab.research.google.com/notebooks/data_table.ipynb>data table notebook</a>'\n",
              "          + ' to learn more about interactive tables.';\n",
              "        element.innerHTML = '';\n",
              "        dataTable['output_type'] = 'display_data';\n",
              "        await google.colab.output.renderOutput(dataTable, element);\n",
              "        const docLink = document.createElement('div');\n",
              "        docLink.innerHTML = docLinkHtml;\n",
              "        element.appendChild(docLink);\n",
              "      }\n",
              "    </script>\n",
              "  </div>\n",
              "\n",
              "\n",
              "<div id=\"df-628484ad-865a-4d6f-9973-d3749150fce2\">\n",
              "  <button class=\"colab-df-quickchart\" onclick=\"quickchart('df-628484ad-865a-4d6f-9973-d3749150fce2')\"\n",
              "            title=\"Suggest charts\"\n",
              "            style=\"display:none;\">\n",
              "\n",
              "<svg xmlns=\"http://www.w3.org/2000/svg\" height=\"24px\"viewBox=\"0 0 24 24\"\n",
              "     width=\"24px\">\n",
              "    <g>\n",
              "        <path d=\"M19 3H5c-1.1 0-2 .9-2 2v14c0 1.1.9 2 2 2h14c1.1 0 2-.9 2-2V5c0-1.1-.9-2-2-2zM9 17H7v-7h2v7zm4 0h-2V7h2v10zm4 0h-2v-4h2v4z\"/>\n",
              "    </g>\n",
              "</svg>\n",
              "  </button>\n",
              "\n",
              "<style>\n",
              "  .colab-df-quickchart {\n",
              "      --bg-color: #E8F0FE;\n",
              "      --fill-color: #1967D2;\n",
              "      --hover-bg-color: #E2EBFA;\n",
              "      --hover-fill-color: #174EA6;\n",
              "      --disabled-fill-color: #AAA;\n",
              "      --disabled-bg-color: #DDD;\n",
              "  }\n",
              "\n",
              "  [theme=dark] .colab-df-quickchart {\n",
              "      --bg-color: #3B4455;\n",
              "      --fill-color: #D2E3FC;\n",
              "      --hover-bg-color: #434B5C;\n",
              "      --hover-fill-color: #FFFFFF;\n",
              "      --disabled-bg-color: #3B4455;\n",
              "      --disabled-fill-color: #666;\n",
              "  }\n",
              "\n",
              "  .colab-df-quickchart {\n",
              "    background-color: var(--bg-color);\n",
              "    border: none;\n",
              "    border-radius: 50%;\n",
              "    cursor: pointer;\n",
              "    display: none;\n",
              "    fill: var(--fill-color);\n",
              "    height: 32px;\n",
              "    padding: 0;\n",
              "    width: 32px;\n",
              "  }\n",
              "\n",
              "  .colab-df-quickchart:hover {\n",
              "    background-color: var(--hover-bg-color);\n",
              "    box-shadow: 0 1px 2px rgba(60, 64, 67, 0.3), 0 1px 3px 1px rgba(60, 64, 67, 0.15);\n",
              "    fill: var(--button-hover-fill-color);\n",
              "  }\n",
              "\n",
              "  .colab-df-quickchart-complete:disabled,\n",
              "  .colab-df-quickchart-complete:disabled:hover {\n",
              "    background-color: var(--disabled-bg-color);\n",
              "    fill: var(--disabled-fill-color);\n",
              "    box-shadow: none;\n",
              "  }\n",
              "\n",
              "  .colab-df-spinner {\n",
              "    border: 2px solid var(--fill-color);\n",
              "    border-color: transparent;\n",
              "    border-bottom-color: var(--fill-color);\n",
              "    animation:\n",
              "      spin 1s steps(1) infinite;\n",
              "  }\n",
              "\n",
              "  @keyframes spin {\n",
              "    0% {\n",
              "      border-color: transparent;\n",
              "      border-bottom-color: var(--fill-color);\n",
              "      border-left-color: var(--fill-color);\n",
              "    }\n",
              "    20% {\n",
              "      border-color: transparent;\n",
              "      border-left-color: var(--fill-color);\n",
              "      border-top-color: var(--fill-color);\n",
              "    }\n",
              "    30% {\n",
              "      border-color: transparent;\n",
              "      border-left-color: var(--fill-color);\n",
              "      border-top-color: var(--fill-color);\n",
              "      border-right-color: var(--fill-color);\n",
              "    }\n",
              "    40% {\n",
              "      border-color: transparent;\n",
              "      border-right-color: var(--fill-color);\n",
              "      border-top-color: var(--fill-color);\n",
              "    }\n",
              "    60% {\n",
              "      border-color: transparent;\n",
              "      border-right-color: var(--fill-color);\n",
              "    }\n",
              "    80% {\n",
              "      border-color: transparent;\n",
              "      border-right-color: var(--fill-color);\n",
              "      border-bottom-color: var(--fill-color);\n",
              "    }\n",
              "    90% {\n",
              "      border-color: transparent;\n",
              "      border-bottom-color: var(--fill-color);\n",
              "    }\n",
              "  }\n",
              "</style>\n",
              "\n",
              "  <script>\n",
              "    async function quickchart(key) {\n",
              "      const quickchartButtonEl =\n",
              "        document.querySelector('#' + key + ' button');\n",
              "      quickchartButtonEl.disabled = true;  // To prevent multiple clicks.\n",
              "      quickchartButtonEl.classList.add('colab-df-spinner');\n",
              "      try {\n",
              "        const charts = await google.colab.kernel.invokeFunction(\n",
              "            'suggestCharts', [key], {});\n",
              "      } catch (error) {\n",
              "        console.error('Error during call to suggestCharts:', error);\n",
              "      }\n",
              "      quickchartButtonEl.classList.remove('colab-df-spinner');\n",
              "      quickchartButtonEl.classList.add('colab-df-quickchart-complete');\n",
              "    }\n",
              "    (() => {\n",
              "      let quickchartButtonEl =\n",
              "        document.querySelector('#df-628484ad-865a-4d6f-9973-d3749150fce2 button');\n",
              "      quickchartButtonEl.style.display =\n",
              "        google.colab.kernel.accessAllowed ? 'block' : 'none';\n",
              "    })();\n",
              "  </script>\n",
              "</div>\n",
              "\n",
              "    </div>\n",
              "  </div>\n"
            ],
            "application/vnd.google.colaboratory.intrinsic+json": {
              "type": "dataframe",
              "variable_name": "z"
            }
          },
          "metadata": {},
          "execution_count": 67
        }
      ],
      "source": [
        "z.head()"
      ]
    },
    {
      "cell_type": "code",
      "execution_count": null,
      "metadata": {
        "colab": {
          "base_uri": "https://localhost:8080/",
          "height": 347
        },
        "id": "2sw14Km2LfPj",
        "outputId": "299ea8dd-f96c-4631-de9b-57c4cab2df93"
      },
      "outputs": [
        {
          "output_type": "execute_result",
          "data": {
            "text/plain": [
              "       ID  PERIODO                     ESTU_PRGM_ACADEMICO  \\\n",
              "0  550236    20183                          TRABAJO SOCIAL   \n",
              "1   98545    20203  ADMINISTRACION COMERCIAL Y DE MERCADEO   \n",
              "2  499179    20212                  INGENIERIA MECATRONICA   \n",
              "3  782980    20195                      CONTADURIA PUBLICA   \n",
              "4  785185    20212              ADMINISTRACION DE EMPRESAS   \n",
              "\n",
              "  ESTU_PRGM_DEPARTAMENTO            ESTU_VALORMATRICULAUNIVERSIDAD  \\\n",
              "0                BOLIVAR                          Menos de 500 mil   \n",
              "1              ANTIOQUIA  Entre 2.5 millones y menos de 4 millones   \n",
              "2                 BOGOTÁ    Entre 1 millón y menos de 2.5 millones   \n",
              "3                  SUCRE    Entre 1 millón y menos de 2.5 millones   \n",
              "4              ATLANTICO  Entre 2.5 millones y menos de 4 millones   \n",
              "\n",
              "  ESTU_HORASSEMANATRABAJA FAMI_ESTRATOVIVIENDA FAMI_TIENEINTERNET  \\\n",
              "0       Menos de 10 horas            Estrato 3                 Si   \n",
              "1     Entre 21 y 30 horas            Estrato 2                 Si   \n",
              "2                       0            Estrato 3                 Si   \n",
              "3     Entre 21 y 30 horas            Estrato 1                 No   \n",
              "4     Entre 11 y 20 horas            Estrato 2                 Si   \n",
              "\n",
              "                    FAMI_EDUCACIONPADRE                 FAMI_EDUCACIONMADRE  \\\n",
              "0        Técnica o tecnológica completa                   Primaria completa   \n",
              "1    Secundaria (Bachillerato) completa      Técnica o tecnológica completa   \n",
              "2  Secundaria (Bachillerato) incompleta  Secundaria (Bachillerato) completa   \n",
              "3                   Primaria incompleta                 Primaria incompleta   \n",
              "4    Secundaria (Bachillerato) completa  Secundaria (Bachillerato) completa   \n",
              "\n",
              "  ESTU_PAGOMATRICULAPROPIO  \n",
              "0                       Si  \n",
              "1                       No  \n",
              "2                       No  \n",
              "3                       No  \n",
              "4                       No  "
            ],
            "text/html": [
              "\n",
              "  <div id=\"df-b195b00e-4a9c-42d8-bab3-1dd603995c7e\" class=\"colab-df-container\">\n",
              "    <div>\n",
              "<style scoped>\n",
              "    .dataframe tbody tr th:only-of-type {\n",
              "        vertical-align: middle;\n",
              "    }\n",
              "\n",
              "    .dataframe tbody tr th {\n",
              "        vertical-align: top;\n",
              "    }\n",
              "\n",
              "    .dataframe thead th {\n",
              "        text-align: right;\n",
              "    }\n",
              "</style>\n",
              "<table border=\"1\" class=\"dataframe\">\n",
              "  <thead>\n",
              "    <tr style=\"text-align: right;\">\n",
              "      <th></th>\n",
              "      <th>ID</th>\n",
              "      <th>PERIODO</th>\n",
              "      <th>ESTU_PRGM_ACADEMICO</th>\n",
              "      <th>ESTU_PRGM_DEPARTAMENTO</th>\n",
              "      <th>ESTU_VALORMATRICULAUNIVERSIDAD</th>\n",
              "      <th>ESTU_HORASSEMANATRABAJA</th>\n",
              "      <th>FAMI_ESTRATOVIVIENDA</th>\n",
              "      <th>FAMI_TIENEINTERNET</th>\n",
              "      <th>FAMI_EDUCACIONPADRE</th>\n",
              "      <th>FAMI_EDUCACIONMADRE</th>\n",
              "      <th>ESTU_PAGOMATRICULAPROPIO</th>\n",
              "    </tr>\n",
              "  </thead>\n",
              "  <tbody>\n",
              "    <tr>\n",
              "      <th>0</th>\n",
              "      <td>550236</td>\n",
              "      <td>20183</td>\n",
              "      <td>TRABAJO SOCIAL</td>\n",
              "      <td>BOLIVAR</td>\n",
              "      <td>Menos de 500 mil</td>\n",
              "      <td>Menos de 10 horas</td>\n",
              "      <td>Estrato 3</td>\n",
              "      <td>Si</td>\n",
              "      <td>Técnica o tecnológica completa</td>\n",
              "      <td>Primaria completa</td>\n",
              "      <td>Si</td>\n",
              "    </tr>\n",
              "    <tr>\n",
              "      <th>1</th>\n",
              "      <td>98545</td>\n",
              "      <td>20203</td>\n",
              "      <td>ADMINISTRACION COMERCIAL Y DE MERCADEO</td>\n",
              "      <td>ANTIOQUIA</td>\n",
              "      <td>Entre 2.5 millones y menos de 4 millones</td>\n",
              "      <td>Entre 21 y 30 horas</td>\n",
              "      <td>Estrato 2</td>\n",
              "      <td>Si</td>\n",
              "      <td>Secundaria (Bachillerato) completa</td>\n",
              "      <td>Técnica o tecnológica completa</td>\n",
              "      <td>No</td>\n",
              "    </tr>\n",
              "    <tr>\n",
              "      <th>2</th>\n",
              "      <td>499179</td>\n",
              "      <td>20212</td>\n",
              "      <td>INGENIERIA MECATRONICA</td>\n",
              "      <td>BOGOTÁ</td>\n",
              "      <td>Entre 1 millón y menos de 2.5 millones</td>\n",
              "      <td>0</td>\n",
              "      <td>Estrato 3</td>\n",
              "      <td>Si</td>\n",
              "      <td>Secundaria (Bachillerato) incompleta</td>\n",
              "      <td>Secundaria (Bachillerato) completa</td>\n",
              "      <td>No</td>\n",
              "    </tr>\n",
              "    <tr>\n",
              "      <th>3</th>\n",
              "      <td>782980</td>\n",
              "      <td>20195</td>\n",
              "      <td>CONTADURIA PUBLICA</td>\n",
              "      <td>SUCRE</td>\n",
              "      <td>Entre 1 millón y menos de 2.5 millones</td>\n",
              "      <td>Entre 21 y 30 horas</td>\n",
              "      <td>Estrato 1</td>\n",
              "      <td>No</td>\n",
              "      <td>Primaria incompleta</td>\n",
              "      <td>Primaria incompleta</td>\n",
              "      <td>No</td>\n",
              "    </tr>\n",
              "    <tr>\n",
              "      <th>4</th>\n",
              "      <td>785185</td>\n",
              "      <td>20212</td>\n",
              "      <td>ADMINISTRACION DE EMPRESAS</td>\n",
              "      <td>ATLANTICO</td>\n",
              "      <td>Entre 2.5 millones y menos de 4 millones</td>\n",
              "      <td>Entre 11 y 20 horas</td>\n",
              "      <td>Estrato 2</td>\n",
              "      <td>Si</td>\n",
              "      <td>Secundaria (Bachillerato) completa</td>\n",
              "      <td>Secundaria (Bachillerato) completa</td>\n",
              "      <td>No</td>\n",
              "    </tr>\n",
              "  </tbody>\n",
              "</table>\n",
              "</div>\n",
              "    <div class=\"colab-df-buttons\">\n",
              "\n",
              "  <div class=\"colab-df-container\">\n",
              "    <button class=\"colab-df-convert\" onclick=\"convertToInteractive('df-b195b00e-4a9c-42d8-bab3-1dd603995c7e')\"\n",
              "            title=\"Convert this dataframe to an interactive table.\"\n",
              "            style=\"display:none;\">\n",
              "\n",
              "  <svg xmlns=\"http://www.w3.org/2000/svg\" height=\"24px\" viewBox=\"0 -960 960 960\">\n",
              "    <path d=\"M120-120v-720h720v720H120Zm60-500h600v-160H180v160Zm220 220h160v-160H400v160Zm0 220h160v-160H400v160ZM180-400h160v-160H180v160Zm440 0h160v-160H620v160ZM180-180h160v-160H180v160Zm440 0h160v-160H620v160Z\"/>\n",
              "  </svg>\n",
              "    </button>\n",
              "\n",
              "  <style>\n",
              "    .colab-df-container {\n",
              "      display:flex;\n",
              "      gap: 12px;\n",
              "    }\n",
              "\n",
              "    .colab-df-convert {\n",
              "      background-color: #E8F0FE;\n",
              "      border: none;\n",
              "      border-radius: 50%;\n",
              "      cursor: pointer;\n",
              "      display: none;\n",
              "      fill: #1967D2;\n",
              "      height: 32px;\n",
              "      padding: 0 0 0 0;\n",
              "      width: 32px;\n",
              "    }\n",
              "\n",
              "    .colab-df-convert:hover {\n",
              "      background-color: #E2EBFA;\n",
              "      box-shadow: 0px 1px 2px rgba(60, 64, 67, 0.3), 0px 1px 3px 1px rgba(60, 64, 67, 0.15);\n",
              "      fill: #174EA6;\n",
              "    }\n",
              "\n",
              "    .colab-df-buttons div {\n",
              "      margin-bottom: 4px;\n",
              "    }\n",
              "\n",
              "    [theme=dark] .colab-df-convert {\n",
              "      background-color: #3B4455;\n",
              "      fill: #D2E3FC;\n",
              "    }\n",
              "\n",
              "    [theme=dark] .colab-df-convert:hover {\n",
              "      background-color: #434B5C;\n",
              "      box-shadow: 0px 1px 3px 1px rgba(0, 0, 0, 0.15);\n",
              "      filter: drop-shadow(0px 1px 2px rgba(0, 0, 0, 0.3));\n",
              "      fill: #FFFFFF;\n",
              "    }\n",
              "  </style>\n",
              "\n",
              "    <script>\n",
              "      const buttonEl =\n",
              "        document.querySelector('#df-b195b00e-4a9c-42d8-bab3-1dd603995c7e button.colab-df-convert');\n",
              "      buttonEl.style.display =\n",
              "        google.colab.kernel.accessAllowed ? 'block' : 'none';\n",
              "\n",
              "      async function convertToInteractive(key) {\n",
              "        const element = document.querySelector('#df-b195b00e-4a9c-42d8-bab3-1dd603995c7e');\n",
              "        const dataTable =\n",
              "          await google.colab.kernel.invokeFunction('convertToInteractive',\n",
              "                                                    [key], {});\n",
              "        if (!dataTable) return;\n",
              "\n",
              "        const docLinkHtml = 'Like what you see? Visit the ' +\n",
              "          '<a target=\"_blank\" href=https://colab.research.google.com/notebooks/data_table.ipynb>data table notebook</a>'\n",
              "          + ' to learn more about interactive tables.';\n",
              "        element.innerHTML = '';\n",
              "        dataTable['output_type'] = 'display_data';\n",
              "        await google.colab.output.renderOutput(dataTable, element);\n",
              "        const docLink = document.createElement('div');\n",
              "        docLink.innerHTML = docLinkHtml;\n",
              "        element.appendChild(docLink);\n",
              "      }\n",
              "    </script>\n",
              "  </div>\n",
              "\n",
              "\n",
              "<div id=\"df-932cc712-86b3-4627-9c11-93395c3be20a\">\n",
              "  <button class=\"colab-df-quickchart\" onclick=\"quickchart('df-932cc712-86b3-4627-9c11-93395c3be20a')\"\n",
              "            title=\"Suggest charts\"\n",
              "            style=\"display:none;\">\n",
              "\n",
              "<svg xmlns=\"http://www.w3.org/2000/svg\" height=\"24px\"viewBox=\"0 0 24 24\"\n",
              "     width=\"24px\">\n",
              "    <g>\n",
              "        <path d=\"M19 3H5c-1.1 0-2 .9-2 2v14c0 1.1.9 2 2 2h14c1.1 0 2-.9 2-2V5c0-1.1-.9-2-2-2zM9 17H7v-7h2v7zm4 0h-2V7h2v10zm4 0h-2v-4h2v4z\"/>\n",
              "    </g>\n",
              "</svg>\n",
              "  </button>\n",
              "\n",
              "<style>\n",
              "  .colab-df-quickchart {\n",
              "      --bg-color: #E8F0FE;\n",
              "      --fill-color: #1967D2;\n",
              "      --hover-bg-color: #E2EBFA;\n",
              "      --hover-fill-color: #174EA6;\n",
              "      --disabled-fill-color: #AAA;\n",
              "      --disabled-bg-color: #DDD;\n",
              "  }\n",
              "\n",
              "  [theme=dark] .colab-df-quickchart {\n",
              "      --bg-color: #3B4455;\n",
              "      --fill-color: #D2E3FC;\n",
              "      --hover-bg-color: #434B5C;\n",
              "      --hover-fill-color: #FFFFFF;\n",
              "      --disabled-bg-color: #3B4455;\n",
              "      --disabled-fill-color: #666;\n",
              "  }\n",
              "\n",
              "  .colab-df-quickchart {\n",
              "    background-color: var(--bg-color);\n",
              "    border: none;\n",
              "    border-radius: 50%;\n",
              "    cursor: pointer;\n",
              "    display: none;\n",
              "    fill: var(--fill-color);\n",
              "    height: 32px;\n",
              "    padding: 0;\n",
              "    width: 32px;\n",
              "  }\n",
              "\n",
              "  .colab-df-quickchart:hover {\n",
              "    background-color: var(--hover-bg-color);\n",
              "    box-shadow: 0 1px 2px rgba(60, 64, 67, 0.3), 0 1px 3px 1px rgba(60, 64, 67, 0.15);\n",
              "    fill: var(--button-hover-fill-color);\n",
              "  }\n",
              "\n",
              "  .colab-df-quickchart-complete:disabled,\n",
              "  .colab-df-quickchart-complete:disabled:hover {\n",
              "    background-color: var(--disabled-bg-color);\n",
              "    fill: var(--disabled-fill-color);\n",
              "    box-shadow: none;\n",
              "  }\n",
              "\n",
              "  .colab-df-spinner {\n",
              "    border: 2px solid var(--fill-color);\n",
              "    border-color: transparent;\n",
              "    border-bottom-color: var(--fill-color);\n",
              "    animation:\n",
              "      spin 1s steps(1) infinite;\n",
              "  }\n",
              "\n",
              "  @keyframes spin {\n",
              "    0% {\n",
              "      border-color: transparent;\n",
              "      border-bottom-color: var(--fill-color);\n",
              "      border-left-color: var(--fill-color);\n",
              "    }\n",
              "    20% {\n",
              "      border-color: transparent;\n",
              "      border-left-color: var(--fill-color);\n",
              "      border-top-color: var(--fill-color);\n",
              "    }\n",
              "    30% {\n",
              "      border-color: transparent;\n",
              "      border-left-color: var(--fill-color);\n",
              "      border-top-color: var(--fill-color);\n",
              "      border-right-color: var(--fill-color);\n",
              "    }\n",
              "    40% {\n",
              "      border-color: transparent;\n",
              "      border-right-color: var(--fill-color);\n",
              "      border-top-color: var(--fill-color);\n",
              "    }\n",
              "    60% {\n",
              "      border-color: transparent;\n",
              "      border-right-color: var(--fill-color);\n",
              "    }\n",
              "    80% {\n",
              "      border-color: transparent;\n",
              "      border-right-color: var(--fill-color);\n",
              "      border-bottom-color: var(--fill-color);\n",
              "    }\n",
              "    90% {\n",
              "      border-color: transparent;\n",
              "      border-bottom-color: var(--fill-color);\n",
              "    }\n",
              "  }\n",
              "</style>\n",
              "\n",
              "  <script>\n",
              "    async function quickchart(key) {\n",
              "      const quickchartButtonEl =\n",
              "        document.querySelector('#' + key + ' button');\n",
              "      quickchartButtonEl.disabled = true;  // To prevent multiple clicks.\n",
              "      quickchartButtonEl.classList.add('colab-df-spinner');\n",
              "      try {\n",
              "        const charts = await google.colab.kernel.invokeFunction(\n",
              "            'suggestCharts', [key], {});\n",
              "      } catch (error) {\n",
              "        console.error('Error during call to suggestCharts:', error);\n",
              "      }\n",
              "      quickchartButtonEl.classList.remove('colab-df-spinner');\n",
              "      quickchartButtonEl.classList.add('colab-df-quickchart-complete');\n",
              "    }\n",
              "    (() => {\n",
              "      let quickchartButtonEl =\n",
              "        document.querySelector('#df-932cc712-86b3-4627-9c11-93395c3be20a button');\n",
              "      quickchartButtonEl.style.display =\n",
              "        google.colab.kernel.accessAllowed ? 'block' : 'none';\n",
              "    })();\n",
              "  </script>\n",
              "</div>\n",
              "\n",
              "    </div>\n",
              "  </div>\n"
            ],
            "application/vnd.google.colaboratory.intrinsic+json": {
              "type": "dataframe",
              "variable_name": "p"
            }
          },
          "metadata": {},
          "execution_count": 68
        }
      ],
      "source": [
        "p.head()"
      ]
    },
    {
      "cell_type": "markdown",
      "metadata": {
        "id": "L5JJU1-YPM3W"
      },
      "source": [
        "## Limpieza de datos\n"
      ]
    },
    {
      "cell_type": "markdown",
      "metadata": {
        "id": "nBxO-P9PhLMt"
      },
      "source": [
        "### Eliminación de columnas inaportantes"
      ]
    },
    {
      "cell_type": "code",
      "execution_count": null,
      "metadata": {
        "id": "o5ubywn9dh0Z"
      },
      "outputs": [],
      "source": [
        "columnas = [\n",
        "    'ID', 'PERIODO', 'ESTU_PRGM_ACADEMICO', 'ESTU_PRGM_DEPARTAMENTO',\n",
        "    'ESTU_VALORMATRICULAUNIVERSIDAD', 'ESTU_HORASSEMANATRABAJA',\n",
        "    'FAMI_ESTRATOVIVIENDA', 'FAMI_TIENEINTERNET', 'FAMI_EDUCACIONPADRE',\n",
        "    'FAMI_EDUCACIONMADRE', 'ESTU_PAGOMATRICULAPROPIO', 'RENDIMIENTO_GLOBAL'\n",
        "]"
      ]
    },
    {
      "cell_type": "code",
      "execution_count": null,
      "metadata": {
        "colab": {
          "base_uri": "https://localhost:8080/"
        },
        "id": "PzMCPtk7Thg_",
        "outputId": "f9783ab8-43d6-47ac-b4aa-75803a2dfcb9"
      },
      "outputs": [
        {
          "output_type": "stream",
          "name": "stdout",
          "text": [
            "|    | Columna                        |   Valores_Unicos |\n",
            "|---:|:-------------------------------|-----------------:|\n",
            "|  0 | ID                             |           692500 |\n",
            "|  1 | PERIODO                        |                9 |\n",
            "|  2 | ESTU_PRGM_ACADEMICO            |              948 |\n",
            "|  3 | ESTU_PRGM_DEPARTAMENTO         |               31 |\n",
            "|  4 | ESTU_VALORMATRICULAUNIVERSIDAD |                8 |\n",
            "|  5 | ESTU_HORASSEMANATRABAJA        |                5 |\n",
            "|  6 | FAMI_ESTRATOVIVIENDA           |                7 |\n",
            "|  7 | FAMI_TIENEINTERNET             |                2 |\n",
            "|  8 | FAMI_EDUCACIONPADRE            |               12 |\n",
            "|  9 | FAMI_EDUCACIONMADRE            |               12 |\n",
            "| 10 | ESTU_PAGOMATRICULAPROPIO       |                2 |\n",
            "| 11 | RENDIMIENTO_GLOBAL             |                4 |\n"
          ]
        }
      ],
      "source": [
        "tabla_valores = pd.DataFrame({\n",
        "    'Columna': columnas,\n",
        "    'Valores_Unicos': [z[col].nunique() for col in columnas],\n",
        "})\n",
        "\n",
        "tabla_valores.reset_index(drop=True, inplace=True)\n",
        "\n",
        "markdown_tabla = tabla_valores.to_markdown()\n",
        "\n",
        "print(markdown_tabla)"
      ]
    },
    {
      "cell_type": "code",
      "execution_count": null,
      "metadata": {
        "id": "fr5a6_rSYr6B"
      },
      "outputs": [],
      "source": []
    },
    {
      "cell_type": "code",
      "execution_count": null,
      "metadata": {
        "colab": {
          "base_uri": "https://localhost:8080/"
        },
        "id": "Xg0ym2ohTnFm",
        "outputId": "132287be-c61b-4ae8-a813-0e88fb6d4b39"
      },
      "outputs": [
        {
          "output_type": "stream",
          "name": "stdout",
          "text": [
            "|    | Columna                        |   Valores_NA |   Porcentaje |\n",
            "|---:|:-------------------------------|-------------:|-------------:|\n",
            "|  0 | ID                             |            0 |     0        |\n",
            "|  1 | PERIODO                        |            0 |     0        |\n",
            "|  2 | ESTU_PRGM_ACADEMICO            |            0 |     0        |\n",
            "|  3 | ESTU_PRGM_DEPARTAMENTO         |            0 |     0        |\n",
            "|  4 | ESTU_VALORMATRICULAUNIVERSIDAD |         6287 |     0.90787  |\n",
            "|  5 | ESTU_HORASSEMANATRABAJA        |        30857 |     4.45588  |\n",
            "|  6 | FAMI_ESTRATOVIVIENDA           |        32137 |     4.64072  |\n",
            "|  7 | FAMI_TIENEINTERNET             |        26629 |     3.84534  |\n",
            "|  8 | FAMI_EDUCACIONPADRE            |        23178 |     3.347    |\n",
            "|  9 | FAMI_EDUCACIONMADRE            |        23664 |     3.41718  |\n",
            "| 10 | ESTU_PAGOMATRICULAPROPIO       |         6498 |     0.938339 |\n",
            "| 11 | RENDIMIENTO_GLOBAL             |            0 |     0        |\n"
          ]
        }
      ],
      "source": [
        "tabla_nulls = pd.DataFrame({\n",
        "    'Columna': columnas,\n",
        "    'Valores_NA': z[columnas].isna().sum().values\n",
        "})\n",
        "\n",
        "\n",
        "total_datos = 692500\n",
        "\n",
        "\n",
        "tabla_nulls['Porcentaje'] = (tabla_nulls['Valores_NA'] / total_datos) * 100\n",
        "\n",
        "\n",
        "markdown_tabla = tabla_nulls.to_markdown()\n",
        "\n",
        "print(markdown_tabla)"
      ]
    },
    {
      "cell_type": "code",
      "execution_count": null,
      "metadata": {
        "id": "wDl0J__dTy4e"
      },
      "outputs": [],
      "source": [
        "columna_a_excluir = 'RENDIMIENTO_GLOBAL'\n",
        "columnas_filtradas = [col for col in columnas if col != columna_a_excluir]"
      ]
    },
    {
      "cell_type": "code",
      "execution_count": null,
      "metadata": {
        "colab": {
          "base_uri": "https://localhost:8080/"
        },
        "id": "imZm-YvKTtO6",
        "outputId": "d6290d4a-2d42-4bae-fe28-eb4caf4810a8"
      },
      "outputs": [
        {
          "output_type": "stream",
          "name": "stdout",
          "text": [
            "|    | Columna                        |   Valores_Unicos |\n",
            "|---:|:-------------------------------|-----------------:|\n",
            "|  0 | ID                             |           296786 |\n",
            "|  1 | PERIODO                        |                9 |\n",
            "|  2 | ESTU_PRGM_ACADEMICO            |              919 |\n",
            "|  3 | ESTU_PRGM_DEPARTAMENTO         |               31 |\n",
            "|  4 | ESTU_VALORMATRICULAUNIVERSIDAD |                8 |\n",
            "|  5 | ESTU_HORASSEMANATRABAJA        |                5 |\n",
            "|  6 | FAMI_ESTRATOVIVIENDA           |                7 |\n",
            "|  7 | FAMI_TIENEINTERNET             |                2 |\n",
            "|  8 | FAMI_EDUCACIONPADRE            |               12 |\n",
            "|  9 | FAMI_EDUCACIONMADRE            |               12 |\n",
            "| 10 | ESTU_PAGOMATRICULAPROPIO       |                2 |\n"
          ]
        }
      ],
      "source": [
        "tabla_valores = pd.DataFrame({\n",
        "    'Columna': columnas_filtradas,\n",
        "    'Valores_Unicos': [p[col].nunique() for col in columnas_filtradas],\n",
        "})\n",
        "\n",
        "tabla_valores.reset_index(drop=True, inplace=True)\n",
        "\n",
        "markdown_tabla = tabla_valores.to_markdown()\n",
        "\n",
        "print(markdown_tabla)"
      ]
    },
    {
      "cell_type": "code",
      "execution_count": null,
      "metadata": {
        "id": "jzMZrtLPXeIz"
      },
      "outputs": [],
      "source": [
        "p['ESTU_PRGM_ACADEMICO'] = p['ESTU_PRGM_ACADEMICO'].apply(lambda x: np.nan if isinstance(x, str) and x.strip() == \"\" else x)"
      ]
    },
    {
      "cell_type": "code",
      "execution_count": null,
      "metadata": {
        "colab": {
          "base_uri": "https://localhost:8080/"
        },
        "id": "6tDL8QnFdbW5",
        "outputId": "55924d3e-aa0e-414f-fb37-f175272fad3c"
      },
      "outputs": [
        {
          "output_type": "stream",
          "name": "stdout",
          "text": [
            "|    | Columna                        |   Valores_NA_p |   Porcentaje_NA_p |\n",
            "|---:|:-------------------------------|---------------:|------------------:|\n",
            "|  0 | ID                             |              0 |          0        |\n",
            "|  1 | PERIODO                        |              0 |          0        |\n",
            "|  2 | ESTU_PRGM_ACADEMICO            |              0 |          0        |\n",
            "|  3 | ESTU_PRGM_DEPARTAMENTO         |              0 |          0        |\n",
            "|  4 | ESTU_VALORMATRICULAUNIVERSIDAD |           2723 |          0.917496 |\n",
            "|  5 | ESTU_HORASSEMANATRABAJA        |          13379 |          4.50796  |\n",
            "|  6 | FAMI_ESTRATOVIVIENDA           |          13795 |          4.64813  |\n",
            "|  7 | FAMI_TIENEINTERNET             |          11539 |          3.88799  |\n",
            "|  8 | FAMI_EDUCACIONPADRE            |           9993 |          3.36707  |\n",
            "|  9 | FAMI_EDUCACIONMADRE            |          10223 |          3.44457  |\n",
            "| 10 | ESTU_PAGOMATRICULAPROPIO       |           2807 |          0.945799 |\n"
          ]
        }
      ],
      "source": [
        "tabla_nulls = pd.DataFrame({\n",
        "    'Columna': columnas_filtradas,\n",
        "    'Valores_NA_p': p[columnas_filtradas].isna().sum().values\n",
        "})\n",
        "\n",
        "total_datos = 296786\n",
        "\n",
        "tabla_nulls['Porcentaje_NA_p'] = (tabla_nulls['Valores_NA_p'] / total_datos) * 100\n",
        "\n",
        "# Convert the table to markdown\n",
        "markdown_tabla = tabla_nulls.to_markdown()\n",
        "\n",
        "# Print the markdown table\n",
        "print(markdown_tabla)\n"
      ]
    },
    {
      "cell_type": "markdown",
      "metadata": {
        "id": "QRNIlxogeSYZ"
      },
      "source": [
        " Se eliminan las columnas que se consideran inaportantes para predecir la variable de interes sin importar el valor de la correlación."
      ]
    },
    {
      "cell_type": "code",
      "execution_count": null,
      "metadata": {
        "id": "fSxqxXAregwl"
      },
      "outputs": [],
      "source": [
        "z = z.drop(columns=['ID'])\n",
        "z = z.drop(columns=['ESTU_PAGOMATRICULAPROPIO'])\n",
        "z = z.drop(columns=['ESTU_VALORMATRICULAUNIVERSIDAD'])\n",
        "z = z.drop(columns=['PERIODO'])\n",
        "\n",
        "p = p.drop(columns=['ID'])\n",
        "p = p.drop(columns=['ESTU_PAGOMATRICULAPROPIO'])\n",
        "p = p.drop(columns=['ESTU_VALORMATRICULAUNIVERSIDAD'])\n",
        "p = p.drop(columns=['PERIODO'])"
      ]
    },
    {
      "cell_type": "markdown",
      "metadata": {
        "id": "BR0LnMJ6IYiF"
      },
      "source": [
        "#### Elección de columnas a eliminar basado en valores Nan"
      ]
    },
    {
      "cell_type": "markdown",
      "metadata": {
        "id": "WNA9muJ2Prto"
      },
      "source": [
        "Eliminar columnas con un porcentaje de valores **NaN superior al 70%** en un dataset es una práctica común en la limpieza de datos, ya que indica que la mayoría de los datos en esa columna están ausentes. Esto puede comprometer la calidad y la integridad del análisis posterior, ya que un alto porcentaje de datos faltantes sugiere que la columna puede no ser representativa o útil para los objetivos del estudio."
      ]
    },
    {
      "cell_type": "code",
      "execution_count": null,
      "metadata": {
        "colab": {
          "base_uri": "https://localhost:8080/"
        },
        "id": "nPGPMOT6LdkW",
        "outputId": "9c471d24-7739-4698-d657-53171b484dc3"
      },
      "outputs": [
        {
          "output_type": "stream",
          "name": "stdout",
          "text": [
            "Columnas con más del 70% de valores nulos:\n",
            "Series([], dtype: float64)\n"
          ]
        }
      ],
      "source": [
        "null_percentage = z.isnull().mean() * 100\n",
        "\n",
        "high_null_columns = null_percentage[null_percentage > 70]\n",
        "\n",
        "print(\"Columnas con más del 70% de valores nulos:\")\n",
        "print(high_null_columns)\n"
      ]
    },
    {
      "cell_type": "code",
      "execution_count": null,
      "metadata": {
        "colab": {
          "base_uri": "https://localhost:8080/"
        },
        "id": "3_HThWftVqqb",
        "outputId": "48f965a6-9d08-4350-ad42-84eb17ca5b11"
      },
      "outputs": [
        {
          "output_type": "stream",
          "name": "stdout",
          "text": [
            "Columnas con más del 70% de valores nulos:\n",
            "Series([], dtype: float64)\n"
          ]
        }
      ],
      "source": [
        "null_percentage = p.isnull().mean() * 100\n",
        "\n",
        "high_null_columns = null_percentage[null_percentage > 70]\n",
        "\n",
        "print(\"Columnas con más del 70% de valores nulos:\")\n",
        "print(high_null_columns)"
      ]
    },
    {
      "cell_type": "markdown",
      "metadata": {
        "id": "s6V7grsvJ24x"
      },
      "source": [
        "No hay porcentajes demasiado significativos en las columnas con valores null para ser eliminadas por este criterio"
      ]
    },
    {
      "cell_type": "markdown",
      "metadata": {
        "id": "wiKnJyB0ZM4u"
      },
      "source": [
        "### Conversión variables categoricas a numericas y reemplazo de datos y Nan"
      ]
    },
    {
      "cell_type": "markdown",
      "metadata": {
        "id": "n7G9_vHDHHqi"
      },
      "source": [
        "#### **Variables Categoricas a numericas**"
      ]
    },
    {
      "cell_type": "markdown",
      "metadata": {
        "id": "B1ofBBJpypXA"
      },
      "source": [
        "Una **variable categórica** es aquella que representa diferentes categorías o grupos. Dentro de las variables categóricas, existen dos tipos principales:\n",
        "\n",
        "- Variable categórica nominal:\n",
        "  Representa categorías sin un orden intrínseco. No hay una jerarquía entre las categorías.\n",
        "  Ejemplos: Colores (rojo, azul, verde), ciudades (Bogotá, Lima, Madrid).\n",
        "\n",
        "- Variable categórica ordinal:\n",
        "  Representa categorías que sí tienen un orden o jerarquía entre ellas, pero las diferencias entre los niveles no son cuantificables.\n",
        "  Ejemplos: Niveles de satisfacción (bajo, medio, alto), grados académicos (secundaria, licenciatura, maestría).\n",
        "\n",
        "\n",
        "Para convertir **variables categóricas** en valores numéricos durante la limpieza y estandarización de datos, es importante considerar su tipo. **Las variables categóricas nominales,** al no tener un orden intrínseco, se transforman típicamente mediante **One-Hot Encoding**, que crea columnas binarias para cada categoría, o **Label Encoding** en casos binarios. Las **variables categóricas ordinales**, por su parte, siguen un orden lógico, por lo que se transforman usando Label Encoding, asignando un número que respete esa jerarquía. Esta distinción asegura que las transformaciones numéricas representen adecuadamente la naturaleza de las categorías en el análisis posterior.\n",
        "\n",
        "**Dentro del dataset en variables categoricas ordinales que quedan tenemos**\n",
        "- FAMI_EDUCACIONPADRE, FAMI_EDUCACIONPADRE, RENDIMIENTO_GLOBAL,  FAMI_ESTRATOVIVIENDA, ESTU_HORASSEMANATRABAJA\n",
        "\n",
        "**Dentro del dataset en variables categoricas nominales que quedan tenemos**\n",
        "- FAMI_TIENEINTERNET, ESTU_PRGM_ACADEMICO , ESTU_PRGM_DEPARTAMENTO"
      ]
    },
    {
      "cell_type": "markdown",
      "metadata": {
        "id": "B7jt_ZteHTcT"
      },
      "source": [
        "#### **Valores Faltantes en Datasets de Entrenamiento y Prueba**"
      ]
    },
    {
      "cell_type": "markdown",
      "metadata": {
        "id": "EszctkqiEq6M"
      },
      "source": [
        "Es fundamental entender que el procesamiento de valores NaN debe abordarse de manera diferente en los datasets de entrenamiento y prueba, ya que cada uno tiene propósitos y restricciones distintas.\n",
        "\n",
        "En el contexto de un dataset de prueba, no es posible eliminar filas basadas en la presencia de valores NaN, ya que esto alteraría el tamaño del dataset y podría llevar a la pérdida de información esencial para las predicciones o evaluaciones posteriores. Al ser un conjunto de prueba, mantener la integridad y el tamaño original es fundamental para obtener resultados consistentes y comparables con otros modelos o evaluaciones.\n",
        "\n",
        "**Dataset de Entrenamiento**\n",
        "En el dataset de entrenamiento, se optó por eliminar las filas que contenían valores NaN, ya que:\n",
        "\n",
        "- Esta práctica es aceptable durante la fase de entrenamiento\n",
        "- No compromete la integridad del modelo\n",
        "- Permite trabajar con datos completos y limpios\n",
        "\n",
        "**Dataset de Prueba**\n",
        "Para el dataset de prueba, el enfoque debe ser más conservador:\n",
        "\n",
        "Restricciones Importantes:\n",
        "\n",
        "- No se pueden eliminar filas con valores NaN\n",
        "- Es crucial mantener el tamaño original del dataset\n",
        "- Se debe preservar toda la información para evaluaciones posteriores\n",
        "\n",
        "\n",
        "**Solución Adoptada:**\n",
        "Se implementó la Imputación Basada en Distribución de Probabilidades porque:\n",
        "\n",
        "- Preserva la distribución original de las categorías\n",
        "- Evita sesgos que podrían surgir al usar métodos simples (moda, mediana)\n",
        "- Mantiene la diversidad de los datos\n",
        "- Asegura una distribución más realista de los valores\n",
        "\n",
        "\n",
        "Beneficios del Método: **texto en negrita**\n",
        "\n",
        "- Evita la sobre-representación de categorías específicas\n",
        "- Mantiene la integridad estadística del dataset\n",
        "- Permite obtener resultados más precisos y confiables en la evaluación del modelo\n",
        "\n"
      ]
    },
    {
      "cell_type": "markdown",
      "metadata": {
        "id": "VaLVP45gzFjr"
      },
      "source": [
        "##### Funciones"
      ]
    },
    {
      "cell_type": "code",
      "execution_count": null,
      "metadata": {
        "id": "wHtGH1qTzX5o"
      },
      "outputs": [],
      "source": [
        "def replace_nans_equilibrado(df, column_name):\n",
        "    \"\"\"\n",
        "    Reemplaza los valores NaN de una columna con otros valores de la misma columna\n",
        "    de manera proporcional a su frecuencia.\n",
        "\n",
        "    :param df: DataFrame que contiene la columna.\n",
        "    :param column_name: Nombre de la columna donde se reemplazarán los NaN.\n",
        "    :return: DataFrame con los NaN reemplazados de manera equilibrada.\n",
        "    \"\"\"\n",
        "    nan_count_before = df[column_name].isna().sum()\n",
        "    values, counts = np.unique(df[column_name].dropna(), return_counts=True)\n",
        "\n",
        "    if len(values) == 0:\n",
        "        return df\n",
        "\n",
        "    probabilities = counts / counts.sum()\n",
        "\n",
        "    df[column_name] = df[column_name].apply(\n",
        "        lambda x: np.random.choice(values, p=probabilities) if pd.isna(x) else x\n",
        "    )\n",
        "\n",
        "    nan_count_after = df[column_name].isna().sum()\n",
        "    replaced_percentage = ((nan_count_before - nan_count_after) / len(df)) * 100\n",
        "\n",
        "    print(f\"Porcentaje de NaN reemplazado en '{column_name}': {replaced_percentage:.2f}%\")\n",
        "\n",
        "    return df"
      ]
    },
    {
      "cell_type": "code",
      "execution_count": null,
      "metadata": {
        "id": "dMJDdWj92Rrn"
      },
      "outputs": [],
      "source": [
        "def contar_nulos(df, column_name):\n",
        "    null_count = df[column_name].isnull().sum()\n",
        "    print(f'Total de valores nulos en {column_name}: {null_count}')\n"
      ]
    },
    {
      "cell_type": "code",
      "execution_count": null,
      "metadata": {
        "id": "kjGawIm-4T1s"
      },
      "outputs": [],
      "source": [
        "def label_encode_column(df, column_name):\n",
        "    \"\"\"\n",
        "    Aplica Label Encoding a una columna de un DataFrame, transformando los valores categóricos en numéricos.\n",
        "\n",
        "    :param df: DataFrame que contiene la columna.\n",
        "    :param column_name: Nombre de la columna a codificar.\n",
        "    :return: DataFrame con la columna codificada y el codificador.\n",
        "    \"\"\"\n",
        "\n",
        "    le = LabelEncoder()\n",
        "\n",
        "    df[column_name] = le.fit_transform(df[column_name])\n",
        "\n",
        "    mapping_df = pd.DataFrame({\n",
        "        'Categoría Original': le.classes_,\n",
        "        'Valor Numérico': le.transform(le.classes_)\n",
        "    })\n",
        "\n",
        "    print(f'Mapeo de categorías en la columna {column_name}:')\n",
        "    print(mapping_df.to_markdown(index=False))\n",
        "\n",
        "\n",
        "    return df, mapping_df\n"
      ]
    },
    {
      "cell_type": "code",
      "execution_count": null,
      "metadata": {
        "id": "ZWO0g-4z7E4k"
      },
      "outputs": [],
      "source": [
        "def one_hot_encode_column(df, column_name):\n",
        "    \"\"\"\n",
        "    Aplica One-Hot Encoding a una columna categórica de un DataFrame y devuelve el DataFrame transformado.\n",
        "\n",
        "    :param df: DataFrame que contiene la columna.\n",
        "    :param column_name: Nombre de la columna a codificar.\n",
        "    :return: DataFrame con la columna codificada usando One-Hot Encoding.\n",
        "    \"\"\"\n",
        "    one_hot_encoded_df = pd.get_dummies(df, columns=[column_name], prefix=column_name, drop_first=True)\n",
        "\n",
        "    one_hot_encoded_df = one_hot_encoded_df.astype(int)\n",
        "\n",
        "    return one_hot_encoded_df"
      ]
    },
    {
      "cell_type": "code",
      "execution_count": null,
      "metadata": {
        "id": "SGg3tXF99nOl"
      },
      "outputs": [],
      "source": [
        "def eliminar_filas_nan(df, columna):\n",
        "    \"\"\"\n",
        "    Elimina filas del DataFrame si la columna especificada tiene NaN,\n",
        "    siempre y cuando el porcentaje de NaN en esa columna no supere el 5%.\n",
        "\n",
        "    Args:\n",
        "        df (pd.DataFrame): El DataFrame del que se eliminarán las filas.\n",
        "        columna (str): El nombre de la columna a evaluar.\n",
        "\n",
        "    Returns:\n",
        "        pd.DataFrame: El DataFrame resultante después de eliminar las filas.\n",
        "    \"\"\"\n",
        "\n",
        "    porcentaje_nan = df[columna].isna().mean() * 100\n",
        "\n",
        "    if porcentaje_nan <= 5:\n",
        "        df = df.dropna(subset=[columna])\n",
        "        print(f\"Se eliminaron filas de la columna '{columna}' con NaN. Porcentaje de NaN: {porcentaje_nan:.2f}%\")\n",
        "    else:\n",
        "        print(f\"No se eliminan filas. El porcentaje de NaN en la columna '{columna}' es {porcentaje_nan:.2f}%, mayor al 5%.\")\n",
        "\n",
        "    return df"
      ]
    },
    {
      "cell_type": "code",
      "execution_count": null,
      "metadata": {
        "id": "OpVtPJ1YFGrr"
      },
      "outputs": [],
      "source": [
        "def encontrar_palabras_extranas(df, columna):\n",
        "    patron = r'[^\\w\\s]| {2,}'\n",
        "    palabras_extranas = set()\n",
        "\n",
        "    for texto in df[columna]:\n",
        "        if pd.notna(texto):\n",
        "            palabras_extranas.update([palabra for palabra in texto.split() if re.search(patron, palabra)])\n",
        "\n",
        "    return list(palabras_extranas)\n"
      ]
    },
    {
      "cell_type": "code",
      "execution_count": null,
      "metadata": {
        "id": "Kj7BlsSEB4qn"
      },
      "outputs": [],
      "source": [
        "def limpiar_columna(df, columna):\n",
        "    reemplazo_vocales = {\n",
        "        'á': 'a',\n",
        "        'é': 'e',\n",
        "        'í': 'i',\n",
        "        'ó': 'o',\n",
        "        'ú': 'u',\n",
        "        'ü': 'u',\n",
        "        'ñ': 'n',\n",
        "        '&': 'y'\n",
        "    }\n",
        "\n",
        "\n",
        "    df[columna] = df[columna].str.lower()\n",
        "\n",
        "    df[columna] = df[columna].replace(reemplazo_vocales, regex=True)\n",
        "    df[columna] = df[columna].replace(r\"[,&\\-:+'*\\\"\\.()]+\", ' ', regex=True)\n",
        "    df[columna] = df[columna].replace(r'\\s+', ' ', regex=True).str.strip()\n",
        "\n",
        "    return df"
      ]
    },
    {
      "cell_type": "code",
      "execution_count": null,
      "metadata": {
        "id": "GofzmiFNGWvk"
      },
      "outputs": [],
      "source": [
        "\n",
        "def agrupar_por_primera_palabra(valores, presicion):\n",
        "    agrupados = defaultdict(list)\n",
        "\n",
        "    for valor in valores:\n",
        "        primera_palabra = valor.split()[0] if valor else ''\n",
        "        clave_encontrada = False\n",
        "\n",
        "        for clave in list(agrupados.keys()):\n",
        "            if fuzz.ratio(primera_palabra, clave) > presicion:  # Umbral de similitud\n",
        "                agrupados[clave].append(valor)\n",
        "                clave_encontrada = True\n",
        "                break\n",
        "\n",
        "        if not clave_encontrada:\n",
        "            agrupados[primera_palabra].append(valor)\n",
        "\n",
        "    return dict(agrupados)\n"
      ]
    },
    {
      "cell_type": "markdown",
      "metadata": {
        "id": "MRaR11uf4mVc"
      },
      "source": [
        "#### Categoricas Ordinales"
      ]
    },
    {
      "cell_type": "markdown",
      "metadata": {
        "id": "Ox2GUHk5ve40"
      },
      "source": [
        "##### Familia educación padre"
      ]
    },
    {
      "cell_type": "code",
      "execution_count": null,
      "metadata": {
        "id": "xg_aIpPsRc-9"
      },
      "outputs": [],
      "source": [
        "z = limpiar_columna(z, 'FAMI_EDUCACIONPADRE')\n",
        "p = limpiar_columna(p, 'FAMI_EDUCACIONPADRE')"
      ]
    },
    {
      "cell_type": "code",
      "execution_count": null,
      "metadata": {
        "colab": {
          "base_uri": "https://localhost:8080/"
        },
        "id": "P8IlAPahv_Y1",
        "outputId": "6d650137-11c8-429c-accd-22209bd155c5"
      },
      "outputs": [
        {
          "output_type": "stream",
          "name": "stdout",
          "text": [
            "Total de valores nulos en FAMI_EDUCACIONPADRE: 23178\n",
            "Total de valores nulos en FAMI_EDUCACIONPADRE: 9993\n"
          ]
        }
      ],
      "source": [
        "contar_nulos(z,'FAMI_EDUCACIONPADRE')\n",
        "contar_nulos(p,'FAMI_EDUCACIONPADRE')\n"
      ]
    },
    {
      "cell_type": "code",
      "execution_count": null,
      "metadata": {
        "colab": {
          "base_uri": "https://localhost:8080/"
        },
        "id": "q-GaSbGrzCGX",
        "outputId": "402e344f-1c38-44d9-ad94-03d10c0fe5a6"
      },
      "outputs": [
        {
          "output_type": "stream",
          "name": "stdout",
          "text": [
            "Se eliminaron filas de la columna 'FAMI_EDUCACIONPADRE' con NaN. Porcentaje de NaN: 3.35%\n",
            "Porcentaje de NaN reemplazado en 'FAMI_EDUCACIONPADRE': 3.37%\n",
            "0\n",
            "0\n"
          ]
        }
      ],
      "source": [
        "z = eliminar_filas_nan(z, 'FAMI_EDUCACIONPADRE')\n",
        "p = replace_nans_equilibrado(p, 'FAMI_EDUCACIONPADRE')\n",
        "print(z['FAMI_EDUCACIONPADRE'].isnull().sum())\n",
        "print(p['FAMI_EDUCACIONPADRE'].isnull().sum())"
      ]
    },
    {
      "cell_type": "code",
      "execution_count": null,
      "metadata": {
        "colab": {
          "base_uri": "https://localhost:8080/"
        },
        "id": "VdGRaF2J1Jip",
        "outputId": "0e17119a-139c-42d5-d162-23bcb68fa7d7"
      },
      "outputs": [
        {
          "output_type": "stream",
          "name": "stdout",
          "text": [
            "Mapeo de categorías en la columna FAMI_EDUCACIONPADRE:\n",
            "| Categoría Original                 |   Valor Numérico |\n",
            "|:-----------------------------------|-----------------:|\n",
            "| educacion profesional completa     |                0 |\n",
            "| educacion profesional incompleta   |                1 |\n",
            "| ninguno                            |                2 |\n",
            "| no aplica                          |                3 |\n",
            "| no sabe                            |                4 |\n",
            "| postgrado                          |                5 |\n",
            "| primaria completa                  |                6 |\n",
            "| primaria incompleta                |                7 |\n",
            "| secundaria bachillerato completa   |                8 |\n",
            "| secundaria bachillerato incompleta |                9 |\n",
            "| tecnica o tecnologica completa     |               10 |\n",
            "| tecnica o tecnologica incompleta   |               11 |\n",
            " \n",
            "encoder educación padre\n",
            "Mapeo de categorías en la columna FAMI_EDUCACIONPADRE:\n",
            "| Categoría Original                 |   Valor Numérico |\n",
            "|:-----------------------------------|-----------------:|\n",
            "| educacion profesional completa     |                0 |\n",
            "| educacion profesional incompleta   |                1 |\n",
            "| ninguno                            |                2 |\n",
            "| no aplica                          |                3 |\n",
            "| no sabe                            |                4 |\n",
            "| postgrado                          |                5 |\n",
            "| primaria completa                  |                6 |\n",
            "| primaria incompleta                |                7 |\n",
            "| secundaria bachillerato completa   |                8 |\n",
            "| secundaria bachillerato incompleta |                9 |\n",
            "| tecnica o tecnologica completa     |               10 |\n",
            "| tecnica o tecnologica incompleta   |               11 |\n"
          ]
        }
      ],
      "source": [
        "z, encoder_fami_educacionpadre= label_encode_column(z, 'FAMI_EDUCACIONPADRE' )\n",
        "print(\" \")\n",
        "print(\"encoder educación padre\")\n",
        "p, encoder_fami_educacionpadre= label_encode_column(p, 'FAMI_EDUCACIONPADRE' )"
      ]
    },
    {
      "cell_type": "markdown",
      "metadata": {
        "id": "FMnGfF-G2hZz"
      },
      "source": [
        "##### Familia educación madre"
      ]
    },
    {
      "cell_type": "code",
      "execution_count": null,
      "metadata": {
        "id": "Z3R6RQ2QTWmN"
      },
      "outputs": [],
      "source": [
        "z = limpiar_columna(z, 'FAMI_EDUCACIONMADRE')\n",
        "p = limpiar_columna(p, 'FAMI_EDUCACIONMADRE')"
      ]
    },
    {
      "cell_type": "code",
      "execution_count": null,
      "metadata": {
        "colab": {
          "base_uri": "https://localhost:8080/"
        },
        "id": "prmBeJIb2kzT",
        "outputId": "fcb3a994-e56f-4bda-9941-bc659c0fa86b"
      },
      "outputs": [
        {
          "output_type": "stream",
          "name": "stdout",
          "text": [
            "Total de valores nulos en FAMI_EDUCACIONMADRE: 1681\n",
            "Total de valores nulos en FAMI_EDUCACIONMADRE: 10223\n"
          ]
        }
      ],
      "source": [
        "contar_nulos(z,'FAMI_EDUCACIONMADRE')\n",
        "contar_nulos(p,'FAMI_EDUCACIONMADRE')\n"
      ]
    },
    {
      "cell_type": "code",
      "execution_count": null,
      "metadata": {
        "colab": {
          "base_uri": "https://localhost:8080/"
        },
        "id": "hmcEK0Sl3gc4",
        "outputId": "acba1ee2-23c4-47e8-a6ec-1006af92c180"
      },
      "outputs": [
        {
          "output_type": "stream",
          "name": "stdout",
          "text": [
            "Se eliminaron filas de la columna 'FAMI_EDUCACIONMADRE' con NaN. Porcentaje de NaN: 0.25%\n",
            "Porcentaje de NaN reemplazado en 'FAMI_EDUCACIONMADRE': 3.44%\n",
            "0\n",
            "0\n"
          ]
        }
      ],
      "source": [
        "z = eliminar_filas_nan(z, 'FAMI_EDUCACIONMADRE')\n",
        "p = replace_nans_equilibrado(p, 'FAMI_EDUCACIONMADRE')\n",
        "\n",
        "print(z['FAMI_EDUCACIONMADRE'].isnull().sum())\n",
        "print(p['FAMI_EDUCACIONMADRE'].isnull().sum())"
      ]
    },
    {
      "cell_type": "code",
      "execution_count": null,
      "metadata": {
        "colab": {
          "base_uri": "https://localhost:8080/"
        },
        "id": "fJGszln11Q51",
        "outputId": "e767e40e-d249-4050-9b98-07ff457134d1"
      },
      "outputs": [
        {
          "output_type": "stream",
          "name": "stdout",
          "text": [
            "Mapeo de categorías en la columna FAMI_EDUCACIONMADRE:\n",
            "| Categoría Original                 |   Valor Numérico |\n",
            "|:-----------------------------------|-----------------:|\n",
            "| educacion profesional completa     |                0 |\n",
            "| educacion profesional incompleta   |                1 |\n",
            "| ninguno                            |                2 |\n",
            "| no aplica                          |                3 |\n",
            "| no sabe                            |                4 |\n",
            "| postgrado                          |                5 |\n",
            "| primaria completa                  |                6 |\n",
            "| primaria incompleta                |                7 |\n",
            "| secundaria bachillerato completa   |                8 |\n",
            "| secundaria bachillerato incompleta |                9 |\n",
            "| tecnica o tecnologica completa     |               10 |\n",
            "| tecnica o tecnologica incompleta   |               11 |\n",
            " \n",
            "Encoder test\n",
            "Mapeo de categorías en la columna FAMI_EDUCACIONMADRE:\n",
            "| Categoría Original                 |   Valor Numérico |\n",
            "|:-----------------------------------|-----------------:|\n",
            "| educacion profesional completa     |                0 |\n",
            "| educacion profesional incompleta   |                1 |\n",
            "| ninguno                            |                2 |\n",
            "| no aplica                          |                3 |\n",
            "| no sabe                            |                4 |\n",
            "| postgrado                          |                5 |\n",
            "| primaria completa                  |                6 |\n",
            "| primaria incompleta                |                7 |\n",
            "| secundaria bachillerato completa   |                8 |\n",
            "| secundaria bachillerato incompleta |                9 |\n",
            "| tecnica o tecnologica completa     |               10 |\n",
            "| tecnica o tecnologica incompleta   |               11 |\n"
          ]
        }
      ],
      "source": [
        "z, encoder_fami_educacionpadre= label_encode_column(z, 'FAMI_EDUCACIONMADRE' )\n",
        "print(\" \")\n",
        "print(\"Encoder test\")\n",
        "p, encoder_fami_educacionpadre= label_encode_column(p, 'FAMI_EDUCACIONMADRE' )"
      ]
    },
    {
      "cell_type": "markdown",
      "metadata": {
        "id": "KuNs-wIY7tWz"
      },
      "source": [
        "##### Rendimiento global"
      ]
    },
    {
      "cell_type": "code",
      "execution_count": null,
      "metadata": {
        "id": "f3Y9X9l6T9ZW"
      },
      "outputs": [],
      "source": [
        "z = limpiar_columna(z, 'RENDIMIENTO_GLOBAL')\n",
        "## el dataset de test no tiene esta variable"
      ]
    },
    {
      "cell_type": "code",
      "execution_count": null,
      "metadata": {
        "colab": {
          "base_uri": "https://localhost:8080/"
        },
        "id": "vgUNyZ3-poo4",
        "outputId": "34a42e61-a90d-4a8a-8e32-e79f2078cdf6"
      },
      "outputs": [
        {
          "output_type": "stream",
          "name": "stdout",
          "text": [
            "Mapeo de categorías en la columna RENDIMIENTO_GLOBAL:\n",
            "| Categoría Original   |   Valor Numérico |\n",
            "|:---------------------|-----------------:|\n",
            "| alto                 |                0 |\n",
            "| bajo                 |                1 |\n",
            "| medio alto           |                2 |\n",
            "| medio bajo           |                3 |\n"
          ]
        }
      ],
      "source": [
        "z, encoder_rendi_global= label_encode_column(z, 'RENDIMIENTO_GLOBAL' )"
      ]
    },
    {
      "cell_type": "markdown",
      "metadata": {
        "id": "WTBaKpBA8Vo-"
      },
      "source": [
        "##### Familia estrato vivienda"
      ]
    },
    {
      "cell_type": "code",
      "execution_count": null,
      "metadata": {
        "id": "l945mssOUM5N"
      },
      "outputs": [],
      "source": [
        "z = limpiar_columna(z, 'FAMI_ESTRATOVIVIENDA')\n",
        "p = limpiar_columna(p, 'FAMI_ESTRATOVIVIENDA')"
      ]
    },
    {
      "cell_type": "code",
      "execution_count": null,
      "metadata": {
        "colab": {
          "base_uri": "https://localhost:8080/"
        },
        "id": "aqVWf8mW8Y7d",
        "outputId": "203f2e15-2a80-4db5-bab7-7e7930ec1b9d"
      },
      "outputs": [
        {
          "output_type": "stream",
          "name": "stdout",
          "text": [
            "Total de valores nulos en FAMI_ESTRATOVIVIENDA: 9917\n",
            "Total de valores nulos en FAMI_ESTRATOVIVIENDA: 13795\n"
          ]
        }
      ],
      "source": [
        "contar_nulos(z,'FAMI_ESTRATOVIVIENDA')\n",
        "contar_nulos(p,'FAMI_ESTRATOVIVIENDA')\n"
      ]
    },
    {
      "cell_type": "code",
      "execution_count": null,
      "metadata": {
        "colab": {
          "base_uri": "https://localhost:8080/"
        },
        "id": "OI8iVjZ_8s42",
        "outputId": "9480c3d6-e797-4322-f232-8cea88cf2389"
      },
      "outputs": [
        {
          "output_type": "stream",
          "name": "stdout",
          "text": [
            "Se eliminaron filas de la columna 'FAMI_ESTRATOVIVIENDA' con NaN. Porcentaje de NaN: 1.49%\n",
            "Porcentaje de NaN reemplazado en 'FAMI_ESTRATOVIVIENDA': 4.65%\n",
            "0\n",
            "0\n"
          ]
        }
      ],
      "source": [
        "z = eliminar_filas_nan(z, 'FAMI_ESTRATOVIVIENDA')\n",
        "p = replace_nans_equilibrado(p, 'FAMI_ESTRATOVIVIENDA')\n",
        "print(z['FAMI_ESTRATOVIVIENDA'].isnull().sum())\n",
        "print(p['FAMI_ESTRATOVIVIENDA'].isnull().sum())"
      ]
    },
    {
      "cell_type": "code",
      "execution_count": null,
      "metadata": {
        "colab": {
          "base_uri": "https://localhost:8080/"
        },
        "id": "NUAu1p4A87CP",
        "outputId": "a7092f62-0e39-40a9-ab81-7d46b87db971"
      },
      "outputs": [
        {
          "output_type": "stream",
          "name": "stdout",
          "text": [
            "Mapeo de categorías en la columna FAMI_ESTRATOVIVIENDA:\n",
            "| Categoría Original   |   Valor Numérico |\n",
            "|:---------------------|-----------------:|\n",
            "| estrato 1            |                0 |\n",
            "| estrato 2            |                1 |\n",
            "| estrato 3            |                2 |\n",
            "| estrato 4            |                3 |\n",
            "| estrato 5            |                4 |\n",
            "| estrato 6            |                5 |\n",
            "| sin estrato          |                6 |\n",
            " \n",
            "encoder para test\n",
            "Mapeo de categorías en la columna FAMI_ESTRATOVIVIENDA:\n",
            "| Categoría Original   |   Valor Numérico |\n",
            "|:---------------------|-----------------:|\n",
            "| estrato 1            |                0 |\n",
            "| estrato 2            |                1 |\n",
            "| estrato 3            |                2 |\n",
            "| estrato 4            |                3 |\n",
            "| estrato 5            |                4 |\n",
            "| estrato 6            |                5 |\n",
            "| sin estrato          |                6 |\n"
          ]
        }
      ],
      "source": [
        "z, encoder_fami_estactovivienda= label_encode_column(z, 'FAMI_ESTRATOVIVIENDA' )\n",
        "\n",
        "print(\" \")\n",
        "print(\"encoder para test\")\n",
        "p, encoder_fami_estactovivienda= label_encode_column(p, 'FAMI_ESTRATOVIVIENDA' )"
      ]
    },
    {
      "cell_type": "markdown",
      "metadata": {
        "id": "o-dGHBIm9Ci5"
      },
      "source": [
        "##### Horas semanales trabajadas"
      ]
    },
    {
      "cell_type": "code",
      "execution_count": null,
      "metadata": {
        "id": "cSVUMyoVUw29"
      },
      "outputs": [],
      "source": [
        "z = limpiar_columna(z, 'ESTU_HORASSEMANATRABAJA')\n",
        "p = limpiar_columna(p, 'ESTU_HORASSEMANATRABAJA')"
      ]
    },
    {
      "cell_type": "code",
      "execution_count": null,
      "metadata": {
        "colab": {
          "base_uri": "https://localhost:8080/"
        },
        "id": "MQIGxiFD9HDr",
        "outputId": "75ed18a3-a456-4d10-d48d-5c5831cdde60"
      },
      "outputs": [
        {
          "output_type": "stream",
          "name": "stdout",
          "text": [
            "Total de valores nulos en ESTU_HORASSEMANATRABAJA: 6549\n",
            "Total de valores nulos en ESTU_HORASSEMANATRABAJA: 13379\n"
          ]
        }
      ],
      "source": [
        "contar_nulos(z,'ESTU_HORASSEMANATRABAJA')\n",
        "contar_nulos(p,'ESTU_HORASSEMANATRABAJA')"
      ]
    },
    {
      "cell_type": "code",
      "execution_count": null,
      "metadata": {
        "colab": {
          "base_uri": "https://localhost:8080/"
        },
        "id": "-XkjMapSz5wH",
        "outputId": "9294c248-3f5a-4f8f-f525-f0cfe9b3301c"
      },
      "outputs": [
        {
          "output_type": "stream",
          "name": "stdout",
          "text": [
            "Se eliminaron filas de la columna 'ESTU_HORASSEMANATRABAJA' con NaN. Porcentaje de NaN: 1.00%\n",
            "Porcentaje de NaN reemplazado en 'ESTU_HORASSEMANATRABAJA': 4.51%\n",
            "0\n",
            "0\n"
          ]
        }
      ],
      "source": [
        "z = eliminar_filas_nan(z, 'ESTU_HORASSEMANATRABAJA')\n",
        "p = replace_nans_equilibrado(p, 'ESTU_HORASSEMANATRABAJA')\n",
        "print(z['ESTU_HORASSEMANATRABAJA'].isnull().sum())\n",
        "print(p['ESTU_HORASSEMANATRABAJA'].isnull().sum())"
      ]
    },
    {
      "cell_type": "code",
      "execution_count": null,
      "metadata": {
        "id": "ZYCpUoQy1XHt"
      },
      "outputs": [],
      "source": [
        "cmap = {\n",
        "    'mas de 30 horas': 35,               # Suponiendo un promedio de 35 horas\n",
        "    '0': 0,\n",
        "    'entre 11 y 20 horas': 15.5,         # Promedio de 11 a 20 horas\n",
        "    'entre 21 y 30 horas': 25.5,         # Promedio de 21 a 30 horas\n",
        "    'menos de 10 horas': 5,              # Suponiendo un promedio de menos de 10 horas\n",
        "}\n",
        "\n",
        "\n",
        "z.ESTU_HORASSEMANATRABAJA = np.r_[[cmap[i] for i in z.ESTU_HORASSEMANATRABAJA]]\n",
        "p.ESTU_HORASSEMANATRABAJA = np.r_[[cmap[i] for i in p.ESTU_HORASSEMANATRABAJA]]\n"
      ]
    },
    {
      "cell_type": "markdown",
      "metadata": {
        "id": "4SQVjjqA5VPB"
      },
      "source": [
        "#### Categoricas Nominales"
      ]
    },
    {
      "cell_type": "markdown",
      "metadata": {
        "id": "dIposE-H94XM"
      },
      "source": [
        "##### Departamento estudiante"
      ]
    },
    {
      "cell_type": "code",
      "execution_count": null,
      "metadata": {
        "id": "mzHWsIbIVrH0"
      },
      "outputs": [],
      "source": [
        "z = limpiar_columna(z, 'ESTU_PRGM_DEPARTAMENTO')\n",
        "p = limpiar_columna(p, 'ESTU_PRGM_DEPARTAMENTO')"
      ]
    },
    {
      "cell_type": "code",
      "execution_count": null,
      "metadata": {
        "id": "vUw9zfISBFAI"
      },
      "outputs": [],
      "source": [
        "# Eliminar temporalmente las columnas 'FAMI_TIENEINTERNET' y 'RENDIMIENTO_GLOBAL'\n",
        "# Para poder aplicar one hot encoder\n",
        "z_dropped = z.drop(columns=['FAMI_TIENEINTERNET','ESTU_PRGM_ACADEMICO'])\n",
        "p_dropped = p.drop(columns=['FAMI_TIENEINTERNET','ESTU_PRGM_ACADEMICO'])\n",
        "\n",
        "z_encoded = one_hot_encode_column(z_dropped, 'ESTU_PRGM_DEPARTAMENTO')\n",
        "p_encoded = one_hot_encode_column(p_dropped, 'ESTU_PRGM_DEPARTAMENTO')\n",
        "\n",
        "z_encoded['FAMI_TIENEINTERNET'] = z['FAMI_TIENEINTERNET']\n",
        "z_encoded['ESTU_PRGM_ACADEMICO'] = z['ESTU_PRGM_ACADEMICO']\n",
        "\n",
        "p_encoded['FAMI_TIENEINTERNET'] = p['FAMI_TIENEINTERNET']\n",
        "p_encoded['ESTU_PRGM_ACADEMICO'] = p['ESTU_PRGM_ACADEMICO']\n",
        "\n",
        "z = z_encoded\n",
        "p = p_encoded"
      ]
    },
    {
      "cell_type": "markdown",
      "metadata": {
        "id": "iio-beQr-8gt"
      },
      "source": [
        "##### Programa Academico"
      ]
    },
    {
      "cell_type": "markdown",
      "metadata": {
        "id": "OndNjMQsEdVB"
      },
      "source": [
        "Al ser esta la columna con más datos únicos posiblemente tenga muchisimos errores orgotograficos que duplican valores que no deberían\n",
        "\n",
        "Ejemplo:\n",
        "\n",
        "quimicafarmaceutica, química farmacéutica, química farmaceutica, quimica farmacéutica\n",
        "\n",
        "Que realmente son el mismo valor pero a causa de las tildes aparecen como cuatro únicos, por ellos procedemos a normalizar los datos de la columna eliminando tildes, diarisis, minúsculas, caracteres especiales como la ñ, comas, guiones, puntos, dos puntos, dobles espacios, comillas simples o dobles, etc."
      ]
    },
    {
      "cell_type": "code",
      "execution_count": null,
      "metadata": {
        "id": "b5ob4pjrNXC3"
      },
      "outputs": [],
      "source": [
        "z = limpiar_columna(z, 'ESTU_PRGM_ACADEMICO')\n",
        "p = limpiar_columna(p, 'ESTU_PRGM_ACADEMICO')"
      ]
    },
    {
      "cell_type": "code",
      "execution_count": null,
      "metadata": {
        "colab": {
          "base_uri": "https://localhost:8080/"
        },
        "id": "vQ17AOzkEviG",
        "outputId": "2185e01f-b66c-47fc-a01c-15e98c08c143"
      },
      "outputs": [
        {
          "output_type": "stream",
          "name": "stdout",
          "text": [
            "Palabras con caracteres extraños o múltiples espacios: ['gastronom¿a', 'gesti¿n', 'filosof¿a', '¿nfasis', 'administraci¿n', 'f¿sica', 'educaci¿n', 'dise¿¿o', 'el¿ctrica', 'dise¿o', 'comunicaci¿¿n', 'p¿blica', 'gr¿¿fica', 'esc¿nicas', 'comunicaci¿n', 'm¿sica', 'matem¿ticas', 'qu¿mica', 'log¿stica', 'geolog¿a', 'ingenier¿a', '3°', 'econom¿a', 'art¿stica', 'ingl¿s', 'pedagog¿a', 'recreaci¿n', 'b¿sica', 'farmac¿utica']\n",
            "Palabras con caracteres extraños o múltiples espacios: ['gastronom¿a', 'gesti¿n', '¿nfasis', 'administraci¿n', 'educaci¿n', 'dise¿¿o', 'el¿ctrica', 'dise¿o', 'comunicaci¿¿n', 'p¿blica', 'gr¿¿fica', 'comunicaci¿n', 'm¿sica', 'qu¿mica', 'log¿stica', 'geolog¿a', 'ingenier¿a', '3°', 'econom¿a', 'art¿stica', 'ingl¿s', 'pedagog¿a', 'b¿sica', 'farmac¿utica']\n"
          ]
        }
      ],
      "source": [
        "palabras_extranas = encontrar_palabras_extranas(z, 'ESTU_PRGM_ACADEMICO')\n",
        "palabras_extranas_p = encontrar_palabras_extranas(p, 'ESTU_PRGM_ACADEMICO')\n",
        "print(\"Palabras con caracteres extraños o múltiples espacios:\", palabras_extranas)\n",
        "print(\"Palabras con caracteres extraños o múltiples espacios:\", palabras_extranas_p)"
      ]
    },
    {
      "cell_type": "code",
      "execution_count": null,
      "metadata": {
        "id": "ocnEMWB0FBz2"
      },
      "outputs": [],
      "source": [
        "\n",
        "correcciones_z = {\n",
        "    'b¿sica': 'basica',\n",
        "    'pedagog¿a': 'pedagogia',\n",
        "    'gastronom¿a': 'gastronomia',\n",
        "    'farmac¿utica': 'farmaceutica',\n",
        "    'ingl¿s': 'ingles',\n",
        "    'filosof¿a': 'filosofia',\n",
        "    'dise¿o': 'diseno',\n",
        "    'f¿sica': 'fisica',\n",
        "    'econom¿a': 'economia',\n",
        "    'administraci¿n': 'administracion',\n",
        "    'esc¿nicas': 'escenicas',\n",
        "    'geolog¿a': 'geologia',\n",
        "    '3°ciclo': '3 ciclo',\n",
        "    'ingenier¿a': 'ingenieria',\n",
        "    'm¿sica': 'musica',\n",
        "    'publica.': 'publica',\n",
        "    'p¿blica': 'publica',\n",
        "    '¿nfasisi': 'enfasis',\n",
        "    'matem¿ticas': 'matematicas',\n",
        "    'el¿ctrica': 'electrica',\n",
        "    'quimica.': 'quimica',\n",
        "    'recreaci¿n': 'recreacion',\n",
        "    'educaci¿n': 'educacion',\n",
        "    'comunicaci¿n': 'comunicacion',\n",
        "    'gesti¿n': 'gestion',\n",
        "    'qu¿mica': 'quimica',\n",
        "    'log¿stica': 'logistica',\n",
        "    'dise¿¿o': 'diseno',\n",
        "    'comunicaci¿¿n': 'comunicacion',\n",
        "    'art¿stica': 'artistica',\n",
        "    'gr¿¿fica': 'grafica',\n",
        "    '3°': '3',\n",
        "    '¿nfasis': 'enfasis'\n",
        "\n",
        "}\n",
        "\n",
        "\n",
        "z['ESTU_PRGM_ACADEMICO'] = z['ESTU_PRGM_ACADEMICO'].replace(correcciones_z, regex=True)"
      ]
    },
    {
      "cell_type": "code",
      "execution_count": null,
      "metadata": {
        "id": "fr16dncmaK7W"
      },
      "outputs": [],
      "source": [
        "correcciones_p = {\n",
        "    'gastronom¿a': 'gastronomia',\n",
        "    'dise¿o': 'diseno',\n",
        "    'educaci¿n': 'educacion',\n",
        "    'comunicaci¿¿n': 'comunicacion',\n",
        "    'pedagog¿a': 'pedagogia',\n",
        "    'comunicaci¿n': 'comunicacion',\n",
        "    'm¿sica': 'musica',\n",
        "    'ingl¿s': 'ingles',\n",
        "    'qu¿mica': 'quimica',\n",
        "    '¿nfasis': 'enfasis',\n",
        "    'farmac¿utica': 'farmaceutica',\n",
        "    'geolog¿a': 'geologia',\n",
        "    'gesti¿n': 'gestion',\n",
        "    'econom¿a': 'economia',\n",
        "    'el¿ctrica': 'electrica',\n",
        "    'b¿sica': 'basica',\n",
        "    'dise¿¿o': 'diseno',\n",
        "    'p¿blica': 'publica',\n",
        "    'administraci¿n': 'administracion',\n",
        "    'log¿stica': 'logistica',\n",
        "    'gr¿¿fica': 'grafica',\n",
        "    'ingenier¿a': 'ingenieria',\n",
        "    'art¿stica': 'artistica',\n",
        "    '3°': '3'\n",
        "}\n",
        "\n",
        "p['ESTU_PRGM_ACADEMICO'] = p['ESTU_PRGM_ACADEMICO'].replace(correcciones_p, regex=True)\n"
      ]
    },
    {
      "cell_type": "code",
      "execution_count": null,
      "metadata": {
        "colab": {
          "base_uri": "https://localhost:8080/"
        },
        "id": "hE1yqAWcdDNY",
        "outputId": "9e2f793f-dfd8-4546-889f-cff794c81a20"
      },
      "outputs": [
        {
          "output_type": "execute_result",
          "data": {
            "text/plain": [
              "0"
            ]
          },
          "metadata": {},
          "execution_count": 117
        }
      ],
      "source": [
        "\n",
        "\n",
        "z['ESTU_PRGM_ACADEMICO'].isna().sum()\n",
        "p['ESTU_PRGM_ACADEMICO'].isna().sum()\n"
      ]
    },
    {
      "cell_type": "markdown",
      "metadata": {
        "id": "4Ocqd9x9ofUI"
      },
      "source": [
        "Dado que la columna contiene una gran cantidad de valores únicos, se procederá a agruparlos según áreas del conocimiento o programas académicos. Esto se debe a que las pruebas Saber Pro tienen un componente común a la carrera y otro específico. Para simplificar el análisis, nos enfocaremos en agrupar los datos de esta columna en función del componente común, ya que es más fácil de ordenar y estandarizar. Al hacer esto, podremos reducir la complejidad del conjunto de datos y mejorar la interpretación y comparabilidad de los resultados en contextos más amplios."
      ]
    },
    {
      "cell_type": "code",
      "execution_count": null,
      "metadata": {
        "colab": {
          "base_uri": "https://localhost:8080/"
        },
        "id": "qFJ5sG5XGJPq",
        "outputId": "72b9375c-1283-47e4-c415-debf6d2796f1"
      },
      "outputs": [
        {
          "output_type": "stream",
          "name": "stdout",
          "text": [
            "                        ESTU_PRGM_ACADEMICO GRUPO_PRGM_ACADEMICO\n",
            "0                                enfermeria           enfermeria\n",
            "1                                   derecho              derecho\n",
            "2                     mercadeo y publicidad             mercadeo\n",
            "3                administracion de empresas       administracion\n",
            "4                                psicologia           psicologia\n",
            "...                                     ...                  ...\n",
            "692495                             biologia             biologia\n",
            "692496                           psicologia           psicologia\n",
            "692497  administracion en salud ocupacional       administracion\n",
            "692498                           psicologia           psicologia\n",
            "692499                           psicologia           psicologia\n",
            "\n",
            "[651175 rows x 2 columns]\n"
          ]
        }
      ],
      "source": [
        "valores_academicos = z['ESTU_PRGM_ACADEMICO'].unique()\n",
        "\n",
        "valores_agrupados = agrupar_por_primera_palabra(valores_academicos, 90)\n",
        "\n",
        "valor_a_grupo = {}\n",
        "for clave, grupo in valores_agrupados.items():\n",
        "    if len(grupo) > 1:\n",
        "        primera_palabra_grupo = clave.split()[0]\n",
        "        for valor in grupo:\n",
        "            valor_a_grupo[valor] = primera_palabra_grupo\n",
        "\n",
        "\n",
        "z['GRUPO_PRGM_ACADEMICO'] = z['ESTU_PRGM_ACADEMICO'].map(valor_a_grupo)\n",
        "\n",
        "\n",
        "z['GRUPO_PRGM_ACADEMICO'] = z['GRUPO_PRGM_ACADEMICO'].fillna(z['ESTU_PRGM_ACADEMICO'])\n",
        "\n",
        "\n",
        "print(z[['ESTU_PRGM_ACADEMICO', 'GRUPO_PRGM_ACADEMICO']])"
      ]
    },
    {
      "cell_type": "code",
      "execution_count": null,
      "metadata": {
        "colab": {
          "base_uri": "https://localhost:8080/"
        },
        "id": "YbWT_XTyazT-",
        "outputId": "ce2b928b-20bb-4304-b3b4-2a82d1020588"
      },
      "outputs": [
        {
          "output_type": "stream",
          "name": "stdout",
          "text": [
            "                           ESTU_PRGM_ACADEMICO GRUPO_PRGM_ACADEMICO\n",
            "0                               trabajo social       trabajo social\n",
            "1       administracion comercial y de mercadeo       administracion\n",
            "2                       ingenieria mecatronica           ingenieria\n",
            "3                           contaduria publica           contaduria\n",
            "4                   administracion de empresas       administracion\n",
            "...                                        ...                  ...\n",
            "296781              administracion de empresas       administracion\n",
            "296782                                 derecho              derecho\n",
            "296783                                 derecho              derecho\n",
            "296784                  ingenieria aeronautica           ingenieria\n",
            "296785                   ingenieria industrial           ingenieria\n",
            "\n",
            "[296786 rows x 2 columns]\n"
          ]
        }
      ],
      "source": [
        "valores_academicos_p = p['ESTU_PRGM_ACADEMICO'].unique()\n",
        "\n",
        "valores_agrupados_p = agrupar_por_primera_palabra(valores_academicos_p, 90)\n",
        "\n",
        "valor_a_grupo_p = {}\n",
        "for clave, grupo in valores_agrupados_p.items():\n",
        "    if len(grupo) > 1:\n",
        "        primera_palabra_grupo = clave.split()[0]\n",
        "        for valor in grupo:\n",
        "            valor_a_grupo_p[valor] = primera_palabra_grupo\n",
        "\n",
        "\n",
        "p['GRUPO_PRGM_ACADEMICO'] = p['ESTU_PRGM_ACADEMICO'].map(valor_a_grupo_p)\n",
        "\n",
        "\n",
        "p['GRUPO_PRGM_ACADEMICO'] = p['GRUPO_PRGM_ACADEMICO'].fillna(p['ESTU_PRGM_ACADEMICO'])\n",
        "\n",
        "\n",
        "print(p[['ESTU_PRGM_ACADEMICO', 'GRUPO_PRGM_ACADEMICO']])"
      ]
    },
    {
      "cell_type": "code",
      "execution_count": null,
      "metadata": {
        "colab": {
          "base_uri": "https://localhost:8080/"
        },
        "id": "RFizl1uvKM0H",
        "outputId": "3025a893-95f4-40e3-d15e-d805dac0cc4f"
      },
      "outputs": [
        {
          "output_type": "execute_result",
          "data": {
            "text/plain": [
              "array(['enfermeria', 'derecho', 'mercadeo', 'administracion',\n",
              "       'psicologia', 'medicina', 'ingenieria', 'hoteleria',\n",
              "       'licenciatura', 'comunicacion', 'ciencia', 'profesional',\n",
              "       'maestro en musica', 'trabajo social', 'contaduria', 'estadistica',\n",
              "       'zootecnia', 'seguridad y salud en el trabajo', 'odontologia',\n",
              "       'diseno', 'economia', 'negocios', 'quimicafarmaceutica',\n",
              "       'finanzas', 'relaciones', 'instrumentacion', 'fisioterapia',\n",
              "       'farmacia', 'arte', 'arquitectura', 'optometria', 'jurisprudencia',\n",
              "       'estudios', 'nutricion y dietetica', 'terapia', 'filologia',\n",
              "       'gerencia', 'traduccion ingles frances espanol', 'gestion',\n",
              "       'planeacion y desarrollo social', 'entrenamiento deportivo',\n",
              "       'biologia', 'filosofia', 'bacteriologia', 'sociologia',\n",
              "       'periodismo', 'linguistica', 'antropologia', 'agronomia',\n",
              "       'fonoaudiologia', 'lenguas', 'geologia', 'quimica', 'historia',\n",
              "       'microbiologia', 'salud ocupacional', 'construccion', 'teologia',\n",
              "       'comercio', 'publicidad', 'artes', 'cine', 'deporte',\n",
              "       'culinaria y gastronomia', 'bioingenieria', 'arqueologia',\n",
              "       'criminalistica', 'danza', 'archivistica', 'gastronomia',\n",
              "       'matematicas',\n",
              "       'programa profesional universitario en lenguas extranjeras',\n",
              "       'sistemas', 'cultura', 'espanol y filologia clasica', 'formacion',\n",
              "       'direccion', 'geografia', 'fisica', 'ingenierìa informàtica',\n",
              "       'turismo', 'quimicaindustrial', 'bibliotecologia',\n",
              "       '3 ciclo profesional negocios internacionales',\n",
              "       'produccion agroindustrial', 'musica', 'ecologia', 'literatura',\n",
              "       'gobierno', 'geociencias', 'investigacion criminal', 'fotografia',\n",
              "       'marketing', 'mercadologia', 'logistica', 'desarrollo',\n",
              "       'letras filologia hispanica',\n",
              "       'politica y relaciones internacionales', 'biotecnologia',\n",
              "       'actividad fisica y deporte', 'banca', 'oceanografia',\n",
              "       'realizacion en animacion', 'creacion literaria', 'gerontologia',\n",
              "       'conservacion y restauracion de bienes muebles', 'acuicultura',\n",
              "       'recreacion', 'bioquimica', 'quimicaambiental',\n",
              "       'interpretacion musical', 'urbanismo',\n",
              "       'lenguajes y estudios socioculturales', 'narrativas digitales',\n",
              "       'pedagogia', 'teatro musical', 'animacion',\n",
              "       'computacion cientifica', 'bellas artes'], dtype=object)"
            ]
          },
          "metadata": {},
          "execution_count": 120
        }
      ],
      "source": [
        "z['GRUPO_PRGM_ACADEMICO'].unique()"
      ]
    },
    {
      "cell_type": "code",
      "execution_count": null,
      "metadata": {
        "colab": {
          "base_uri": "https://localhost:8080/"
        },
        "id": "9k8uNO6qKyKq",
        "outputId": "3cafab22-e77b-4abf-a5cd-c649fe5ffb66"
      },
      "outputs": [
        {
          "output_type": "execute_result",
          "data": {
            "text/plain": [
              "array(['trabajo social', 'administracion', 'ingenieria', 'contaduria',\n",
              "       'economia', 'psicologia', 'negocios', 'arquitectura',\n",
              "       'seguridad y salud en el trabajo', 'medicina', 'derecho',\n",
              "       'licenciatura', 'fonoaudiologia', 'profesional', 'enfermeria',\n",
              "       'fisioterapia', 'filosofia', 'criminalistica', 'comunicacion',\n",
              "       'finanzas', 'ciencias',\n",
              "       'programa profesional universitario en lenguas extranjeras',\n",
              "       'terapia', 'gobierno', 'diseno', 'geociencias', 'mercadeo',\n",
              "       'musica', 'geologia', 'odontologia', 'comercio', 'cine',\n",
              "       'instrumentacion', 'actividad fisica y deporte', 'publicidad',\n",
              "       'lenguas', 'optometria', 'relaciones', 'bacteriologia',\n",
              "       'sociologia', 'literatura', 'maestro en musica', 'artes',\n",
              "       'farmacia', 'matematicas', 'fisica', 'arte', 'biologia',\n",
              "       'antropologia', 'salud ocupacional', 'hoteleria', 'quimica',\n",
              "       'planeacion y desarrollo social', 'zootecnia', 'marketing',\n",
              "       'nutricion y dietetica', 'linguistica', 'agronomia', 'fotografia',\n",
              "       'bioingenieria', 'deporte', 'estudios', 'construccion', 'teologia',\n",
              "       'gerencia', 'jurisprudencia', 'formacion musical',\n",
              "       'bibliotecologia', 'turismo', 'gastronomia',\n",
              "       'investigacion criminal', 'microbiologia',\n",
              "       'ingenierìa informàtica', 'interpretacion musical', 'direccion',\n",
              "       'gerontologia', 'gestion', 'historia', 'cultura', 'estadistica',\n",
              "       'geografia', 'produccion agroindustrial',\n",
              "       'espanol y filologia clasica', 'filologia', 'ecologia',\n",
              "       'desarrollo', '3 ciclo profesional negocios internacionales',\n",
              "       'archivistica', 'culinaria y gastronomia', 'periodismo',\n",
              "       'arqueologia', 'politica y relaciones internacionales', 'sistemas',\n",
              "       'creacion literaria', 'mercadologia', 'recreacion', 'acuicultura',\n",
              "       'narrativas digitales', 'entrenamiento deportivo',\n",
              "       'letras filologia hispanica',\n",
              "       'lenguajes y estudios socioculturales', 'danza', 'bioquimica',\n",
              "       'traduccion ingles frances espanol', 'logistica', 'biotecnologia',\n",
              "       'realizacion en animacion', 'pedagogia',\n",
              "       'conservacion y restauracion de bienes muebles', 'banca',\n",
              "       'teatro musical', 'oceanografia', 'urbanismo', 'bellas artes',\n",
              "       'computacion cientifica',\n",
              "       'licenc en educacion basica primaria enf en ciencias naturaleseduc ambiental matema lengua castellana',\n",
              "       'agroindustria'], dtype=object)"
            ]
          },
          "metadata": {},
          "execution_count": 121
        }
      ],
      "source": [
        "p['GRUPO_PRGM_ACADEMICO'].unique()"
      ]
    },
    {
      "cell_type": "code",
      "execution_count": null,
      "metadata": {
        "id": "ysBIXlGzTe-W"
      },
      "outputs": [],
      "source": [
        "#Reemplazamos ESTU_PRGM_ACADEMICO por GRUPO_PRGM_ACADEMICO\n",
        "z = z.drop(columns=['ESTU_PRGM_ACADEMICO'])\n",
        "p = p.drop(columns=['ESTU_PRGM_ACADEMICO'])"
      ]
    },
    {
      "cell_type": "code",
      "execution_count": null,
      "metadata": {
        "id": "5f_wmim8UC-k"
      },
      "outputs": [],
      "source": [
        "#eliminar temporalmente familia tiene internet para\n",
        "#poder hacer el one hot encoding\n",
        "z_dropped = z.drop(columns=['FAMI_TIENEINTERNET'])\n",
        "p_dropped = p.drop(columns=['FAMI_TIENEINTERNET'])\n",
        "\n",
        "z_encoded = one_hot_encode_column(z_dropped, 'GRUPO_PRGM_ACADEMICO')\n",
        "z_encoded['FAMI_TIENEINTERNET'] = z['FAMI_TIENEINTERNET']\n",
        "\n",
        "p_encoded = one_hot_encode_column(p_dropped, 'GRUPO_PRGM_ACADEMICO')\n",
        "p_encoded['FAMI_TIENEINTERNET'] = p['FAMI_TIENEINTERNET']\n",
        "\n",
        "z = z_encoded\n",
        "p = p_encoded\n"
      ]
    },
    {
      "cell_type": "markdown",
      "metadata": {
        "id": "XcPZrtR26S1l"
      },
      "source": [
        "##### Familia tiene internet"
      ]
    },
    {
      "cell_type": "code",
      "execution_count": null,
      "metadata": {
        "id": "ZVW8LYbabU5K"
      },
      "outputs": [],
      "source": [
        "z = limpiar_columna(z, 'FAMI_TIENEINTERNET')\n",
        "p = limpiar_columna(p, 'FAMI_TIENEINTERNET')"
      ]
    },
    {
      "cell_type": "code",
      "execution_count": null,
      "metadata": {
        "colab": {
          "base_uri": "https://localhost:8080/"
        },
        "id": "AjwpFvoJ6RJ4",
        "outputId": "c311d68a-6819-4825-ba06-0a61e029350f"
      },
      "outputs": [
        {
          "output_type": "stream",
          "name": "stdout",
          "text": [
            "Total de valores nulos en FAMI_TIENEINTERNET: 836\n",
            "Total de valores nulos en FAMI_TIENEINTERNET: 11539\n"
          ]
        }
      ],
      "source": [
        "contar_nulos(z,'FAMI_TIENEINTERNET')\n",
        "contar_nulos(p,'FAMI_TIENEINTERNET')"
      ]
    },
    {
      "cell_type": "code",
      "execution_count": null,
      "metadata": {
        "colab": {
          "base_uri": "https://localhost:8080/"
        },
        "id": "Wyk5ROC26uGn",
        "outputId": "8df4be74-db05-403e-b27c-e3c12ce5cfb6"
      },
      "outputs": [
        {
          "output_type": "stream",
          "name": "stdout",
          "text": [
            "Se eliminaron filas de la columna 'FAMI_TIENEINTERNET' con NaN. Porcentaje de NaN: 0.13%\n",
            "Porcentaje de NaN reemplazado en 'FAMI_TIENEINTERNET': 3.89%\n",
            "0\n",
            "0\n"
          ]
        }
      ],
      "source": [
        "z = eliminar_filas_nan(z, 'FAMI_TIENEINTERNET')\n",
        "p = replace_nans_equilibrado(p, 'FAMI_TIENEINTERNET')\n",
        "print(z['FAMI_TIENEINTERNET'].isnull().sum())\n",
        "print(p['FAMI_TIENEINTERNET'].isnull().sum())"
      ]
    },
    {
      "cell_type": "code",
      "execution_count": null,
      "metadata": {
        "id": "Y6dW2pZI7Jzx"
      },
      "outputs": [],
      "source": [
        "z = one_hot_encode_column(z,'FAMI_TIENEINTERNET')\n",
        "p = one_hot_encode_column(p,'FAMI_TIENEINTERNET')"
      ]
    },
    {
      "cell_type": "markdown",
      "metadata": {
        "id": "gwobuy5MKDio"
      },
      "source": [
        "## Resultados de la limpieza y pre procesamiento de datos"
      ]
    },
    {
      "cell_type": "code",
      "execution_count": null,
      "metadata": {
        "colab": {
          "base_uri": "https://localhost:8080/"
        },
        "id": "WKe6x4P_KYsn",
        "outputId": "f3708f51-5920-453d-dc2a-6b3de086ef96"
      },
      "outputs": [
        {
          "output_type": "stream",
          "name": "stdout",
          "text": [
            "                                                   Tipo de Dato  \\\n",
            "ESTU_HORASSEMANATRABAJA                                   int64   \n",
            "FAMI_ESTRATOVIVIENDA                                      int64   \n",
            "FAMI_EDUCACIONPADRE                                       int64   \n",
            "FAMI_EDUCACIONMADRE                                       int64   \n",
            "RENDIMIENTO_GLOBAL                                        int64   \n",
            "...                                                         ...   \n",
            "GRUPO_PRGM_ACADEMICO_traduccion ingles frances ...        int64   \n",
            "GRUPO_PRGM_ACADEMICO_turismo                              int64   \n",
            "GRUPO_PRGM_ACADEMICO_urbanismo                            int64   \n",
            "GRUPO_PRGM_ACADEMICO_zootecnia                            int64   \n",
            "FAMI_TIENEINTERNET_si                                     int64   \n",
            "\n",
            "                                                    Cantidad de NaN  \n",
            "ESTU_HORASSEMANATRABAJA                                           0  \n",
            "FAMI_ESTRATOVIVIENDA                                              0  \n",
            "FAMI_EDUCACIONPADRE                                               0  \n",
            "FAMI_EDUCACIONMADRE                                               0  \n",
            "RENDIMIENTO_GLOBAL                                                0  \n",
            "...                                                             ...  \n",
            "GRUPO_PRGM_ACADEMICO_traduccion ingles frances ...                0  \n",
            "GRUPO_PRGM_ACADEMICO_turismo                                      0  \n",
            "GRUPO_PRGM_ACADEMICO_urbanismo                                    0  \n",
            "GRUPO_PRGM_ACADEMICO_zootecnia                                    0  \n",
            "FAMI_TIENEINTERNET_si                                             0  \n",
            "\n",
            "[154 rows x 2 columns]\n"
          ]
        }
      ],
      "source": [
        "column_info = z.dtypes.to_frame(name='Tipo de Dato')\n",
        "column_info['Cantidad de NaN'] = z.isna().sum()\n",
        "\n",
        "print(column_info)"
      ]
    },
    {
      "cell_type": "code",
      "execution_count": null,
      "metadata": {
        "colab": {
          "base_uri": "https://localhost:8080/"
        },
        "id": "8hIFSEYhLp7w",
        "outputId": "d416a51b-8ff7-4eaa-9c3f-b26208843b2d"
      },
      "outputs": [
        {
          "output_type": "stream",
          "name": "stdout",
          "text": [
            "                                                   Tipo de Dato  \\\n",
            "ESTU_HORASSEMANATRABAJA                                   int64   \n",
            "FAMI_ESTRATOVIVIENDA                                      int64   \n",
            "FAMI_EDUCACIONPADRE                                       int64   \n",
            "FAMI_EDUCACIONMADRE                                       int64   \n",
            "ESTU_PRGM_DEPARTAMENTO_antioquia                          int64   \n",
            "...                                                         ...   \n",
            "GRUPO_PRGM_ACADEMICO_traduccion ingles frances ...        int64   \n",
            "GRUPO_PRGM_ACADEMICO_turismo                              int64   \n",
            "GRUPO_PRGM_ACADEMICO_urbanismo                            int64   \n",
            "GRUPO_PRGM_ACADEMICO_zootecnia                            int64   \n",
            "FAMI_TIENEINTERNET_si                                     int64   \n",
            "\n",
            "                                                    Cantidad de NaN  \n",
            "ESTU_HORASSEMANATRABAJA                                           0  \n",
            "FAMI_ESTRATOVIVIENDA                                              0  \n",
            "FAMI_EDUCACIONPADRE                                               0  \n",
            "FAMI_EDUCACIONMADRE                                               0  \n",
            "ESTU_PRGM_DEPARTAMENTO_antioquia                                  0  \n",
            "...                                                             ...  \n",
            "GRUPO_PRGM_ACADEMICO_traduccion ingles frances ...                0  \n",
            "GRUPO_PRGM_ACADEMICO_turismo                                      0  \n",
            "GRUPO_PRGM_ACADEMICO_urbanismo                                    0  \n",
            "GRUPO_PRGM_ACADEMICO_zootecnia                                    0  \n",
            "FAMI_TIENEINTERNET_si                                             0  \n",
            "\n",
            "[151 rows x 2 columns]\n"
          ]
        }
      ],
      "source": [
        "column_info = p.dtypes.to_frame(name='Tipo de Dato')\n",
        "column_info['Cantidad de NaN'] = p.isna().sum()\n",
        "\n",
        "print(column_info)"
      ]
    },
    {
      "cell_type": "code",
      "execution_count": null,
      "metadata": {
        "colab": {
          "base_uri": "https://localhost:8080/"
        },
        "id": "gVtUj6iLK1U3",
        "outputId": "bba6b193-b7d1-4a7b-dbb0-d62baa308085"
      },
      "outputs": [
        {
          "output_type": "stream",
          "name": "stdout",
          "text": [
            "shape of loaded dataframe train (650339, 154)\n",
            "shape of loaded dataframe test (296786, 151)\n"
          ]
        }
      ],
      "source": [
        "print (\"shape of loaded dataframe train\", z.shape)\n",
        "print (\"shape of loaded dataframe test\",p.shape)"
      ]
    },
    {
      "cell_type": "markdown",
      "metadata": {
        "id": "lXx-LaKzb0sY"
      },
      "source": [
        "En el proceso de limpieza y preparación de datos, se llevaron a cabo varias técnicas, incluyendo la eliminación de columnas innecesarias, la codificación de etiquetas (label encoding) y la codificación one-hot para variables categóricas. Además, se eliminaron filas con valores nulos, asegurando que el porcentaje de estos no superara el 5%. También se realizaron normalizaciones y agrupaciones de datos para mejorar la calidad y relevancia del conjunto. Como resultado de estas transformaciones, se redujo el conjunto de datos de 692,501 registros  a 650,339  y 12 columnas a 154, optimizando así la información disponible para análisis posteriores."
      ]
    },
    {
      "cell_type": "code",
      "execution_count": null,
      "metadata": {
        "colab": {
          "base_uri": "https://localhost:8080/",
          "height": 273
        },
        "id": "UhS52x_Xe9-t",
        "outputId": "0f502efd-a77d-48c7-e81f-7240ee14a5b0"
      },
      "outputs": [
        {
          "output_type": "execute_result",
          "data": {
            "text/plain": [
              "   ESTU_HORASSEMANATRABAJA  FAMI_ESTRATOVIVIENDA  FAMI_EDUCACIONPADRE  \\\n",
              "0                        5                     2                   11   \n",
              "1                        0                     2                   10   \n",
              "2                       35                     2                    8   \n",
              "3                        0                     3                    4   \n",
              "4                       25                     2                    6   \n",
              "\n",
              "   FAMI_EDUCACIONMADRE  RENDIMIENTO_GLOBAL  ESTU_PRGM_DEPARTAMENTO_antioquia  \\\n",
              "0                    5                   2                                 0   \n",
              "1                   11                   1                                 0   \n",
              "2                    8                   1                                 0   \n",
              "3                    8                   0                                 0   \n",
              "4                    6                   3                                 1   \n",
              "\n",
              "   ESTU_PRGM_DEPARTAMENTO_arauca  ESTU_PRGM_DEPARTAMENTO_atlantico  \\\n",
              "0                              0                                 0   \n",
              "1                              0                                 1   \n",
              "2                              0                                 0   \n",
              "3                              0                                 0   \n",
              "4                              0                                 0   \n",
              "\n",
              "   ESTU_PRGM_DEPARTAMENTO_bogota  ESTU_PRGM_DEPARTAMENTO_bolivar  ...  \\\n",
              "0                              1                               0  ...   \n",
              "1                              0                               0  ...   \n",
              "2                              1                               0  ...   \n",
              "3                              0                               0  ...   \n",
              "4                              0                               0  ...   \n",
              "\n",
              "   GRUPO_PRGM_ACADEMICO_sociologia  GRUPO_PRGM_ACADEMICO_teatro musical  \\\n",
              "0                                0                                    0   \n",
              "1                                0                                    0   \n",
              "2                                0                                    0   \n",
              "3                                0                                    0   \n",
              "4                                0                                    0   \n",
              "\n",
              "   GRUPO_PRGM_ACADEMICO_teologia  GRUPO_PRGM_ACADEMICO_terapia  \\\n",
              "0                              0                             0   \n",
              "1                              0                             0   \n",
              "2                              0                             0   \n",
              "3                              0                             0   \n",
              "4                              0                             0   \n",
              "\n",
              "   GRUPO_PRGM_ACADEMICO_trabajo social  \\\n",
              "0                                    0   \n",
              "1                                    0   \n",
              "2                                    0   \n",
              "3                                    0   \n",
              "4                                    0   \n",
              "\n",
              "   GRUPO_PRGM_ACADEMICO_traduccion ingles frances espanol  \\\n",
              "0                                                  0        \n",
              "1                                                  0        \n",
              "2                                                  0        \n",
              "3                                                  0        \n",
              "4                                                  0        \n",
              "\n",
              "   GRUPO_PRGM_ACADEMICO_turismo  GRUPO_PRGM_ACADEMICO_urbanismo  \\\n",
              "0                             0                               0   \n",
              "1                             0                               0   \n",
              "2                             0                               0   \n",
              "3                             0                               0   \n",
              "4                             0                               0   \n",
              "\n",
              "   GRUPO_PRGM_ACADEMICO_zootecnia  FAMI_TIENEINTERNET_si  \n",
              "0                               0                      1  \n",
              "1                               0                      0  \n",
              "2                               0                      1  \n",
              "3                               0                      1  \n",
              "4                               0                      1  \n",
              "\n",
              "[5 rows x 154 columns]"
            ],
            "text/html": [
              "\n",
              "  <div id=\"df-28042cc1-b563-415a-9ef6-6ba462f20660\" class=\"colab-df-container\">\n",
              "    <div>\n",
              "<style scoped>\n",
              "    .dataframe tbody tr th:only-of-type {\n",
              "        vertical-align: middle;\n",
              "    }\n",
              "\n",
              "    .dataframe tbody tr th {\n",
              "        vertical-align: top;\n",
              "    }\n",
              "\n",
              "    .dataframe thead th {\n",
              "        text-align: right;\n",
              "    }\n",
              "</style>\n",
              "<table border=\"1\" class=\"dataframe\">\n",
              "  <thead>\n",
              "    <tr style=\"text-align: right;\">\n",
              "      <th></th>\n",
              "      <th>ESTU_HORASSEMANATRABAJA</th>\n",
              "      <th>FAMI_ESTRATOVIVIENDA</th>\n",
              "      <th>FAMI_EDUCACIONPADRE</th>\n",
              "      <th>FAMI_EDUCACIONMADRE</th>\n",
              "      <th>RENDIMIENTO_GLOBAL</th>\n",
              "      <th>ESTU_PRGM_DEPARTAMENTO_antioquia</th>\n",
              "      <th>ESTU_PRGM_DEPARTAMENTO_arauca</th>\n",
              "      <th>ESTU_PRGM_DEPARTAMENTO_atlantico</th>\n",
              "      <th>ESTU_PRGM_DEPARTAMENTO_bogota</th>\n",
              "      <th>ESTU_PRGM_DEPARTAMENTO_bolivar</th>\n",
              "      <th>...</th>\n",
              "      <th>GRUPO_PRGM_ACADEMICO_sociologia</th>\n",
              "      <th>GRUPO_PRGM_ACADEMICO_teatro musical</th>\n",
              "      <th>GRUPO_PRGM_ACADEMICO_teologia</th>\n",
              "      <th>GRUPO_PRGM_ACADEMICO_terapia</th>\n",
              "      <th>GRUPO_PRGM_ACADEMICO_trabajo social</th>\n",
              "      <th>GRUPO_PRGM_ACADEMICO_traduccion ingles frances espanol</th>\n",
              "      <th>GRUPO_PRGM_ACADEMICO_turismo</th>\n",
              "      <th>GRUPO_PRGM_ACADEMICO_urbanismo</th>\n",
              "      <th>GRUPO_PRGM_ACADEMICO_zootecnia</th>\n",
              "      <th>FAMI_TIENEINTERNET_si</th>\n",
              "    </tr>\n",
              "  </thead>\n",
              "  <tbody>\n",
              "    <tr>\n",
              "      <th>0</th>\n",
              "      <td>5</td>\n",
              "      <td>2</td>\n",
              "      <td>11</td>\n",
              "      <td>5</td>\n",
              "      <td>2</td>\n",
              "      <td>0</td>\n",
              "      <td>0</td>\n",
              "      <td>0</td>\n",
              "      <td>1</td>\n",
              "      <td>0</td>\n",
              "      <td>...</td>\n",
              "      <td>0</td>\n",
              "      <td>0</td>\n",
              "      <td>0</td>\n",
              "      <td>0</td>\n",
              "      <td>0</td>\n",
              "      <td>0</td>\n",
              "      <td>0</td>\n",
              "      <td>0</td>\n",
              "      <td>0</td>\n",
              "      <td>1</td>\n",
              "    </tr>\n",
              "    <tr>\n",
              "      <th>1</th>\n",
              "      <td>0</td>\n",
              "      <td>2</td>\n",
              "      <td>10</td>\n",
              "      <td>11</td>\n",
              "      <td>1</td>\n",
              "      <td>0</td>\n",
              "      <td>0</td>\n",
              "      <td>1</td>\n",
              "      <td>0</td>\n",
              "      <td>0</td>\n",
              "      <td>...</td>\n",
              "      <td>0</td>\n",
              "      <td>0</td>\n",
              "      <td>0</td>\n",
              "      <td>0</td>\n",
              "      <td>0</td>\n",
              "      <td>0</td>\n",
              "      <td>0</td>\n",
              "      <td>0</td>\n",
              "      <td>0</td>\n",
              "      <td>0</td>\n",
              "    </tr>\n",
              "    <tr>\n",
              "      <th>2</th>\n",
              "      <td>35</td>\n",
              "      <td>2</td>\n",
              "      <td>8</td>\n",
              "      <td>8</td>\n",
              "      <td>1</td>\n",
              "      <td>0</td>\n",
              "      <td>0</td>\n",
              "      <td>0</td>\n",
              "      <td>1</td>\n",
              "      <td>0</td>\n",
              "      <td>...</td>\n",
              "      <td>0</td>\n",
              "      <td>0</td>\n",
              "      <td>0</td>\n",
              "      <td>0</td>\n",
              "      <td>0</td>\n",
              "      <td>0</td>\n",
              "      <td>0</td>\n",
              "      <td>0</td>\n",
              "      <td>0</td>\n",
              "      <td>1</td>\n",
              "    </tr>\n",
              "    <tr>\n",
              "      <th>3</th>\n",
              "      <td>0</td>\n",
              "      <td>3</td>\n",
              "      <td>4</td>\n",
              "      <td>8</td>\n",
              "      <td>0</td>\n",
              "      <td>0</td>\n",
              "      <td>0</td>\n",
              "      <td>0</td>\n",
              "      <td>0</td>\n",
              "      <td>0</td>\n",
              "      <td>...</td>\n",
              "      <td>0</td>\n",
              "      <td>0</td>\n",
              "      <td>0</td>\n",
              "      <td>0</td>\n",
              "      <td>0</td>\n",
              "      <td>0</td>\n",
              "      <td>0</td>\n",
              "      <td>0</td>\n",
              "      <td>0</td>\n",
              "      <td>1</td>\n",
              "    </tr>\n",
              "    <tr>\n",
              "      <th>4</th>\n",
              "      <td>25</td>\n",
              "      <td>2</td>\n",
              "      <td>6</td>\n",
              "      <td>6</td>\n",
              "      <td>3</td>\n",
              "      <td>1</td>\n",
              "      <td>0</td>\n",
              "      <td>0</td>\n",
              "      <td>0</td>\n",
              "      <td>0</td>\n",
              "      <td>...</td>\n",
              "      <td>0</td>\n",
              "      <td>0</td>\n",
              "      <td>0</td>\n",
              "      <td>0</td>\n",
              "      <td>0</td>\n",
              "      <td>0</td>\n",
              "      <td>0</td>\n",
              "      <td>0</td>\n",
              "      <td>0</td>\n",
              "      <td>1</td>\n",
              "    </tr>\n",
              "  </tbody>\n",
              "</table>\n",
              "<p>5 rows × 154 columns</p>\n",
              "</div>\n",
              "    <div class=\"colab-df-buttons\">\n",
              "\n",
              "  <div class=\"colab-df-container\">\n",
              "    <button class=\"colab-df-convert\" onclick=\"convertToInteractive('df-28042cc1-b563-415a-9ef6-6ba462f20660')\"\n",
              "            title=\"Convert this dataframe to an interactive table.\"\n",
              "            style=\"display:none;\">\n",
              "\n",
              "  <svg xmlns=\"http://www.w3.org/2000/svg\" height=\"24px\" viewBox=\"0 -960 960 960\">\n",
              "    <path d=\"M120-120v-720h720v720H120Zm60-500h600v-160H180v160Zm220 220h160v-160H400v160Zm0 220h160v-160H400v160ZM180-400h160v-160H180v160Zm440 0h160v-160H620v160ZM180-180h160v-160H180v160Zm440 0h160v-160H620v160Z\"/>\n",
              "  </svg>\n",
              "    </button>\n",
              "\n",
              "  <style>\n",
              "    .colab-df-container {\n",
              "      display:flex;\n",
              "      gap: 12px;\n",
              "    }\n",
              "\n",
              "    .colab-df-convert {\n",
              "      background-color: #E8F0FE;\n",
              "      border: none;\n",
              "      border-radius: 50%;\n",
              "      cursor: pointer;\n",
              "      display: none;\n",
              "      fill: #1967D2;\n",
              "      height: 32px;\n",
              "      padding: 0 0 0 0;\n",
              "      width: 32px;\n",
              "    }\n",
              "\n",
              "    .colab-df-convert:hover {\n",
              "      background-color: #E2EBFA;\n",
              "      box-shadow: 0px 1px 2px rgba(60, 64, 67, 0.3), 0px 1px 3px 1px rgba(60, 64, 67, 0.15);\n",
              "      fill: #174EA6;\n",
              "    }\n",
              "\n",
              "    .colab-df-buttons div {\n",
              "      margin-bottom: 4px;\n",
              "    }\n",
              "\n",
              "    [theme=dark] .colab-df-convert {\n",
              "      background-color: #3B4455;\n",
              "      fill: #D2E3FC;\n",
              "    }\n",
              "\n",
              "    [theme=dark] .colab-df-convert:hover {\n",
              "      background-color: #434B5C;\n",
              "      box-shadow: 0px 1px 3px 1px rgba(0, 0, 0, 0.15);\n",
              "      filter: drop-shadow(0px 1px 2px rgba(0, 0, 0, 0.3));\n",
              "      fill: #FFFFFF;\n",
              "    }\n",
              "  </style>\n",
              "\n",
              "    <script>\n",
              "      const buttonEl =\n",
              "        document.querySelector('#df-28042cc1-b563-415a-9ef6-6ba462f20660 button.colab-df-convert');\n",
              "      buttonEl.style.display =\n",
              "        google.colab.kernel.accessAllowed ? 'block' : 'none';\n",
              "\n",
              "      async function convertToInteractive(key) {\n",
              "        const element = document.querySelector('#df-28042cc1-b563-415a-9ef6-6ba462f20660');\n",
              "        const dataTable =\n",
              "          await google.colab.kernel.invokeFunction('convertToInteractive',\n",
              "                                                    [key], {});\n",
              "        if (!dataTable) return;\n",
              "\n",
              "        const docLinkHtml = 'Like what you see? Visit the ' +\n",
              "          '<a target=\"_blank\" href=https://colab.research.google.com/notebooks/data_table.ipynb>data table notebook</a>'\n",
              "          + ' to learn more about interactive tables.';\n",
              "        element.innerHTML = '';\n",
              "        dataTable['output_type'] = 'display_data';\n",
              "        await google.colab.output.renderOutput(dataTable, element);\n",
              "        const docLink = document.createElement('div');\n",
              "        docLink.innerHTML = docLinkHtml;\n",
              "        element.appendChild(docLink);\n",
              "      }\n",
              "    </script>\n",
              "  </div>\n",
              "\n",
              "\n",
              "<div id=\"df-7d2875f5-97de-4fee-9e0f-0d1ae62bc125\">\n",
              "  <button class=\"colab-df-quickchart\" onclick=\"quickchart('df-7d2875f5-97de-4fee-9e0f-0d1ae62bc125')\"\n",
              "            title=\"Suggest charts\"\n",
              "            style=\"display:none;\">\n",
              "\n",
              "<svg xmlns=\"http://www.w3.org/2000/svg\" height=\"24px\"viewBox=\"0 0 24 24\"\n",
              "     width=\"24px\">\n",
              "    <g>\n",
              "        <path d=\"M19 3H5c-1.1 0-2 .9-2 2v14c0 1.1.9 2 2 2h14c1.1 0 2-.9 2-2V5c0-1.1-.9-2-2-2zM9 17H7v-7h2v7zm4 0h-2V7h2v10zm4 0h-2v-4h2v4z\"/>\n",
              "    </g>\n",
              "</svg>\n",
              "  </button>\n",
              "\n",
              "<style>\n",
              "  .colab-df-quickchart {\n",
              "      --bg-color: #E8F0FE;\n",
              "      --fill-color: #1967D2;\n",
              "      --hover-bg-color: #E2EBFA;\n",
              "      --hover-fill-color: #174EA6;\n",
              "      --disabled-fill-color: #AAA;\n",
              "      --disabled-bg-color: #DDD;\n",
              "  }\n",
              "\n",
              "  [theme=dark] .colab-df-quickchart {\n",
              "      --bg-color: #3B4455;\n",
              "      --fill-color: #D2E3FC;\n",
              "      --hover-bg-color: #434B5C;\n",
              "      --hover-fill-color: #FFFFFF;\n",
              "      --disabled-bg-color: #3B4455;\n",
              "      --disabled-fill-color: #666;\n",
              "  }\n",
              "\n",
              "  .colab-df-quickchart {\n",
              "    background-color: var(--bg-color);\n",
              "    border: none;\n",
              "    border-radius: 50%;\n",
              "    cursor: pointer;\n",
              "    display: none;\n",
              "    fill: var(--fill-color);\n",
              "    height: 32px;\n",
              "    padding: 0;\n",
              "    width: 32px;\n",
              "  }\n",
              "\n",
              "  .colab-df-quickchart:hover {\n",
              "    background-color: var(--hover-bg-color);\n",
              "    box-shadow: 0 1px 2px rgba(60, 64, 67, 0.3), 0 1px 3px 1px rgba(60, 64, 67, 0.15);\n",
              "    fill: var(--button-hover-fill-color);\n",
              "  }\n",
              "\n",
              "  .colab-df-quickchart-complete:disabled,\n",
              "  .colab-df-quickchart-complete:disabled:hover {\n",
              "    background-color: var(--disabled-bg-color);\n",
              "    fill: var(--disabled-fill-color);\n",
              "    box-shadow: none;\n",
              "  }\n",
              "\n",
              "  .colab-df-spinner {\n",
              "    border: 2px solid var(--fill-color);\n",
              "    border-color: transparent;\n",
              "    border-bottom-color: var(--fill-color);\n",
              "    animation:\n",
              "      spin 1s steps(1) infinite;\n",
              "  }\n",
              "\n",
              "  @keyframes spin {\n",
              "    0% {\n",
              "      border-color: transparent;\n",
              "      border-bottom-color: var(--fill-color);\n",
              "      border-left-color: var(--fill-color);\n",
              "    }\n",
              "    20% {\n",
              "      border-color: transparent;\n",
              "      border-left-color: var(--fill-color);\n",
              "      border-top-color: var(--fill-color);\n",
              "    }\n",
              "    30% {\n",
              "      border-color: transparent;\n",
              "      border-left-color: var(--fill-color);\n",
              "      border-top-color: var(--fill-color);\n",
              "      border-right-color: var(--fill-color);\n",
              "    }\n",
              "    40% {\n",
              "      border-color: transparent;\n",
              "      border-right-color: var(--fill-color);\n",
              "      border-top-color: var(--fill-color);\n",
              "    }\n",
              "    60% {\n",
              "      border-color: transparent;\n",
              "      border-right-color: var(--fill-color);\n",
              "    }\n",
              "    80% {\n",
              "      border-color: transparent;\n",
              "      border-right-color: var(--fill-color);\n",
              "      border-bottom-color: var(--fill-color);\n",
              "    }\n",
              "    90% {\n",
              "      border-color: transparent;\n",
              "      border-bottom-color: var(--fill-color);\n",
              "    }\n",
              "  }\n",
              "</style>\n",
              "\n",
              "  <script>\n",
              "    async function quickchart(key) {\n",
              "      const quickchartButtonEl =\n",
              "        document.querySelector('#' + key + ' button');\n",
              "      quickchartButtonEl.disabled = true;  // To prevent multiple clicks.\n",
              "      quickchartButtonEl.classList.add('colab-df-spinner');\n",
              "      try {\n",
              "        const charts = await google.colab.kernel.invokeFunction(\n",
              "            'suggestCharts', [key], {});\n",
              "      } catch (error) {\n",
              "        console.error('Error during call to suggestCharts:', error);\n",
              "      }\n",
              "      quickchartButtonEl.classList.remove('colab-df-spinner');\n",
              "      quickchartButtonEl.classList.add('colab-df-quickchart-complete');\n",
              "    }\n",
              "    (() => {\n",
              "      let quickchartButtonEl =\n",
              "        document.querySelector('#df-7d2875f5-97de-4fee-9e0f-0d1ae62bc125 button');\n",
              "      quickchartButtonEl.style.display =\n",
              "        google.colab.kernel.accessAllowed ? 'block' : 'none';\n",
              "    })();\n",
              "  </script>\n",
              "</div>\n",
              "\n",
              "    </div>\n",
              "  </div>\n"
            ],
            "application/vnd.google.colaboratory.intrinsic+json": {
              "type": "dataframe",
              "variable_name": "z"
            }
          },
          "metadata": {},
          "execution_count": 131
        }
      ],
      "source": [
        "z.head()"
      ]
    },
    {
      "cell_type": "code",
      "execution_count": null,
      "metadata": {
        "colab": {
          "base_uri": "https://localhost:8080/",
          "height": 273
        },
        "id": "WGZT7VQPLy2Z",
        "outputId": "c82d642f-2f31-4a7a-f8fa-0eaf07f2af51"
      },
      "outputs": [
        {
          "output_type": "execute_result",
          "data": {
            "text/plain": [
              "   ESTU_HORASSEMANATRABAJA  FAMI_ESTRATOVIVIENDA  FAMI_EDUCACIONPADRE  \\\n",
              "0                        5                     2                   10   \n",
              "1                       25                     1                    8   \n",
              "2                        0                     2                    9   \n",
              "3                       25                     0                    7   \n",
              "4                       15                     1                    8   \n",
              "\n",
              "   FAMI_EDUCACIONMADRE  ESTU_PRGM_DEPARTAMENTO_antioquia  \\\n",
              "0                    6                                 0   \n",
              "1                   10                                 1   \n",
              "2                    8                                 0   \n",
              "3                    7                                 0   \n",
              "4                    8                                 0   \n",
              "\n",
              "   ESTU_PRGM_DEPARTAMENTO_arauca  ESTU_PRGM_DEPARTAMENTO_atlantico  \\\n",
              "0                              0                                 0   \n",
              "1                              0                                 0   \n",
              "2                              0                                 0   \n",
              "3                              0                                 0   \n",
              "4                              0                                 1   \n",
              "\n",
              "   ESTU_PRGM_DEPARTAMENTO_bogota  ESTU_PRGM_DEPARTAMENTO_bolivar  \\\n",
              "0                              0                               1   \n",
              "1                              0                               0   \n",
              "2                              1                               0   \n",
              "3                              0                               0   \n",
              "4                              0                               0   \n",
              "\n",
              "   ESTU_PRGM_DEPARTAMENTO_boyaca  ...  GRUPO_PRGM_ACADEMICO_sociologia  \\\n",
              "0                              0  ...                                0   \n",
              "1                              0  ...                                0   \n",
              "2                              0  ...                                0   \n",
              "3                              0  ...                                0   \n",
              "4                              0  ...                                0   \n",
              "\n",
              "   GRUPO_PRGM_ACADEMICO_teatro musical  GRUPO_PRGM_ACADEMICO_teologia  \\\n",
              "0                                    0                              0   \n",
              "1                                    0                              0   \n",
              "2                                    0                              0   \n",
              "3                                    0                              0   \n",
              "4                                    0                              0   \n",
              "\n",
              "   GRUPO_PRGM_ACADEMICO_terapia  GRUPO_PRGM_ACADEMICO_trabajo social  \\\n",
              "0                             0                                    1   \n",
              "1                             0                                    0   \n",
              "2                             0                                    0   \n",
              "3                             0                                    0   \n",
              "4                             0                                    0   \n",
              "\n",
              "   GRUPO_PRGM_ACADEMICO_traduccion ingles frances espanol  \\\n",
              "0                                                  0        \n",
              "1                                                  0        \n",
              "2                                                  0        \n",
              "3                                                  0        \n",
              "4                                                  0        \n",
              "\n",
              "   GRUPO_PRGM_ACADEMICO_turismo  GRUPO_PRGM_ACADEMICO_urbanismo  \\\n",
              "0                             0                               0   \n",
              "1                             0                               0   \n",
              "2                             0                               0   \n",
              "3                             0                               0   \n",
              "4                             0                               0   \n",
              "\n",
              "   GRUPO_PRGM_ACADEMICO_zootecnia  FAMI_TIENEINTERNET_si  \n",
              "0                               0                      1  \n",
              "1                               0                      1  \n",
              "2                               0                      1  \n",
              "3                               0                      0  \n",
              "4                               0                      1  \n",
              "\n",
              "[5 rows x 151 columns]"
            ],
            "text/html": [
              "\n",
              "  <div id=\"df-9a4cc065-6b7a-4a10-935a-8bdc78941ce3\" class=\"colab-df-container\">\n",
              "    <div>\n",
              "<style scoped>\n",
              "    .dataframe tbody tr th:only-of-type {\n",
              "        vertical-align: middle;\n",
              "    }\n",
              "\n",
              "    .dataframe tbody tr th {\n",
              "        vertical-align: top;\n",
              "    }\n",
              "\n",
              "    .dataframe thead th {\n",
              "        text-align: right;\n",
              "    }\n",
              "</style>\n",
              "<table border=\"1\" class=\"dataframe\">\n",
              "  <thead>\n",
              "    <tr style=\"text-align: right;\">\n",
              "      <th></th>\n",
              "      <th>ESTU_HORASSEMANATRABAJA</th>\n",
              "      <th>FAMI_ESTRATOVIVIENDA</th>\n",
              "      <th>FAMI_EDUCACIONPADRE</th>\n",
              "      <th>FAMI_EDUCACIONMADRE</th>\n",
              "      <th>ESTU_PRGM_DEPARTAMENTO_antioquia</th>\n",
              "      <th>ESTU_PRGM_DEPARTAMENTO_arauca</th>\n",
              "      <th>ESTU_PRGM_DEPARTAMENTO_atlantico</th>\n",
              "      <th>ESTU_PRGM_DEPARTAMENTO_bogota</th>\n",
              "      <th>ESTU_PRGM_DEPARTAMENTO_bolivar</th>\n",
              "      <th>ESTU_PRGM_DEPARTAMENTO_boyaca</th>\n",
              "      <th>...</th>\n",
              "      <th>GRUPO_PRGM_ACADEMICO_sociologia</th>\n",
              "      <th>GRUPO_PRGM_ACADEMICO_teatro musical</th>\n",
              "      <th>GRUPO_PRGM_ACADEMICO_teologia</th>\n",
              "      <th>GRUPO_PRGM_ACADEMICO_terapia</th>\n",
              "      <th>GRUPO_PRGM_ACADEMICO_trabajo social</th>\n",
              "      <th>GRUPO_PRGM_ACADEMICO_traduccion ingles frances espanol</th>\n",
              "      <th>GRUPO_PRGM_ACADEMICO_turismo</th>\n",
              "      <th>GRUPO_PRGM_ACADEMICO_urbanismo</th>\n",
              "      <th>GRUPO_PRGM_ACADEMICO_zootecnia</th>\n",
              "      <th>FAMI_TIENEINTERNET_si</th>\n",
              "    </tr>\n",
              "  </thead>\n",
              "  <tbody>\n",
              "    <tr>\n",
              "      <th>0</th>\n",
              "      <td>5</td>\n",
              "      <td>2</td>\n",
              "      <td>10</td>\n",
              "      <td>6</td>\n",
              "      <td>0</td>\n",
              "      <td>0</td>\n",
              "      <td>0</td>\n",
              "      <td>0</td>\n",
              "      <td>1</td>\n",
              "      <td>0</td>\n",
              "      <td>...</td>\n",
              "      <td>0</td>\n",
              "      <td>0</td>\n",
              "      <td>0</td>\n",
              "      <td>0</td>\n",
              "      <td>1</td>\n",
              "      <td>0</td>\n",
              "      <td>0</td>\n",
              "      <td>0</td>\n",
              "      <td>0</td>\n",
              "      <td>1</td>\n",
              "    </tr>\n",
              "    <tr>\n",
              "      <th>1</th>\n",
              "      <td>25</td>\n",
              "      <td>1</td>\n",
              "      <td>8</td>\n",
              "      <td>10</td>\n",
              "      <td>1</td>\n",
              "      <td>0</td>\n",
              "      <td>0</td>\n",
              "      <td>0</td>\n",
              "      <td>0</td>\n",
              "      <td>0</td>\n",
              "      <td>...</td>\n",
              "      <td>0</td>\n",
              "      <td>0</td>\n",
              "      <td>0</td>\n",
              "      <td>0</td>\n",
              "      <td>0</td>\n",
              "      <td>0</td>\n",
              "      <td>0</td>\n",
              "      <td>0</td>\n",
              "      <td>0</td>\n",
              "      <td>1</td>\n",
              "    </tr>\n",
              "    <tr>\n",
              "      <th>2</th>\n",
              "      <td>0</td>\n",
              "      <td>2</td>\n",
              "      <td>9</td>\n",
              "      <td>8</td>\n",
              "      <td>0</td>\n",
              "      <td>0</td>\n",
              "      <td>0</td>\n",
              "      <td>1</td>\n",
              "      <td>0</td>\n",
              "      <td>0</td>\n",
              "      <td>...</td>\n",
              "      <td>0</td>\n",
              "      <td>0</td>\n",
              "      <td>0</td>\n",
              "      <td>0</td>\n",
              "      <td>0</td>\n",
              "      <td>0</td>\n",
              "      <td>0</td>\n",
              "      <td>0</td>\n",
              "      <td>0</td>\n",
              "      <td>1</td>\n",
              "    </tr>\n",
              "    <tr>\n",
              "      <th>3</th>\n",
              "      <td>25</td>\n",
              "      <td>0</td>\n",
              "      <td>7</td>\n",
              "      <td>7</td>\n",
              "      <td>0</td>\n",
              "      <td>0</td>\n",
              "      <td>0</td>\n",
              "      <td>0</td>\n",
              "      <td>0</td>\n",
              "      <td>0</td>\n",
              "      <td>...</td>\n",
              "      <td>0</td>\n",
              "      <td>0</td>\n",
              "      <td>0</td>\n",
              "      <td>0</td>\n",
              "      <td>0</td>\n",
              "      <td>0</td>\n",
              "      <td>0</td>\n",
              "      <td>0</td>\n",
              "      <td>0</td>\n",
              "      <td>0</td>\n",
              "    </tr>\n",
              "    <tr>\n",
              "      <th>4</th>\n",
              "      <td>15</td>\n",
              "      <td>1</td>\n",
              "      <td>8</td>\n",
              "      <td>8</td>\n",
              "      <td>0</td>\n",
              "      <td>0</td>\n",
              "      <td>1</td>\n",
              "      <td>0</td>\n",
              "      <td>0</td>\n",
              "      <td>0</td>\n",
              "      <td>...</td>\n",
              "      <td>0</td>\n",
              "      <td>0</td>\n",
              "      <td>0</td>\n",
              "      <td>0</td>\n",
              "      <td>0</td>\n",
              "      <td>0</td>\n",
              "      <td>0</td>\n",
              "      <td>0</td>\n",
              "      <td>0</td>\n",
              "      <td>1</td>\n",
              "    </tr>\n",
              "  </tbody>\n",
              "</table>\n",
              "<p>5 rows × 151 columns</p>\n",
              "</div>\n",
              "    <div class=\"colab-df-buttons\">\n",
              "\n",
              "  <div class=\"colab-df-container\">\n",
              "    <button class=\"colab-df-convert\" onclick=\"convertToInteractive('df-9a4cc065-6b7a-4a10-935a-8bdc78941ce3')\"\n",
              "            title=\"Convert this dataframe to an interactive table.\"\n",
              "            style=\"display:none;\">\n",
              "\n",
              "  <svg xmlns=\"http://www.w3.org/2000/svg\" height=\"24px\" viewBox=\"0 -960 960 960\">\n",
              "    <path d=\"M120-120v-720h720v720H120Zm60-500h600v-160H180v160Zm220 220h160v-160H400v160Zm0 220h160v-160H400v160ZM180-400h160v-160H180v160Zm440 0h160v-160H620v160ZM180-180h160v-160H180v160Zm440 0h160v-160H620v160Z\"/>\n",
              "  </svg>\n",
              "    </button>\n",
              "\n",
              "  <style>\n",
              "    .colab-df-container {\n",
              "      display:flex;\n",
              "      gap: 12px;\n",
              "    }\n",
              "\n",
              "    .colab-df-convert {\n",
              "      background-color: #E8F0FE;\n",
              "      border: none;\n",
              "      border-radius: 50%;\n",
              "      cursor: pointer;\n",
              "      display: none;\n",
              "      fill: #1967D2;\n",
              "      height: 32px;\n",
              "      padding: 0 0 0 0;\n",
              "      width: 32px;\n",
              "    }\n",
              "\n",
              "    .colab-df-convert:hover {\n",
              "      background-color: #E2EBFA;\n",
              "      box-shadow: 0px 1px 2px rgba(60, 64, 67, 0.3), 0px 1px 3px 1px rgba(60, 64, 67, 0.15);\n",
              "      fill: #174EA6;\n",
              "    }\n",
              "\n",
              "    .colab-df-buttons div {\n",
              "      margin-bottom: 4px;\n",
              "    }\n",
              "\n",
              "    [theme=dark] .colab-df-convert {\n",
              "      background-color: #3B4455;\n",
              "      fill: #D2E3FC;\n",
              "    }\n",
              "\n",
              "    [theme=dark] .colab-df-convert:hover {\n",
              "      background-color: #434B5C;\n",
              "      box-shadow: 0px 1px 3px 1px rgba(0, 0, 0, 0.15);\n",
              "      filter: drop-shadow(0px 1px 2px rgba(0, 0, 0, 0.3));\n",
              "      fill: #FFFFFF;\n",
              "    }\n",
              "  </style>\n",
              "\n",
              "    <script>\n",
              "      const buttonEl =\n",
              "        document.querySelector('#df-9a4cc065-6b7a-4a10-935a-8bdc78941ce3 button.colab-df-convert');\n",
              "      buttonEl.style.display =\n",
              "        google.colab.kernel.accessAllowed ? 'block' : 'none';\n",
              "\n",
              "      async function convertToInteractive(key) {\n",
              "        const element = document.querySelector('#df-9a4cc065-6b7a-4a10-935a-8bdc78941ce3');\n",
              "        const dataTable =\n",
              "          await google.colab.kernel.invokeFunction('convertToInteractive',\n",
              "                                                    [key], {});\n",
              "        if (!dataTable) return;\n",
              "\n",
              "        const docLinkHtml = 'Like what you see? Visit the ' +\n",
              "          '<a target=\"_blank\" href=https://colab.research.google.com/notebooks/data_table.ipynb>data table notebook</a>'\n",
              "          + ' to learn more about interactive tables.';\n",
              "        element.innerHTML = '';\n",
              "        dataTable['output_type'] = 'display_data';\n",
              "        await google.colab.output.renderOutput(dataTable, element);\n",
              "        const docLink = document.createElement('div');\n",
              "        docLink.innerHTML = docLinkHtml;\n",
              "        element.appendChild(docLink);\n",
              "      }\n",
              "    </script>\n",
              "  </div>\n",
              "\n",
              "\n",
              "<div id=\"df-b91920d6-72d1-442f-9e3c-0b41e28f2747\">\n",
              "  <button class=\"colab-df-quickchart\" onclick=\"quickchart('df-b91920d6-72d1-442f-9e3c-0b41e28f2747')\"\n",
              "            title=\"Suggest charts\"\n",
              "            style=\"display:none;\">\n",
              "\n",
              "<svg xmlns=\"http://www.w3.org/2000/svg\" height=\"24px\"viewBox=\"0 0 24 24\"\n",
              "     width=\"24px\">\n",
              "    <g>\n",
              "        <path d=\"M19 3H5c-1.1 0-2 .9-2 2v14c0 1.1.9 2 2 2h14c1.1 0 2-.9 2-2V5c0-1.1-.9-2-2-2zM9 17H7v-7h2v7zm4 0h-2V7h2v10zm4 0h-2v-4h2v4z\"/>\n",
              "    </g>\n",
              "</svg>\n",
              "  </button>\n",
              "\n",
              "<style>\n",
              "  .colab-df-quickchart {\n",
              "      --bg-color: #E8F0FE;\n",
              "      --fill-color: #1967D2;\n",
              "      --hover-bg-color: #E2EBFA;\n",
              "      --hover-fill-color: #174EA6;\n",
              "      --disabled-fill-color: #AAA;\n",
              "      --disabled-bg-color: #DDD;\n",
              "  }\n",
              "\n",
              "  [theme=dark] .colab-df-quickchart {\n",
              "      --bg-color: #3B4455;\n",
              "      --fill-color: #D2E3FC;\n",
              "      --hover-bg-color: #434B5C;\n",
              "      --hover-fill-color: #FFFFFF;\n",
              "      --disabled-bg-color: #3B4455;\n",
              "      --disabled-fill-color: #666;\n",
              "  }\n",
              "\n",
              "  .colab-df-quickchart {\n",
              "    background-color: var(--bg-color);\n",
              "    border: none;\n",
              "    border-radius: 50%;\n",
              "    cursor: pointer;\n",
              "    display: none;\n",
              "    fill: var(--fill-color);\n",
              "    height: 32px;\n",
              "    padding: 0;\n",
              "    width: 32px;\n",
              "  }\n",
              "\n",
              "  .colab-df-quickchart:hover {\n",
              "    background-color: var(--hover-bg-color);\n",
              "    box-shadow: 0 1px 2px rgba(60, 64, 67, 0.3), 0 1px 3px 1px rgba(60, 64, 67, 0.15);\n",
              "    fill: var(--button-hover-fill-color);\n",
              "  }\n",
              "\n",
              "  .colab-df-quickchart-complete:disabled,\n",
              "  .colab-df-quickchart-complete:disabled:hover {\n",
              "    background-color: var(--disabled-bg-color);\n",
              "    fill: var(--disabled-fill-color);\n",
              "    box-shadow: none;\n",
              "  }\n",
              "\n",
              "  .colab-df-spinner {\n",
              "    border: 2px solid var(--fill-color);\n",
              "    border-color: transparent;\n",
              "    border-bottom-color: var(--fill-color);\n",
              "    animation:\n",
              "      spin 1s steps(1) infinite;\n",
              "  }\n",
              "\n",
              "  @keyframes spin {\n",
              "    0% {\n",
              "      border-color: transparent;\n",
              "      border-bottom-color: var(--fill-color);\n",
              "      border-left-color: var(--fill-color);\n",
              "    }\n",
              "    20% {\n",
              "      border-color: transparent;\n",
              "      border-left-color: var(--fill-color);\n",
              "      border-top-color: var(--fill-color);\n",
              "    }\n",
              "    30% {\n",
              "      border-color: transparent;\n",
              "      border-left-color: var(--fill-color);\n",
              "      border-top-color: var(--fill-color);\n",
              "      border-right-color: var(--fill-color);\n",
              "    }\n",
              "    40% {\n",
              "      border-color: transparent;\n",
              "      border-right-color: var(--fill-color);\n",
              "      border-top-color: var(--fill-color);\n",
              "    }\n",
              "    60% {\n",
              "      border-color: transparent;\n",
              "      border-right-color: var(--fill-color);\n",
              "    }\n",
              "    80% {\n",
              "      border-color: transparent;\n",
              "      border-right-color: var(--fill-color);\n",
              "      border-bottom-color: var(--fill-color);\n",
              "    }\n",
              "    90% {\n",
              "      border-color: transparent;\n",
              "      border-bottom-color: var(--fill-color);\n",
              "    }\n",
              "  }\n",
              "</style>\n",
              "\n",
              "  <script>\n",
              "    async function quickchart(key) {\n",
              "      const quickchartButtonEl =\n",
              "        document.querySelector('#' + key + ' button');\n",
              "      quickchartButtonEl.disabled = true;  // To prevent multiple clicks.\n",
              "      quickchartButtonEl.classList.add('colab-df-spinner');\n",
              "      try {\n",
              "        const charts = await google.colab.kernel.invokeFunction(\n",
              "            'suggestCharts', [key], {});\n",
              "      } catch (error) {\n",
              "        console.error('Error during call to suggestCharts:', error);\n",
              "      }\n",
              "      quickchartButtonEl.classList.remove('colab-df-spinner');\n",
              "      quickchartButtonEl.classList.add('colab-df-quickchart-complete');\n",
              "    }\n",
              "    (() => {\n",
              "      let quickchartButtonEl =\n",
              "        document.querySelector('#df-b91920d6-72d1-442f-9e3c-0b41e28f2747 button');\n",
              "      quickchartButtonEl.style.display =\n",
              "        google.colab.kernel.accessAllowed ? 'block' : 'none';\n",
              "    })();\n",
              "  </script>\n",
              "</div>\n",
              "\n",
              "    </div>\n",
              "  </div>\n"
            ],
            "application/vnd.google.colaboratory.intrinsic+json": {
              "type": "dataframe",
              "variable_name": "p"
            }
          },
          "metadata": {},
          "execution_count": 132
        }
      ],
      "source": [
        "p.head()"
      ]
    },
    {
      "cell_type": "code",
      "source": [
        "#guardar el dataframe limpio\n",
        "\n",
        "p.to_csv(\"datos_limpios_test.csv\", index=False)\n",
        "z.to_csv(\"datos_limpios_train.csv\", index=False)"
      ],
      "metadata": {
        "id": "SFv43N6lwqmO"
      },
      "execution_count": null,
      "outputs": []
    },
    {
      "cell_type": "markdown",
      "metadata": {
        "id": "C2Vl3wAZ6YOb"
      },
      "source": [
        "## Entrenamiento y Validación del Modelo de Random Forest"
      ]
    },
    {
      "cell_type": "code",
      "source": [
        "from sklearn.model_selection import train_test_split, RandomizedSearchCV\n",
        "from sklearn.ensemble import RandomForestClassifier\n",
        "from sklearn.metrics import accuracy_score, classification_report, confusion_matrix\n",
        "import numpy as np\n",
        "import joblib"
      ],
      "metadata": {
        "id": "L19c8PfOFUVB"
      },
      "execution_count": null,
      "outputs": []
    },
    {
      "cell_type": "code",
      "execution_count": null,
      "metadata": {
        "id": "IsOjd0dZ6Tl4"
      },
      "outputs": [],
      "source": [
        "# Separar características (X) y la variable objetivo (y)\n",
        "X = z.drop(columns=[\"RENDIMIENTO_GLOBAL\"])\n",
        "y = z[\"RENDIMIENTO_GLOBAL\"]"
      ]
    },
    {
      "cell_type": "code",
      "execution_count": null,
      "metadata": {
        "id": "qlPq8O99EgCz"
      },
      "outputs": [],
      "source": [
        "# Dividir el dataset en entrenamiento y validación\n",
        "X_train, X_val, y_train, y_val = train_test_split(X, y, test_size=0.2, random_state=42)\n",
        "\n",
        "# Definir el modelo Random Forest\n",
        "rf = RandomForestClassifier(random_state=42)"
      ]
    },
    {
      "cell_type": "code",
      "execution_count": null,
      "metadata": {
        "id": "XIr9j5vtE9SV"
      },
      "outputs": [],
      "source": [
        "# Definir el grid de hiperparámetros para optimizar\n",
        "param_grid = {\n",
        "    \"n_estimators\": [ 100 ,150, 200, 250, 300],          # número de árboles en el bosque\n",
        "    \"max_depth\": [10, 15, 20, 25, 30],                # profundidad máxima del árbol\n",
        "    \"min_samples_split\":  [2, 5, 7, 10],         # mínimo número de muestras para dividir un nodo\n",
        "    \"min_samples_leaf\": [1, 2, 3 ,4],            # mínimo número de muestras en una hoja\n",
        "    \"max_features\": [\"sqrt\", \"log2\"]  # número de características a considerar en cada división\n",
        "}"
      ]
    },
    {
      "cell_type": "code",
      "execution_count": null,
      "metadata": {
        "colab": {
          "base_uri": "https://localhost:8080/",
          "height": 247
        },
        "id": "OpFgKNtNjX6H",
        "outputId": "252419be-1825-4c3c-b885-b0c4b1c6a6e6"
      },
      "outputs": [
        {
          "output_type": "stream",
          "name": "stdout",
          "text": [
            "Fitting 3 folds for each of 20 candidates, totalling 60 fits\n"
          ]
        },
        {
          "output_type": "stream",
          "name": "stderr",
          "text": [
            "/usr/local/lib/python3.10/dist-packages/joblib/externals/loky/process_executor.py:752: UserWarning: A worker stopped while some jobs were given to the executor. This can be caused by a too short worker timeout or by a memory leak.\n",
            "  warnings.warn(\n"
          ]
        },
        {
          "output_type": "execute_result",
          "data": {
            "text/plain": [
              "RandomizedSearchCV(cv=3, estimator=RandomForestClassifier(random_state=42),\n",
              "                   n_iter=20, n_jobs=-1,\n",
              "                   param_distributions={'max_depth': [10, 15, 20, 25, 30],\n",
              "                                        'max_features': ['sqrt', 'log2'],\n",
              "                                        'min_samples_leaf': [1, 2, 3, 4],\n",
              "                                        'min_samples_split': [2, 5, 7, 10],\n",
              "                                        'n_estimators': [100, 150, 200, 250,\n",
              "                                                         300]},\n",
              "                   scoring='accuracy', verbose=2)"
            ],
            "text/html": [
              "<style>#sk-container-id-2 {\n",
              "  /* Definition of color scheme common for light and dark mode */\n",
              "  --sklearn-color-text: black;\n",
              "  --sklearn-color-line: gray;\n",
              "  /* Definition of color scheme for unfitted estimators */\n",
              "  --sklearn-color-unfitted-level-0: #fff5e6;\n",
              "  --sklearn-color-unfitted-level-1: #f6e4d2;\n",
              "  --sklearn-color-unfitted-level-2: #ffe0b3;\n",
              "  --sklearn-color-unfitted-level-3: chocolate;\n",
              "  /* Definition of color scheme for fitted estimators */\n",
              "  --sklearn-color-fitted-level-0: #f0f8ff;\n",
              "  --sklearn-color-fitted-level-1: #d4ebff;\n",
              "  --sklearn-color-fitted-level-2: #b3dbfd;\n",
              "  --sklearn-color-fitted-level-3: cornflowerblue;\n",
              "\n",
              "  /* Specific color for light theme */\n",
              "  --sklearn-color-text-on-default-background: var(--sg-text-color, var(--theme-code-foreground, var(--jp-content-font-color1, black)));\n",
              "  --sklearn-color-background: var(--sg-background-color, var(--theme-background, var(--jp-layout-color0, white)));\n",
              "  --sklearn-color-border-box: var(--sg-text-color, var(--theme-code-foreground, var(--jp-content-font-color1, black)));\n",
              "  --sklearn-color-icon: #696969;\n",
              "\n",
              "  @media (prefers-color-scheme: dark) {\n",
              "    /* Redefinition of color scheme for dark theme */\n",
              "    --sklearn-color-text-on-default-background: var(--sg-text-color, var(--theme-code-foreground, var(--jp-content-font-color1, white)));\n",
              "    --sklearn-color-background: var(--sg-background-color, var(--theme-background, var(--jp-layout-color0, #111)));\n",
              "    --sklearn-color-border-box: var(--sg-text-color, var(--theme-code-foreground, var(--jp-content-font-color1, white)));\n",
              "    --sklearn-color-icon: #878787;\n",
              "  }\n",
              "}\n",
              "\n",
              "#sk-container-id-2 {\n",
              "  color: var(--sklearn-color-text);\n",
              "}\n",
              "\n",
              "#sk-container-id-2 pre {\n",
              "  padding: 0;\n",
              "}\n",
              "\n",
              "#sk-container-id-2 input.sk-hidden--visually {\n",
              "  border: 0;\n",
              "  clip: rect(1px 1px 1px 1px);\n",
              "  clip: rect(1px, 1px, 1px, 1px);\n",
              "  height: 1px;\n",
              "  margin: -1px;\n",
              "  overflow: hidden;\n",
              "  padding: 0;\n",
              "  position: absolute;\n",
              "  width: 1px;\n",
              "}\n",
              "\n",
              "#sk-container-id-2 div.sk-dashed-wrapped {\n",
              "  border: 1px dashed var(--sklearn-color-line);\n",
              "  margin: 0 0.4em 0.5em 0.4em;\n",
              "  box-sizing: border-box;\n",
              "  padding-bottom: 0.4em;\n",
              "  background-color: var(--sklearn-color-background);\n",
              "}\n",
              "\n",
              "#sk-container-id-2 div.sk-container {\n",
              "  /* jupyter's `normalize.less` sets `[hidden] { display: none; }`\n",
              "     but bootstrap.min.css set `[hidden] { display: none !important; }`\n",
              "     so we also need the `!important` here to be able to override the\n",
              "     default hidden behavior on the sphinx rendered scikit-learn.org.\n",
              "     See: https://github.com/scikit-learn/scikit-learn/issues/21755 */\n",
              "  display: inline-block !important;\n",
              "  position: relative;\n",
              "}\n",
              "\n",
              "#sk-container-id-2 div.sk-text-repr-fallback {\n",
              "  display: none;\n",
              "}\n",
              "\n",
              "div.sk-parallel-item,\n",
              "div.sk-serial,\n",
              "div.sk-item {\n",
              "  /* draw centered vertical line to link estimators */\n",
              "  background-image: linear-gradient(var(--sklearn-color-text-on-default-background), var(--sklearn-color-text-on-default-background));\n",
              "  background-size: 2px 100%;\n",
              "  background-repeat: no-repeat;\n",
              "  background-position: center center;\n",
              "}\n",
              "\n",
              "/* Parallel-specific style estimator block */\n",
              "\n",
              "#sk-container-id-2 div.sk-parallel-item::after {\n",
              "  content: \"\";\n",
              "  width: 100%;\n",
              "  border-bottom: 2px solid var(--sklearn-color-text-on-default-background);\n",
              "  flex-grow: 1;\n",
              "}\n",
              "\n",
              "#sk-container-id-2 div.sk-parallel {\n",
              "  display: flex;\n",
              "  align-items: stretch;\n",
              "  justify-content: center;\n",
              "  background-color: var(--sklearn-color-background);\n",
              "  position: relative;\n",
              "}\n",
              "\n",
              "#sk-container-id-2 div.sk-parallel-item {\n",
              "  display: flex;\n",
              "  flex-direction: column;\n",
              "}\n",
              "\n",
              "#sk-container-id-2 div.sk-parallel-item:first-child::after {\n",
              "  align-self: flex-end;\n",
              "  width: 50%;\n",
              "}\n",
              "\n",
              "#sk-container-id-2 div.sk-parallel-item:last-child::after {\n",
              "  align-self: flex-start;\n",
              "  width: 50%;\n",
              "}\n",
              "\n",
              "#sk-container-id-2 div.sk-parallel-item:only-child::after {\n",
              "  width: 0;\n",
              "}\n",
              "\n",
              "/* Serial-specific style estimator block */\n",
              "\n",
              "#sk-container-id-2 div.sk-serial {\n",
              "  display: flex;\n",
              "  flex-direction: column;\n",
              "  align-items: center;\n",
              "  background-color: var(--sklearn-color-background);\n",
              "  padding-right: 1em;\n",
              "  padding-left: 1em;\n",
              "}\n",
              "\n",
              "\n",
              "/* Toggleable style: style used for estimator/Pipeline/ColumnTransformer box that is\n",
              "clickable and can be expanded/collapsed.\n",
              "- Pipeline and ColumnTransformer use this feature and define the default style\n",
              "- Estimators will overwrite some part of the style using the `sk-estimator` class\n",
              "*/\n",
              "\n",
              "/* Pipeline and ColumnTransformer style (default) */\n",
              "\n",
              "#sk-container-id-2 div.sk-toggleable {\n",
              "  /* Default theme specific background. It is overwritten whether we have a\n",
              "  specific estimator or a Pipeline/ColumnTransformer */\n",
              "  background-color: var(--sklearn-color-background);\n",
              "}\n",
              "\n",
              "/* Toggleable label */\n",
              "#sk-container-id-2 label.sk-toggleable__label {\n",
              "  cursor: pointer;\n",
              "  display: block;\n",
              "  width: 100%;\n",
              "  margin-bottom: 0;\n",
              "  padding: 0.5em;\n",
              "  box-sizing: border-box;\n",
              "  text-align: center;\n",
              "}\n",
              "\n",
              "#sk-container-id-2 label.sk-toggleable__label-arrow:before {\n",
              "  /* Arrow on the left of the label */\n",
              "  content: \"▸\";\n",
              "  float: left;\n",
              "  margin-right: 0.25em;\n",
              "  color: var(--sklearn-color-icon);\n",
              "}\n",
              "\n",
              "#sk-container-id-2 label.sk-toggleable__label-arrow:hover:before {\n",
              "  color: var(--sklearn-color-text);\n",
              "}\n",
              "\n",
              "/* Toggleable content - dropdown */\n",
              "\n",
              "#sk-container-id-2 div.sk-toggleable__content {\n",
              "  max-height: 0;\n",
              "  max-width: 0;\n",
              "  overflow: hidden;\n",
              "  text-align: left;\n",
              "  /* unfitted */\n",
              "  background-color: var(--sklearn-color-unfitted-level-0);\n",
              "}\n",
              "\n",
              "#sk-container-id-2 div.sk-toggleable__content.fitted {\n",
              "  /* fitted */\n",
              "  background-color: var(--sklearn-color-fitted-level-0);\n",
              "}\n",
              "\n",
              "#sk-container-id-2 div.sk-toggleable__content pre {\n",
              "  margin: 0.2em;\n",
              "  border-radius: 0.25em;\n",
              "  color: var(--sklearn-color-text);\n",
              "  /* unfitted */\n",
              "  background-color: var(--sklearn-color-unfitted-level-0);\n",
              "}\n",
              "\n",
              "#sk-container-id-2 div.sk-toggleable__content.fitted pre {\n",
              "  /* unfitted */\n",
              "  background-color: var(--sklearn-color-fitted-level-0);\n",
              "}\n",
              "\n",
              "#sk-container-id-2 input.sk-toggleable__control:checked~div.sk-toggleable__content {\n",
              "  /* Expand drop-down */\n",
              "  max-height: 200px;\n",
              "  max-width: 100%;\n",
              "  overflow: auto;\n",
              "}\n",
              "\n",
              "#sk-container-id-2 input.sk-toggleable__control:checked~label.sk-toggleable__label-arrow:before {\n",
              "  content: \"▾\";\n",
              "}\n",
              "\n",
              "/* Pipeline/ColumnTransformer-specific style */\n",
              "\n",
              "#sk-container-id-2 div.sk-label input.sk-toggleable__control:checked~label.sk-toggleable__label {\n",
              "  color: var(--sklearn-color-text);\n",
              "  background-color: var(--sklearn-color-unfitted-level-2);\n",
              "}\n",
              "\n",
              "#sk-container-id-2 div.sk-label.fitted input.sk-toggleable__control:checked~label.sk-toggleable__label {\n",
              "  background-color: var(--sklearn-color-fitted-level-2);\n",
              "}\n",
              "\n",
              "/* Estimator-specific style */\n",
              "\n",
              "/* Colorize estimator box */\n",
              "#sk-container-id-2 div.sk-estimator input.sk-toggleable__control:checked~label.sk-toggleable__label {\n",
              "  /* unfitted */\n",
              "  background-color: var(--sklearn-color-unfitted-level-2);\n",
              "}\n",
              "\n",
              "#sk-container-id-2 div.sk-estimator.fitted input.sk-toggleable__control:checked~label.sk-toggleable__label {\n",
              "  /* fitted */\n",
              "  background-color: var(--sklearn-color-fitted-level-2);\n",
              "}\n",
              "\n",
              "#sk-container-id-2 div.sk-label label.sk-toggleable__label,\n",
              "#sk-container-id-2 div.sk-label label {\n",
              "  /* The background is the default theme color */\n",
              "  color: var(--sklearn-color-text-on-default-background);\n",
              "}\n",
              "\n",
              "/* On hover, darken the color of the background */\n",
              "#sk-container-id-2 div.sk-label:hover label.sk-toggleable__label {\n",
              "  color: var(--sklearn-color-text);\n",
              "  background-color: var(--sklearn-color-unfitted-level-2);\n",
              "}\n",
              "\n",
              "/* Label box, darken color on hover, fitted */\n",
              "#sk-container-id-2 div.sk-label.fitted:hover label.sk-toggleable__label.fitted {\n",
              "  color: var(--sklearn-color-text);\n",
              "  background-color: var(--sklearn-color-fitted-level-2);\n",
              "}\n",
              "\n",
              "/* Estimator label */\n",
              "\n",
              "#sk-container-id-2 div.sk-label label {\n",
              "  font-family: monospace;\n",
              "  font-weight: bold;\n",
              "  display: inline-block;\n",
              "  line-height: 1.2em;\n",
              "}\n",
              "\n",
              "#sk-container-id-2 div.sk-label-container {\n",
              "  text-align: center;\n",
              "}\n",
              "\n",
              "/* Estimator-specific */\n",
              "#sk-container-id-2 div.sk-estimator {\n",
              "  font-family: monospace;\n",
              "  border: 1px dotted var(--sklearn-color-border-box);\n",
              "  border-radius: 0.25em;\n",
              "  box-sizing: border-box;\n",
              "  margin-bottom: 0.5em;\n",
              "  /* unfitted */\n",
              "  background-color: var(--sklearn-color-unfitted-level-0);\n",
              "}\n",
              "\n",
              "#sk-container-id-2 div.sk-estimator.fitted {\n",
              "  /* fitted */\n",
              "  background-color: var(--sklearn-color-fitted-level-0);\n",
              "}\n",
              "\n",
              "/* on hover */\n",
              "#sk-container-id-2 div.sk-estimator:hover {\n",
              "  /* unfitted */\n",
              "  background-color: var(--sklearn-color-unfitted-level-2);\n",
              "}\n",
              "\n",
              "#sk-container-id-2 div.sk-estimator.fitted:hover {\n",
              "  /* fitted */\n",
              "  background-color: var(--sklearn-color-fitted-level-2);\n",
              "}\n",
              "\n",
              "/* Specification for estimator info (e.g. \"i\" and \"?\") */\n",
              "\n",
              "/* Common style for \"i\" and \"?\" */\n",
              "\n",
              ".sk-estimator-doc-link,\n",
              "a:link.sk-estimator-doc-link,\n",
              "a:visited.sk-estimator-doc-link {\n",
              "  float: right;\n",
              "  font-size: smaller;\n",
              "  line-height: 1em;\n",
              "  font-family: monospace;\n",
              "  background-color: var(--sklearn-color-background);\n",
              "  border-radius: 1em;\n",
              "  height: 1em;\n",
              "  width: 1em;\n",
              "  text-decoration: none !important;\n",
              "  margin-left: 1ex;\n",
              "  /* unfitted */\n",
              "  border: var(--sklearn-color-unfitted-level-1) 1pt solid;\n",
              "  color: var(--sklearn-color-unfitted-level-1);\n",
              "}\n",
              "\n",
              ".sk-estimator-doc-link.fitted,\n",
              "a:link.sk-estimator-doc-link.fitted,\n",
              "a:visited.sk-estimator-doc-link.fitted {\n",
              "  /* fitted */\n",
              "  border: var(--sklearn-color-fitted-level-1) 1pt solid;\n",
              "  color: var(--sklearn-color-fitted-level-1);\n",
              "}\n",
              "\n",
              "/* On hover */\n",
              "div.sk-estimator:hover .sk-estimator-doc-link:hover,\n",
              ".sk-estimator-doc-link:hover,\n",
              "div.sk-label-container:hover .sk-estimator-doc-link:hover,\n",
              ".sk-estimator-doc-link:hover {\n",
              "  /* unfitted */\n",
              "  background-color: var(--sklearn-color-unfitted-level-3);\n",
              "  color: var(--sklearn-color-background);\n",
              "  text-decoration: none;\n",
              "}\n",
              "\n",
              "div.sk-estimator.fitted:hover .sk-estimator-doc-link.fitted:hover,\n",
              ".sk-estimator-doc-link.fitted:hover,\n",
              "div.sk-label-container:hover .sk-estimator-doc-link.fitted:hover,\n",
              ".sk-estimator-doc-link.fitted:hover {\n",
              "  /* fitted */\n",
              "  background-color: var(--sklearn-color-fitted-level-3);\n",
              "  color: var(--sklearn-color-background);\n",
              "  text-decoration: none;\n",
              "}\n",
              "\n",
              "/* Span, style for the box shown on hovering the info icon */\n",
              ".sk-estimator-doc-link span {\n",
              "  display: none;\n",
              "  z-index: 9999;\n",
              "  position: relative;\n",
              "  font-weight: normal;\n",
              "  right: .2ex;\n",
              "  padding: .5ex;\n",
              "  margin: .5ex;\n",
              "  width: min-content;\n",
              "  min-width: 20ex;\n",
              "  max-width: 50ex;\n",
              "  color: var(--sklearn-color-text);\n",
              "  box-shadow: 2pt 2pt 4pt #999;\n",
              "  /* unfitted */\n",
              "  background: var(--sklearn-color-unfitted-level-0);\n",
              "  border: .5pt solid var(--sklearn-color-unfitted-level-3);\n",
              "}\n",
              "\n",
              ".sk-estimator-doc-link.fitted span {\n",
              "  /* fitted */\n",
              "  background: var(--sklearn-color-fitted-level-0);\n",
              "  border: var(--sklearn-color-fitted-level-3);\n",
              "}\n",
              "\n",
              ".sk-estimator-doc-link:hover span {\n",
              "  display: block;\n",
              "}\n",
              "\n",
              "/* \"?\"-specific style due to the `<a>` HTML tag */\n",
              "\n",
              "#sk-container-id-2 a.estimator_doc_link {\n",
              "  float: right;\n",
              "  font-size: 1rem;\n",
              "  line-height: 1em;\n",
              "  font-family: monospace;\n",
              "  background-color: var(--sklearn-color-background);\n",
              "  border-radius: 1rem;\n",
              "  height: 1rem;\n",
              "  width: 1rem;\n",
              "  text-decoration: none;\n",
              "  /* unfitted */\n",
              "  color: var(--sklearn-color-unfitted-level-1);\n",
              "  border: var(--sklearn-color-unfitted-level-1) 1pt solid;\n",
              "}\n",
              "\n",
              "#sk-container-id-2 a.estimator_doc_link.fitted {\n",
              "  /* fitted */\n",
              "  border: var(--sklearn-color-fitted-level-1) 1pt solid;\n",
              "  color: var(--sklearn-color-fitted-level-1);\n",
              "}\n",
              "\n",
              "/* On hover */\n",
              "#sk-container-id-2 a.estimator_doc_link:hover {\n",
              "  /* unfitted */\n",
              "  background-color: var(--sklearn-color-unfitted-level-3);\n",
              "  color: var(--sklearn-color-background);\n",
              "  text-decoration: none;\n",
              "}\n",
              "\n",
              "#sk-container-id-2 a.estimator_doc_link.fitted:hover {\n",
              "  /* fitted */\n",
              "  background-color: var(--sklearn-color-fitted-level-3);\n",
              "}\n",
              "</style><div id=\"sk-container-id-2\" class=\"sk-top-container\"><div class=\"sk-text-repr-fallback\"><pre>RandomizedSearchCV(cv=3, estimator=RandomForestClassifier(random_state=42),\n",
              "                   n_iter=20, n_jobs=-1,\n",
              "                   param_distributions={&#x27;max_depth&#x27;: [10, 15, 20, 25, 30],\n",
              "                                        &#x27;max_features&#x27;: [&#x27;sqrt&#x27;, &#x27;log2&#x27;],\n",
              "                                        &#x27;min_samples_leaf&#x27;: [1, 2, 3, 4],\n",
              "                                        &#x27;min_samples_split&#x27;: [2, 5, 7, 10],\n",
              "                                        &#x27;n_estimators&#x27;: [100, 150, 200, 250,\n",
              "                                                         300]},\n",
              "                   scoring=&#x27;accuracy&#x27;, verbose=2)</pre><b>In a Jupyter environment, please rerun this cell to show the HTML representation or trust the notebook. <br />On GitHub, the HTML representation is unable to render, please try loading this page with nbviewer.org.</b></div><div class=\"sk-container\" hidden><div class=\"sk-item sk-dashed-wrapped\"><div class=\"sk-label-container\"><div class=\"sk-label fitted sk-toggleable\"><input class=\"sk-toggleable__control sk-hidden--visually\" id=\"sk-estimator-id-4\" type=\"checkbox\" ><label for=\"sk-estimator-id-4\" class=\"sk-toggleable__label fitted sk-toggleable__label-arrow fitted\">&nbsp;&nbsp;RandomizedSearchCV<a class=\"sk-estimator-doc-link fitted\" rel=\"noreferrer\" target=\"_blank\" href=\"https://scikit-learn.org/1.5/modules/generated/sklearn.model_selection.RandomizedSearchCV.html\">?<span>Documentation for RandomizedSearchCV</span></a><span class=\"sk-estimator-doc-link fitted\">i<span>Fitted</span></span></label><div class=\"sk-toggleable__content fitted\"><pre>RandomizedSearchCV(cv=3, estimator=RandomForestClassifier(random_state=42),\n",
              "                   n_iter=20, n_jobs=-1,\n",
              "                   param_distributions={&#x27;max_depth&#x27;: [10, 15, 20, 25, 30],\n",
              "                                        &#x27;max_features&#x27;: [&#x27;sqrt&#x27;, &#x27;log2&#x27;],\n",
              "                                        &#x27;min_samples_leaf&#x27;: [1, 2, 3, 4],\n",
              "                                        &#x27;min_samples_split&#x27;: [2, 5, 7, 10],\n",
              "                                        &#x27;n_estimators&#x27;: [100, 150, 200, 250,\n",
              "                                                         300]},\n",
              "                   scoring=&#x27;accuracy&#x27;, verbose=2)</pre></div> </div></div><div class=\"sk-parallel\"><div class=\"sk-parallel-item\"><div class=\"sk-item\"><div class=\"sk-label-container\"><div class=\"sk-label fitted sk-toggleable\"><input class=\"sk-toggleable__control sk-hidden--visually\" id=\"sk-estimator-id-5\" type=\"checkbox\" ><label for=\"sk-estimator-id-5\" class=\"sk-toggleable__label fitted sk-toggleable__label-arrow fitted\">best_estimator_: RandomForestClassifier</label><div class=\"sk-toggleable__content fitted\"><pre>RandomForestClassifier(max_depth=30, max_features=&#x27;log2&#x27;, min_samples_leaf=4,\n",
              "                       min_samples_split=7, n_estimators=300, random_state=42)</pre></div> </div></div><div class=\"sk-serial\"><div class=\"sk-item\"><div class=\"sk-estimator fitted sk-toggleable\"><input class=\"sk-toggleable__control sk-hidden--visually\" id=\"sk-estimator-id-6\" type=\"checkbox\" ><label for=\"sk-estimator-id-6\" class=\"sk-toggleable__label fitted sk-toggleable__label-arrow fitted\">&nbsp;RandomForestClassifier<a class=\"sk-estimator-doc-link fitted\" rel=\"noreferrer\" target=\"_blank\" href=\"https://scikit-learn.org/1.5/modules/generated/sklearn.ensemble.RandomForestClassifier.html\">?<span>Documentation for RandomForestClassifier</span></a></label><div class=\"sk-toggleable__content fitted\"><pre>RandomForestClassifier(max_depth=30, max_features=&#x27;log2&#x27;, min_samples_leaf=4,\n",
              "                       min_samples_split=7, n_estimators=300, random_state=42)</pre></div> </div></div></div></div></div></div></div></div></div>"
            ]
          },
          "metadata": {},
          "execution_count": 147
        }
      ],
      "source": [
        "\n",
        "from sklearn.model_selection import RandomizedSearchCV\n",
        "\n",
        "# Configurar RandomizedSearchCV para una búsqueda de hiperparámetros limitada\n",
        "random_search = RandomizedSearchCV(\n",
        "    estimator=rf,\n",
        "    param_distributions=param_grid,\n",
        "    n_iter=20,               # Número de combinaciones aleatorias a probar\n",
        "    cv=3,                    # Número de particiones para la validación cruzada\n",
        "    n_jobs=-1,               # Usa todos los núcleos disponibles\n",
        "    verbose=2,\n",
        "    scoring='accuracy'\n",
        ")\n",
        "\n",
        "# Ejecutar la búsqueda\n",
        "random_search.fit(X_train, y_train)"
      ]
    },
    {
      "cell_type": "markdown",
      "metadata": {
        "id": "iPkec8rBGM7G"
      },
      "source": [
        "### Evaluación del modelo óptimo"
      ]
    },
    {
      "cell_type": "code",
      "execution_count": null,
      "metadata": {
        "id": "AbUIM-mUGEFO",
        "colab": {
          "base_uri": "https://localhost:8080/"
        },
        "outputId": "9a5658ec-b08d-40dd-8f6c-9909119d4f34"
      },
      "outputs": [
        {
          "output_type": "stream",
          "name": "stdout",
          "text": [
            "Mejores hiperparámetros: {'n_estimators': 300, 'min_samples_split': 7, 'min_samples_leaf': 4, 'max_features': 'log2', 'max_depth': 30}\n",
            "Modelo guardado exitosamente.\n",
            "Exactitud (Accuracy): 0.3934096011317157\n",
            "Reporte de clasificación:\n",
            "              precision    recall  f1-score   support\n",
            "\n",
            "        alto       0.47      0.61      0.53     33462\n",
            "        bajo       0.42      0.49      0.45     32147\n",
            "  medio alto       0.30      0.21      0.25     32252\n",
            "  medio bajo       0.31      0.25      0.28     32207\n",
            "\n",
            "    accuracy                           0.39    130068\n",
            "   macro avg       0.37      0.39      0.38    130068\n",
            "weighted avg       0.38      0.39      0.38    130068\n",
            "\n",
            "Matriz de confusión:\n",
            "[[20472  3698  5479  3813]\n",
            " [ 4755 15745  4518  7129]\n",
            " [11050  7422  6830  6950]\n",
            " [ 7159 10943  5982  8123]]\n"
          ]
        }
      ],
      "source": [
        "# Mejor modelo encontrado\n",
        "best_rf = random_search.best_estimator_\n",
        "print(\"Mejores hiperparámetros:\", random_search.best_params_)\n",
        "\n",
        "\n",
        "# Guardar el modelo entrenado\n",
        "joblib.dump(best_rf, 'best_random_forest_model_two.joblib')\n",
        "print(\"Modelo guardado exitosamente.\")\n",
        "\n",
        "# Predecir en el conjunto de validación\n",
        "y_pred = best_rf.predict(X_val)\n",
        "\n",
        "accuracy = accuracy_score(y_val, y_pred)\n",
        "print(f'Exactitud (Accuracy): {accuracy}')\n",
        "\n",
        "print(\"Reporte de clasificación:\")\n",
        "print(classification_report(y_val, y_pred, target_names=[\"alto\", \"bajo\", \"medio alto\", \"medio bajo\"]))\n",
        "\n",
        "# Matriz de confusión\n",
        "print(\"Matriz de confusión:\")\n",
        "print(confusion_matrix(y_val, y_pred))"
      ]
    }
  ],
  "metadata": {
    "colab": {
      "provenance": []
    },
    "kernelspec": {
      "display_name": "Python 3",
      "name": "python3"
    },
    "language_info": {
      "name": "python"
    }
  },
  "nbformat": 4,
  "nbformat_minor": 0
}